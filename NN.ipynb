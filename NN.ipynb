{
  "nbformat": 4,
  "nbformat_minor": 0,
  "metadata": {
    "colab": {
      "name": "test_NN.ipynb",
      "provenance": [],
      "collapsed_sections": [],
      "authorship_tag": "ABX9TyN3XUOKtx2VlmecMmHEQa17",
      "include_colab_link": true
    },
    "kernelspec": {
      "name": "python3",
      "display_name": "Python 3",
      "language": "python"
    },
    "accelerator": "GPU"
  },
  "cells": [
    {
      "cell_type": "code",
      "metadata": {
        "id": "E_nI5n-3Q4Ue"
      },
      "source": [
        "import numpy as np\n",
        "import pandas as pd\n",
        "\n",
        "from sklearn.metrics import roc_auc_score\n",
        "\n",
        "from sklearn.feature_selection import RFE\n",
        "from sklearn.pipeline import Pipeline\n",
        "from sklearn.tree import DecisionTreeClassifier\n",
        "from sklearn.model_selection import KFold\n",
        "from sklearn.model_selection import train_test_split\n",
        "\n",
        "import tensorflow as tf\n",
        "import tensorflow.keras.backend as K\n",
        "from tensorflow.keras.layers import Input, Dense"
      ],
      "execution_count": 3,
      "outputs": []
    },
    {
      "cell_type": "code",
      "metadata": {
        "id": "5b1j8fk9RQwt"
      },
      "source": [
        "train = pd.read_csv(\n",
        "    'data/train.csv',\n",
        "    usecols=[1, 2, 3, 4, 5, 7, 8, 9],\n",
        "    nrows=10**7*1,\n",
        "    dtype={\n",
        "        'timestamp': 'int64',\n",
        "        'user_id': 'int32',\n",
        "        'content_id': 'int16',\n",
        "        'content_type_id': 'int8',\n",
        "        'task_container_id': 'int16',\n",
        "        'answered_correctly':'int8',\n",
        "        'prior_question_elapsed_time': 'float32',\n",
        "        'prior_question_had_explanation': 'boolean'\n",
        "    }\n",
        ")"
      ],
      "execution_count": 4,
      "outputs": []
    },
    {
      "cell_type": "code",
      "metadata": {
        "id": "htOfCcWjRX9x"
      },
      "source": [
        "questions_df = pd.read_csv(\n",
        "    'data/questions.csv',                         \n",
        "    usecols=[0, 3],\n",
        "    dtype={\n",
        "        'question_id': 'int16',\n",
        "        'part': 'int8'}\n",
        ")"
      ],
      "execution_count": 5,
      "outputs": []
    },
    {
      "cell_type": "code",
      "metadata": {
        "colab": {
          "base_uri": "https://localhost:8080/",
          "height": 419
        },
        "id": "xbKnEGu3xYV8",
        "outputId": "bb2f655c-c9b3-4527-bac6-be1817e8a602"
      },
      "source": [
        "questions_df"
      ],
      "execution_count": 6,
      "outputs": [
        {
          "output_type": "execute_result",
          "data": {
            "text/plain": [
              "       question_id  part\n",
              "0                0     1\n",
              "1                1     1\n",
              "2                2     1\n",
              "3                3     1\n",
              "4                4     1\n",
              "...            ...   ...\n",
              "13518        13518     5\n",
              "13519        13519     5\n",
              "13520        13520     5\n",
              "13521        13521     5\n",
              "13522        13522     5\n",
              "\n",
              "[13523 rows x 2 columns]"
            ],
            "text/html": "<div>\n<style scoped>\n    .dataframe tbody tr th:only-of-type {\n        vertical-align: middle;\n    }\n\n    .dataframe tbody tr th {\n        vertical-align: top;\n    }\n\n    .dataframe thead th {\n        text-align: right;\n    }\n</style>\n<table border=\"1\" class=\"dataframe\">\n  <thead>\n    <tr style=\"text-align: right;\">\n      <th></th>\n      <th>question_id</th>\n      <th>part</th>\n    </tr>\n  </thead>\n  <tbody>\n    <tr>\n      <th>0</th>\n      <td>0</td>\n      <td>1</td>\n    </tr>\n    <tr>\n      <th>1</th>\n      <td>1</td>\n      <td>1</td>\n    </tr>\n    <tr>\n      <th>2</th>\n      <td>2</td>\n      <td>1</td>\n    </tr>\n    <tr>\n      <th>3</th>\n      <td>3</td>\n      <td>1</td>\n    </tr>\n    <tr>\n      <th>4</th>\n      <td>4</td>\n      <td>1</td>\n    </tr>\n    <tr>\n      <th>...</th>\n      <td>...</td>\n      <td>...</td>\n    </tr>\n    <tr>\n      <th>13518</th>\n      <td>13518</td>\n      <td>5</td>\n    </tr>\n    <tr>\n      <th>13519</th>\n      <td>13519</td>\n      <td>5</td>\n    </tr>\n    <tr>\n      <th>13520</th>\n      <td>13520</td>\n      <td>5</td>\n    </tr>\n    <tr>\n      <th>13521</th>\n      <td>13521</td>\n      <td>5</td>\n    </tr>\n    <tr>\n      <th>13522</th>\n      <td>13522</td>\n      <td>5</td>\n    </tr>\n  </tbody>\n</table>\n<p>13523 rows × 2 columns</p>\n</div>"
          },
          "metadata": {},
          "execution_count": 6
        }
      ]
    },
    {
      "cell_type": "code",
      "metadata": {
        "colab": {
          "base_uri": "https://localhost:8080/",
          "height": 419
        },
        "id": "tJ_cAptJyot4",
        "outputId": "77c8f8a1-5039-40e7-9037-f0c8824a08b5"
      },
      "source": [
        "lectures_df = pd.read_csv('data/lectures.csv')\n",
        "lectures_df"
      ],
      "execution_count": 7,
      "outputs": [
        {
          "output_type": "execute_result",
          "data": {
            "text/plain": [
              "     lecture_id    tag  part           type_of\n",
              "0            89  24584     5           concept\n",
              "1           100  22243     1           concept\n",
              "2           185   7035     6           concept\n",
              "3           192  31458     5  solving question\n",
              "4           317  19653     5  solving question\n",
              "..          ...    ...   ...               ...\n",
              "413       32535  20004     5  solving question\n",
              "414       32570   4358     3  solving question\n",
              "415       32604   9093     6           concept\n",
              "416       32625  23993     2           concept\n",
              "417       32736  25432     3           concept\n",
              "\n",
              "[418 rows x 4 columns]"
            ],
            "text/html": "<div>\n<style scoped>\n    .dataframe tbody tr th:only-of-type {\n        vertical-align: middle;\n    }\n\n    .dataframe tbody tr th {\n        vertical-align: top;\n    }\n\n    .dataframe thead th {\n        text-align: right;\n    }\n</style>\n<table border=\"1\" class=\"dataframe\">\n  <thead>\n    <tr style=\"text-align: right;\">\n      <th></th>\n      <th>lecture_id</th>\n      <th>tag</th>\n      <th>part</th>\n      <th>type_of</th>\n    </tr>\n  </thead>\n  <tbody>\n    <tr>\n      <th>0</th>\n      <td>89</td>\n      <td>24584</td>\n      <td>5</td>\n      <td>concept</td>\n    </tr>\n    <tr>\n      <th>1</th>\n      <td>100</td>\n      <td>22243</td>\n      <td>1</td>\n      <td>concept</td>\n    </tr>\n    <tr>\n      <th>2</th>\n      <td>185</td>\n      <td>7035</td>\n      <td>6</td>\n      <td>concept</td>\n    </tr>\n    <tr>\n      <th>3</th>\n      <td>192</td>\n      <td>31458</td>\n      <td>5</td>\n      <td>solving question</td>\n    </tr>\n    <tr>\n      <th>4</th>\n      <td>317</td>\n      <td>19653</td>\n      <td>5</td>\n      <td>solving question</td>\n    </tr>\n    <tr>\n      <th>...</th>\n      <td>...</td>\n      <td>...</td>\n      <td>...</td>\n      <td>...</td>\n    </tr>\n    <tr>\n      <th>413</th>\n      <td>32535</td>\n      <td>20004</td>\n      <td>5</td>\n      <td>solving question</td>\n    </tr>\n    <tr>\n      <th>414</th>\n      <td>32570</td>\n      <td>4358</td>\n      <td>3</td>\n      <td>solving question</td>\n    </tr>\n    <tr>\n      <th>415</th>\n      <td>32604</td>\n      <td>9093</td>\n      <td>6</td>\n      <td>concept</td>\n    </tr>\n    <tr>\n      <th>416</th>\n      <td>32625</td>\n      <td>23993</td>\n      <td>2</td>\n      <td>concept</td>\n    </tr>\n    <tr>\n      <th>417</th>\n      <td>32736</td>\n      <td>25432</td>\n      <td>3</td>\n      <td>concept</td>\n    </tr>\n  </tbody>\n</table>\n<p>418 rows × 4 columns</p>\n</div>"
          },
          "metadata": {},
          "execution_count": 7
        }
      ]
    },
    {
      "cell_type": "code",
      "metadata": {
        "id": "03U7jbEBEBW5"
      },
      "source": [
        "features_df = train.iloc[:int(9 /10 * len(train))]\n",
        "train_df = train.iloc[int(9 /10 * len(train)):]"
      ],
      "execution_count": 8,
      "outputs": []
    },
    {
      "cell_type": "code",
      "metadata": {
        "colab": {
          "base_uri": "https://localhost:8080/",
          "height": 450
        },
        "id": "4VfztSuREN_d",
        "outputId": "b6ddb4f4-1564-4249-f547-0f1c8b9209bb"
      },
      "source": [
        "train_questions_only_df = features_df[features_df['answered_correctly']!=-1]\n",
        "grouped_by_user_df = train_questions_only_df.groupby('user_id')\n",
        "user_answers_df = grouped_by_user_df.agg({'answered_correctly': ['mean', 'count', 'std', 'median', 'skew']}).copy()\n",
        "user_answers_df.columns = [\n",
        "    'mean_user_accuracy', \n",
        "    'questions_answered', \n",
        "    'std_user_accuracy', \n",
        "    'median_user_accuracy', \n",
        "    'skew_user_accuracy'\n",
        "]\n",
        "\n",
        "user_answers_df"
      ],
      "execution_count": 9,
      "outputs": [
        {
          "output_type": "execute_result",
          "data": {
            "text/plain": [
              "           mean_user_accuracy  questions_answered  std_user_accuracy  \\\n",
              "user_id                                                                \n",
              "115                  0.695652                  46           0.465215   \n",
              "124                  0.233333                  30           0.430183   \n",
              "2746                 0.578947                  19           0.507257   \n",
              "5382                 0.672000                 125           0.471374   \n",
              "8623                 0.642202                 109           0.481566   \n",
              "...                       ...                 ...                ...   \n",
              "196087402            0.357143                  14           0.497245   \n",
              "196112832            0.764706                  17           0.437237   \n",
              "196116047            0.640000                  25           0.489898   \n",
              "196120982            0.601562                 256           0.490535   \n",
              "196122333            0.611722                 273           0.488254   \n",
              "\n",
              "           median_user_accuracy  skew_user_accuracy  \n",
              "user_id                                              \n",
              "115                         1.0           -0.879359  \n",
              "124                         0.0            1.328338  \n",
              "2746                        1.0           -0.347892  \n",
              "5382                        1.0           -0.741648  \n",
              "8623                        1.0           -0.601619  \n",
              "...                         ...                 ...  \n",
              "196087402                   0.0            0.670360  \n",
              "196112832                   1.0           -1.372252  \n",
              "196116047                   1.0           -0.621247  \n",
              "196120982                   1.0           -0.417349  \n",
              "196122333                   1.0           -0.461015  \n",
              "\n",
              "[35683 rows x 5 columns]"
            ],
            "text/html": "<div>\n<style scoped>\n    .dataframe tbody tr th:only-of-type {\n        vertical-align: middle;\n    }\n\n    .dataframe tbody tr th {\n        vertical-align: top;\n    }\n\n    .dataframe thead th {\n        text-align: right;\n    }\n</style>\n<table border=\"1\" class=\"dataframe\">\n  <thead>\n    <tr style=\"text-align: right;\">\n      <th></th>\n      <th>mean_user_accuracy</th>\n      <th>questions_answered</th>\n      <th>std_user_accuracy</th>\n      <th>median_user_accuracy</th>\n      <th>skew_user_accuracy</th>\n    </tr>\n    <tr>\n      <th>user_id</th>\n      <th></th>\n      <th></th>\n      <th></th>\n      <th></th>\n      <th></th>\n    </tr>\n  </thead>\n  <tbody>\n    <tr>\n      <th>115</th>\n      <td>0.695652</td>\n      <td>46</td>\n      <td>0.465215</td>\n      <td>1.0</td>\n      <td>-0.879359</td>\n    </tr>\n    <tr>\n      <th>124</th>\n      <td>0.233333</td>\n      <td>30</td>\n      <td>0.430183</td>\n      <td>0.0</td>\n      <td>1.328338</td>\n    </tr>\n    <tr>\n      <th>2746</th>\n      <td>0.578947</td>\n      <td>19</td>\n      <td>0.507257</td>\n      <td>1.0</td>\n      <td>-0.347892</td>\n    </tr>\n    <tr>\n      <th>5382</th>\n      <td>0.672000</td>\n      <td>125</td>\n      <td>0.471374</td>\n      <td>1.0</td>\n      <td>-0.741648</td>\n    </tr>\n    <tr>\n      <th>8623</th>\n      <td>0.642202</td>\n      <td>109</td>\n      <td>0.481566</td>\n      <td>1.0</td>\n      <td>-0.601619</td>\n    </tr>\n    <tr>\n      <th>...</th>\n      <td>...</td>\n      <td>...</td>\n      <td>...</td>\n      <td>...</td>\n      <td>...</td>\n    </tr>\n    <tr>\n      <th>196087402</th>\n      <td>0.357143</td>\n      <td>14</td>\n      <td>0.497245</td>\n      <td>0.0</td>\n      <td>0.670360</td>\n    </tr>\n    <tr>\n      <th>196112832</th>\n      <td>0.764706</td>\n      <td>17</td>\n      <td>0.437237</td>\n      <td>1.0</td>\n      <td>-1.372252</td>\n    </tr>\n    <tr>\n      <th>196116047</th>\n      <td>0.640000</td>\n      <td>25</td>\n      <td>0.489898</td>\n      <td>1.0</td>\n      <td>-0.621247</td>\n    </tr>\n    <tr>\n      <th>196120982</th>\n      <td>0.601562</td>\n      <td>256</td>\n      <td>0.490535</td>\n      <td>1.0</td>\n      <td>-0.417349</td>\n    </tr>\n    <tr>\n      <th>196122333</th>\n      <td>0.611722</td>\n      <td>273</td>\n      <td>0.488254</td>\n      <td>1.0</td>\n      <td>-0.461015</td>\n    </tr>\n  </tbody>\n</table>\n<p>35683 rows × 5 columns</p>\n</div>"
          },
          "metadata": {},
          "execution_count": 9
        }
      ]
    },
    {
      "cell_type": "code",
      "metadata": {
        "colab": {
          "base_uri": "https://localhost:8080/",
          "height": 450
        },
        "id": "vWTfssLREPTC",
        "outputId": "a4f754ad-0a7d-48eb-d7ac-9757d778b309"
      },
      "source": [
        "grouped_by_content_df = train_questions_only_df.groupby('content_id')\n",
        "content_answers_df = grouped_by_content_df.agg({'answered_correctly': ['mean', 'count', 'std', 'median', 'skew']}).copy()\n",
        "content_answers_df.columns = [\n",
        "    'mean_accuracy', \n",
        "    'question_asked', \n",
        "    'std_accuracy', \n",
        "    'median_accuracy', \n",
        "    'skew_accuracy'\n",
        "]\n",
        "\n",
        "content_answers_df"
      ],
      "execution_count": 10,
      "outputs": [
        {
          "output_type": "execute_result",
          "data": {
            "text/plain": [
              "            mean_accuracy  question_asked  std_accuracy  median_accuracy  \\\n",
              "content_id                                                                 \n",
              "0                0.901274             628      0.298532              1.0   \n",
              "1                0.889571             652      0.313665              1.0   \n",
              "2                0.558317            4064      0.496649              1.0   \n",
              "3                0.779570            2046      0.414638              1.0   \n",
              "4                0.627244            2841      0.483623              1.0   \n",
              "...                   ...             ...           ...              ...   \n",
              "13518            0.782051              78      0.415525              1.0   \n",
              "13519            0.569620              79      0.498293              1.0   \n",
              "13520            0.702703              74      0.460188              1.0   \n",
              "13521            0.782051              78      0.415525              1.0   \n",
              "13522            0.907895              76      0.291096              1.0   \n",
              "\n",
              "            skew_accuracy  \n",
              "content_id                 \n",
              "0               -2.696906  \n",
              "1               -2.491635  \n",
              "2               -0.234957  \n",
              "3               -1.349820  \n",
              "4               -0.526582  \n",
              "...                   ...  \n",
              "13518           -1.393293  \n",
              "13519           -0.286693  \n",
              "13520           -0.905426  \n",
              "13521           -1.393293  \n",
              "13522           -2.878219  \n",
              "\n",
              "[13497 rows x 5 columns]"
            ],
            "text/html": "<div>\n<style scoped>\n    .dataframe tbody tr th:only-of-type {\n        vertical-align: middle;\n    }\n\n    .dataframe tbody tr th {\n        vertical-align: top;\n    }\n\n    .dataframe thead th {\n        text-align: right;\n    }\n</style>\n<table border=\"1\" class=\"dataframe\">\n  <thead>\n    <tr style=\"text-align: right;\">\n      <th></th>\n      <th>mean_accuracy</th>\n      <th>question_asked</th>\n      <th>std_accuracy</th>\n      <th>median_accuracy</th>\n      <th>skew_accuracy</th>\n    </tr>\n    <tr>\n      <th>content_id</th>\n      <th></th>\n      <th></th>\n      <th></th>\n      <th></th>\n      <th></th>\n    </tr>\n  </thead>\n  <tbody>\n    <tr>\n      <th>0</th>\n      <td>0.901274</td>\n      <td>628</td>\n      <td>0.298532</td>\n      <td>1.0</td>\n      <td>-2.696906</td>\n    </tr>\n    <tr>\n      <th>1</th>\n      <td>0.889571</td>\n      <td>652</td>\n      <td>0.313665</td>\n      <td>1.0</td>\n      <td>-2.491635</td>\n    </tr>\n    <tr>\n      <th>2</th>\n      <td>0.558317</td>\n      <td>4064</td>\n      <td>0.496649</td>\n      <td>1.0</td>\n      <td>-0.234957</td>\n    </tr>\n    <tr>\n      <th>3</th>\n      <td>0.779570</td>\n      <td>2046</td>\n      <td>0.414638</td>\n      <td>1.0</td>\n      <td>-1.349820</td>\n    </tr>\n    <tr>\n      <th>4</th>\n      <td>0.627244</td>\n      <td>2841</td>\n      <td>0.483623</td>\n      <td>1.0</td>\n      <td>-0.526582</td>\n    </tr>\n    <tr>\n      <th>...</th>\n      <td>...</td>\n      <td>...</td>\n      <td>...</td>\n      <td>...</td>\n      <td>...</td>\n    </tr>\n    <tr>\n      <th>13518</th>\n      <td>0.782051</td>\n      <td>78</td>\n      <td>0.415525</td>\n      <td>1.0</td>\n      <td>-1.393293</td>\n    </tr>\n    <tr>\n      <th>13519</th>\n      <td>0.569620</td>\n      <td>79</td>\n      <td>0.498293</td>\n      <td>1.0</td>\n      <td>-0.286693</td>\n    </tr>\n    <tr>\n      <th>13520</th>\n      <td>0.702703</td>\n      <td>74</td>\n      <td>0.460188</td>\n      <td>1.0</td>\n      <td>-0.905426</td>\n    </tr>\n    <tr>\n      <th>13521</th>\n      <td>0.782051</td>\n      <td>78</td>\n      <td>0.415525</td>\n      <td>1.0</td>\n      <td>-1.393293</td>\n    </tr>\n    <tr>\n      <th>13522</th>\n      <td>0.907895</td>\n      <td>76</td>\n      <td>0.291096</td>\n      <td>1.0</td>\n      <td>-2.878219</td>\n    </tr>\n  </tbody>\n</table>\n<p>13497 rows × 5 columns</p>\n</div>"
          },
          "metadata": {},
          "execution_count": 10
        }
      ]
    },
    {
      "cell_type": "code",
      "metadata": {
        "id": "NBLMrr8vEWw2"
      },
      "source": [
        "del features_df\n",
        "del grouped_by_user_df\n",
        "del grouped_by_content_df"
      ],
      "execution_count": 11,
      "outputs": []
    },
    {
      "cell_type": "code",
      "metadata": {
        "id": "64lB6OAGEbGq"
      },
      "source": [
        "features = [\n",
        "    'mean_user_accuracy', \n",
        "    'questions_answered',\n",
        "    'std_user_accuracy', \n",
        "    'median_user_accuracy',\n",
        "    'skew_user_accuracy',\n",
        "    'mean_accuracy', \n",
        "    'question_asked',\n",
        "    'std_accuracy', \n",
        "    'median_accuracy',\n",
        "    'prior_question_elapsed_time', \n",
        "    'prior_question_had_explanation',\n",
        "    'skew_accuracy'\n",
        "]\n",
        "\n",
        "target = 'answered_correctly'"
      ],
      "execution_count": 12,
      "outputs": []
    },
    {
      "cell_type": "code",
      "metadata": {
        "colab": {
          "base_uri": "https://localhost:8080/",
          "height": 439
        },
        "id": "g8KoRHK6EeF2",
        "outputId": "fd97bd3c-a372-4786-cef7-825cc81ce4ce"
      },
      "source": [
        "train_df = train_df[train_df[target] != -1]\n",
        "\n",
        "train_df = train_df.merge(user_answers_df, how='left', on='user_id')\n",
        "train_df = train_df.merge(content_answers_df, how='left', on='content_id')\n",
        "\n",
        "train_df['prior_question_had_explanation'] = train_df['prior_question_had_explanation'].fillna(value=False).astype(bool)\n",
        "train_df = train_df.fillna(value=0.5)\n",
        "\n",
        "train_df = train_df[features + [target]]\n",
        "train_df = train_df.replace([np.inf, -np.inf], np.nan)\n",
        "train_df = train_df.fillna(0.5)\n",
        "\n",
        "train_df"
      ],
      "execution_count": 13,
      "outputs": [
        {
          "output_type": "execute_result",
          "data": {
            "text/plain": [
              "        mean_user_accuracy  questions_answered  std_user_accuracy  \\\n",
              "0                 0.611722               273.0           0.488254   \n",
              "1                 0.611722               273.0           0.488254   \n",
              "2                 0.611722               273.0           0.488254   \n",
              "3                 0.611722               273.0           0.488254   \n",
              "4                 0.611722               273.0           0.488254   \n",
              "...                    ...                 ...                ...   \n",
              "981089            0.500000                 0.5           0.500000   \n",
              "981090            0.500000                 0.5           0.500000   \n",
              "981091            0.500000                 0.5           0.500000   \n",
              "981092            0.500000                 0.5           0.500000   \n",
              "981093            0.500000                 0.5           0.500000   \n",
              "\n",
              "        median_user_accuracy  skew_user_accuracy  mean_accuracy  \\\n",
              "0                        1.0           -0.461015       0.867188   \n",
              "1                        1.0           -0.461015       0.533800   \n",
              "2                        1.0           -0.461015       0.715385   \n",
              "3                        1.0           -0.461015       0.674593   \n",
              "4                        1.0           -0.461015       0.719101   \n",
              "...                      ...                 ...            ...   \n",
              "981089                   0.5            0.500000       0.608618   \n",
              "981090                   0.5            0.500000       0.453099   \n",
              "981091                   0.5            0.500000       0.507086   \n",
              "981092                   0.5            0.500000       0.541939   \n",
              "981093                   0.5            0.500000       0.799107   \n",
              "\n",
              "        question_asked  std_accuracy  median_accuracy  \\\n",
              "0                384.0      0.339815              1.0   \n",
              "1                429.0      0.499439              1.0   \n",
              "2               1040.0      0.451448              1.0   \n",
              "3               2271.0      0.468630              1.0   \n",
              "4                890.0      0.449691              1.0   \n",
              "...                ...           ...              ...   \n",
              "981089           557.0      0.488498              1.0   \n",
              "981090          4776.0      0.497848              0.0   \n",
              "981091          1623.0      0.500104              1.0   \n",
              "981092          3517.0      0.498309              1.0   \n",
              "981093           448.0      0.401116              1.0   \n",
              "\n",
              "        prior_question_elapsed_time  prior_question_had_explanation  \\\n",
              "0                           19000.0                            True   \n",
              "1                           15000.0                            True   \n",
              "2                           13000.0                            True   \n",
              "3                           16000.0                            True   \n",
              "4                           16000.0                            True   \n",
              "...                             ...                             ...   \n",
              "981089                      23000.0                            True   \n",
              "981090                      13000.0                            True   \n",
              "981091                      66000.0                            True   \n",
              "981092                      37000.0                            True   \n",
              "981093                      16000.0                            True   \n",
              "\n",
              "        skew_accuracy  answered_correctly  \n",
              "0           -2.172419                   1  \n",
              "1           -0.135984                   0  \n",
              "2           -0.956033                   1  \n",
              "3           -0.745776                   0  \n",
              "4           -0.976647                   1  \n",
              "...               ...                 ...  \n",
              "981089      -0.446302                   1  \n",
              "981090       0.188495                   0  \n",
              "981091      -0.028372                   0  \n",
              "981092      -0.168422                   1  \n",
              "981093      -1.498063                   1  \n",
              "\n",
              "[981094 rows x 13 columns]"
            ],
            "text/html": "<div>\n<style scoped>\n    .dataframe tbody tr th:only-of-type {\n        vertical-align: middle;\n    }\n\n    .dataframe tbody tr th {\n        vertical-align: top;\n    }\n\n    .dataframe thead th {\n        text-align: right;\n    }\n</style>\n<table border=\"1\" class=\"dataframe\">\n  <thead>\n    <tr style=\"text-align: right;\">\n      <th></th>\n      <th>mean_user_accuracy</th>\n      <th>questions_answered</th>\n      <th>std_user_accuracy</th>\n      <th>median_user_accuracy</th>\n      <th>skew_user_accuracy</th>\n      <th>mean_accuracy</th>\n      <th>question_asked</th>\n      <th>std_accuracy</th>\n      <th>median_accuracy</th>\n      <th>prior_question_elapsed_time</th>\n      <th>prior_question_had_explanation</th>\n      <th>skew_accuracy</th>\n      <th>answered_correctly</th>\n    </tr>\n  </thead>\n  <tbody>\n    <tr>\n      <th>0</th>\n      <td>0.611722</td>\n      <td>273.0</td>\n      <td>0.488254</td>\n      <td>1.0</td>\n      <td>-0.461015</td>\n      <td>0.867188</td>\n      <td>384.0</td>\n      <td>0.339815</td>\n      <td>1.0</td>\n      <td>19000.0</td>\n      <td>True</td>\n      <td>-2.172419</td>\n      <td>1</td>\n    </tr>\n    <tr>\n      <th>1</th>\n      <td>0.611722</td>\n      <td>273.0</td>\n      <td>0.488254</td>\n      <td>1.0</td>\n      <td>-0.461015</td>\n      <td>0.533800</td>\n      <td>429.0</td>\n      <td>0.499439</td>\n      <td>1.0</td>\n      <td>15000.0</td>\n      <td>True</td>\n      <td>-0.135984</td>\n      <td>0</td>\n    </tr>\n    <tr>\n      <th>2</th>\n      <td>0.611722</td>\n      <td>273.0</td>\n      <td>0.488254</td>\n      <td>1.0</td>\n      <td>-0.461015</td>\n      <td>0.715385</td>\n      <td>1040.0</td>\n      <td>0.451448</td>\n      <td>1.0</td>\n      <td>13000.0</td>\n      <td>True</td>\n      <td>-0.956033</td>\n      <td>1</td>\n    </tr>\n    <tr>\n      <th>3</th>\n      <td>0.611722</td>\n      <td>273.0</td>\n      <td>0.488254</td>\n      <td>1.0</td>\n      <td>-0.461015</td>\n      <td>0.674593</td>\n      <td>2271.0</td>\n      <td>0.468630</td>\n      <td>1.0</td>\n      <td>16000.0</td>\n      <td>True</td>\n      <td>-0.745776</td>\n      <td>0</td>\n    </tr>\n    <tr>\n      <th>4</th>\n      <td>0.611722</td>\n      <td>273.0</td>\n      <td>0.488254</td>\n      <td>1.0</td>\n      <td>-0.461015</td>\n      <td>0.719101</td>\n      <td>890.0</td>\n      <td>0.449691</td>\n      <td>1.0</td>\n      <td>16000.0</td>\n      <td>True</td>\n      <td>-0.976647</td>\n      <td>1</td>\n    </tr>\n    <tr>\n      <th>...</th>\n      <td>...</td>\n      <td>...</td>\n      <td>...</td>\n      <td>...</td>\n      <td>...</td>\n      <td>...</td>\n      <td>...</td>\n      <td>...</td>\n      <td>...</td>\n      <td>...</td>\n      <td>...</td>\n      <td>...</td>\n      <td>...</td>\n    </tr>\n    <tr>\n      <th>981089</th>\n      <td>0.500000</td>\n      <td>0.5</td>\n      <td>0.500000</td>\n      <td>0.5</td>\n      <td>0.500000</td>\n      <td>0.608618</td>\n      <td>557.0</td>\n      <td>0.488498</td>\n      <td>1.0</td>\n      <td>23000.0</td>\n      <td>True</td>\n      <td>-0.446302</td>\n      <td>1</td>\n    </tr>\n    <tr>\n      <th>981090</th>\n      <td>0.500000</td>\n      <td>0.5</td>\n      <td>0.500000</td>\n      <td>0.5</td>\n      <td>0.500000</td>\n      <td>0.453099</td>\n      <td>4776.0</td>\n      <td>0.497848</td>\n      <td>0.0</td>\n      <td>13000.0</td>\n      <td>True</td>\n      <td>0.188495</td>\n      <td>0</td>\n    </tr>\n    <tr>\n      <th>981091</th>\n      <td>0.500000</td>\n      <td>0.5</td>\n      <td>0.500000</td>\n      <td>0.5</td>\n      <td>0.500000</td>\n      <td>0.507086</td>\n      <td>1623.0</td>\n      <td>0.500104</td>\n      <td>1.0</td>\n      <td>66000.0</td>\n      <td>True</td>\n      <td>-0.028372</td>\n      <td>0</td>\n    </tr>\n    <tr>\n      <th>981092</th>\n      <td>0.500000</td>\n      <td>0.5</td>\n      <td>0.500000</td>\n      <td>0.5</td>\n      <td>0.500000</td>\n      <td>0.541939</td>\n      <td>3517.0</td>\n      <td>0.498309</td>\n      <td>1.0</td>\n      <td>37000.0</td>\n      <td>True</td>\n      <td>-0.168422</td>\n      <td>1</td>\n    </tr>\n    <tr>\n      <th>981093</th>\n      <td>0.500000</td>\n      <td>0.5</td>\n      <td>0.500000</td>\n      <td>0.5</td>\n      <td>0.500000</td>\n      <td>0.799107</td>\n      <td>448.0</td>\n      <td>0.401116</td>\n      <td>1.0</td>\n      <td>16000.0</td>\n      <td>True</td>\n      <td>-1.498063</td>\n      <td>1</td>\n    </tr>\n  </tbody>\n</table>\n<p>981094 rows × 13 columns</p>\n</div>"
          },
          "metadata": {},
          "execution_count": 13
        }
      ]
    },
    {
      "cell_type": "code",
      "metadata": {
        "id": "3f6R9hkoE3pD"
      },
      "source": [
        "train_df, test_df = train_test_split(train_df, random_state=666, test_size=0.2)"
      ],
      "execution_count": 14,
      "outputs": []
    },
    {
      "cell_type": "code",
      "metadata": {
        "id": "Up-n0P6LR2xU"
      },
      "source": [
        "def create_nn():\n",
        "  model = tf.keras.Sequential(\n",
        "      [\n",
        "       tf.keras.layers.Input(12),\n",
        "       tf.keras.layers.BatchNormalization(),\n",
        "       tf.keras.layers.Dense(200, activation=\"relu\"),\n",
        "       tf.keras.layers.BatchNormalization(),\n",
        "       tf.keras.layers.Dropout(0.5),\n",
        "       tf.keras.layers.Dense(30, activation=\"relu\"),\n",
        "       tf.keras.layers.BatchNormalization(),\n",
        "       tf.keras.layers.Dropout(0.2),\n",
        "       tf.keras.layers.Dense(1, activation=\"sigmoid\")\n",
        "      ]\n",
        "  )\n",
        "  model.compile(optimizer='adam', loss=\"binary_crossentropy\", metrics=['accuracy'])\n",
        "  return model"
      ],
      "execution_count": 15,
      "outputs": []
    },
    {
      "cell_type": "code",
      "metadata": {
        "colab": {
          "base_uri": "https://localhost:8080/"
        },
        "id": "i72dcczqzybZ",
        "outputId": "30559440-9c25-493c-9c08-3c29027f5592"
      },
      "source": [
        "nn = create_nn()\n",
        "history = nn.fit(np.array(train_df[features], np.float), \n",
        "          np.array(train_df[target], np.float),\n",
        "          validation_split=0.2,\n",
        "          epochs=5)"
      ],
      "execution_count": 16,
      "outputs": [
        {
          "output_type": "stream",
          "name": "stdout",
          "text": [
            "Epoch 1/5\n",
            "19619/19622 [============================>.] - ETA: 0s - loss: 0.5687 - accuracy: 0.7072WARNING:tensorflow:Callbacks method `on_test_batch_begin` is slow compared to the batch time (batch time: 0.0000s vs `on_test_batch_begin` time: 0.0010s). Check your callbacks.\n",
            "WARNING:tensorflow:Callbacks method `on_test_batch_end` is slow compared to the batch time (batch time: 0.0000s vs `on_test_batch_end` time: 0.0010s). Check your callbacks.\n",
            "19622/19622 [==============================] - 45s 2ms/step - loss: 0.5687 - accuracy: 0.7072 - val_loss: 0.5604 - val_accuracy: 0.7109\n",
            "Epoch 2/5\n",
            "19622/19622 [==============================] - 45s 2ms/step - loss: 0.5658 - accuracy: 0.7085 - val_loss: 0.5603 - val_accuracy: 0.7118\n",
            "Epoch 3/5\n",
            "19622/19622 [==============================] - 46s 2ms/step - loss: 0.5654 - accuracy: 0.7086 - val_loss: 0.5597 - val_accuracy: 0.7118\n",
            "Epoch 4/5\n",
            "19622/19622 [==============================] - 44s 2ms/step - loss: 0.5652 - accuracy: 0.7090 - val_loss: 0.5605 - val_accuracy: 0.7111\n",
            "Epoch 5/5\n",
            "19622/19622 [==============================] - 40s 2ms/step - loss: 0.5651 - accuracy: 0.7089 - val_loss: 0.5599 - val_accuracy: 0.7116\n"
          ]
        }
      ]
    },
    {
      "cell_type": "code",
      "metadata": {
        "id": "rpR2j8OBITFk"
      },
      "source": [],
      "execution_count": null,
      "outputs": []
    }
  ]
}