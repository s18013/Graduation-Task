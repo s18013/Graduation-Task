{
 "metadata": {
  "language_info": {
   "codemirror_mode": {
    "name": "ipython",
    "version": 3
   },
   "file_extension": ".py",
   "mimetype": "text/x-python",
   "name": "python",
   "nbconvert_exporter": "python",
   "pygments_lexer": "ipython3",
   "version": "3.7.7-final"
  },
  "orig_nbformat": 2,
  "kernelspec": {
   "name": "python3",
   "display_name": "Python 3.7.7 64-bit ('TF_2.3_gpu': conda)",
   "metadata": {
    "interpreter": {
     "hash": "167b918dfc5ebee9ee63a49d89825ab4e1a5928d2b3aae65283b6b5a4bdb7333"
    }
   }
  }
 },
 "nbformat": 4,
 "nbformat_minor": 2,
 "cells": [
  {
   "cell_type": "code",
   "execution_count": 1,
   "metadata": {},
   "outputs": [
    {
     "output_type": "display_data",
     "data": {
      "text/plain": "<IPython.core.display.HTML object>",
      "text/html": "<style type='text/css'>\n.datatable table.frame { margin-bottom: 0; }\n.datatable table.frame thead { border-bottom: none; }\n.datatable table.frame tr.coltypes td {  color: #FFFFFF;  line-height: 6px;  padding: 0 0.5em;}\n.datatable .bool    { background: #DDDD99; }\n.datatable .object  { background: #565656; }\n.datatable .int     { background: #5D9E5D; }\n.datatable .float   { background: #4040CC; }\n.datatable .str     { background: #CC4040; }\n.datatable .row_index {  background: var(--jp-border-color3);  border-right: 1px solid var(--jp-border-color0);  color: var(--jp-ui-font-color3);  font-size: 9px;}\n.datatable .frame tr.coltypes .row_index {  background: var(--jp-border-color0);}\n.datatable th:nth-child(2) { padding-left: 12px; }\n.datatable .hellipsis {  color: var(--jp-cell-editor-border-color);}\n.datatable .vellipsis {  background: var(--jp-layout-color0);  color: var(--jp-cell-editor-border-color);}\n.datatable .na {  color: var(--jp-cell-editor-border-color);  font-size: 80%;}\n.datatable .footer { font-size: 9px; }\n.datatable .frame_dimensions {  background: var(--jp-border-color3);  border-top: 1px solid var(--jp-border-color0);  color: var(--jp-ui-font-color3);  display: inline-block;  opacity: 0.6;  padding: 1px 10px 1px 5px;}\n</style>\n"
     },
     "metadata": {}
    }
   ],
   "source": [
    "import numpy as np\n",
    "import pandas as pd\n",
    "\n",
    "from collections import defaultdict\n",
    "import datatable as dt\n",
    "import lightgbm as lgb\n",
    "from matplotlib import pyplot as plt\n",
    "# import riiideducation\n",
    "import random\n",
    "from sklearn.metrics import roc_auc_score\n",
    "import gc\n",
    "import pickle\n",
    "\n",
    "_ = np.seterr(divide='ignore', invalid='ignore')"
   ]
  },
  {
   "cell_type": "code",
   "execution_count": 2,
   "metadata": {},
   "outputs": [],
   "source": [
    "data_types_dict = {\n",
    "    'timestamp': 'int64',\n",
    "    'user_id': 'int32', \n",
    "    'content_id': 'int16', \n",
    "    'content_type_id':'int8', \n",
    "    'task_container_id': 'int16',\n",
    "    #'user_answer': 'int8',\n",
    "    'answered_correctly': 'int8', \n",
    "    'prior_question_elapsed_time': 'float32', \n",
    "    'prior_question_had_explanation': 'bool'\n",
    "}\n",
    "target = 'answered_correctly'"
   ]
  },
  {
   "cell_type": "code",
   "execution_count": 3,
   "metadata": {},
   "outputs": [],
   "source": [
    "train_df = dt.fread('data/train.csv', columns=set(data_types_dict.keys())).to_pandas()"
   ]
  },
  {
   "cell_type": "code",
   "execution_count": 4,
   "metadata": {},
   "outputs": [
    {
     "output_type": "execute_result",
     "data": {
      "text/plain": [
       "           timestamp     user_id  content_id  content_type_id  \\\n",
       "0                  0         115        5692            False   \n",
       "1              56943         115        5716            False   \n",
       "2             118363         115         128            False   \n",
       "3             131167         115        7860            False   \n",
       "4             137965         115        7922            False   \n",
       "...              ...         ...         ...              ...   \n",
       "101230327  428564420  2147482888        3586            False   \n",
       "101230328  428585000  2147482888        6341            False   \n",
       "101230329  428613475  2147482888        4212            False   \n",
       "101230330  428649406  2147482888        6343            False   \n",
       "101230331  428692118  2147482888        7995            False   \n",
       "\n",
       "           task_container_id  answered_correctly  prior_question_elapsed_time  \\\n",
       "0                          1                   1                          NaN   \n",
       "1                          2                   1                      37000.0   \n",
       "2                          0                   1                      55000.0   \n",
       "3                          3                   1                      19000.0   \n",
       "4                          4                   1                      11000.0   \n",
       "...                      ...                 ...                          ...   \n",
       "101230327                 22                   1                      18000.0   \n",
       "101230328                 23                   1                      14000.0   \n",
       "101230329                 24                   1                      14000.0   \n",
       "101230330                 25                   0                      22000.0   \n",
       "101230331                 26                   1                      29000.0   \n",
       "\n",
       "          prior_question_had_explanation  \n",
       "0                                    NaN  \n",
       "1                                  False  \n",
       "2                                  False  \n",
       "3                                  False  \n",
       "4                                  False  \n",
       "...                                  ...  \n",
       "101230327                           True  \n",
       "101230328                           True  \n",
       "101230329                           True  \n",
       "101230330                           True  \n",
       "101230331                           True  \n",
       "\n",
       "[101230332 rows x 8 columns]"
      ],
      "text/html": "<div>\n<style scoped>\n    .dataframe tbody tr th:only-of-type {\n        vertical-align: middle;\n    }\n\n    .dataframe tbody tr th {\n        vertical-align: top;\n    }\n\n    .dataframe thead th {\n        text-align: right;\n    }\n</style>\n<table border=\"1\" class=\"dataframe\">\n  <thead>\n    <tr style=\"text-align: right;\">\n      <th></th>\n      <th>timestamp</th>\n      <th>user_id</th>\n      <th>content_id</th>\n      <th>content_type_id</th>\n      <th>task_container_id</th>\n      <th>answered_correctly</th>\n      <th>prior_question_elapsed_time</th>\n      <th>prior_question_had_explanation</th>\n    </tr>\n  </thead>\n  <tbody>\n    <tr>\n      <th>0</th>\n      <td>0</td>\n      <td>115</td>\n      <td>5692</td>\n      <td>False</td>\n      <td>1</td>\n      <td>1</td>\n      <td>NaN</td>\n      <td>NaN</td>\n    </tr>\n    <tr>\n      <th>1</th>\n      <td>56943</td>\n      <td>115</td>\n      <td>5716</td>\n      <td>False</td>\n      <td>2</td>\n      <td>1</td>\n      <td>37000.0</td>\n      <td>False</td>\n    </tr>\n    <tr>\n      <th>2</th>\n      <td>118363</td>\n      <td>115</td>\n      <td>128</td>\n      <td>False</td>\n      <td>0</td>\n      <td>1</td>\n      <td>55000.0</td>\n      <td>False</td>\n    </tr>\n    <tr>\n      <th>3</th>\n      <td>131167</td>\n      <td>115</td>\n      <td>7860</td>\n      <td>False</td>\n      <td>3</td>\n      <td>1</td>\n      <td>19000.0</td>\n      <td>False</td>\n    </tr>\n    <tr>\n      <th>4</th>\n      <td>137965</td>\n      <td>115</td>\n      <td>7922</td>\n      <td>False</td>\n      <td>4</td>\n      <td>1</td>\n      <td>11000.0</td>\n      <td>False</td>\n    </tr>\n    <tr>\n      <th>...</th>\n      <td>...</td>\n      <td>...</td>\n      <td>...</td>\n      <td>...</td>\n      <td>...</td>\n      <td>...</td>\n      <td>...</td>\n      <td>...</td>\n    </tr>\n    <tr>\n      <th>101230327</th>\n      <td>428564420</td>\n      <td>2147482888</td>\n      <td>3586</td>\n      <td>False</td>\n      <td>22</td>\n      <td>1</td>\n      <td>18000.0</td>\n      <td>True</td>\n    </tr>\n    <tr>\n      <th>101230328</th>\n      <td>428585000</td>\n      <td>2147482888</td>\n      <td>6341</td>\n      <td>False</td>\n      <td>23</td>\n      <td>1</td>\n      <td>14000.0</td>\n      <td>True</td>\n    </tr>\n    <tr>\n      <th>101230329</th>\n      <td>428613475</td>\n      <td>2147482888</td>\n      <td>4212</td>\n      <td>False</td>\n      <td>24</td>\n      <td>1</td>\n      <td>14000.0</td>\n      <td>True</td>\n    </tr>\n    <tr>\n      <th>101230330</th>\n      <td>428649406</td>\n      <td>2147482888</td>\n      <td>6343</td>\n      <td>False</td>\n      <td>25</td>\n      <td>0</td>\n      <td>22000.0</td>\n      <td>True</td>\n    </tr>\n    <tr>\n      <th>101230331</th>\n      <td>428692118</td>\n      <td>2147482888</td>\n      <td>7995</td>\n      <td>False</td>\n      <td>26</td>\n      <td>1</td>\n      <td>29000.0</td>\n      <td>True</td>\n    </tr>\n  </tbody>\n</table>\n<p>101230332 rows × 8 columns</p>\n</div>"
     },
     "metadata": {},
     "execution_count": 4
    }
   ],
   "source": [
    "train_df"
   ]
  },
  {
   "cell_type": "code",
   "execution_count": 5,
   "metadata": {},
   "outputs": [],
   "source": [
    "lectures_df = pd.read_csv('data/lectures.csv')"
   ]
  },
  {
   "cell_type": "code",
   "execution_count": 6,
   "metadata": {},
   "outputs": [
    {
     "output_type": "execute_result",
     "data": {
      "text/plain": [
       "     lecture_id    tag  part           type_of\n",
       "0            89  24584     5           concept\n",
       "1           100  22243     1           concept\n",
       "2           185   7035     6           concept\n",
       "3           192  31458     5  solving question\n",
       "4           317  19653     5  solving question\n",
       "..          ...    ...   ...               ...\n",
       "413       32535  20004     5  solving question\n",
       "414       32570   4358     3  solving question\n",
       "415       32604   9093     6           concept\n",
       "416       32625  23993     2           concept\n",
       "417       32736  25432     3           concept\n",
       "\n",
       "[418 rows x 4 columns]"
      ],
      "text/html": "<div>\n<style scoped>\n    .dataframe tbody tr th:only-of-type {\n        vertical-align: middle;\n    }\n\n    .dataframe tbody tr th {\n        vertical-align: top;\n    }\n\n    .dataframe thead th {\n        text-align: right;\n    }\n</style>\n<table border=\"1\" class=\"dataframe\">\n  <thead>\n    <tr style=\"text-align: right;\">\n      <th></th>\n      <th>lecture_id</th>\n      <th>tag</th>\n      <th>part</th>\n      <th>type_of</th>\n    </tr>\n  </thead>\n  <tbody>\n    <tr>\n      <th>0</th>\n      <td>89</td>\n      <td>24584</td>\n      <td>5</td>\n      <td>concept</td>\n    </tr>\n    <tr>\n      <th>1</th>\n      <td>100</td>\n      <td>22243</td>\n      <td>1</td>\n      <td>concept</td>\n    </tr>\n    <tr>\n      <th>2</th>\n      <td>185</td>\n      <td>7035</td>\n      <td>6</td>\n      <td>concept</td>\n    </tr>\n    <tr>\n      <th>3</th>\n      <td>192</td>\n      <td>31458</td>\n      <td>5</td>\n      <td>solving question</td>\n    </tr>\n    <tr>\n      <th>4</th>\n      <td>317</td>\n      <td>19653</td>\n      <td>5</td>\n      <td>solving question</td>\n    </tr>\n    <tr>\n      <th>...</th>\n      <td>...</td>\n      <td>...</td>\n      <td>...</td>\n      <td>...</td>\n    </tr>\n    <tr>\n      <th>413</th>\n      <td>32535</td>\n      <td>20004</td>\n      <td>5</td>\n      <td>solving question</td>\n    </tr>\n    <tr>\n      <th>414</th>\n      <td>32570</td>\n      <td>4358</td>\n      <td>3</td>\n      <td>solving question</td>\n    </tr>\n    <tr>\n      <th>415</th>\n      <td>32604</td>\n      <td>9093</td>\n      <td>6</td>\n      <td>concept</td>\n    </tr>\n    <tr>\n      <th>416</th>\n      <td>32625</td>\n      <td>23993</td>\n      <td>2</td>\n      <td>concept</td>\n    </tr>\n    <tr>\n      <th>417</th>\n      <td>32736</td>\n      <td>25432</td>\n      <td>3</td>\n      <td>concept</td>\n    </tr>\n  </tbody>\n</table>\n<p>418 rows × 4 columns</p>\n</div>"
     },
     "metadata": {},
     "execution_count": 6
    }
   ],
   "source": [
    "lectures_df"
   ]
  },
  {
   "cell_type": "code",
   "execution_count": 7,
   "metadata": {},
   "outputs": [],
   "source": [
    "lectures_df['type_of'] = lectures_df['type_of'].replace('solving question', 'solving_question')\n",
    "\n",
    "lectures_df = pd.get_dummies(lectures_df, columns=['part', 'type_of'])\n",
    "\n",
    "part_lectures_columns = [column for column in lectures_df.columns if column.startswith('part')]\n",
    "\n",
    "types_of_lectures_columns = [column for column in lectures_df.columns if column.startswith('type_of_')]"
   ]
  },
  {
   "cell_type": "code",
   "execution_count": 8,
   "metadata": {},
   "outputs": [
    {
     "output_type": "execute_result",
     "data": {
      "text/plain": [
       "['part_1', 'part_2', 'part_3', 'part_4', 'part_5', 'part_6', 'part_7']"
      ]
     },
     "metadata": {},
     "execution_count": 8
    }
   ],
   "source": [
    "part_lectures_columns"
   ]
  },
  {
   "cell_type": "code",
   "execution_count": 9,
   "metadata": {},
   "outputs": [
    {
     "output_type": "execute_result",
     "data": {
      "text/plain": [
       "['type_of_concept',\n",
       " 'type_of_intention',\n",
       " 'type_of_solving_question',\n",
       " 'type_of_starter']"
      ]
     },
     "metadata": {},
     "execution_count": 9
    }
   ],
   "source": [
    "types_of_lectures_columns"
   ]
  },
  {
   "cell_type": "code",
   "execution_count": 10,
   "metadata": {},
   "outputs": [
    {
     "output_type": "execute_result",
     "data": {
      "text/plain": [
       "     lecture_id    tag  part_1  part_2  part_3  part_4  part_5  part_6  \\\n",
       "0            89  24584       0       0       0       0       1       0   \n",
       "1           100  22243       1       0       0       0       0       0   \n",
       "2           185   7035       0       0       0       0       0       1   \n",
       "3           192  31458       0       0       0       0       1       0   \n",
       "4           317  19653       0       0       0       0       1       0   \n",
       "..          ...    ...     ...     ...     ...     ...     ...     ...   \n",
       "413       32535  20004       0       0       0       0       1       0   \n",
       "414       32570   4358       0       0       1       0       0       0   \n",
       "415       32604   9093       0       0       0       0       0       1   \n",
       "416       32625  23993       0       1       0       0       0       0   \n",
       "417       32736  25432       0       0       1       0       0       0   \n",
       "\n",
       "     part_7  type_of_concept  type_of_intention  type_of_solving_question  \\\n",
       "0         0                1                  0                         0   \n",
       "1         0                1                  0                         0   \n",
       "2         0                1                  0                         0   \n",
       "3         0                0                  0                         1   \n",
       "4         0                0                  0                         1   \n",
       "..      ...              ...                ...                       ...   \n",
       "413       0                0                  0                         1   \n",
       "414       0                0                  0                         1   \n",
       "415       0                1                  0                         0   \n",
       "416       0                1                  0                         0   \n",
       "417       0                1                  0                         0   \n",
       "\n",
       "     type_of_starter  \n",
       "0                  0  \n",
       "1                  0  \n",
       "2                  0  \n",
       "3                  0  \n",
       "4                  0  \n",
       "..               ...  \n",
       "413                0  \n",
       "414                0  \n",
       "415                0  \n",
       "416                0  \n",
       "417                0  \n",
       "\n",
       "[418 rows x 13 columns]"
      ],
      "text/html": "<div>\n<style scoped>\n    .dataframe tbody tr th:only-of-type {\n        vertical-align: middle;\n    }\n\n    .dataframe tbody tr th {\n        vertical-align: top;\n    }\n\n    .dataframe thead th {\n        text-align: right;\n    }\n</style>\n<table border=\"1\" class=\"dataframe\">\n  <thead>\n    <tr style=\"text-align: right;\">\n      <th></th>\n      <th>lecture_id</th>\n      <th>tag</th>\n      <th>part_1</th>\n      <th>part_2</th>\n      <th>part_3</th>\n      <th>part_4</th>\n      <th>part_5</th>\n      <th>part_6</th>\n      <th>part_7</th>\n      <th>type_of_concept</th>\n      <th>type_of_intention</th>\n      <th>type_of_solving_question</th>\n      <th>type_of_starter</th>\n    </tr>\n  </thead>\n  <tbody>\n    <tr>\n      <th>0</th>\n      <td>89</td>\n      <td>24584</td>\n      <td>0</td>\n      <td>0</td>\n      <td>0</td>\n      <td>0</td>\n      <td>1</td>\n      <td>0</td>\n      <td>0</td>\n      <td>1</td>\n      <td>0</td>\n      <td>0</td>\n      <td>0</td>\n    </tr>\n    <tr>\n      <th>1</th>\n      <td>100</td>\n      <td>22243</td>\n      <td>1</td>\n      <td>0</td>\n      <td>0</td>\n      <td>0</td>\n      <td>0</td>\n      <td>0</td>\n      <td>0</td>\n      <td>1</td>\n      <td>0</td>\n      <td>0</td>\n      <td>0</td>\n    </tr>\n    <tr>\n      <th>2</th>\n      <td>185</td>\n      <td>7035</td>\n      <td>0</td>\n      <td>0</td>\n      <td>0</td>\n      <td>0</td>\n      <td>0</td>\n      <td>1</td>\n      <td>0</td>\n      <td>1</td>\n      <td>0</td>\n      <td>0</td>\n      <td>0</td>\n    </tr>\n    <tr>\n      <th>3</th>\n      <td>192</td>\n      <td>31458</td>\n      <td>0</td>\n      <td>0</td>\n      <td>0</td>\n      <td>0</td>\n      <td>1</td>\n      <td>0</td>\n      <td>0</td>\n      <td>0</td>\n      <td>0</td>\n      <td>1</td>\n      <td>0</td>\n    </tr>\n    <tr>\n      <th>4</th>\n      <td>317</td>\n      <td>19653</td>\n      <td>0</td>\n      <td>0</td>\n      <td>0</td>\n      <td>0</td>\n      <td>1</td>\n      <td>0</td>\n      <td>0</td>\n      <td>0</td>\n      <td>0</td>\n      <td>1</td>\n      <td>0</td>\n    </tr>\n    <tr>\n      <th>...</th>\n      <td>...</td>\n      <td>...</td>\n      <td>...</td>\n      <td>...</td>\n      <td>...</td>\n      <td>...</td>\n      <td>...</td>\n      <td>...</td>\n      <td>...</td>\n      <td>...</td>\n      <td>...</td>\n      <td>...</td>\n      <td>...</td>\n    </tr>\n    <tr>\n      <th>413</th>\n      <td>32535</td>\n      <td>20004</td>\n      <td>0</td>\n      <td>0</td>\n      <td>0</td>\n      <td>0</td>\n      <td>1</td>\n      <td>0</td>\n      <td>0</td>\n      <td>0</td>\n      <td>0</td>\n      <td>1</td>\n      <td>0</td>\n    </tr>\n    <tr>\n      <th>414</th>\n      <td>32570</td>\n      <td>4358</td>\n      <td>0</td>\n      <td>0</td>\n      <td>1</td>\n      <td>0</td>\n      <td>0</td>\n      <td>0</td>\n      <td>0</td>\n      <td>0</td>\n      <td>0</td>\n      <td>1</td>\n      <td>0</td>\n    </tr>\n    <tr>\n      <th>415</th>\n      <td>32604</td>\n      <td>9093</td>\n      <td>0</td>\n      <td>0</td>\n      <td>0</td>\n      <td>0</td>\n      <td>0</td>\n      <td>1</td>\n      <td>0</td>\n      <td>1</td>\n      <td>0</td>\n      <td>0</td>\n      <td>0</td>\n    </tr>\n    <tr>\n      <th>416</th>\n      <td>32625</td>\n      <td>23993</td>\n      <td>0</td>\n      <td>1</td>\n      <td>0</td>\n      <td>0</td>\n      <td>0</td>\n      <td>0</td>\n      <td>0</td>\n      <td>1</td>\n      <td>0</td>\n      <td>0</td>\n      <td>0</td>\n    </tr>\n    <tr>\n      <th>417</th>\n      <td>32736</td>\n      <td>25432</td>\n      <td>0</td>\n      <td>0</td>\n      <td>1</td>\n      <td>0</td>\n      <td>0</td>\n      <td>0</td>\n      <td>0</td>\n      <td>1</td>\n      <td>0</td>\n      <td>0</td>\n      <td>0</td>\n    </tr>\n  </tbody>\n</table>\n<p>418 rows × 13 columns</p>\n</div>"
     },
     "metadata": {},
     "execution_count": 10
    }
   ],
   "source": [
    "lectures_df"
   ]
  },
  {
   "cell_type": "code",
   "execution_count": 11,
   "metadata": {},
   "outputs": [],
   "source": [
    "train_lectures = train_df[train_df.content_type_id == True].merge(lectures_df, left_on='content_id', right_on='lecture_id', how='left')"
   ]
  },
  {
   "cell_type": "code",
   "execution_count": 12,
   "metadata": {},
   "outputs": [
    {
     "output_type": "execute_result",
     "data": {
      "text/plain": [
       "          timestamp     user_id  content_id  content_type_id  \\\n",
       "0            653762        2746        6808             True   \n",
       "1          10183847        5382       16736             True   \n",
       "2        1424348597        5382       30207             True   \n",
       "3        1425557777        5382       18545             True   \n",
       "4         405813029        8623       10540             True   \n",
       "...             ...         ...         ...              ...   \n",
       "1959027   132157858  2147482216       14325             True   \n",
       "1959028  1073593458  2147482216       21887             True   \n",
       "1959029  1240316256  2147482216        6808             True   \n",
       "1959030  1240470616  2147482216       27699             True   \n",
       "1959031  1240524060  2147482216        5752             True   \n",
       "\n",
       "         task_container_id  answered_correctly  prior_question_elapsed_time  \\\n",
       "0                       14                  -1                          NaN   \n",
       "1                       21                  -1                          NaN   \n",
       "2                      104                  -1                          NaN   \n",
       "3                      121                  -1                          NaN   \n",
       "4                       59                  -1                          NaN   \n",
       "...                    ...                 ...                          ...   \n",
       "1959027                 38                  -1                          NaN   \n",
       "1959028                170                  -1                          NaN   \n",
       "1959029                193                  -1                          NaN   \n",
       "1959030                195                  -1                          NaN   \n",
       "1959031                197                  -1                          NaN   \n",
       "\n",
       "        prior_question_had_explanation  lecture_id    tag  ...  part_2  \\\n",
       "0                                False        6808  21858  ...       1   \n",
       "1                                False       16736   1278  ...       0   \n",
       "2                                False       30207   9727  ...       0   \n",
       "3                                False       18545  25943  ...       0   \n",
       "4                                False       10540  22856  ...       0   \n",
       "...                                ...         ...    ...  ...     ...   \n",
       "1959027                          False       14325  32082  ...       1   \n",
       "1959028                          False       21887  23274  ...       1   \n",
       "1959029                          False        6808  21858  ...       1   \n",
       "1959030                          False       27699  21858  ...       1   \n",
       "1959031                          False        5752  14048  ...       1   \n",
       "\n",
       "         part_3  part_4  part_5  part_6  part_7  type_of_concept  \\\n",
       "0             0       0       0       0       0                0   \n",
       "1             0       0       0       0       0                1   \n",
       "2             0       0       1       0       0                1   \n",
       "3             0       0       1       0       0                1   \n",
       "4             0       0       0       0       0                1   \n",
       "...         ...     ...     ...     ...     ...              ...   \n",
       "1959027       0       0       0       0       0                0   \n",
       "1959028       0       0       0       0       0                1   \n",
       "1959029       0       0       0       0       0                0   \n",
       "1959030       0       0       0       0       0                0   \n",
       "1959031       0       0       0       0       0                0   \n",
       "\n",
       "         type_of_intention  type_of_solving_question  type_of_starter  \n",
       "0                        1                         0                0  \n",
       "1                        0                         0                0  \n",
       "2                        0                         0                0  \n",
       "3                        0                         0                0  \n",
       "4                        0                         0                0  \n",
       "...                    ...                       ...              ...  \n",
       "1959027                  1                         0                0  \n",
       "1959028                  0                         0                0  \n",
       "1959029                  1                         0                0  \n",
       "1959030                  1                         0                0  \n",
       "1959031                  1                         0                0  \n",
       "\n",
       "[1959032 rows x 21 columns]"
      ],
      "text/html": "<div>\n<style scoped>\n    .dataframe tbody tr th:only-of-type {\n        vertical-align: middle;\n    }\n\n    .dataframe tbody tr th {\n        vertical-align: top;\n    }\n\n    .dataframe thead th {\n        text-align: right;\n    }\n</style>\n<table border=\"1\" class=\"dataframe\">\n  <thead>\n    <tr style=\"text-align: right;\">\n      <th></th>\n      <th>timestamp</th>\n      <th>user_id</th>\n      <th>content_id</th>\n      <th>content_type_id</th>\n      <th>task_container_id</th>\n      <th>answered_correctly</th>\n      <th>prior_question_elapsed_time</th>\n      <th>prior_question_had_explanation</th>\n      <th>lecture_id</th>\n      <th>tag</th>\n      <th>...</th>\n      <th>part_2</th>\n      <th>part_3</th>\n      <th>part_4</th>\n      <th>part_5</th>\n      <th>part_6</th>\n      <th>part_7</th>\n      <th>type_of_concept</th>\n      <th>type_of_intention</th>\n      <th>type_of_solving_question</th>\n      <th>type_of_starter</th>\n    </tr>\n  </thead>\n  <tbody>\n    <tr>\n      <th>0</th>\n      <td>653762</td>\n      <td>2746</td>\n      <td>6808</td>\n      <td>True</td>\n      <td>14</td>\n      <td>-1</td>\n      <td>NaN</td>\n      <td>False</td>\n      <td>6808</td>\n      <td>21858</td>\n      <td>...</td>\n      <td>1</td>\n      <td>0</td>\n      <td>0</td>\n      <td>0</td>\n      <td>0</td>\n      <td>0</td>\n      <td>0</td>\n      <td>1</td>\n      <td>0</td>\n      <td>0</td>\n    </tr>\n    <tr>\n      <th>1</th>\n      <td>10183847</td>\n      <td>5382</td>\n      <td>16736</td>\n      <td>True</td>\n      <td>21</td>\n      <td>-1</td>\n      <td>NaN</td>\n      <td>False</td>\n      <td>16736</td>\n      <td>1278</td>\n      <td>...</td>\n      <td>0</td>\n      <td>0</td>\n      <td>0</td>\n      <td>0</td>\n      <td>0</td>\n      <td>0</td>\n      <td>1</td>\n      <td>0</td>\n      <td>0</td>\n      <td>0</td>\n    </tr>\n    <tr>\n      <th>2</th>\n      <td>1424348597</td>\n      <td>5382</td>\n      <td>30207</td>\n      <td>True</td>\n      <td>104</td>\n      <td>-1</td>\n      <td>NaN</td>\n      <td>False</td>\n      <td>30207</td>\n      <td>9727</td>\n      <td>...</td>\n      <td>0</td>\n      <td>0</td>\n      <td>0</td>\n      <td>1</td>\n      <td>0</td>\n      <td>0</td>\n      <td>1</td>\n      <td>0</td>\n      <td>0</td>\n      <td>0</td>\n    </tr>\n    <tr>\n      <th>3</th>\n      <td>1425557777</td>\n      <td>5382</td>\n      <td>18545</td>\n      <td>True</td>\n      <td>121</td>\n      <td>-1</td>\n      <td>NaN</td>\n      <td>False</td>\n      <td>18545</td>\n      <td>25943</td>\n      <td>...</td>\n      <td>0</td>\n      <td>0</td>\n      <td>0</td>\n      <td>1</td>\n      <td>0</td>\n      <td>0</td>\n      <td>1</td>\n      <td>0</td>\n      <td>0</td>\n      <td>0</td>\n    </tr>\n    <tr>\n      <th>4</th>\n      <td>405813029</td>\n      <td>8623</td>\n      <td>10540</td>\n      <td>True</td>\n      <td>59</td>\n      <td>-1</td>\n      <td>NaN</td>\n      <td>False</td>\n      <td>10540</td>\n      <td>22856</td>\n      <td>...</td>\n      <td>0</td>\n      <td>0</td>\n      <td>0</td>\n      <td>0</td>\n      <td>0</td>\n      <td>0</td>\n      <td>1</td>\n      <td>0</td>\n      <td>0</td>\n      <td>0</td>\n    </tr>\n    <tr>\n      <th>...</th>\n      <td>...</td>\n      <td>...</td>\n      <td>...</td>\n      <td>...</td>\n      <td>...</td>\n      <td>...</td>\n      <td>...</td>\n      <td>...</td>\n      <td>...</td>\n      <td>...</td>\n      <td>...</td>\n      <td>...</td>\n      <td>...</td>\n      <td>...</td>\n      <td>...</td>\n      <td>...</td>\n      <td>...</td>\n      <td>...</td>\n      <td>...</td>\n      <td>...</td>\n      <td>...</td>\n    </tr>\n    <tr>\n      <th>1959027</th>\n      <td>132157858</td>\n      <td>2147482216</td>\n      <td>14325</td>\n      <td>True</td>\n      <td>38</td>\n      <td>-1</td>\n      <td>NaN</td>\n      <td>False</td>\n      <td>14325</td>\n      <td>32082</td>\n      <td>...</td>\n      <td>1</td>\n      <td>0</td>\n      <td>0</td>\n      <td>0</td>\n      <td>0</td>\n      <td>0</td>\n      <td>0</td>\n      <td>1</td>\n      <td>0</td>\n      <td>0</td>\n    </tr>\n    <tr>\n      <th>1959028</th>\n      <td>1073593458</td>\n      <td>2147482216</td>\n      <td>21887</td>\n      <td>True</td>\n      <td>170</td>\n      <td>-1</td>\n      <td>NaN</td>\n      <td>False</td>\n      <td>21887</td>\n      <td>23274</td>\n      <td>...</td>\n      <td>1</td>\n      <td>0</td>\n      <td>0</td>\n      <td>0</td>\n      <td>0</td>\n      <td>0</td>\n      <td>1</td>\n      <td>0</td>\n      <td>0</td>\n      <td>0</td>\n    </tr>\n    <tr>\n      <th>1959029</th>\n      <td>1240316256</td>\n      <td>2147482216</td>\n      <td>6808</td>\n      <td>True</td>\n      <td>193</td>\n      <td>-1</td>\n      <td>NaN</td>\n      <td>False</td>\n      <td>6808</td>\n      <td>21858</td>\n      <td>...</td>\n      <td>1</td>\n      <td>0</td>\n      <td>0</td>\n      <td>0</td>\n      <td>0</td>\n      <td>0</td>\n      <td>0</td>\n      <td>1</td>\n      <td>0</td>\n      <td>0</td>\n    </tr>\n    <tr>\n      <th>1959030</th>\n      <td>1240470616</td>\n      <td>2147482216</td>\n      <td>27699</td>\n      <td>True</td>\n      <td>195</td>\n      <td>-1</td>\n      <td>NaN</td>\n      <td>False</td>\n      <td>27699</td>\n      <td>21858</td>\n      <td>...</td>\n      <td>1</td>\n      <td>0</td>\n      <td>0</td>\n      <td>0</td>\n      <td>0</td>\n      <td>0</td>\n      <td>0</td>\n      <td>1</td>\n      <td>0</td>\n      <td>0</td>\n    </tr>\n    <tr>\n      <th>1959031</th>\n      <td>1240524060</td>\n      <td>2147482216</td>\n      <td>5752</td>\n      <td>True</td>\n      <td>197</td>\n      <td>-1</td>\n      <td>NaN</td>\n      <td>False</td>\n      <td>5752</td>\n      <td>14048</td>\n      <td>...</td>\n      <td>1</td>\n      <td>0</td>\n      <td>0</td>\n      <td>0</td>\n      <td>0</td>\n      <td>0</td>\n      <td>0</td>\n      <td>1</td>\n      <td>0</td>\n      <td>0</td>\n    </tr>\n  </tbody>\n</table>\n<p>1959032 rows × 21 columns</p>\n</div>"
     },
     "metadata": {},
     "execution_count": 12
    }
   ],
   "source": [
    "train_lectures"
   ]
  },
  {
   "cell_type": "code",
   "execution_count": 13,
   "metadata": {},
   "outputs": [],
   "source": [
    "user_lecture_stats_part = train_lectures.groupby('user_id',as_index = False)[part_lectures_columns + types_of_lectures_columns].sum()"
   ]
  },
  {
   "cell_type": "code",
   "execution_count": 14,
   "metadata": {},
   "outputs": [
    {
     "output_type": "execute_result",
     "data": {
      "text/plain": [
       "           user_id  part_1  part_2  part_3  part_4  part_5  part_6  part_7  \\\n",
       "0             2746       0       1       0       0       0       0       0   \n",
       "1             5382       1       0       0       0       2       0       0   \n",
       "2             8623       2       1       0       0       0       0       0   \n",
       "3            12741       0       0       0       3       0       1       2   \n",
       "4            13134       1       3       0       0       3       0       0   \n",
       "...            ...     ...     ...     ...     ...     ...     ...     ...   \n",
       "149601  2147419988       4       0       1       0      18      21       0   \n",
       "149602  2147469944       1       0       0       1       1       0       0   \n",
       "149603  2147470770       0       0       0       0       2       0       0   \n",
       "149604  2147470777       0       0       0       3       3       0       0   \n",
       "149605  2147482216       0       5       0       0       0       0       0   \n",
       "\n",
       "        type_of_concept  type_of_intention  type_of_solving_question  \\\n",
       "0                     0                  1                         0   \n",
       "1                     3                  0                         0   \n",
       "2                     3                  0                         0   \n",
       "3                     4                  0                         2   \n",
       "4                     6                  1                         0   \n",
       "...                 ...                ...                       ...   \n",
       "149601               27                  0                        17   \n",
       "149602                3                  0                         0   \n",
       "149603                2                  0                         0   \n",
       "149604                6                  0                         0   \n",
       "149605                1                  4                         0   \n",
       "\n",
       "        type_of_starter  \n",
       "0                     0  \n",
       "1                     0  \n",
       "2                     0  \n",
       "3                     0  \n",
       "4                     0  \n",
       "...                 ...  \n",
       "149601                0  \n",
       "149602                0  \n",
       "149603                0  \n",
       "149604                0  \n",
       "149605                0  \n",
       "\n",
       "[149606 rows x 12 columns]"
      ],
      "text/html": "<div>\n<style scoped>\n    .dataframe tbody tr th:only-of-type {\n        vertical-align: middle;\n    }\n\n    .dataframe tbody tr th {\n        vertical-align: top;\n    }\n\n    .dataframe thead th {\n        text-align: right;\n    }\n</style>\n<table border=\"1\" class=\"dataframe\">\n  <thead>\n    <tr style=\"text-align: right;\">\n      <th></th>\n      <th>user_id</th>\n      <th>part_1</th>\n      <th>part_2</th>\n      <th>part_3</th>\n      <th>part_4</th>\n      <th>part_5</th>\n      <th>part_6</th>\n      <th>part_7</th>\n      <th>type_of_concept</th>\n      <th>type_of_intention</th>\n      <th>type_of_solving_question</th>\n      <th>type_of_starter</th>\n    </tr>\n  </thead>\n  <tbody>\n    <tr>\n      <th>0</th>\n      <td>2746</td>\n      <td>0</td>\n      <td>1</td>\n      <td>0</td>\n      <td>0</td>\n      <td>0</td>\n      <td>0</td>\n      <td>0</td>\n      <td>0</td>\n      <td>1</td>\n      <td>0</td>\n      <td>0</td>\n    </tr>\n    <tr>\n      <th>1</th>\n      <td>5382</td>\n      <td>1</td>\n      <td>0</td>\n      <td>0</td>\n      <td>0</td>\n      <td>2</td>\n      <td>0</td>\n      <td>0</td>\n      <td>3</td>\n      <td>0</td>\n      <td>0</td>\n      <td>0</td>\n    </tr>\n    <tr>\n      <th>2</th>\n      <td>8623</td>\n      <td>2</td>\n      <td>1</td>\n      <td>0</td>\n      <td>0</td>\n      <td>0</td>\n      <td>0</td>\n      <td>0</td>\n      <td>3</td>\n      <td>0</td>\n      <td>0</td>\n      <td>0</td>\n    </tr>\n    <tr>\n      <th>3</th>\n      <td>12741</td>\n      <td>0</td>\n      <td>0</td>\n      <td>0</td>\n      <td>3</td>\n      <td>0</td>\n      <td>1</td>\n      <td>2</td>\n      <td>4</td>\n      <td>0</td>\n      <td>2</td>\n      <td>0</td>\n    </tr>\n    <tr>\n      <th>4</th>\n      <td>13134</td>\n      <td>1</td>\n      <td>3</td>\n      <td>0</td>\n      <td>0</td>\n      <td>3</td>\n      <td>0</td>\n      <td>0</td>\n      <td>6</td>\n      <td>1</td>\n      <td>0</td>\n      <td>0</td>\n    </tr>\n    <tr>\n      <th>...</th>\n      <td>...</td>\n      <td>...</td>\n      <td>...</td>\n      <td>...</td>\n      <td>...</td>\n      <td>...</td>\n      <td>...</td>\n      <td>...</td>\n      <td>...</td>\n      <td>...</td>\n      <td>...</td>\n      <td>...</td>\n    </tr>\n    <tr>\n      <th>149601</th>\n      <td>2147419988</td>\n      <td>4</td>\n      <td>0</td>\n      <td>1</td>\n      <td>0</td>\n      <td>18</td>\n      <td>21</td>\n      <td>0</td>\n      <td>27</td>\n      <td>0</td>\n      <td>17</td>\n      <td>0</td>\n    </tr>\n    <tr>\n      <th>149602</th>\n      <td>2147469944</td>\n      <td>1</td>\n      <td>0</td>\n      <td>0</td>\n      <td>1</td>\n      <td>1</td>\n      <td>0</td>\n      <td>0</td>\n      <td>3</td>\n      <td>0</td>\n      <td>0</td>\n      <td>0</td>\n    </tr>\n    <tr>\n      <th>149603</th>\n      <td>2147470770</td>\n      <td>0</td>\n      <td>0</td>\n      <td>0</td>\n      <td>0</td>\n      <td>2</td>\n      <td>0</td>\n      <td>0</td>\n      <td>2</td>\n      <td>0</td>\n      <td>0</td>\n      <td>0</td>\n    </tr>\n    <tr>\n      <th>149604</th>\n      <td>2147470777</td>\n      <td>0</td>\n      <td>0</td>\n      <td>0</td>\n      <td>3</td>\n      <td>3</td>\n      <td>0</td>\n      <td>0</td>\n      <td>6</td>\n      <td>0</td>\n      <td>0</td>\n      <td>0</td>\n    </tr>\n    <tr>\n      <th>149605</th>\n      <td>2147482216</td>\n      <td>0</td>\n      <td>5</td>\n      <td>0</td>\n      <td>0</td>\n      <td>0</td>\n      <td>0</td>\n      <td>0</td>\n      <td>1</td>\n      <td>4</td>\n      <td>0</td>\n      <td>0</td>\n    </tr>\n  </tbody>\n</table>\n<p>149606 rows × 12 columns</p>\n</div>"
     },
     "metadata": {},
     "execution_count": 14
    }
   ],
   "source": [
    "user_lecture_stats_part"
   ]
  },
  {
   "cell_type": "code",
   "execution_count": 15,
   "metadata": {},
   "outputs": [],
   "source": [
    "lecturedata_types_dict = {   \n",
    "    'user_id': 'int32', \n",
    "    'part_1': 'int8',\n",
    "    'part_2': 'int8',\n",
    "    'part_3': 'int8',\n",
    "    'part_4': 'int8',\n",
    "    'part_5': 'int8',\n",
    "    'part_6': 'int8',\n",
    "    'part_7': 'int8',\n",
    "    'type_of_concept': 'int8',\n",
    "    'type_of_intention': 'int8',\n",
    "    'type_of_solving_question': 'int8',\n",
    "    'type_of_starter': 'int8'\n",
    "}\n",
    "user_lecture_stats_part = user_lecture_stats_part.astype(lecturedata_types_dict)\n"
   ]
  },
  {
   "cell_type": "code",
   "execution_count": 16,
   "metadata": {},
   "outputs": [],
   "source": [
    "for column in user_lecture_stats_part.columns:\n",
    "    #bool_column = column + '_boolean'\n",
    "    if(column !='user_id'):\n",
    "        user_lecture_stats_part[column] = (user_lecture_stats_part[column] > 0).astype('int8')"
   ]
  },
  {
   "cell_type": "code",
   "execution_count": 17,
   "metadata": {},
   "outputs": [
    {
     "output_type": "execute_result",
     "data": {
      "text/plain": [
       "user_id                     int32\n",
       "part_1                       int8\n",
       "part_2                       int8\n",
       "part_3                       int8\n",
       "part_4                       int8\n",
       "part_5                       int8\n",
       "part_6                       int8\n",
       "part_7                       int8\n",
       "type_of_concept              int8\n",
       "type_of_intention            int8\n",
       "type_of_solving_question     int8\n",
       "type_of_starter              int8\n",
       "dtype: object"
      ]
     },
     "metadata": {},
     "execution_count": 17
    }
   ],
   "source": [
    "user_lecture_stats_part.dtypes"
   ]
  },
  {
   "cell_type": "code",
   "execution_count": 18,
   "metadata": {},
   "outputs": [],
   "source": [
    "del(train_lectures)"
   ]
  },
  {
   "cell_type": "code",
   "execution_count": 19,
   "metadata": {},
   "outputs": [],
   "source": [
    "cum = train_df.groupby('user_id')['content_type_id'].agg(['cumsum', 'cumcount'])\n",
    "train_df['user_lecture_cumsum'] = cum['cumsum'] \n",
    "train_df['user_lecture_lv'] = cum['cumsum'] / cum['cumcount']\n",
    "\n",
    "train_df.user_lecture_lv=train_df.user_lecture_lv.astype('float16')\n",
    "train_df.user_lecture_cumsum=train_df.user_lecture_cumsum.astype('int8')\n",
    "user_lecture_agg = train_df.groupby('user_id')['content_type_id'].agg(['sum', 'count'])"
   ]
  },
  {
   "cell_type": "code",
   "execution_count": 20,
   "metadata": {},
   "outputs": [],
   "source": [
    "train_df['prior_question_had_explanation'].fillna(False, inplace=True)\n",
    "train_df = train_df.astype(data_types_dict)\n",
    "train_df = train_df[train_df[target] != -1].reset_index(drop=True)\n",
    "prior_question_elapsed_time_mean=train_df['prior_question_elapsed_time'].mean()\n",
    "train_df['prior_question_elapsed_time'].fillna(prior_question_elapsed_time_mean, inplace=True)"
   ]
  },
  {
   "cell_type": "code",
   "execution_count": 21,
   "metadata": {},
   "outputs": [],
   "source": [
    "max_timestamp_u = train_df[['user_id','timestamp']].groupby(['user_id']).agg(['max']).reset_index()\n",
    "#max_timestamp_u = train_df[['user_id','timestamp']].groupby(['user_id']).agg(['max'])\n",
    "max_timestamp_u.columns = ['user_id', 'max_time_stamp']"
   ]
  },
  {
   "cell_type": "code",
   "execution_count": 22,
   "metadata": {},
   "outputs": [
    {
     "output_type": "execute_result",
     "data": {
      "text/plain": [
       "           user_id  max_time_stamp\n",
       "0              115       668090043\n",
       "1              124          571323\n",
       "2             2746          835457\n",
       "3             5382      2101551456\n",
       "4             8623       862338736\n",
       "...            ...             ...\n",
       "393651  2147470770      2832089444\n",
       "393652  2147470777     13332685203\n",
       "393653  2147481750        55954768\n",
       "393654  2147482216      1470594073\n",
       "393655  2147482888       428692118\n",
       "\n",
       "[393656 rows x 2 columns]"
      ],
      "text/html": "<div>\n<style scoped>\n    .dataframe tbody tr th:only-of-type {\n        vertical-align: middle;\n    }\n\n    .dataframe tbody tr th {\n        vertical-align: top;\n    }\n\n    .dataframe thead th {\n        text-align: right;\n    }\n</style>\n<table border=\"1\" class=\"dataframe\">\n  <thead>\n    <tr style=\"text-align: right;\">\n      <th></th>\n      <th>user_id</th>\n      <th>max_time_stamp</th>\n    </tr>\n  </thead>\n  <tbody>\n    <tr>\n      <th>0</th>\n      <td>115</td>\n      <td>668090043</td>\n    </tr>\n    <tr>\n      <th>1</th>\n      <td>124</td>\n      <td>571323</td>\n    </tr>\n    <tr>\n      <th>2</th>\n      <td>2746</td>\n      <td>835457</td>\n    </tr>\n    <tr>\n      <th>3</th>\n      <td>5382</td>\n      <td>2101551456</td>\n    </tr>\n    <tr>\n      <th>4</th>\n      <td>8623</td>\n      <td>862338736</td>\n    </tr>\n    <tr>\n      <th>...</th>\n      <td>...</td>\n      <td>...</td>\n    </tr>\n    <tr>\n      <th>393651</th>\n      <td>2147470770</td>\n      <td>2832089444</td>\n    </tr>\n    <tr>\n      <th>393652</th>\n      <td>2147470777</td>\n      <td>13332685203</td>\n    </tr>\n    <tr>\n      <th>393653</th>\n      <td>2147481750</td>\n      <td>55954768</td>\n    </tr>\n    <tr>\n      <th>393654</th>\n      <td>2147482216</td>\n      <td>1470594073</td>\n    </tr>\n    <tr>\n      <th>393655</th>\n      <td>2147482888</td>\n      <td>428692118</td>\n    </tr>\n  </tbody>\n</table>\n<p>393656 rows × 2 columns</p>\n</div>"
     },
     "metadata": {},
     "execution_count": 22
    }
   ],
   "source": [
    "max_timestamp_u"
   ]
  },
  {
   "cell_type": "code",
   "execution_count": 23,
   "metadata": {},
   "outputs": [],
   "source": [
    "train_df['lagtime'] = train_df.groupby('user_id')['timestamp'].shift()\n",
    "train_df['lagtime']=train_df['timestamp']-train_df['lagtime']\n",
    "train_df['lagtime'].fillna(0, inplace=True)\n",
    "train_df.lagtime=train_df.lagtime.astype('int32')\n",
    "#train_df.drop(columns=['timestamp'], inplace=True)"
   ]
  },
  {
   "cell_type": "code",
   "execution_count": 24,
   "metadata": {},
   "outputs": [
    {
     "output_type": "execute_result",
     "data": {
      "text/plain": [
       "          timestamp     user_id  content_id  content_type_id  \\\n",
       "0                 0         115        5692                0   \n",
       "1             56943         115        5716                0   \n",
       "2            118363         115         128                0   \n",
       "3            131167         115        7860                0   \n",
       "4            137965         115        7922                0   \n",
       "...             ...         ...         ...              ...   \n",
       "99271295  428564420  2147482888        3586                0   \n",
       "99271296  428585000  2147482888        6341                0   \n",
       "99271297  428613475  2147482888        4212                0   \n",
       "99271298  428649406  2147482888        6343                0   \n",
       "99271299  428692118  2147482888        7995                0   \n",
       "\n",
       "          task_container_id  answered_correctly  prior_question_elapsed_time  \\\n",
       "0                         1                   1                 25423.853516   \n",
       "1                         2                   1                 37000.000000   \n",
       "2                         0                   1                 55000.000000   \n",
       "3                         3                   1                 19000.000000   \n",
       "4                         4                   1                 11000.000000   \n",
       "...                     ...                 ...                          ...   \n",
       "99271295                 22                   1                 18000.000000   \n",
       "99271296                 23                   1                 14000.000000   \n",
       "99271297                 24                   1                 14000.000000   \n",
       "99271298                 25                   0                 22000.000000   \n",
       "99271299                 26                   1                 29000.000000   \n",
       "\n",
       "          prior_question_had_explanation  user_lecture_cumsum  \\\n",
       "0                                  False                    0   \n",
       "1                                  False                    0   \n",
       "2                                  False                    0   \n",
       "3                                  False                    0   \n",
       "4                                  False                    0   \n",
       "...                                  ...                  ...   \n",
       "99271295                            True                    0   \n",
       "99271296                            True                    0   \n",
       "99271297                            True                    0   \n",
       "99271298                            True                    0   \n",
       "99271299                            True                    0   \n",
       "\n",
       "          user_lecture_lv  lagtime  \n",
       "0                     NaN        0  \n",
       "1                     0.0    56943  \n",
       "2                     0.0    61420  \n",
       "3                     0.0    12804  \n",
       "4                     0.0     6798  \n",
       "...                   ...      ...  \n",
       "99271295              0.0    21548  \n",
       "99271296              0.0    20580  \n",
       "99271297              0.0    28475  \n",
       "99271298              0.0    35931  \n",
       "99271299              0.0    42712  \n",
       "\n",
       "[99271300 rows x 11 columns]"
      ],
      "text/html": "<div>\n<style scoped>\n    .dataframe tbody tr th:only-of-type {\n        vertical-align: middle;\n    }\n\n    .dataframe tbody tr th {\n        vertical-align: top;\n    }\n\n    .dataframe thead th {\n        text-align: right;\n    }\n</style>\n<table border=\"1\" class=\"dataframe\">\n  <thead>\n    <tr style=\"text-align: right;\">\n      <th></th>\n      <th>timestamp</th>\n      <th>user_id</th>\n      <th>content_id</th>\n      <th>content_type_id</th>\n      <th>task_container_id</th>\n      <th>answered_correctly</th>\n      <th>prior_question_elapsed_time</th>\n      <th>prior_question_had_explanation</th>\n      <th>user_lecture_cumsum</th>\n      <th>user_lecture_lv</th>\n      <th>lagtime</th>\n    </tr>\n  </thead>\n  <tbody>\n    <tr>\n      <th>0</th>\n      <td>0</td>\n      <td>115</td>\n      <td>5692</td>\n      <td>0</td>\n      <td>1</td>\n      <td>1</td>\n      <td>25423.853516</td>\n      <td>False</td>\n      <td>0</td>\n      <td>NaN</td>\n      <td>0</td>\n    </tr>\n    <tr>\n      <th>1</th>\n      <td>56943</td>\n      <td>115</td>\n      <td>5716</td>\n      <td>0</td>\n      <td>2</td>\n      <td>1</td>\n      <td>37000.000000</td>\n      <td>False</td>\n      <td>0</td>\n      <td>0.0</td>\n      <td>56943</td>\n    </tr>\n    <tr>\n      <th>2</th>\n      <td>118363</td>\n      <td>115</td>\n      <td>128</td>\n      <td>0</td>\n      <td>0</td>\n      <td>1</td>\n      <td>55000.000000</td>\n      <td>False</td>\n      <td>0</td>\n      <td>0.0</td>\n      <td>61420</td>\n    </tr>\n    <tr>\n      <th>3</th>\n      <td>131167</td>\n      <td>115</td>\n      <td>7860</td>\n      <td>0</td>\n      <td>3</td>\n      <td>1</td>\n      <td>19000.000000</td>\n      <td>False</td>\n      <td>0</td>\n      <td>0.0</td>\n      <td>12804</td>\n    </tr>\n    <tr>\n      <th>4</th>\n      <td>137965</td>\n      <td>115</td>\n      <td>7922</td>\n      <td>0</td>\n      <td>4</td>\n      <td>1</td>\n      <td>11000.000000</td>\n      <td>False</td>\n      <td>0</td>\n      <td>0.0</td>\n      <td>6798</td>\n    </tr>\n    <tr>\n      <th>...</th>\n      <td>...</td>\n      <td>...</td>\n      <td>...</td>\n      <td>...</td>\n      <td>...</td>\n      <td>...</td>\n      <td>...</td>\n      <td>...</td>\n      <td>...</td>\n      <td>...</td>\n      <td>...</td>\n    </tr>\n    <tr>\n      <th>99271295</th>\n      <td>428564420</td>\n      <td>2147482888</td>\n      <td>3586</td>\n      <td>0</td>\n      <td>22</td>\n      <td>1</td>\n      <td>18000.000000</td>\n      <td>True</td>\n      <td>0</td>\n      <td>0.0</td>\n      <td>21548</td>\n    </tr>\n    <tr>\n      <th>99271296</th>\n      <td>428585000</td>\n      <td>2147482888</td>\n      <td>6341</td>\n      <td>0</td>\n      <td>23</td>\n      <td>1</td>\n      <td>14000.000000</td>\n      <td>True</td>\n      <td>0</td>\n      <td>0.0</td>\n      <td>20580</td>\n    </tr>\n    <tr>\n      <th>99271297</th>\n      <td>428613475</td>\n      <td>2147482888</td>\n      <td>4212</td>\n      <td>0</td>\n      <td>24</td>\n      <td>1</td>\n      <td>14000.000000</td>\n      <td>True</td>\n      <td>0</td>\n      <td>0.0</td>\n      <td>28475</td>\n    </tr>\n    <tr>\n      <th>99271298</th>\n      <td>428649406</td>\n      <td>2147482888</td>\n      <td>6343</td>\n      <td>0</td>\n      <td>25</td>\n      <td>0</td>\n      <td>22000.000000</td>\n      <td>True</td>\n      <td>0</td>\n      <td>0.0</td>\n      <td>35931</td>\n    </tr>\n    <tr>\n      <th>99271299</th>\n      <td>428692118</td>\n      <td>2147482888</td>\n      <td>7995</td>\n      <td>0</td>\n      <td>26</td>\n      <td>1</td>\n      <td>29000.000000</td>\n      <td>True</td>\n      <td>0</td>\n      <td>0.0</td>\n      <td>42712</td>\n    </tr>\n  </tbody>\n</table>\n<p>99271300 rows × 11 columns</p>\n</div>"
     },
     "metadata": {},
     "execution_count": 24
    }
   ],
   "source": [
    "train_df"
   ]
  },
  {
   "cell_type": "code",
   "execution_count": 25,
   "metadata": {},
   "outputs": [],
   "source": [
    "lagtime_agg = train_df.groupby('user_id')['lagtime'].agg(['mean'])\n",
    "train_df['lagtime_mean'] = train_df['user_id'].map(lagtime_agg['mean'])\n",
    "train_df.lagtime_mean=train_df.lagtime_mean.astype('int32')\n"
   ]
  },
  {
   "cell_type": "code",
   "execution_count": 26,
   "metadata": {},
   "outputs": [
    {
     "output_type": "execute_result",
     "data": {
      "text/plain": [
       "                    mean\n",
       "user_id                 \n",
       "115         1.452370e+07\n",
       "124         1.904410e+04\n",
       "2746        4.397142e+04\n",
       "5382        1.681241e+07\n",
       "8623        7.911365e+06\n",
       "...                  ...\n",
       "2147470770  1.253137e+07\n",
       "2147470777 -4.508823e+06\n",
       "2147481750  1.119095e+06\n",
       "2147482216  5.347615e+06\n",
       "2147482888  1.587749e+07\n",
       "\n",
       "[393656 rows x 1 columns]"
      ],
      "text/html": "<div>\n<style scoped>\n    .dataframe tbody tr th:only-of-type {\n        vertical-align: middle;\n    }\n\n    .dataframe tbody tr th {\n        vertical-align: top;\n    }\n\n    .dataframe thead th {\n        text-align: right;\n    }\n</style>\n<table border=\"1\" class=\"dataframe\">\n  <thead>\n    <tr style=\"text-align: right;\">\n      <th></th>\n      <th>mean</th>\n    </tr>\n    <tr>\n      <th>user_id</th>\n      <th></th>\n    </tr>\n  </thead>\n  <tbody>\n    <tr>\n      <th>115</th>\n      <td>1.452370e+07</td>\n    </tr>\n    <tr>\n      <th>124</th>\n      <td>1.904410e+04</td>\n    </tr>\n    <tr>\n      <th>2746</th>\n      <td>4.397142e+04</td>\n    </tr>\n    <tr>\n      <th>5382</th>\n      <td>1.681241e+07</td>\n    </tr>\n    <tr>\n      <th>8623</th>\n      <td>7.911365e+06</td>\n    </tr>\n    <tr>\n      <th>...</th>\n      <td>...</td>\n    </tr>\n    <tr>\n      <th>2147470770</th>\n      <td>1.253137e+07</td>\n    </tr>\n    <tr>\n      <th>2147470777</th>\n      <td>-4.508823e+06</td>\n    </tr>\n    <tr>\n      <th>2147481750</th>\n      <td>1.119095e+06</td>\n    </tr>\n    <tr>\n      <th>2147482216</th>\n      <td>5.347615e+06</td>\n    </tr>\n    <tr>\n      <th>2147482888</th>\n      <td>1.587749e+07</td>\n    </tr>\n  </tbody>\n</table>\n<p>393656 rows × 1 columns</p>\n</div>"
     },
     "metadata": {},
     "execution_count": 26
    }
   ],
   "source": [
    "lagtime_agg"
   ]
  },
  {
   "cell_type": "code",
   "execution_count": 27,
   "metadata": {},
   "outputs": [],
   "source": [
    "user_prior_question_elapsed_time = train_df[['user_id','prior_question_elapsed_time']].groupby(['user_id']).tail(1) # tail()がないとpandas object表示のままで 1 は最初の行を抜いている\n",
    "#max_timestamp_u = train_df[['user_id','timestamp']].groupby(['user_id']).agg(['max'])\n",
    "user_prior_question_elapsed_time.columns = ['user_id', 'prior_question_elapsed_time']"
   ]
  },
  {
   "cell_type": "code",
   "execution_count": 28,
   "metadata": {},
   "outputs": [
    {
     "output_type": "execute_result",
     "data": {
      "text/plain": [
       "             user_id  prior_question_elapsed_time\n",
       "45               115                      14333.0\n",
       "75               124                       6500.0\n",
       "94              2746                      20000.0\n",
       "219             5382                      22000.0\n",
       "328             8623                      18000.0\n",
       "...              ...                          ...\n",
       "99270195  2147470770                      27000.0\n",
       "99270947  2147470777                      22666.0\n",
       "99270997  2147481750                      21000.0\n",
       "99271272  2147482216                      14000.0\n",
       "99271299  2147482888                      29000.0\n",
       "\n",
       "[393656 rows x 2 columns]"
      ],
      "text/html": "<div>\n<style scoped>\n    .dataframe tbody tr th:only-of-type {\n        vertical-align: middle;\n    }\n\n    .dataframe tbody tr th {\n        vertical-align: top;\n    }\n\n    .dataframe thead th {\n        text-align: right;\n    }\n</style>\n<table border=\"1\" class=\"dataframe\">\n  <thead>\n    <tr style=\"text-align: right;\">\n      <th></th>\n      <th>user_id</th>\n      <th>prior_question_elapsed_time</th>\n    </tr>\n  </thead>\n  <tbody>\n    <tr>\n      <th>45</th>\n      <td>115</td>\n      <td>14333.0</td>\n    </tr>\n    <tr>\n      <th>75</th>\n      <td>124</td>\n      <td>6500.0</td>\n    </tr>\n    <tr>\n      <th>94</th>\n      <td>2746</td>\n      <td>20000.0</td>\n    </tr>\n    <tr>\n      <th>219</th>\n      <td>5382</td>\n      <td>22000.0</td>\n    </tr>\n    <tr>\n      <th>328</th>\n      <td>8623</td>\n      <td>18000.0</td>\n    </tr>\n    <tr>\n      <th>...</th>\n      <td>...</td>\n      <td>...</td>\n    </tr>\n    <tr>\n      <th>99270195</th>\n      <td>2147470770</td>\n      <td>27000.0</td>\n    </tr>\n    <tr>\n      <th>99270947</th>\n      <td>2147470777</td>\n      <td>22666.0</td>\n    </tr>\n    <tr>\n      <th>99270997</th>\n      <td>2147481750</td>\n      <td>21000.0</td>\n    </tr>\n    <tr>\n      <th>99271272</th>\n      <td>2147482216</td>\n      <td>14000.0</td>\n    </tr>\n    <tr>\n      <th>99271299</th>\n      <td>2147482888</td>\n      <td>29000.0</td>\n    </tr>\n  </tbody>\n</table>\n<p>393656 rows × 2 columns</p>\n</div>"
     },
     "metadata": {},
     "execution_count": 28
    }
   ],
   "source": [
    "user_prior_question_elapsed_time"
   ]
  },
  {
   "cell_type": "code",
   "execution_count": 29,
   "metadata": {},
   "outputs": [],
   "source": [
    "train_df['delta_prior_question_elapsed_time'] = train_df.groupby('user_id')['prior_question_elapsed_time'].shift()\n",
    "train_df['delta_prior_question_elapsed_time']=train_df['prior_question_elapsed_time']-train_df['delta_prior_question_elapsed_time']\n",
    "train_df['delta_prior_question_elapsed_time'].fillna(0, inplace=True)"
   ]
  },
  {
   "cell_type": "code",
   "execution_count": 30,
   "metadata": {},
   "outputs": [
    {
     "output_type": "execute_result",
     "data": {
      "text/plain": [
       "          timestamp     user_id  content_id  content_type_id  \\\n",
       "0                 0         115        5692                0   \n",
       "1             56943         115        5716                0   \n",
       "2            118363         115         128                0   \n",
       "3            131167         115        7860                0   \n",
       "4            137965         115        7922                0   \n",
       "...             ...         ...         ...              ...   \n",
       "99271295  428564420  2147482888        3586                0   \n",
       "99271296  428585000  2147482888        6341                0   \n",
       "99271297  428613475  2147482888        4212                0   \n",
       "99271298  428649406  2147482888        6343                0   \n",
       "99271299  428692118  2147482888        7995                0   \n",
       "\n",
       "          task_container_id  answered_correctly  prior_question_elapsed_time  \\\n",
       "0                         1                   1                 25423.853516   \n",
       "1                         2                   1                 37000.000000   \n",
       "2                         0                   1                 55000.000000   \n",
       "3                         3                   1                 19000.000000   \n",
       "4                         4                   1                 11000.000000   \n",
       "...                     ...                 ...                          ...   \n",
       "99271295                 22                   1                 18000.000000   \n",
       "99271296                 23                   1                 14000.000000   \n",
       "99271297                 24                   1                 14000.000000   \n",
       "99271298                 25                   0                 22000.000000   \n",
       "99271299                 26                   1                 29000.000000   \n",
       "\n",
       "          prior_question_had_explanation  user_lecture_cumsum  \\\n",
       "0                                  False                    0   \n",
       "1                                  False                    0   \n",
       "2                                  False                    0   \n",
       "3                                  False                    0   \n",
       "4                                  False                    0   \n",
       "...                                  ...                  ...   \n",
       "99271295                            True                    0   \n",
       "99271296                            True                    0   \n",
       "99271297                            True                    0   \n",
       "99271298                            True                    0   \n",
       "99271299                            True                    0   \n",
       "\n",
       "          user_lecture_lv  lagtime  lagtime_mean  \\\n",
       "0                     NaN        0      14523696   \n",
       "1                     0.0    56943      14523696   \n",
       "2                     0.0    61420      14523696   \n",
       "3                     0.0    12804      14523696   \n",
       "4                     0.0     6798      14523696   \n",
       "...                   ...      ...           ...   \n",
       "99271295              0.0    21548      15877485   \n",
       "99271296              0.0    20580      15877485   \n",
       "99271297              0.0    28475      15877485   \n",
       "99271298              0.0    35931      15877485   \n",
       "99271299              0.0    42712      15877485   \n",
       "\n",
       "          delta_prior_question_elapsed_time  \n",
       "0                                  0.000000  \n",
       "1                              11576.146484  \n",
       "2                              18000.000000  \n",
       "3                             -36000.000000  \n",
       "4                              -8000.000000  \n",
       "...                                     ...  \n",
       "99271295                      -26000.000000  \n",
       "99271296                       -4000.000000  \n",
       "99271297                           0.000000  \n",
       "99271298                        8000.000000  \n",
       "99271299                        7000.000000  \n",
       "\n",
       "[99271300 rows x 13 columns]"
      ],
      "text/html": "<div>\n<style scoped>\n    .dataframe tbody tr th:only-of-type {\n        vertical-align: middle;\n    }\n\n    .dataframe tbody tr th {\n        vertical-align: top;\n    }\n\n    .dataframe thead th {\n        text-align: right;\n    }\n</style>\n<table border=\"1\" class=\"dataframe\">\n  <thead>\n    <tr style=\"text-align: right;\">\n      <th></th>\n      <th>timestamp</th>\n      <th>user_id</th>\n      <th>content_id</th>\n      <th>content_type_id</th>\n      <th>task_container_id</th>\n      <th>answered_correctly</th>\n      <th>prior_question_elapsed_time</th>\n      <th>prior_question_had_explanation</th>\n      <th>user_lecture_cumsum</th>\n      <th>user_lecture_lv</th>\n      <th>lagtime</th>\n      <th>lagtime_mean</th>\n      <th>delta_prior_question_elapsed_time</th>\n    </tr>\n  </thead>\n  <tbody>\n    <tr>\n      <th>0</th>\n      <td>0</td>\n      <td>115</td>\n      <td>5692</td>\n      <td>0</td>\n      <td>1</td>\n      <td>1</td>\n      <td>25423.853516</td>\n      <td>False</td>\n      <td>0</td>\n      <td>NaN</td>\n      <td>0</td>\n      <td>14523696</td>\n      <td>0.000000</td>\n    </tr>\n    <tr>\n      <th>1</th>\n      <td>56943</td>\n      <td>115</td>\n      <td>5716</td>\n      <td>0</td>\n      <td>2</td>\n      <td>1</td>\n      <td>37000.000000</td>\n      <td>False</td>\n      <td>0</td>\n      <td>0.0</td>\n      <td>56943</td>\n      <td>14523696</td>\n      <td>11576.146484</td>\n    </tr>\n    <tr>\n      <th>2</th>\n      <td>118363</td>\n      <td>115</td>\n      <td>128</td>\n      <td>0</td>\n      <td>0</td>\n      <td>1</td>\n      <td>55000.000000</td>\n      <td>False</td>\n      <td>0</td>\n      <td>0.0</td>\n      <td>61420</td>\n      <td>14523696</td>\n      <td>18000.000000</td>\n    </tr>\n    <tr>\n      <th>3</th>\n      <td>131167</td>\n      <td>115</td>\n      <td>7860</td>\n      <td>0</td>\n      <td>3</td>\n      <td>1</td>\n      <td>19000.000000</td>\n      <td>False</td>\n      <td>0</td>\n      <td>0.0</td>\n      <td>12804</td>\n      <td>14523696</td>\n      <td>-36000.000000</td>\n    </tr>\n    <tr>\n      <th>4</th>\n      <td>137965</td>\n      <td>115</td>\n      <td>7922</td>\n      <td>0</td>\n      <td>4</td>\n      <td>1</td>\n      <td>11000.000000</td>\n      <td>False</td>\n      <td>0</td>\n      <td>0.0</td>\n      <td>6798</td>\n      <td>14523696</td>\n      <td>-8000.000000</td>\n    </tr>\n    <tr>\n      <th>...</th>\n      <td>...</td>\n      <td>...</td>\n      <td>...</td>\n      <td>...</td>\n      <td>...</td>\n      <td>...</td>\n      <td>...</td>\n      <td>...</td>\n      <td>...</td>\n      <td>...</td>\n      <td>...</td>\n      <td>...</td>\n      <td>...</td>\n    </tr>\n    <tr>\n      <th>99271295</th>\n      <td>428564420</td>\n      <td>2147482888</td>\n      <td>3586</td>\n      <td>0</td>\n      <td>22</td>\n      <td>1</td>\n      <td>18000.000000</td>\n      <td>True</td>\n      <td>0</td>\n      <td>0.0</td>\n      <td>21548</td>\n      <td>15877485</td>\n      <td>-26000.000000</td>\n    </tr>\n    <tr>\n      <th>99271296</th>\n      <td>428585000</td>\n      <td>2147482888</td>\n      <td>6341</td>\n      <td>0</td>\n      <td>23</td>\n      <td>1</td>\n      <td>14000.000000</td>\n      <td>True</td>\n      <td>0</td>\n      <td>0.0</td>\n      <td>20580</td>\n      <td>15877485</td>\n      <td>-4000.000000</td>\n    </tr>\n    <tr>\n      <th>99271297</th>\n      <td>428613475</td>\n      <td>2147482888</td>\n      <td>4212</td>\n      <td>0</td>\n      <td>24</td>\n      <td>1</td>\n      <td>14000.000000</td>\n      <td>True</td>\n      <td>0</td>\n      <td>0.0</td>\n      <td>28475</td>\n      <td>15877485</td>\n      <td>0.000000</td>\n    </tr>\n    <tr>\n      <th>99271298</th>\n      <td>428649406</td>\n      <td>2147482888</td>\n      <td>6343</td>\n      <td>0</td>\n      <td>25</td>\n      <td>0</td>\n      <td>22000.000000</td>\n      <td>True</td>\n      <td>0</td>\n      <td>0.0</td>\n      <td>35931</td>\n      <td>15877485</td>\n      <td>8000.000000</td>\n    </tr>\n    <tr>\n      <th>99271299</th>\n      <td>428692118</td>\n      <td>2147482888</td>\n      <td>7995</td>\n      <td>0</td>\n      <td>26</td>\n      <td>1</td>\n      <td>29000.000000</td>\n      <td>True</td>\n      <td>0</td>\n      <td>0.0</td>\n      <td>42712</td>\n      <td>15877485</td>\n      <td>7000.000000</td>\n    </tr>\n  </tbody>\n</table>\n<p>99271300 rows × 13 columns</p>\n</div>"
     },
     "metadata": {},
     "execution_count": 30
    }
   ],
   "source": [
    "train_df"
   ]
  },
  {
   "cell_type": "code",
   "execution_count": 31,
   "metadata": {},
   "outputs": [],
   "source": [
    "train_df.delta_prior_question_elapsed_time=train_df.delta_prior_question_elapsed_time.astype('int32')"
   ]
  },
  {
   "cell_type": "code",
   "execution_count": 32,
   "metadata": {},
   "outputs": [],
   "source": [
    "train_df['timestamp']=train_df['timestamp']/(1000*3600) # 1000ミリ秒なので時間に直すときはかける\n",
    "train_df.timestamp=train_df.timestamp.astype('int16')"
   ]
  },
  {
   "cell_type": "code",
   "execution_count": 33,
   "metadata": {},
   "outputs": [],
   "source": [
    "train_df['lag'] = train_df.groupby('user_id')[target].shift()\n",
    "\n",
    "cum = train_df.groupby('user_id')['lag'].agg(['cumsum', 'cumcount'])\n",
    "train_df['user_correctness'] = cum['cumsum'] / cum['cumcount']\n",
    "train_df['user_correct_cumsum'] = cum['cumsum']\n",
    "train_df['user_correct_cumcount'] = cum['cumcount']\n",
    "train_df.drop(columns=['lag'], inplace=True)\n",
    "\n",
    "# train_df['user_correctness'].fillna(1, inplace=True)\n",
    "train_df['user_correct_cumsum'].fillna(0, inplace=True)\n",
    "#train_df['user_correct_cumcount'].fillna(0, inplace=True)\n",
    "train_df.user_correctness=train_df.user_correctness.astype('float16')\n",
    "train_df.user_correct_cumcount=train_df.user_correct_cumcount.astype('int16')\n",
    "train_df.user_correct_cumsum=train_df.user_correct_cumsum.astype('int16')"
   ]
  },
  {
   "cell_type": "code",
   "execution_count": 34,
   "metadata": {},
   "outputs": [
    {
     "output_type": "execute_result",
     "data": {
      "text/plain": [
       "          cumsum  cumcount\n",
       "0            NaN         0\n",
       "1            1.0         1\n",
       "2            2.0         2\n",
       "3            3.0         3\n",
       "4            4.0         4\n",
       "...          ...       ...\n",
       "99271295    11.0        22\n",
       "99271296    12.0        23\n",
       "99271297    13.0        24\n",
       "99271298    14.0        25\n",
       "99271299    14.0        26\n",
       "\n",
       "[99271300 rows x 2 columns]"
      ],
      "text/html": "<div>\n<style scoped>\n    .dataframe tbody tr th:only-of-type {\n        vertical-align: middle;\n    }\n\n    .dataframe tbody tr th {\n        vertical-align: top;\n    }\n\n    .dataframe thead th {\n        text-align: right;\n    }\n</style>\n<table border=\"1\" class=\"dataframe\">\n  <thead>\n    <tr style=\"text-align: right;\">\n      <th></th>\n      <th>cumsum</th>\n      <th>cumcount</th>\n    </tr>\n  </thead>\n  <tbody>\n    <tr>\n      <th>0</th>\n      <td>NaN</td>\n      <td>0</td>\n    </tr>\n    <tr>\n      <th>1</th>\n      <td>1.0</td>\n      <td>1</td>\n    </tr>\n    <tr>\n      <th>2</th>\n      <td>2.0</td>\n      <td>2</td>\n    </tr>\n    <tr>\n      <th>3</th>\n      <td>3.0</td>\n      <td>3</td>\n    </tr>\n    <tr>\n      <th>4</th>\n      <td>4.0</td>\n      <td>4</td>\n    </tr>\n    <tr>\n      <th>...</th>\n      <td>...</td>\n      <td>...</td>\n    </tr>\n    <tr>\n      <th>99271295</th>\n      <td>11.0</td>\n      <td>22</td>\n    </tr>\n    <tr>\n      <th>99271296</th>\n      <td>12.0</td>\n      <td>23</td>\n    </tr>\n    <tr>\n      <th>99271297</th>\n      <td>13.0</td>\n      <td>24</td>\n    </tr>\n    <tr>\n      <th>99271298</th>\n      <td>14.0</td>\n      <td>25</td>\n    </tr>\n    <tr>\n      <th>99271299</th>\n      <td>14.0</td>\n      <td>26</td>\n    </tr>\n  </tbody>\n</table>\n<p>99271300 rows × 2 columns</p>\n</div>"
     },
     "metadata": {},
     "execution_count": 34
    }
   ],
   "source": [
    "cum"
   ]
  },
  {
   "cell_type": "code",
   "execution_count": 35,
   "metadata": {},
   "outputs": [],
   "source": [
    "train_df.prior_question_had_explanation=train_df.prior_question_had_explanation.astype('int8')\n",
    "\n",
    "train_df['lag'] = train_df.groupby('user_id')['prior_question_had_explanation'].shift()"
   ]
  },
  {
   "cell_type": "code",
   "execution_count": 36,
   "metadata": {},
   "outputs": [],
   "source": [
    "cum = train_df.groupby('user_id')['lag'].agg(['cumsum', 'cumcount'])\n",
    "train_df['explanation_mean'] = cum['cumsum'] / cum['cumcount']\n",
    "train_df['explanation_cumsum'] = cum['cumsum'] \n",
    "train_df.drop(columns=['lag'], inplace=True)\n",
    "\n",
    "train_df['explanation_mean'].fillna(0, inplace=True)\n",
    "train_df['explanation_cumsum'].fillna(0, inplace=True)\n",
    "train_df.explanation_mean=train_df.explanation_mean.astype('float16')\n",
    "train_df.explanation_cumsum=train_df.explanation_cumsum.astype('int16')"
   ]
  },
  {
   "cell_type": "code",
   "execution_count": 37,
   "metadata": {},
   "outputs": [
    {
     "output_type": "execute_result",
     "data": {
      "text/plain": [
       "          timestamp     user_id  content_id  content_type_id  \\\n",
       "0                 0         115        5692                0   \n",
       "1                 0         115        5716                0   \n",
       "2                 0         115         128                0   \n",
       "3                 0         115        7860                0   \n",
       "4                 0         115        7922                0   \n",
       "...             ...         ...         ...              ...   \n",
       "99271295        119  2147482888        3586                0   \n",
       "99271296        119  2147482888        6341                0   \n",
       "99271297        119  2147482888        4212                0   \n",
       "99271298        119  2147482888        6343                0   \n",
       "99271299        119  2147482888        7995                0   \n",
       "\n",
       "          task_container_id  answered_correctly  prior_question_elapsed_time  \\\n",
       "0                         1                   1                 25423.853516   \n",
       "1                         2                   1                 37000.000000   \n",
       "2                         0                   1                 55000.000000   \n",
       "3                         3                   1                 19000.000000   \n",
       "4                         4                   1                 11000.000000   \n",
       "...                     ...                 ...                          ...   \n",
       "99271295                 22                   1                 18000.000000   \n",
       "99271296                 23                   1                 14000.000000   \n",
       "99271297                 24                   1                 14000.000000   \n",
       "99271298                 25                   0                 22000.000000   \n",
       "99271299                 26                   1                 29000.000000   \n",
       "\n",
       "          prior_question_had_explanation  user_lecture_cumsum  \\\n",
       "0                                      0                    0   \n",
       "1                                      0                    0   \n",
       "2                                      0                    0   \n",
       "3                                      0                    0   \n",
       "4                                      0                    0   \n",
       "...                                  ...                  ...   \n",
       "99271295                               1                    0   \n",
       "99271296                               1                    0   \n",
       "99271297                               1                    0   \n",
       "99271298                               1                    0   \n",
       "99271299                               1                    0   \n",
       "\n",
       "          user_lecture_lv  lagtime  lagtime_mean  \\\n",
       "0                     NaN        0      14523696   \n",
       "1                     0.0    56943      14523696   \n",
       "2                     0.0    61420      14523696   \n",
       "3                     0.0    12804      14523696   \n",
       "4                     0.0     6798      14523696   \n",
       "...                   ...      ...           ...   \n",
       "99271295              0.0    21548      15877485   \n",
       "99271296              0.0    20580      15877485   \n",
       "99271297              0.0    28475      15877485   \n",
       "99271298              0.0    35931      15877485   \n",
       "99271299              0.0    42712      15877485   \n",
       "\n",
       "          delta_prior_question_elapsed_time  user_correctness  \\\n",
       "0                                         0               NaN   \n",
       "1                                     11576          1.000000   \n",
       "2                                     18000          1.000000   \n",
       "3                                    -36000          1.000000   \n",
       "4                                     -8000          1.000000   \n",
       "...                                     ...               ...   \n",
       "99271295                             -26000          0.500000   \n",
       "99271296                              -4000          0.521973   \n",
       "99271297                                  0          0.541504   \n",
       "99271298                               8000          0.560059   \n",
       "99271299                               7000          0.538574   \n",
       "\n",
       "          user_correct_cumsum  user_correct_cumcount  explanation_mean  \\\n",
       "0                           0                      0          0.000000   \n",
       "1                           1                      1          0.000000   \n",
       "2                           2                      2          0.000000   \n",
       "3                           3                      3          0.000000   \n",
       "4                           4                      4          0.000000   \n",
       "...                       ...                    ...               ...   \n",
       "99271295                   11                     22          0.636230   \n",
       "99271296                   12                     23          0.652344   \n",
       "99271297                   13                     24          0.666504   \n",
       "99271298                   14                     25          0.680176   \n",
       "99271299                   14                     26          0.692383   \n",
       "\n",
       "          explanation_cumsum  \n",
       "0                          0  \n",
       "1                          0  \n",
       "2                          0  \n",
       "3                          0  \n",
       "4                          0  \n",
       "...                      ...  \n",
       "99271295                  14  \n",
       "99271296                  15  \n",
       "99271297                  16  \n",
       "99271298                  17  \n",
       "99271299                  18  \n",
       "\n",
       "[99271300 rows x 18 columns]"
      ],
      "text/html": "<div>\n<style scoped>\n    .dataframe tbody tr th:only-of-type {\n        vertical-align: middle;\n    }\n\n    .dataframe tbody tr th {\n        vertical-align: top;\n    }\n\n    .dataframe thead th {\n        text-align: right;\n    }\n</style>\n<table border=\"1\" class=\"dataframe\">\n  <thead>\n    <tr style=\"text-align: right;\">\n      <th></th>\n      <th>timestamp</th>\n      <th>user_id</th>\n      <th>content_id</th>\n      <th>content_type_id</th>\n      <th>task_container_id</th>\n      <th>answered_correctly</th>\n      <th>prior_question_elapsed_time</th>\n      <th>prior_question_had_explanation</th>\n      <th>user_lecture_cumsum</th>\n      <th>user_lecture_lv</th>\n      <th>lagtime</th>\n      <th>lagtime_mean</th>\n      <th>delta_prior_question_elapsed_time</th>\n      <th>user_correctness</th>\n      <th>user_correct_cumsum</th>\n      <th>user_correct_cumcount</th>\n      <th>explanation_mean</th>\n      <th>explanation_cumsum</th>\n    </tr>\n  </thead>\n  <tbody>\n    <tr>\n      <th>0</th>\n      <td>0</td>\n      <td>115</td>\n      <td>5692</td>\n      <td>0</td>\n      <td>1</td>\n      <td>1</td>\n      <td>25423.853516</td>\n      <td>0</td>\n      <td>0</td>\n      <td>NaN</td>\n      <td>0</td>\n      <td>14523696</td>\n      <td>0</td>\n      <td>NaN</td>\n      <td>0</td>\n      <td>0</td>\n      <td>0.000000</td>\n      <td>0</td>\n    </tr>\n    <tr>\n      <th>1</th>\n      <td>0</td>\n      <td>115</td>\n      <td>5716</td>\n      <td>0</td>\n      <td>2</td>\n      <td>1</td>\n      <td>37000.000000</td>\n      <td>0</td>\n      <td>0</td>\n      <td>0.0</td>\n      <td>56943</td>\n      <td>14523696</td>\n      <td>11576</td>\n      <td>1.000000</td>\n      <td>1</td>\n      <td>1</td>\n      <td>0.000000</td>\n      <td>0</td>\n    </tr>\n    <tr>\n      <th>2</th>\n      <td>0</td>\n      <td>115</td>\n      <td>128</td>\n      <td>0</td>\n      <td>0</td>\n      <td>1</td>\n      <td>55000.000000</td>\n      <td>0</td>\n      <td>0</td>\n      <td>0.0</td>\n      <td>61420</td>\n      <td>14523696</td>\n      <td>18000</td>\n      <td>1.000000</td>\n      <td>2</td>\n      <td>2</td>\n      <td>0.000000</td>\n      <td>0</td>\n    </tr>\n    <tr>\n      <th>3</th>\n      <td>0</td>\n      <td>115</td>\n      <td>7860</td>\n      <td>0</td>\n      <td>3</td>\n      <td>1</td>\n      <td>19000.000000</td>\n      <td>0</td>\n      <td>0</td>\n      <td>0.0</td>\n      <td>12804</td>\n      <td>14523696</td>\n      <td>-36000</td>\n      <td>1.000000</td>\n      <td>3</td>\n      <td>3</td>\n      <td>0.000000</td>\n      <td>0</td>\n    </tr>\n    <tr>\n      <th>4</th>\n      <td>0</td>\n      <td>115</td>\n      <td>7922</td>\n      <td>0</td>\n      <td>4</td>\n      <td>1</td>\n      <td>11000.000000</td>\n      <td>0</td>\n      <td>0</td>\n      <td>0.0</td>\n      <td>6798</td>\n      <td>14523696</td>\n      <td>-8000</td>\n      <td>1.000000</td>\n      <td>4</td>\n      <td>4</td>\n      <td>0.000000</td>\n      <td>0</td>\n    </tr>\n    <tr>\n      <th>...</th>\n      <td>...</td>\n      <td>...</td>\n      <td>...</td>\n      <td>...</td>\n      <td>...</td>\n      <td>...</td>\n      <td>...</td>\n      <td>...</td>\n      <td>...</td>\n      <td>...</td>\n      <td>...</td>\n      <td>...</td>\n      <td>...</td>\n      <td>...</td>\n      <td>...</td>\n      <td>...</td>\n      <td>...</td>\n      <td>...</td>\n    </tr>\n    <tr>\n      <th>99271295</th>\n      <td>119</td>\n      <td>2147482888</td>\n      <td>3586</td>\n      <td>0</td>\n      <td>22</td>\n      <td>1</td>\n      <td>18000.000000</td>\n      <td>1</td>\n      <td>0</td>\n      <td>0.0</td>\n      <td>21548</td>\n      <td>15877485</td>\n      <td>-26000</td>\n      <td>0.500000</td>\n      <td>11</td>\n      <td>22</td>\n      <td>0.636230</td>\n      <td>14</td>\n    </tr>\n    <tr>\n      <th>99271296</th>\n      <td>119</td>\n      <td>2147482888</td>\n      <td>6341</td>\n      <td>0</td>\n      <td>23</td>\n      <td>1</td>\n      <td>14000.000000</td>\n      <td>1</td>\n      <td>0</td>\n      <td>0.0</td>\n      <td>20580</td>\n      <td>15877485</td>\n      <td>-4000</td>\n      <td>0.521973</td>\n      <td>12</td>\n      <td>23</td>\n      <td>0.652344</td>\n      <td>15</td>\n    </tr>\n    <tr>\n      <th>99271297</th>\n      <td>119</td>\n      <td>2147482888</td>\n      <td>4212</td>\n      <td>0</td>\n      <td>24</td>\n      <td>1</td>\n      <td>14000.000000</td>\n      <td>1</td>\n      <td>0</td>\n      <td>0.0</td>\n      <td>28475</td>\n      <td>15877485</td>\n      <td>0</td>\n      <td>0.541504</td>\n      <td>13</td>\n      <td>24</td>\n      <td>0.666504</td>\n      <td>16</td>\n    </tr>\n    <tr>\n      <th>99271298</th>\n      <td>119</td>\n      <td>2147482888</td>\n      <td>6343</td>\n      <td>0</td>\n      <td>25</td>\n      <td>0</td>\n      <td>22000.000000</td>\n      <td>1</td>\n      <td>0</td>\n      <td>0.0</td>\n      <td>35931</td>\n      <td>15877485</td>\n      <td>8000</td>\n      <td>0.560059</td>\n      <td>14</td>\n      <td>25</td>\n      <td>0.680176</td>\n      <td>17</td>\n    </tr>\n    <tr>\n      <th>99271299</th>\n      <td>119</td>\n      <td>2147482888</td>\n      <td>7995</td>\n      <td>0</td>\n      <td>26</td>\n      <td>1</td>\n      <td>29000.000000</td>\n      <td>1</td>\n      <td>0</td>\n      <td>0.0</td>\n      <td>42712</td>\n      <td>15877485</td>\n      <td>7000</td>\n      <td>0.538574</td>\n      <td>14</td>\n      <td>26</td>\n      <td>0.692383</td>\n      <td>18</td>\n    </tr>\n  </tbody>\n</table>\n<p>99271300 rows × 18 columns</p>\n</div>"
     },
     "metadata": {},
     "execution_count": 37
    }
   ],
   "source": [
    "train_df"
   ]
  },
  {
   "cell_type": "code",
   "execution_count": 38,
   "metadata": {},
   "outputs": [
    {
     "output_type": "execute_result",
     "data": {
      "text/plain": [
       "160"
      ]
     },
     "metadata": {},
     "execution_count": 38
    }
   ],
   "source": [
    "del cum\n",
    "gc.collect()"
   ]
  },
  {
   "cell_type": "code",
   "execution_count": 39,
   "metadata": {},
   "outputs": [],
   "source": [
    "train_df[\"attempt_no\"] = 1\n",
    "train_df.attempt_no=train_df.attempt_no.astype('int8')\n",
    "train_df[\"attempt_no\"] = train_df[[\"user_id\",\"content_id\",'attempt_no']].groupby([\"user_id\",\"content_id\"])[\"attempt_no\"].cumsum()"
   ]
  },
  {
   "cell_type": "code",
   "execution_count": 40,
   "metadata": {},
   "outputs": [
    {
     "output_type": "execute_result",
     "data": {
      "text/plain": [
       "   timestamp  user_id  content_id  content_type_id  task_container_id  \\\n",
       "0          0      115        5692                0                  1   \n",
       "1          0      115        5716                0                  2   \n",
       "2          0      115         128                0                  0   \n",
       "3          0      115        7860                0                  3   \n",
       "4          0      115        7922                0                  4   \n",
       "\n",
       "   answered_correctly  prior_question_elapsed_time  \\\n",
       "0                   1                 25423.853516   \n",
       "1                   1                 37000.000000   \n",
       "2                   1                 55000.000000   \n",
       "3                   1                 19000.000000   \n",
       "4                   1                 11000.000000   \n",
       "\n",
       "   prior_question_had_explanation  user_lecture_cumsum  user_lecture_lv  \\\n",
       "0                               0                    0              NaN   \n",
       "1                               0                    0              0.0   \n",
       "2                               0                    0              0.0   \n",
       "3                               0                    0              0.0   \n",
       "4                               0                    0              0.0   \n",
       "\n",
       "   lagtime  lagtime_mean  delta_prior_question_elapsed_time  user_correctness  \\\n",
       "0        0      14523696                                  0               NaN   \n",
       "1    56943      14523696                              11576               1.0   \n",
       "2    61420      14523696                              18000               1.0   \n",
       "3    12804      14523696                             -36000               1.0   \n",
       "4     6798      14523696                              -8000               1.0   \n",
       "\n",
       "   user_correct_cumsum  user_correct_cumcount  explanation_mean  \\\n",
       "0                    0                      0               0.0   \n",
       "1                    1                      1               0.0   \n",
       "2                    2                      2               0.0   \n",
       "3                    3                      3               0.0   \n",
       "4                    4                      4               0.0   \n",
       "\n",
       "   explanation_cumsum  attempt_no  \n",
       "0                   0           1  \n",
       "1                   0           1  \n",
       "2                   0           1  \n",
       "3                   0           1  \n",
       "4                   0           1  "
      ],
      "text/html": "<div>\n<style scoped>\n    .dataframe tbody tr th:only-of-type {\n        vertical-align: middle;\n    }\n\n    .dataframe tbody tr th {\n        vertical-align: top;\n    }\n\n    .dataframe thead th {\n        text-align: right;\n    }\n</style>\n<table border=\"1\" class=\"dataframe\">\n  <thead>\n    <tr style=\"text-align: right;\">\n      <th></th>\n      <th>timestamp</th>\n      <th>user_id</th>\n      <th>content_id</th>\n      <th>content_type_id</th>\n      <th>task_container_id</th>\n      <th>answered_correctly</th>\n      <th>prior_question_elapsed_time</th>\n      <th>prior_question_had_explanation</th>\n      <th>user_lecture_cumsum</th>\n      <th>user_lecture_lv</th>\n      <th>lagtime</th>\n      <th>lagtime_mean</th>\n      <th>delta_prior_question_elapsed_time</th>\n      <th>user_correctness</th>\n      <th>user_correct_cumsum</th>\n      <th>user_correct_cumcount</th>\n      <th>explanation_mean</th>\n      <th>explanation_cumsum</th>\n      <th>attempt_no</th>\n    </tr>\n  </thead>\n  <tbody>\n    <tr>\n      <th>0</th>\n      <td>0</td>\n      <td>115</td>\n      <td>5692</td>\n      <td>0</td>\n      <td>1</td>\n      <td>1</td>\n      <td>25423.853516</td>\n      <td>0</td>\n      <td>0</td>\n      <td>NaN</td>\n      <td>0</td>\n      <td>14523696</td>\n      <td>0</td>\n      <td>NaN</td>\n      <td>0</td>\n      <td>0</td>\n      <td>0.0</td>\n      <td>0</td>\n      <td>1</td>\n    </tr>\n    <tr>\n      <th>1</th>\n      <td>0</td>\n      <td>115</td>\n      <td>5716</td>\n      <td>0</td>\n      <td>2</td>\n      <td>1</td>\n      <td>37000.000000</td>\n      <td>0</td>\n      <td>0</td>\n      <td>0.0</td>\n      <td>56943</td>\n      <td>14523696</td>\n      <td>11576</td>\n      <td>1.0</td>\n      <td>1</td>\n      <td>1</td>\n      <td>0.0</td>\n      <td>0</td>\n      <td>1</td>\n    </tr>\n    <tr>\n      <th>2</th>\n      <td>0</td>\n      <td>115</td>\n      <td>128</td>\n      <td>0</td>\n      <td>0</td>\n      <td>1</td>\n      <td>55000.000000</td>\n      <td>0</td>\n      <td>0</td>\n      <td>0.0</td>\n      <td>61420</td>\n      <td>14523696</td>\n      <td>18000</td>\n      <td>1.0</td>\n      <td>2</td>\n      <td>2</td>\n      <td>0.0</td>\n      <td>0</td>\n      <td>1</td>\n    </tr>\n    <tr>\n      <th>3</th>\n      <td>0</td>\n      <td>115</td>\n      <td>7860</td>\n      <td>0</td>\n      <td>3</td>\n      <td>1</td>\n      <td>19000.000000</td>\n      <td>0</td>\n      <td>0</td>\n      <td>0.0</td>\n      <td>12804</td>\n      <td>14523696</td>\n      <td>-36000</td>\n      <td>1.0</td>\n      <td>3</td>\n      <td>3</td>\n      <td>0.0</td>\n      <td>0</td>\n      <td>1</td>\n    </tr>\n    <tr>\n      <th>4</th>\n      <td>0</td>\n      <td>115</td>\n      <td>7922</td>\n      <td>0</td>\n      <td>4</td>\n      <td>1</td>\n      <td>11000.000000</td>\n      <td>0</td>\n      <td>0</td>\n      <td>0.0</td>\n      <td>6798</td>\n      <td>14523696</td>\n      <td>-8000</td>\n      <td>1.0</td>\n      <td>4</td>\n      <td>4</td>\n      <td>0.0</td>\n      <td>0</td>\n      <td>1</td>\n    </tr>\n  </tbody>\n</table>\n</div>"
     },
     "metadata": {},
     "execution_count": 40
    }
   ],
   "source": [
    "train_df.head()"
   ]
  },
  {
   "cell_type": "code",
   "execution_count": 41,
   "metadata": {},
   "outputs": [
    {
     "output_type": "execute_result",
     "data": {
      "text/plain": [
       "timestamp                              int16\n",
       "user_id                                int32\n",
       "content_id                             int16\n",
       "content_type_id                         int8\n",
       "task_container_id                      int16\n",
       "answered_correctly                      int8\n",
       "prior_question_elapsed_time          float32\n",
       "prior_question_had_explanation          int8\n",
       "user_lecture_cumsum                     int8\n",
       "user_lecture_lv                      float16\n",
       "lagtime                                int32\n",
       "lagtime_mean                           int32\n",
       "delta_prior_question_elapsed_time      int32\n",
       "user_correctness                     float16\n",
       "user_correct_cumsum                    int16\n",
       "user_correct_cumcount                  int16\n",
       "explanation_mean                     float16\n",
       "explanation_cumsum                     int16\n",
       "attempt_no                              int8\n",
       "dtype: object"
      ]
     },
     "metadata": {},
     "execution_count": 41
    }
   ],
   "source": [
    "train_df.dtypes"
   ]
  },
  {
   "cell_type": "code",
   "execution_count": 42,
   "metadata": {},
   "outputs": [],
   "source": [
    "explanation_agg = train_df.groupby('user_id')['prior_question_had_explanation'].agg(['sum', 'count'])\n",
    "explanation_agg = explanation_agg.astype('int16')"
   ]
  },
  {
   "cell_type": "code",
   "execution_count": 43,
   "metadata": {},
   "outputs": [
    {
     "output_type": "execute_result",
     "data": {
      "text/plain": [
       "            sum  count\n",
       "user_id               \n",
       "115           6     46\n",
       "124           0     30\n",
       "2746         11     19\n",
       "5382        113    125\n",
       "8623         96    109\n",
       "...         ...    ...\n",
       "2147470770  195    226\n",
       "2147470777  721    752\n",
       "2147481750   39     50\n",
       "2147482216  266    275\n",
       "2147482888   19     27\n",
       "\n",
       "[393656 rows x 2 columns]"
      ],
      "text/html": "<div>\n<style scoped>\n    .dataframe tbody tr th:only-of-type {\n        vertical-align: middle;\n    }\n\n    .dataframe tbody tr th {\n        vertical-align: top;\n    }\n\n    .dataframe thead th {\n        text-align: right;\n    }\n</style>\n<table border=\"1\" class=\"dataframe\">\n  <thead>\n    <tr style=\"text-align: right;\">\n      <th></th>\n      <th>sum</th>\n      <th>count</th>\n    </tr>\n    <tr>\n      <th>user_id</th>\n      <th></th>\n      <th></th>\n    </tr>\n  </thead>\n  <tbody>\n    <tr>\n      <th>115</th>\n      <td>6</td>\n      <td>46</td>\n    </tr>\n    <tr>\n      <th>124</th>\n      <td>0</td>\n      <td>30</td>\n    </tr>\n    <tr>\n      <th>2746</th>\n      <td>11</td>\n      <td>19</td>\n    </tr>\n    <tr>\n      <th>5382</th>\n      <td>113</td>\n      <td>125</td>\n    </tr>\n    <tr>\n      <th>8623</th>\n      <td>96</td>\n      <td>109</td>\n    </tr>\n    <tr>\n      <th>...</th>\n      <td>...</td>\n      <td>...</td>\n    </tr>\n    <tr>\n      <th>2147470770</th>\n      <td>195</td>\n      <td>226</td>\n    </tr>\n    <tr>\n      <th>2147470777</th>\n      <td>721</td>\n      <td>752</td>\n    </tr>\n    <tr>\n      <th>2147481750</th>\n      <td>39</td>\n      <td>50</td>\n    </tr>\n    <tr>\n      <th>2147482216</th>\n      <td>266</td>\n      <td>275</td>\n    </tr>\n    <tr>\n      <th>2147482888</th>\n      <td>19</td>\n      <td>27</td>\n    </tr>\n  </tbody>\n</table>\n<p>393656 rows × 2 columns</p>\n</div>"
     },
     "metadata": {},
     "execution_count": 43
    }
   ],
   "source": [
    "explanation_agg"
   ]
  },
  {
   "cell_type": "code",
   "execution_count": 44,
   "metadata": {},
   "outputs": [],
   "source": [
    "user_agg = train_df.groupby('user_id')[target].agg(['sum', 'count'])\n",
    "content_agg = train_df.groupby('content_id')[target].agg(['sum', 'count','var'])\n",
    "task_container_agg = train_df.groupby('task_container_id')[target].agg(['sum', 'count','var'])"
   ]
  },
  {
   "cell_type": "code",
   "execution_count": 45,
   "metadata": {},
   "outputs": [],
   "source": [
    "user_agg=user_agg.astype('int16')\n",
    "content_agg=content_agg.astype('float32')\n",
    "task_container_agg=task_container_agg.astype('float32')"
   ]
  },
  {
   "cell_type": "code",
   "execution_count": 46,
   "metadata": {},
   "outputs": [],
   "source": [
    "attempt_no_agg=train_df.groupby([\"user_id\",\"content_id\"])[\"attempt_no\"].agg(['sum'])\n",
    "attempt_no_agg=attempt_no_agg.astype('int8')"
   ]
  },
  {
   "cell_type": "code",
   "execution_count": 47,
   "metadata": {},
   "outputs": [],
   "source": [
    "train_df['content_count'] = train_df['content_id'].map(content_agg['count']).astype('int32')\n",
    "train_df['content_sum'] = train_df['content_id'].map(content_agg['sum']).astype('int32')\n",
    "train_df['content_correctness'] = train_df['content_id'].map(content_agg['sum'] / content_agg['count'])\n",
    "train_df.content_correctness=train_df.content_correctness.astype('float16')\n",
    "train_df['task_container_sum'] = train_df['task_container_id'].map(task_container_agg['sum']).astype('int32')\n",
    "train_df['task_container_std'] = train_df['task_container_id'].map(task_container_agg['var']).astype('float16')\n",
    "train_df['task_container_correctness'] = train_df['task_container_id'].map(task_container_agg['sum'] / task_container_agg['count'])\n",
    "train_df.task_container_correctness=train_df.task_container_correctness.astype('float16')"
   ]
  },
  {
   "cell_type": "code",
   "execution_count": 48,
   "metadata": {},
   "outputs": [
    {
     "output_type": "execute_result",
     "data": {
      "text/plain": [
       "          timestamp     user_id  content_id  content_type_id  \\\n",
       "0                 0         115        5692                0   \n",
       "1                 0         115        5716                0   \n",
       "2                 0         115         128                0   \n",
       "3                 0         115        7860                0   \n",
       "4                 0         115        7922                0   \n",
       "...             ...         ...         ...              ...   \n",
       "99271295        119  2147482888        3586                0   \n",
       "99271296        119  2147482888        6341                0   \n",
       "99271297        119  2147482888        4212                0   \n",
       "99271298        119  2147482888        6343                0   \n",
       "99271299        119  2147482888        7995                0   \n",
       "\n",
       "          task_container_id  answered_correctly  prior_question_elapsed_time  \\\n",
       "0                         1                   1                 25423.853516   \n",
       "1                         2                   1                 37000.000000   \n",
       "2                         0                   1                 55000.000000   \n",
       "3                         3                   1                 19000.000000   \n",
       "4                         4                   1                 11000.000000   \n",
       "...                     ...                 ...                          ...   \n",
       "99271295                 22                   1                 18000.000000   \n",
       "99271296                 23                   1                 14000.000000   \n",
       "99271297                 24                   1                 14000.000000   \n",
       "99271298                 25                   0                 22000.000000   \n",
       "99271299                 26                   1                 29000.000000   \n",
       "\n",
       "          prior_question_had_explanation  user_lecture_cumsum  \\\n",
       "0                                      0                    0   \n",
       "1                                      0                    0   \n",
       "2                                      0                    0   \n",
       "3                                      0                    0   \n",
       "4                                      0                    0   \n",
       "...                                  ...                  ...   \n",
       "99271295                               1                    0   \n",
       "99271296                               1                    0   \n",
       "99271297                               1                    0   \n",
       "99271298                               1                    0   \n",
       "99271299                               1                    0   \n",
       "\n",
       "          user_lecture_lv  ...  user_correct_cumcount  explanation_mean  \\\n",
       "0                     NaN  ...                      0          0.000000   \n",
       "1                     0.0  ...                      1          0.000000   \n",
       "2                     0.0  ...                      2          0.000000   \n",
       "3                     0.0  ...                      3          0.000000   \n",
       "4                     0.0  ...                      4          0.000000   \n",
       "...                   ...  ...                    ...               ...   \n",
       "99271295              0.0  ...                     22          0.636230   \n",
       "99271296              0.0  ...                     23          0.652344   \n",
       "99271297              0.0  ...                     24          0.666504   \n",
       "99271298              0.0  ...                     25          0.680176   \n",
       "99271299              0.0  ...                     26          0.692383   \n",
       "\n",
       "          explanation_cumsum  attempt_no  content_count  content_sum  \\\n",
       "0                          0           1          36514        27221   \n",
       "1                          0           1          23991        17631   \n",
       "2                          0           1          19619        18969   \n",
       "3                          0           1          21733        20751   \n",
       "4                          0           1          19409        18501   \n",
       "...                      ...         ...            ...          ...   \n",
       "99271295                  14           1           4364         3234   \n",
       "99271296                  15           1          10220         5394   \n",
       "99271297                  16           1          31415        19358   \n",
       "99271298                  17           1           5752         3806   \n",
       "99271299                  18           1           6259         4115   \n",
       "\n",
       "          content_correctness  task_container_sum  task_container_std  \\\n",
       "0                    0.745605              208704            0.249268   \n",
       "1                    0.734863              172342            0.245850   \n",
       "2                    0.966797              269233            0.217651   \n",
       "3                    0.954590              214721            0.248169   \n",
       "4                    0.953125              330079            0.249512   \n",
       "...                       ...                 ...                 ...   \n",
       "99271295             0.741211              166774            0.235962   \n",
       "99271296             0.527832              161481            0.238770   \n",
       "99271297             0.616211              165255            0.235107   \n",
       "99271298             0.661621              161824            0.237305   \n",
       "99271299             0.657227              153390            0.237793   \n",
       "\n",
       "          task_container_correctness  \n",
       "0                           0.527344  \n",
       "1                           0.435791  \n",
       "2                           0.680176  \n",
       "3                           0.542969  \n",
       "4                           0.477051  \n",
       "...                              ...  \n",
       "99271295                    0.618652  \n",
       "99271296                    0.605957  \n",
       "99271297                    0.622070  \n",
       "99271298                    0.612793  \n",
       "99271299                    0.610352  \n",
       "\n",
       "[99271300 rows x 25 columns]"
      ],
      "text/html": "<div>\n<style scoped>\n    .dataframe tbody tr th:only-of-type {\n        vertical-align: middle;\n    }\n\n    .dataframe tbody tr th {\n        vertical-align: top;\n    }\n\n    .dataframe thead th {\n        text-align: right;\n    }\n</style>\n<table border=\"1\" class=\"dataframe\">\n  <thead>\n    <tr style=\"text-align: right;\">\n      <th></th>\n      <th>timestamp</th>\n      <th>user_id</th>\n      <th>content_id</th>\n      <th>content_type_id</th>\n      <th>task_container_id</th>\n      <th>answered_correctly</th>\n      <th>prior_question_elapsed_time</th>\n      <th>prior_question_had_explanation</th>\n      <th>user_lecture_cumsum</th>\n      <th>user_lecture_lv</th>\n      <th>...</th>\n      <th>user_correct_cumcount</th>\n      <th>explanation_mean</th>\n      <th>explanation_cumsum</th>\n      <th>attempt_no</th>\n      <th>content_count</th>\n      <th>content_sum</th>\n      <th>content_correctness</th>\n      <th>task_container_sum</th>\n      <th>task_container_std</th>\n      <th>task_container_correctness</th>\n    </tr>\n  </thead>\n  <tbody>\n    <tr>\n      <th>0</th>\n      <td>0</td>\n      <td>115</td>\n      <td>5692</td>\n      <td>0</td>\n      <td>1</td>\n      <td>1</td>\n      <td>25423.853516</td>\n      <td>0</td>\n      <td>0</td>\n      <td>NaN</td>\n      <td>...</td>\n      <td>0</td>\n      <td>0.000000</td>\n      <td>0</td>\n      <td>1</td>\n      <td>36514</td>\n      <td>27221</td>\n      <td>0.745605</td>\n      <td>208704</td>\n      <td>0.249268</td>\n      <td>0.527344</td>\n    </tr>\n    <tr>\n      <th>1</th>\n      <td>0</td>\n      <td>115</td>\n      <td>5716</td>\n      <td>0</td>\n      <td>2</td>\n      <td>1</td>\n      <td>37000.000000</td>\n      <td>0</td>\n      <td>0</td>\n      <td>0.0</td>\n      <td>...</td>\n      <td>1</td>\n      <td>0.000000</td>\n      <td>0</td>\n      <td>1</td>\n      <td>23991</td>\n      <td>17631</td>\n      <td>0.734863</td>\n      <td>172342</td>\n      <td>0.245850</td>\n      <td>0.435791</td>\n    </tr>\n    <tr>\n      <th>2</th>\n      <td>0</td>\n      <td>115</td>\n      <td>128</td>\n      <td>0</td>\n      <td>0</td>\n      <td>1</td>\n      <td>55000.000000</td>\n      <td>0</td>\n      <td>0</td>\n      <td>0.0</td>\n      <td>...</td>\n      <td>2</td>\n      <td>0.000000</td>\n      <td>0</td>\n      <td>1</td>\n      <td>19619</td>\n      <td>18969</td>\n      <td>0.966797</td>\n      <td>269233</td>\n      <td>0.217651</td>\n      <td>0.680176</td>\n    </tr>\n    <tr>\n      <th>3</th>\n      <td>0</td>\n      <td>115</td>\n      <td>7860</td>\n      <td>0</td>\n      <td>3</td>\n      <td>1</td>\n      <td>19000.000000</td>\n      <td>0</td>\n      <td>0</td>\n      <td>0.0</td>\n      <td>...</td>\n      <td>3</td>\n      <td>0.000000</td>\n      <td>0</td>\n      <td>1</td>\n      <td>21733</td>\n      <td>20751</td>\n      <td>0.954590</td>\n      <td>214721</td>\n      <td>0.248169</td>\n      <td>0.542969</td>\n    </tr>\n    <tr>\n      <th>4</th>\n      <td>0</td>\n      <td>115</td>\n      <td>7922</td>\n      <td>0</td>\n      <td>4</td>\n      <td>1</td>\n      <td>11000.000000</td>\n      <td>0</td>\n      <td>0</td>\n      <td>0.0</td>\n      <td>...</td>\n      <td>4</td>\n      <td>0.000000</td>\n      <td>0</td>\n      <td>1</td>\n      <td>19409</td>\n      <td>18501</td>\n      <td>0.953125</td>\n      <td>330079</td>\n      <td>0.249512</td>\n      <td>0.477051</td>\n    </tr>\n    <tr>\n      <th>...</th>\n      <td>...</td>\n      <td>...</td>\n      <td>...</td>\n      <td>...</td>\n      <td>...</td>\n      <td>...</td>\n      <td>...</td>\n      <td>...</td>\n      <td>...</td>\n      <td>...</td>\n      <td>...</td>\n      <td>...</td>\n      <td>...</td>\n      <td>...</td>\n      <td>...</td>\n      <td>...</td>\n      <td>...</td>\n      <td>...</td>\n      <td>...</td>\n      <td>...</td>\n      <td>...</td>\n    </tr>\n    <tr>\n      <th>99271295</th>\n      <td>119</td>\n      <td>2147482888</td>\n      <td>3586</td>\n      <td>0</td>\n      <td>22</td>\n      <td>1</td>\n      <td>18000.000000</td>\n      <td>1</td>\n      <td>0</td>\n      <td>0.0</td>\n      <td>...</td>\n      <td>22</td>\n      <td>0.636230</td>\n      <td>14</td>\n      <td>1</td>\n      <td>4364</td>\n      <td>3234</td>\n      <td>0.741211</td>\n      <td>166774</td>\n      <td>0.235962</td>\n      <td>0.618652</td>\n    </tr>\n    <tr>\n      <th>99271296</th>\n      <td>119</td>\n      <td>2147482888</td>\n      <td>6341</td>\n      <td>0</td>\n      <td>23</td>\n      <td>1</td>\n      <td>14000.000000</td>\n      <td>1</td>\n      <td>0</td>\n      <td>0.0</td>\n      <td>...</td>\n      <td>23</td>\n      <td>0.652344</td>\n      <td>15</td>\n      <td>1</td>\n      <td>10220</td>\n      <td>5394</td>\n      <td>0.527832</td>\n      <td>161481</td>\n      <td>0.238770</td>\n      <td>0.605957</td>\n    </tr>\n    <tr>\n      <th>99271297</th>\n      <td>119</td>\n      <td>2147482888</td>\n      <td>4212</td>\n      <td>0</td>\n      <td>24</td>\n      <td>1</td>\n      <td>14000.000000</td>\n      <td>1</td>\n      <td>0</td>\n      <td>0.0</td>\n      <td>...</td>\n      <td>24</td>\n      <td>0.666504</td>\n      <td>16</td>\n      <td>1</td>\n      <td>31415</td>\n      <td>19358</td>\n      <td>0.616211</td>\n      <td>165255</td>\n      <td>0.235107</td>\n      <td>0.622070</td>\n    </tr>\n    <tr>\n      <th>99271298</th>\n      <td>119</td>\n      <td>2147482888</td>\n      <td>6343</td>\n      <td>0</td>\n      <td>25</td>\n      <td>0</td>\n      <td>22000.000000</td>\n      <td>1</td>\n      <td>0</td>\n      <td>0.0</td>\n      <td>...</td>\n      <td>25</td>\n      <td>0.680176</td>\n      <td>17</td>\n      <td>1</td>\n      <td>5752</td>\n      <td>3806</td>\n      <td>0.661621</td>\n      <td>161824</td>\n      <td>0.237305</td>\n      <td>0.612793</td>\n    </tr>\n    <tr>\n      <th>99271299</th>\n      <td>119</td>\n      <td>2147482888</td>\n      <td>7995</td>\n      <td>0</td>\n      <td>26</td>\n      <td>1</td>\n      <td>29000.000000</td>\n      <td>1</td>\n      <td>0</td>\n      <td>0.0</td>\n      <td>...</td>\n      <td>26</td>\n      <td>0.692383</td>\n      <td>18</td>\n      <td>1</td>\n      <td>6259</td>\n      <td>4115</td>\n      <td>0.657227</td>\n      <td>153390</td>\n      <td>0.237793</td>\n      <td>0.610352</td>\n    </tr>\n  </tbody>\n</table>\n<p>99271300 rows × 25 columns</p>\n</div>"
     },
     "metadata": {},
     "execution_count": 48
    }
   ],
   "source": [
    "train_df"
   ]
  },
  {
   "cell_type": "code",
   "execution_count": 49,
   "metadata": {},
   "outputs": [],
   "source": [
    "questions_df = pd.read_csv(\n",
    "    'data/questions.csv', \n",
    "    usecols=[0, 1,3,4],\n",
    "    dtype={'question_id': 'int16','bundle_id': 'int16', 'part': 'int8','tags': 'str'}\n",
    ")\n",
    "questions_df['part_bundle_id']=questions_df['part']*100000+questions_df['bundle_id']\n",
    "questions_df.part_bundle_id=questions_df.part_bundle_id.astype('int32')\n",
    "tag = questions_df[\"tags\"].str.split(\" \", n = 10, expand = True)\n",
    "tag.columns = ['tags1','tags2','tags3','tags4','tags5','tags6']\n",
    "\n",
    "\n",
    "tag.fillna(0, inplace=True)\n",
    "tag = tag.astype('int16')\n",
    "questions_df =  pd.concat([questions_df,tag],axis=1).drop(['tags'],axis=1)"
   ]
  },
  {
   "cell_type": "code",
   "execution_count": 50,
   "metadata": {},
   "outputs": [],
   "source": [
    "questions_df.rename(columns={'question_id':'content_id'}, inplace=True)"
   ]
  },
  {
   "cell_type": "code",
   "execution_count": 51,
   "metadata": {},
   "outputs": [
    {
     "output_type": "execute_result",
     "data": {
      "text/plain": [
       "       content_id  bundle_id  part  part_bundle_id  tags1  tags2  tags3  \\\n",
       "0               0          0     1          100000     51    131    162   \n",
       "1               1          1     1          100001    131     36     81   \n",
       "2               2          2     1          100002    131    101    162   \n",
       "3               3          3     1          100003    131    149    162   \n",
       "4               4          4     1          100004    131      5    162   \n",
       "...           ...        ...   ...             ...    ...    ...    ...   \n",
       "13518       13518      13518     5          513518     14      0      0   \n",
       "13519       13519      13519     5          513519      8      0      0   \n",
       "13520       13520      13520     5          513520     73      0      0   \n",
       "13521       13521      13521     5          513521    125      0      0   \n",
       "13522       13522      13522     5          513522     55      0      0   \n",
       "\n",
       "       tags4  tags5  tags6  \n",
       "0         38      0      0  \n",
       "1          0      0      0  \n",
       "2         92      0      0  \n",
       "3         29      0      0  \n",
       "4         38      0      0  \n",
       "...      ...    ...    ...  \n",
       "13518      0      0      0  \n",
       "13519      0      0      0  \n",
       "13520      0      0      0  \n",
       "13521      0      0      0  \n",
       "13522      0      0      0  \n",
       "\n",
       "[13523 rows x 10 columns]"
      ],
      "text/html": "<div>\n<style scoped>\n    .dataframe tbody tr th:only-of-type {\n        vertical-align: middle;\n    }\n\n    .dataframe tbody tr th {\n        vertical-align: top;\n    }\n\n    .dataframe thead th {\n        text-align: right;\n    }\n</style>\n<table border=\"1\" class=\"dataframe\">\n  <thead>\n    <tr style=\"text-align: right;\">\n      <th></th>\n      <th>content_id</th>\n      <th>bundle_id</th>\n      <th>part</th>\n      <th>part_bundle_id</th>\n      <th>tags1</th>\n      <th>tags2</th>\n      <th>tags3</th>\n      <th>tags4</th>\n      <th>tags5</th>\n      <th>tags6</th>\n    </tr>\n  </thead>\n  <tbody>\n    <tr>\n      <th>0</th>\n      <td>0</td>\n      <td>0</td>\n      <td>1</td>\n      <td>100000</td>\n      <td>51</td>\n      <td>131</td>\n      <td>162</td>\n      <td>38</td>\n      <td>0</td>\n      <td>0</td>\n    </tr>\n    <tr>\n      <th>1</th>\n      <td>1</td>\n      <td>1</td>\n      <td>1</td>\n      <td>100001</td>\n      <td>131</td>\n      <td>36</td>\n      <td>81</td>\n      <td>0</td>\n      <td>0</td>\n      <td>0</td>\n    </tr>\n    <tr>\n      <th>2</th>\n      <td>2</td>\n      <td>2</td>\n      <td>1</td>\n      <td>100002</td>\n      <td>131</td>\n      <td>101</td>\n      <td>162</td>\n      <td>92</td>\n      <td>0</td>\n      <td>0</td>\n    </tr>\n    <tr>\n      <th>3</th>\n      <td>3</td>\n      <td>3</td>\n      <td>1</td>\n      <td>100003</td>\n      <td>131</td>\n      <td>149</td>\n      <td>162</td>\n      <td>29</td>\n      <td>0</td>\n      <td>0</td>\n    </tr>\n    <tr>\n      <th>4</th>\n      <td>4</td>\n      <td>4</td>\n      <td>1</td>\n      <td>100004</td>\n      <td>131</td>\n      <td>5</td>\n      <td>162</td>\n      <td>38</td>\n      <td>0</td>\n      <td>0</td>\n    </tr>\n    <tr>\n      <th>...</th>\n      <td>...</td>\n      <td>...</td>\n      <td>...</td>\n      <td>...</td>\n      <td>...</td>\n      <td>...</td>\n      <td>...</td>\n      <td>...</td>\n      <td>...</td>\n      <td>...</td>\n    </tr>\n    <tr>\n      <th>13518</th>\n      <td>13518</td>\n      <td>13518</td>\n      <td>5</td>\n      <td>513518</td>\n      <td>14</td>\n      <td>0</td>\n      <td>0</td>\n      <td>0</td>\n      <td>0</td>\n      <td>0</td>\n    </tr>\n    <tr>\n      <th>13519</th>\n      <td>13519</td>\n      <td>13519</td>\n      <td>5</td>\n      <td>513519</td>\n      <td>8</td>\n      <td>0</td>\n      <td>0</td>\n      <td>0</td>\n      <td>0</td>\n      <td>0</td>\n    </tr>\n    <tr>\n      <th>13520</th>\n      <td>13520</td>\n      <td>13520</td>\n      <td>5</td>\n      <td>513520</td>\n      <td>73</td>\n      <td>0</td>\n      <td>0</td>\n      <td>0</td>\n      <td>0</td>\n      <td>0</td>\n    </tr>\n    <tr>\n      <th>13521</th>\n      <td>13521</td>\n      <td>13521</td>\n      <td>5</td>\n      <td>513521</td>\n      <td>125</td>\n      <td>0</td>\n      <td>0</td>\n      <td>0</td>\n      <td>0</td>\n      <td>0</td>\n    </tr>\n    <tr>\n      <th>13522</th>\n      <td>13522</td>\n      <td>13522</td>\n      <td>5</td>\n      <td>513522</td>\n      <td>55</td>\n      <td>0</td>\n      <td>0</td>\n      <td>0</td>\n      <td>0</td>\n      <td>0</td>\n    </tr>\n  </tbody>\n</table>\n<p>13523 rows × 10 columns</p>\n</div>"
     },
     "metadata": {},
     "execution_count": 51
    }
   ],
   "source": [
    "questions_df"
   ]
  },
  {
   "cell_type": "code",
   "execution_count": 52,
   "metadata": {},
   "outputs": [
    {
     "output_type": "execute_result",
     "data": {
      "text/plain": [
       "                sum    count       var\n",
       "content_id                            \n",
       "0            6266.0   6903.0  0.083775\n",
       "1            6589.0   7398.0  0.097409\n",
       "2           24890.0  44905.0  0.247059\n",
       "3           17906.0  22973.0  0.171923\n",
       "4           19461.0  31736.0  0.237190\n",
       "...             ...      ...       ...\n",
       "13518         683.0    868.0  0.167901\n",
       "13519         528.0    924.0  0.245163\n",
       "13520         579.0    861.0  0.220509\n",
       "13521         703.0    870.0  0.155286\n",
       "13522         786.0    860.0  0.078734\n",
       "\n",
       "[13523 rows x 3 columns]"
      ],
      "text/html": "<div>\n<style scoped>\n    .dataframe tbody tr th:only-of-type {\n        vertical-align: middle;\n    }\n\n    .dataframe tbody tr th {\n        vertical-align: top;\n    }\n\n    .dataframe thead th {\n        text-align: right;\n    }\n</style>\n<table border=\"1\" class=\"dataframe\">\n  <thead>\n    <tr style=\"text-align: right;\">\n      <th></th>\n      <th>sum</th>\n      <th>count</th>\n      <th>var</th>\n    </tr>\n    <tr>\n      <th>content_id</th>\n      <th></th>\n      <th></th>\n      <th></th>\n    </tr>\n  </thead>\n  <tbody>\n    <tr>\n      <th>0</th>\n      <td>6266.0</td>\n      <td>6903.0</td>\n      <td>0.083775</td>\n    </tr>\n    <tr>\n      <th>1</th>\n      <td>6589.0</td>\n      <td>7398.0</td>\n      <td>0.097409</td>\n    </tr>\n    <tr>\n      <th>2</th>\n      <td>24890.0</td>\n      <td>44905.0</td>\n      <td>0.247059</td>\n    </tr>\n    <tr>\n      <th>3</th>\n      <td>17906.0</td>\n      <td>22973.0</td>\n      <td>0.171923</td>\n    </tr>\n    <tr>\n      <th>4</th>\n      <td>19461.0</td>\n      <td>31736.0</td>\n      <td>0.237190</td>\n    </tr>\n    <tr>\n      <th>...</th>\n      <td>...</td>\n      <td>...</td>\n      <td>...</td>\n    </tr>\n    <tr>\n      <th>13518</th>\n      <td>683.0</td>\n      <td>868.0</td>\n      <td>0.167901</td>\n    </tr>\n    <tr>\n      <th>13519</th>\n      <td>528.0</td>\n      <td>924.0</td>\n      <td>0.245163</td>\n    </tr>\n    <tr>\n      <th>13520</th>\n      <td>579.0</td>\n      <td>861.0</td>\n      <td>0.220509</td>\n    </tr>\n    <tr>\n      <th>13521</th>\n      <td>703.0</td>\n      <td>870.0</td>\n      <td>0.155286</td>\n    </tr>\n    <tr>\n      <th>13522</th>\n      <td>786.0</td>\n      <td>860.0</td>\n      <td>0.078734</td>\n    </tr>\n  </tbody>\n</table>\n<p>13523 rows × 3 columns</p>\n</div>"
     },
     "metadata": {},
     "execution_count": 52
    }
   ],
   "source": [
    "content_agg"
   ]
  },
  {
   "cell_type": "code",
   "execution_count": 53,
   "metadata": {},
   "outputs": [],
   "source": [
    "questions_df['content_correctness'] = questions_df['content_id'].map(content_agg['sum'] / content_agg['count'])\n",
    "questions_df.content_correctness=questions_df.content_correctness.astype('float16')\n",
    "questions_df['content_correctness_std'] = questions_df['content_id'].map(content_agg['var'])\n",
    "questions_df.content_correctness_std=questions_df.content_correctness_std.astype('float16')"
   ]
  },
  {
   "cell_type": "code",
   "execution_count": 54,
   "metadata": {},
   "outputs": [
    {
     "output_type": "execute_result",
     "data": {
      "text/plain": [
       "       content_id  bundle_id  part  part_bundle_id  tags1  tags2  tags3  \\\n",
       "0               0          0     1          100000     51    131    162   \n",
       "1               1          1     1          100001    131     36     81   \n",
       "2               2          2     1          100002    131    101    162   \n",
       "3               3          3     1          100003    131    149    162   \n",
       "4               4          4     1          100004    131      5    162   \n",
       "...           ...        ...   ...             ...    ...    ...    ...   \n",
       "13518       13518      13518     5          513518     14      0      0   \n",
       "13519       13519      13519     5          513519      8      0      0   \n",
       "13520       13520      13520     5          513520     73      0      0   \n",
       "13521       13521      13521     5          513521    125      0      0   \n",
       "13522       13522      13522     5          513522     55      0      0   \n",
       "\n",
       "       tags4  tags5  tags6  content_correctness  content_correctness_std  \n",
       "0         38      0      0             0.907715                 0.083801  \n",
       "1          0      0      0             0.890625                 0.097412  \n",
       "2         92      0      0             0.554199                 0.247070  \n",
       "3         29      0      0             0.779297                 0.171875  \n",
       "4         38      0      0             0.613281                 0.237183  \n",
       "...      ...    ...    ...                  ...                      ...  \n",
       "13518      0      0      0             0.787109                 0.167847  \n",
       "13519      0      0      0             0.571289                 0.245117  \n",
       "13520      0      0      0             0.672363                 0.220459  \n",
       "13521      0      0      0             0.808105                 0.155273  \n",
       "13522      0      0      0             0.914062                 0.078735  \n",
       "\n",
       "[13523 rows x 12 columns]"
      ],
      "text/html": "<div>\n<style scoped>\n    .dataframe tbody tr th:only-of-type {\n        vertical-align: middle;\n    }\n\n    .dataframe tbody tr th {\n        vertical-align: top;\n    }\n\n    .dataframe thead th {\n        text-align: right;\n    }\n</style>\n<table border=\"1\" class=\"dataframe\">\n  <thead>\n    <tr style=\"text-align: right;\">\n      <th></th>\n      <th>content_id</th>\n      <th>bundle_id</th>\n      <th>part</th>\n      <th>part_bundle_id</th>\n      <th>tags1</th>\n      <th>tags2</th>\n      <th>tags3</th>\n      <th>tags4</th>\n      <th>tags5</th>\n      <th>tags6</th>\n      <th>content_correctness</th>\n      <th>content_correctness_std</th>\n    </tr>\n  </thead>\n  <tbody>\n    <tr>\n      <th>0</th>\n      <td>0</td>\n      <td>0</td>\n      <td>1</td>\n      <td>100000</td>\n      <td>51</td>\n      <td>131</td>\n      <td>162</td>\n      <td>38</td>\n      <td>0</td>\n      <td>0</td>\n      <td>0.907715</td>\n      <td>0.083801</td>\n    </tr>\n    <tr>\n      <th>1</th>\n      <td>1</td>\n      <td>1</td>\n      <td>1</td>\n      <td>100001</td>\n      <td>131</td>\n      <td>36</td>\n      <td>81</td>\n      <td>0</td>\n      <td>0</td>\n      <td>0</td>\n      <td>0.890625</td>\n      <td>0.097412</td>\n    </tr>\n    <tr>\n      <th>2</th>\n      <td>2</td>\n      <td>2</td>\n      <td>1</td>\n      <td>100002</td>\n      <td>131</td>\n      <td>101</td>\n      <td>162</td>\n      <td>92</td>\n      <td>0</td>\n      <td>0</td>\n      <td>0.554199</td>\n      <td>0.247070</td>\n    </tr>\n    <tr>\n      <th>3</th>\n      <td>3</td>\n      <td>3</td>\n      <td>1</td>\n      <td>100003</td>\n      <td>131</td>\n      <td>149</td>\n      <td>162</td>\n      <td>29</td>\n      <td>0</td>\n      <td>0</td>\n      <td>0.779297</td>\n      <td>0.171875</td>\n    </tr>\n    <tr>\n      <th>4</th>\n      <td>4</td>\n      <td>4</td>\n      <td>1</td>\n      <td>100004</td>\n      <td>131</td>\n      <td>5</td>\n      <td>162</td>\n      <td>38</td>\n      <td>0</td>\n      <td>0</td>\n      <td>0.613281</td>\n      <td>0.237183</td>\n    </tr>\n    <tr>\n      <th>...</th>\n      <td>...</td>\n      <td>...</td>\n      <td>...</td>\n      <td>...</td>\n      <td>...</td>\n      <td>...</td>\n      <td>...</td>\n      <td>...</td>\n      <td>...</td>\n      <td>...</td>\n      <td>...</td>\n      <td>...</td>\n    </tr>\n    <tr>\n      <th>13518</th>\n      <td>13518</td>\n      <td>13518</td>\n      <td>5</td>\n      <td>513518</td>\n      <td>14</td>\n      <td>0</td>\n      <td>0</td>\n      <td>0</td>\n      <td>0</td>\n      <td>0</td>\n      <td>0.787109</td>\n      <td>0.167847</td>\n    </tr>\n    <tr>\n      <th>13519</th>\n      <td>13519</td>\n      <td>13519</td>\n      <td>5</td>\n      <td>513519</td>\n      <td>8</td>\n      <td>0</td>\n      <td>0</td>\n      <td>0</td>\n      <td>0</td>\n      <td>0</td>\n      <td>0.571289</td>\n      <td>0.245117</td>\n    </tr>\n    <tr>\n      <th>13520</th>\n      <td>13520</td>\n      <td>13520</td>\n      <td>5</td>\n      <td>513520</td>\n      <td>73</td>\n      <td>0</td>\n      <td>0</td>\n      <td>0</td>\n      <td>0</td>\n      <td>0</td>\n      <td>0.672363</td>\n      <td>0.220459</td>\n    </tr>\n    <tr>\n      <th>13521</th>\n      <td>13521</td>\n      <td>13521</td>\n      <td>5</td>\n      <td>513521</td>\n      <td>125</td>\n      <td>0</td>\n      <td>0</td>\n      <td>0</td>\n      <td>0</td>\n      <td>0</td>\n      <td>0.808105</td>\n      <td>0.155273</td>\n    </tr>\n    <tr>\n      <th>13522</th>\n      <td>13522</td>\n      <td>13522</td>\n      <td>5</td>\n      <td>513522</td>\n      <td>55</td>\n      <td>0</td>\n      <td>0</td>\n      <td>0</td>\n      <td>0</td>\n      <td>0</td>\n      <td>0.914062</td>\n      <td>0.078735</td>\n    </tr>\n  </tbody>\n</table>\n<p>13523 rows × 12 columns</p>\n</div>"
     },
     "metadata": {},
     "execution_count": 54
    }
   ],
   "source": [
    "questions_df"
   ]
  },
  {
   "cell_type": "code",
   "execution_count": 55,
   "metadata": {},
   "outputs": [],
   "source": [
    "part_agg = questions_df.groupby('part')['content_correctness'].agg(['mean', 'var'])\n",
    "questions_df['part_correctness_mean'] = questions_df['part'].map(part_agg['mean'])\n",
    "questions_df['part_correctness_std'] = questions_df['part'].map(part_agg['var'])\n",
    "questions_df.part_correctness_mean=questions_df.part_correctness_mean.astype('float16')\n",
    "questions_df.part_correctness_std=questions_df.part_correctness_std.astype('float16')"
   ]
  },
  {
   "cell_type": "code",
   "execution_count": 56,
   "metadata": {},
   "outputs": [
    {
     "output_type": "execute_result",
     "data": {
      "text/plain": [
       "       content_id  bundle_id  part  part_bundle_id  tags1  tags2  tags3  \\\n",
       "0               0          0     1          100000     51    131    162   \n",
       "1               1          1     1          100001    131     36     81   \n",
       "2               2          2     1          100002    131    101    162   \n",
       "3               3          3     1          100003    131    149    162   \n",
       "4               4          4     1          100004    131      5    162   \n",
       "...           ...        ...   ...             ...    ...    ...    ...   \n",
       "13518       13518      13518     5          513518     14      0      0   \n",
       "13519       13519      13519     5          513519      8      0      0   \n",
       "13520       13520      13520     5          513520     73      0      0   \n",
       "13521       13521      13521     5          513521    125      0      0   \n",
       "13522       13522      13522     5          513522     55      0      0   \n",
       "\n",
       "       tags4  tags5  tags6  content_correctness  content_correctness_std  \\\n",
       "0         38      0      0             0.907715                 0.083801   \n",
       "1          0      0      0             0.890625                 0.097412   \n",
       "2         92      0      0             0.554199                 0.247070   \n",
       "3         29      0      0             0.779297                 0.171875   \n",
       "4         38      0      0             0.613281                 0.237183   \n",
       "...      ...    ...    ...                  ...                      ...   \n",
       "13518      0      0      0             0.787109                 0.167847   \n",
       "13519      0      0      0             0.571289                 0.245117   \n",
       "13520      0      0      0             0.672363                 0.220459   \n",
       "13521      0      0      0             0.808105                 0.155273   \n",
       "13522      0      0      0             0.914062                 0.078735   \n",
       "\n",
       "       part_correctness_mean  part_correctness_std  \n",
       "0                   0.814941              0.021591  \n",
       "1                   0.814941              0.021591  \n",
       "2                   0.814941              0.021591  \n",
       "3                   0.814941              0.021591  \n",
       "4                   0.814941              0.021591  \n",
       "...                      ...                   ...  \n",
       "13518               0.666016              0.024445  \n",
       "13519               0.666016              0.024445  \n",
       "13520               0.666016              0.024445  \n",
       "13521               0.666016              0.024445  \n",
       "13522               0.666016              0.024445  \n",
       "\n",
       "[13523 rows x 14 columns]"
      ],
      "text/html": "<div>\n<style scoped>\n    .dataframe tbody tr th:only-of-type {\n        vertical-align: middle;\n    }\n\n    .dataframe tbody tr th {\n        vertical-align: top;\n    }\n\n    .dataframe thead th {\n        text-align: right;\n    }\n</style>\n<table border=\"1\" class=\"dataframe\">\n  <thead>\n    <tr style=\"text-align: right;\">\n      <th></th>\n      <th>content_id</th>\n      <th>bundle_id</th>\n      <th>part</th>\n      <th>part_bundle_id</th>\n      <th>tags1</th>\n      <th>tags2</th>\n      <th>tags3</th>\n      <th>tags4</th>\n      <th>tags5</th>\n      <th>tags6</th>\n      <th>content_correctness</th>\n      <th>content_correctness_std</th>\n      <th>part_correctness_mean</th>\n      <th>part_correctness_std</th>\n    </tr>\n  </thead>\n  <tbody>\n    <tr>\n      <th>0</th>\n      <td>0</td>\n      <td>0</td>\n      <td>1</td>\n      <td>100000</td>\n      <td>51</td>\n      <td>131</td>\n      <td>162</td>\n      <td>38</td>\n      <td>0</td>\n      <td>0</td>\n      <td>0.907715</td>\n      <td>0.083801</td>\n      <td>0.814941</td>\n      <td>0.021591</td>\n    </tr>\n    <tr>\n      <th>1</th>\n      <td>1</td>\n      <td>1</td>\n      <td>1</td>\n      <td>100001</td>\n      <td>131</td>\n      <td>36</td>\n      <td>81</td>\n      <td>0</td>\n      <td>0</td>\n      <td>0</td>\n      <td>0.890625</td>\n      <td>0.097412</td>\n      <td>0.814941</td>\n      <td>0.021591</td>\n    </tr>\n    <tr>\n      <th>2</th>\n      <td>2</td>\n      <td>2</td>\n      <td>1</td>\n      <td>100002</td>\n      <td>131</td>\n      <td>101</td>\n      <td>162</td>\n      <td>92</td>\n      <td>0</td>\n      <td>0</td>\n      <td>0.554199</td>\n      <td>0.247070</td>\n      <td>0.814941</td>\n      <td>0.021591</td>\n    </tr>\n    <tr>\n      <th>3</th>\n      <td>3</td>\n      <td>3</td>\n      <td>1</td>\n      <td>100003</td>\n      <td>131</td>\n      <td>149</td>\n      <td>162</td>\n      <td>29</td>\n      <td>0</td>\n      <td>0</td>\n      <td>0.779297</td>\n      <td>0.171875</td>\n      <td>0.814941</td>\n      <td>0.021591</td>\n    </tr>\n    <tr>\n      <th>4</th>\n      <td>4</td>\n      <td>4</td>\n      <td>1</td>\n      <td>100004</td>\n      <td>131</td>\n      <td>5</td>\n      <td>162</td>\n      <td>38</td>\n      <td>0</td>\n      <td>0</td>\n      <td>0.613281</td>\n      <td>0.237183</td>\n      <td>0.814941</td>\n      <td>0.021591</td>\n    </tr>\n    <tr>\n      <th>...</th>\n      <td>...</td>\n      <td>...</td>\n      <td>...</td>\n      <td>...</td>\n      <td>...</td>\n      <td>...</td>\n      <td>...</td>\n      <td>...</td>\n      <td>...</td>\n      <td>...</td>\n      <td>...</td>\n      <td>...</td>\n      <td>...</td>\n      <td>...</td>\n    </tr>\n    <tr>\n      <th>13518</th>\n      <td>13518</td>\n      <td>13518</td>\n      <td>5</td>\n      <td>513518</td>\n      <td>14</td>\n      <td>0</td>\n      <td>0</td>\n      <td>0</td>\n      <td>0</td>\n      <td>0</td>\n      <td>0.787109</td>\n      <td>0.167847</td>\n      <td>0.666016</td>\n      <td>0.024445</td>\n    </tr>\n    <tr>\n      <th>13519</th>\n      <td>13519</td>\n      <td>13519</td>\n      <td>5</td>\n      <td>513519</td>\n      <td>8</td>\n      <td>0</td>\n      <td>0</td>\n      <td>0</td>\n      <td>0</td>\n      <td>0</td>\n      <td>0.571289</td>\n      <td>0.245117</td>\n      <td>0.666016</td>\n      <td>0.024445</td>\n    </tr>\n    <tr>\n      <th>13520</th>\n      <td>13520</td>\n      <td>13520</td>\n      <td>5</td>\n      <td>513520</td>\n      <td>73</td>\n      <td>0</td>\n      <td>0</td>\n      <td>0</td>\n      <td>0</td>\n      <td>0</td>\n      <td>0.672363</td>\n      <td>0.220459</td>\n      <td>0.666016</td>\n      <td>0.024445</td>\n    </tr>\n    <tr>\n      <th>13521</th>\n      <td>13521</td>\n      <td>13521</td>\n      <td>5</td>\n      <td>513521</td>\n      <td>125</td>\n      <td>0</td>\n      <td>0</td>\n      <td>0</td>\n      <td>0</td>\n      <td>0</td>\n      <td>0.808105</td>\n      <td>0.155273</td>\n      <td>0.666016</td>\n      <td>0.024445</td>\n    </tr>\n    <tr>\n      <th>13522</th>\n      <td>13522</td>\n      <td>13522</td>\n      <td>5</td>\n      <td>513522</td>\n      <td>55</td>\n      <td>0</td>\n      <td>0</td>\n      <td>0</td>\n      <td>0</td>\n      <td>0</td>\n      <td>0.914062</td>\n      <td>0.078735</td>\n      <td>0.666016</td>\n      <td>0.024445</td>\n    </tr>\n  </tbody>\n</table>\n<p>13523 rows × 14 columns</p>\n</div>"
     },
     "metadata": {},
     "execution_count": 56
    }
   ],
   "source": [
    "questions_df"
   ]
  },
  {
   "cell_type": "code",
   "execution_count": 57,
   "metadata": {},
   "outputs": [],
   "source": [
    "bundle_agg = questions_df.groupby('bundle_id')['content_correctness'].agg(['mean'])\n",
    "questions_df['bundle_correctness'] = questions_df['bundle_id'].map(bundle_agg['mean'])\n",
    "questions_df.bundle_correctness=questions_df.bundle_correctness.astype('float16')"
   ]
  },
  {
   "cell_type": "code",
   "execution_count": 58,
   "metadata": {},
   "outputs": [],
   "source": [
    "tags1_agg = questions_df.groupby('tags1')['content_correctness'].agg(['mean', 'var'])\n",
    "questions_df['tags1_correctness_mean'] = questions_df['tags1'].map(tags1_agg['mean'])\n",
    "questions_df['tags1_correctness_std'] = questions_df['tags1'].map(tags1_agg['var'])\n",
    "questions_df.tags1_correctness_mean=questions_df.tags1_correctness_mean.astype('float16')\n",
    "questions_df.tags1_correctness_std=questions_df.tags1_correctness_std.astype('float16')"
   ]
  },
  {
   "cell_type": "code",
   "execution_count": 59,
   "metadata": {},
   "outputs": [],
   "source": [
    "questions_df.drop(columns=['content_correctness'], inplace=True)"
   ]
  },
  {
   "cell_type": "code",
   "execution_count": 60,
   "metadata": {},
   "outputs": [
    {
     "output_type": "execute_result",
     "data": {
      "text/plain": [
       "content_id                   int16\n",
       "bundle_id                    int16\n",
       "part                          int8\n",
       "part_bundle_id               int32\n",
       "tags1                        int16\n",
       "tags2                        int16\n",
       "tags3                        int16\n",
       "tags4                        int16\n",
       "tags5                        int16\n",
       "tags6                        int16\n",
       "content_correctness_std    float16\n",
       "part_correctness_mean      float16\n",
       "part_correctness_std       float16\n",
       "bundle_correctness         float16\n",
       "tags1_correctness_mean     float16\n",
       "tags1_correctness_std      float16\n",
       "dtype: object"
      ]
     },
     "metadata": {},
     "execution_count": 60
    }
   ],
   "source": [
    "questions_df.dtypes"
   ]
  },
  {
   "cell_type": "code",
   "execution_count": 61,
   "metadata": {},
   "outputs": [
    {
     "output_type": "execute_result",
     "data": {
      "text/plain": [
       "72"
      ]
     },
     "metadata": {},
     "execution_count": 61
    }
   ],
   "source": [
    "del bundle_agg\n",
    "del part_agg\n",
    "del tags1_agg\n",
    "gc.collect()"
   ]
  },
  {
   "cell_type": "code",
   "execution_count": 62,
   "metadata": {},
   "outputs": [
    {
     "output_type": "execute_result",
     "data": {
      "text/plain": [
       "99271300"
      ]
     },
     "metadata": {},
     "execution_count": 62
    }
   ],
   "source": [
    "len(train_df)"
   ]
  },
  {
   "cell_type": "code",
   "execution_count": 63,
   "metadata": {},
   "outputs": [],
   "source": [
    "train_df['user_correctness'].fillna( 1, inplace=True)\n",
    "train_df['attempt_no'].fillna(1, inplace=True)\n",
    "\n",
    "train_df.fillna(0, inplace=True)"
   ]
  },
  {
   "cell_type": "code",
   "execution_count": 64,
   "metadata": {},
   "outputs": [
    {
     "output_type": "execute_result",
     "data": {
      "text/plain": [
       "   timestamp  user_id  content_id  content_type_id  task_container_id  \\\n",
       "0          0      115        5692                0                  1   \n",
       "1          0      115        5716                0                  2   \n",
       "2          0      115         128                0                  0   \n",
       "3          0      115        7860                0                  3   \n",
       "4          0      115        7922                0                  4   \n",
       "\n",
       "   answered_correctly  prior_question_elapsed_time  \\\n",
       "0                   1                 25423.853516   \n",
       "1                   1                 37000.000000   \n",
       "2                   1                 55000.000000   \n",
       "3                   1                 19000.000000   \n",
       "4                   1                 11000.000000   \n",
       "\n",
       "   prior_question_had_explanation  user_lecture_cumsum  user_lecture_lv  ...  \\\n",
       "0                               0                    0              0.0  ...   \n",
       "1                               0                    0              0.0  ...   \n",
       "2                               0                    0              0.0  ...   \n",
       "3                               0                    0              0.0  ...   \n",
       "4                               0                    0              0.0  ...   \n",
       "\n",
       "   user_correct_cumcount  explanation_mean  explanation_cumsum  attempt_no  \\\n",
       "0                      0               0.0                   0           1   \n",
       "1                      1               0.0                   0           1   \n",
       "2                      2               0.0                   0           1   \n",
       "3                      3               0.0                   0           1   \n",
       "4                      4               0.0                   0           1   \n",
       "\n",
       "   content_count  content_sum  content_correctness  task_container_sum  \\\n",
       "0          36514        27221             0.745605              208704   \n",
       "1          23991        17631             0.734863              172342   \n",
       "2          19619        18969             0.966797              269233   \n",
       "3          21733        20751             0.954590              214721   \n",
       "4          19409        18501             0.953125              330079   \n",
       "\n",
       "   task_container_std  task_container_correctness  \n",
       "0            0.249268                    0.527344  \n",
       "1            0.245850                    0.435791  \n",
       "2            0.217651                    0.680176  \n",
       "3            0.248169                    0.542969  \n",
       "4            0.249512                    0.477051  \n",
       "\n",
       "[5 rows x 25 columns]"
      ],
      "text/html": "<div>\n<style scoped>\n    .dataframe tbody tr th:only-of-type {\n        vertical-align: middle;\n    }\n\n    .dataframe tbody tr th {\n        vertical-align: top;\n    }\n\n    .dataframe thead th {\n        text-align: right;\n    }\n</style>\n<table border=\"1\" class=\"dataframe\">\n  <thead>\n    <tr style=\"text-align: right;\">\n      <th></th>\n      <th>timestamp</th>\n      <th>user_id</th>\n      <th>content_id</th>\n      <th>content_type_id</th>\n      <th>task_container_id</th>\n      <th>answered_correctly</th>\n      <th>prior_question_elapsed_time</th>\n      <th>prior_question_had_explanation</th>\n      <th>user_lecture_cumsum</th>\n      <th>user_lecture_lv</th>\n      <th>...</th>\n      <th>user_correct_cumcount</th>\n      <th>explanation_mean</th>\n      <th>explanation_cumsum</th>\n      <th>attempt_no</th>\n      <th>content_count</th>\n      <th>content_sum</th>\n      <th>content_correctness</th>\n      <th>task_container_sum</th>\n      <th>task_container_std</th>\n      <th>task_container_correctness</th>\n    </tr>\n  </thead>\n  <tbody>\n    <tr>\n      <th>0</th>\n      <td>0</td>\n      <td>115</td>\n      <td>5692</td>\n      <td>0</td>\n      <td>1</td>\n      <td>1</td>\n      <td>25423.853516</td>\n      <td>0</td>\n      <td>0</td>\n      <td>0.0</td>\n      <td>...</td>\n      <td>0</td>\n      <td>0.0</td>\n      <td>0</td>\n      <td>1</td>\n      <td>36514</td>\n      <td>27221</td>\n      <td>0.745605</td>\n      <td>208704</td>\n      <td>0.249268</td>\n      <td>0.527344</td>\n    </tr>\n    <tr>\n      <th>1</th>\n      <td>0</td>\n      <td>115</td>\n      <td>5716</td>\n      <td>0</td>\n      <td>2</td>\n      <td>1</td>\n      <td>37000.000000</td>\n      <td>0</td>\n      <td>0</td>\n      <td>0.0</td>\n      <td>...</td>\n      <td>1</td>\n      <td>0.0</td>\n      <td>0</td>\n      <td>1</td>\n      <td>23991</td>\n      <td>17631</td>\n      <td>0.734863</td>\n      <td>172342</td>\n      <td>0.245850</td>\n      <td>0.435791</td>\n    </tr>\n    <tr>\n      <th>2</th>\n      <td>0</td>\n      <td>115</td>\n      <td>128</td>\n      <td>0</td>\n      <td>0</td>\n      <td>1</td>\n      <td>55000.000000</td>\n      <td>0</td>\n      <td>0</td>\n      <td>0.0</td>\n      <td>...</td>\n      <td>2</td>\n      <td>0.0</td>\n      <td>0</td>\n      <td>1</td>\n      <td>19619</td>\n      <td>18969</td>\n      <td>0.966797</td>\n      <td>269233</td>\n      <td>0.217651</td>\n      <td>0.680176</td>\n    </tr>\n    <tr>\n      <th>3</th>\n      <td>0</td>\n      <td>115</td>\n      <td>7860</td>\n      <td>0</td>\n      <td>3</td>\n      <td>1</td>\n      <td>19000.000000</td>\n      <td>0</td>\n      <td>0</td>\n      <td>0.0</td>\n      <td>...</td>\n      <td>3</td>\n      <td>0.0</td>\n      <td>0</td>\n      <td>1</td>\n      <td>21733</td>\n      <td>20751</td>\n      <td>0.954590</td>\n      <td>214721</td>\n      <td>0.248169</td>\n      <td>0.542969</td>\n    </tr>\n    <tr>\n      <th>4</th>\n      <td>0</td>\n      <td>115</td>\n      <td>7922</td>\n      <td>0</td>\n      <td>4</td>\n      <td>1</td>\n      <td>11000.000000</td>\n      <td>0</td>\n      <td>0</td>\n      <td>0.0</td>\n      <td>...</td>\n      <td>4</td>\n      <td>0.0</td>\n      <td>0</td>\n      <td>1</td>\n      <td>19409</td>\n      <td>18501</td>\n      <td>0.953125</td>\n      <td>330079</td>\n      <td>0.249512</td>\n      <td>0.477051</td>\n    </tr>\n  </tbody>\n</table>\n<p>5 rows × 25 columns</p>\n</div>"
     },
     "metadata": {},
     "execution_count": 64
    }
   ],
   "source": [
    "train_df.head()"
   ]
  },
  {
   "cell_type": "code",
   "execution_count": 65,
   "metadata": {},
   "outputs": [
    {
     "output_type": "execute_result",
     "data": {
      "text/plain": [
       "timestamp                              int16\n",
       "user_id                                int32\n",
       "content_id                             int16\n",
       "content_type_id                         int8\n",
       "task_container_id                      int16\n",
       "answered_correctly                      int8\n",
       "prior_question_elapsed_time          float32\n",
       "prior_question_had_explanation          int8\n",
       "user_lecture_cumsum                     int8\n",
       "user_lecture_lv                      float16\n",
       "lagtime                                int32\n",
       "lagtime_mean                           int32\n",
       "delta_prior_question_elapsed_time      int32\n",
       "user_correctness                     float16\n",
       "user_correct_cumsum                    int16\n",
       "user_correct_cumcount                  int16\n",
       "explanation_mean                     float16\n",
       "explanation_cumsum                     int16\n",
       "attempt_no                              int8\n",
       "content_count                          int32\n",
       "content_sum                            int32\n",
       "content_correctness                  float16\n",
       "task_container_sum                     int32\n",
       "task_container_std                   float16\n",
       "task_container_correctness           float16\n",
       "dtype: object"
      ]
     },
     "metadata": {},
     "execution_count": 65
    }
   ],
   "source": [
    "train_df.dtypes"
   ]
  },
  {
   "cell_type": "code",
   "execution_count": 66,
   "metadata": {},
   "outputs": [
    {
     "output_type": "stream",
     "name": "stdout",
     "text": [
      "number skills 13523\n"
     ]
    },
    {
     "output_type": "execute_result",
     "data": {
      "text/plain": [
       "0"
      ]
     },
     "metadata": {},
     "execution_count": 66
    }
   ],
   "source": [
    "# ユーザーIDごとにまとめられたコンテンツIDとユーザーの答えが当たっているかどうか（MAX_SEQで大きさの制御も）\n",
    "MAX_SEQ = 160\n",
    "\n",
    "skills = train_df[\"content_id\"].unique()\n",
    "n_skill = len(skills)\n",
    "print(\"number skills\", len(skills))\n",
    "\n",
    "group = train_df[['user_id', 'content_id', 'answered_correctly']].groupby('user_id').apply(lambda r: (\n",
    "            r['content_id'].values,\n",
    "            r['answered_correctly'].values))\n",
    "\n",
    "for user_id in group.index:\n",
    "    q, qa = group[user_id]\n",
    "    if len(q)>MAX_SEQ:\n",
    "        group[user_id] = (q[-MAX_SEQ:],qa[-MAX_SEQ:]) # 後ろから数えてMAX_SEQまで、つまりMAX_SEQを超えたら前が消される\n",
    "        \n",
    "pickle.dump(group, open(\"data/group.pkl\", \"wb\"))\n",
    "del group\n",
    "gc.collect()\n"
   ]
  },
  {
   "cell_type": "code",
   "execution_count": 67,
   "metadata": {},
   "outputs": [
    {
     "output_type": "stream",
     "name": "stdout",
     "text": [
      "user_id\n115           ([5692, 5716, 128, 7860, 7922, 156, 51, 50, 78...\n124           ([7900, 7876, 175, 1278, 2064, 2063, 2065, 336...\n2746          ([5273, 758, 5976, 236, 404, 382, 405, 873, 53...\n5382          ([5000, 3944, 217, 5844, 5965, 4990, 5235, 605...\n8623          ([3915, 4750, 6456, 3968, 6104, 5738, 6435, 54...\n                                    ...                        \n2147470770    ([697, 502, 946, 10685, 4664, 4476, 5247, 9161...\n2147470777    ([6487, 6843, 6844, 6842, 6841, 6827, 6826, 68...\n2147481750    ([4137, 1270, 9261, 8201, 367, 378, 214, 6071,...\n2147482216    ([6388, 6025, 6075, 9968, 3913, 6155, 5593, 95...\n2147482888    ([6147, 4792, 5738, 6102, 4748, 7956, 6435, 92...\nLength: 393656, dtype: object\n"
     ]
    }
   ],
   "source": [
    "with open('data/group.pkl', 'rb') as load_test:\n",
    "  load_test = pickle.load(load_test)\n",
    "  print(load_test)"
   ]
  },
  {
   "cell_type": "code",
   "execution_count": 68,
   "metadata": {},
   "outputs": [
    {
     "output_type": "stream",
     "name": "stdout",
     "text": [
      "(array([5692, 5716,  128, 7860, 7922,  156,   51,   50, 7896, 7863,  152,\n        104,  108, 7900, 7901, 7971,   25,  183, 7926, 7927,    4, 7984,\n         45,  185,   55, 7876,    6,  172, 7898,  175,  100, 7859,   57,\n       7948,  151,  167, 7897, 7882, 7962, 1278, 2065, 2064, 2063, 3363,\n       3365, 3364], dtype=int16), array([1, 1, 1, 1, 1, 1, 1, 1, 1, 1, 0, 0, 0, 1, 1, 1, 1, 0, 1, 1, 0, 0,\n       0, 0, 1, 1, 1, 1, 1, 0, 1, 0, 1, 1, 1, 1, 0, 1, 1, 1, 1, 1, 0, 0,\n       0, 1], dtype=int8))\n"
     ]
    }
   ],
   "source": [
    "print(load_test[115])"
   ]
  },
  {
   "cell_type": "code",
   "execution_count": 69,
   "metadata": {},
   "outputs": [
    {
     "output_type": "execute_result",
     "data": {
      "text/plain": [
       "40"
      ]
     },
     "metadata": {},
     "execution_count": 69
    }
   ],
   "source": [
    "del load_test \n",
    "gc.collect()"
   ]
  },
  {
   "cell_type": "code",
   "execution_count": 70,
   "metadata": {},
   "outputs": [],
   "source": [
    "features = [\n",
    "#   'user_id',\n",
    "#HDKIM    'timestamp',\n",
    "    'lagtime',\n",
    "    'lagtime_mean',\n",
    "   # 'content_id',\n",
    "   # 'task_container_id',\n",
    "    'user_lecture_cumsum', # X\n",
    "    'user_lecture_lv',\n",
    "    'prior_question_elapsed_time',\n",
    "    'delta_prior_question_elapsed_time',\n",
    "    'user_correctness',\n",
    "    'user_correct_cumcount', #X\n",
    "    'user_correct_cumsum', #X\n",
    "    'content_correctness',\n",
    "   # 'content_correctness_std',\n",
    "    'content_count',\n",
    "    'content_sum', #X\n",
    "    'task_container_correctness',\n",
    "   # 'task_container_std',\n",
    "   # 'task_container_sum',\n",
    "    'bundle_correctness',\n",
    "    'attempt_no',\n",
    "    'part',\n",
    "    'part_correctness_mean',\n",
    "   # 'part_correctness_std',\n",
    "    'tags1',\n",
    "    'tags1_correctness_mean',\n",
    "      #  'tags1_correctness_std',\n",
    "#HDKIM    'tags2',\n",
    "#HDKIM    'tags3',\n",
    "#HDKIM    'tags4',\n",
    "#HDKIM    'tags5',\n",
    "#HDKIM    'tags6',\n",
    "    'bundle_id',\n",
    "  #  'part_bundle_id',\n",
    "    'explanation_mean', \n",
    "    'explanation_cumsum',\n",
    "    'prior_question_had_explanation',\n",
    "#     'part_1',\n",
    "#     'part_2',\n",
    "#     'part_3',\n",
    "#     'part_4',\n",
    "#     'part_5',\n",
    "#     'part_6',\n",
    "#     'part_7',\n",
    "#     'type_of_concept',\n",
    "#     'type_of_intention',\n",
    "#     'type_of_solving_question',\n",
    "#     'type_of_starter'\n",
    "]"
   ]
  },
  {
   "cell_type": "code",
   "execution_count": 71,
   "metadata": {},
   "outputs": [],
   "source": [
    "categorical_columns= [\n",
    "#   'user_id',\n",
    "  #  'content_id',\n",
    "  # 'task_container_id',\n",
    "    'part',        \n",
    "    'tags1',\n",
    "#HDKIM    'tags2',\n",
    "#HDKIM    'tags3',\n",
    "#HDKIM    'tags4',\n",
    "#HDKIM    'tags5',\n",
    "#HDKIM    'tags6',\n",
    "    'bundle_id',\n",
    "   # 'part_bundle_id',\n",
    "    'prior_question_had_explanation',\n",
    "#     'part_1',\n",
    "#     'part_2',\n",
    "#     'part_3',\n",
    "#     'part_4',\n",
    "#     'part_5',\n",
    "#     'part_6',\n",
    "#     'part_7',\n",
    "#     'type_of_concept',\n",
    "#     'type_of_intention',\n",
    "#     'type_of_solving_question',\n",
    "#     'type_of_starter'\n",
    "]"
   ]
  },
  {
   "cell_type": "code",
   "execution_count": 72,
   "metadata": {},
   "outputs": [],
   "source": [
    "flag_lgbm=True\n",
    "clfs = list()\n",
    "params = {\n",
    "'num_leaves': 350,\n",
    "'max_bin':700,\n",
    "'min_child_weight': 0.03454472573214212,\n",
    "'feature_fraction': 0.58,\n",
    "'bagging_fraction': 0.58,\n",
    "#'min_data_in_leaf': 106,\n",
    "'objective': 'binary',\n",
    "'max_depth': -1,\n",
    "'learning_rate': 0.05,\n",
    "\"boosting_type\": \"gbdt\",\n",
    "\"bagging_seed\": 11,\n",
    "\"metric\": 'auc',\n",
    "\"verbosity\": -1,\n",
    "'reg_alpha': 0.3899927210061127,\n",
    "'reg_lambda': 0.6485237330340494,\n",
    "'random_state': 47\n",
    "}"
   ]
  },
  {
   "cell_type": "code",
   "execution_count": 73,
   "metadata": {},
   "outputs": [
    {
     "output_type": "stream",
     "name": "stdout",
     "text": [
      "sample end\n",
      "train_df length: 17757590\n",
      "valid_df length： 2242410\n"
     ]
    }
   ],
   "source": [
    "trains=list()\n",
    "valids=list()\n",
    "num=1\n",
    "for i in range(0,num):\n",
    "  \n",
    "    #train_df=train_df.reset_index(drop=True)\n",
    "    train_df_clf=train_df.sample(n=20000*1000)\n",
    "    print('sample end')\n",
    "    #train_df.drop(train_df_clf.index, inplace=True)\n",
    "    #print('train_df drop end')\n",
    "    \n",
    "   \n",
    "    del train_df\n",
    "    \n",
    "    users=train_df_clf['user_id'].drop_duplicates()#去重\n",
    "    \n",
    "    users=users.sample(frac=0.025)\n",
    "    users_df=pd.DataFrame()\n",
    "    users_df['user_id']=users.values\n",
    "  \n",
    "  \n",
    "    valid_df_newuser = pd.merge(train_df_clf, users_df, on=['user_id'], how='inner',right_index=True)\n",
    "    del users_df\n",
    "    del users\n",
    "    gc.collect()\n",
    "    #\n",
    "    train_df_clf.drop(valid_df_newuser.index, inplace=True)\n",
    "   \n",
    "    #-----------\n",
    "    #train_df_clf=train_df_clf.sample(frac=0.2)\n",
    "    #train_df_clf.drop(valid_df_newuser.index, inplace=True)\n",
    "    train_df_clf = pd.merge(train_df_clf, questions_df, on='content_id', how='left',right_index=True)#\n",
    "    valid_df_newuser = pd.merge(valid_df_newuser, questions_df, on='content_id', how='left',right_index=True)#\n",
    "    \n",
    "#     train_df_clf = pd.merge(train_df_clf, user_lecture_stats_part, on='user_id', how=\"left\",right_index=True)\n",
    "#     valid_df_newuser = pd.merge(valid_df_newuser, user_lecture_stats_part, on='user_id', how=\"left\",right_index=True)\n",
    "\n",
    "    valid_df=train_df_clf.sample(frac=0.09)\n",
    "    train_df_clf.drop(valid_df.index, inplace=True)\n",
    "   \n",
    "    valid_df = valid_df.append(valid_df_newuser)\n",
    "    del valid_df_newuser\n",
    "    gc.collect()\n",
    "    #\n",
    "\n",
    "    trains.append(train_df_clf)\n",
    "    valids.append(valid_df)\n",
    "    print('train_df length:', len(train_df_clf))\n",
    "    print('valid_df length：',len(valid_df))\n",
    "    #train_df=train_df.reset_index(drop=True)"
   ]
  },
  {
   "cell_type": "code",
   "execution_count": 74,
   "metadata": {},
   "outputs": [
    {
     "output_type": "execute_result",
     "data": {
      "text/plain": [
       "20"
      ]
     },
     "metadata": {},
     "execution_count": 74
    }
   ],
   "source": [
    "del train_df_clf\n",
    "del valid_df\n",
    "gc.collect()"
   ]
  },
  {
   "cell_type": "code",
   "execution_count": 75,
   "metadata": {},
   "outputs": [
    {
     "output_type": "stream",
     "name": "stdout",
     "text": [
      "Training until validation scores don't improve for 10 rounds\n",
      "[10]\ttraining's auc: 0.756065\tvalid_1's auc: 0.75398\n",
      "[20]\ttraining's auc: 0.762704\tvalid_1's auc: 0.760513\n",
      "[30]\ttraining's auc: 0.765853\tvalid_1's auc: 0.763474\n",
      "[40]\ttraining's auc: 0.767342\tvalid_1's auc: 0.764624\n",
      "[50]\ttraining's auc: 0.769335\tvalid_1's auc: 0.766031\n",
      "[60]\ttraining's auc: 0.771025\tvalid_1's auc: 0.767291\n",
      "[70]\ttraining's auc: 0.772374\tvalid_1's auc: 0.768264\n",
      "[80]\ttraining's auc: 0.773661\tvalid_1's auc: 0.768967\n",
      "[90]\ttraining's auc: 0.775218\tvalid_1's auc: 0.769718\n",
      "[100]\ttraining's auc: 0.776441\tvalid_1's auc: 0.770327\n",
      "Did not meet early stopping. Best iteration is:\n",
      "[100]\ttraining's auc: 0.776441\tvalid_1's auc: 0.770327\n"
     ]
    },
    {
     "output_type": "display_data",
     "data": {
      "text/plain": "<Figure size 432x288 with 1 Axes>",
      "image/svg+xml": "<?xml version=\"1.0\" encoding=\"utf-8\" standalone=\"no\"?>\r\n<!DOCTYPE svg PUBLIC \"-//W3C//DTD SVG 1.1//EN\"\r\n  \"http://www.w3.org/Graphics/SVG/1.1/DTD/svg11.dtd\">\r\n<!-- Created with matplotlib (https://matplotlib.org/) -->\r\n<svg height=\"277.314375pt\" version=\"1.1\" viewBox=\"0 0 586.316783 277.314375\" width=\"586.316783pt\" xmlns=\"http://www.w3.org/2000/svg\" xmlns:xlink=\"http://www.w3.org/1999/xlink\">\r\n <metadata>\r\n  <rdf:RDF xmlns:cc=\"http://creativecommons.org/ns#\" xmlns:dc=\"http://purl.org/dc/elements/1.1/\" xmlns:rdf=\"http://www.w3.org/1999/02/22-rdf-syntax-ns#\">\r\n   <cc:Work>\r\n    <dc:type rdf:resource=\"http://purl.org/dc/dcmitype/StillImage\"/>\r\n    <dc:date>2021-01-28T00:29:25.701263</dc:date>\r\n    <dc:format>image/svg+xml</dc:format>\r\n    <dc:creator>\r\n     <cc:Agent>\r\n      <dc:title>Matplotlib v3.3.3, https://matplotlib.org/</dc:title>\r\n     </cc:Agent>\r\n    </dc:creator>\r\n   </cc:Work>\r\n  </rdf:RDF>\r\n </metadata>\r\n <defs>\r\n  <style type=\"text/css\">*{stroke-linecap:butt;stroke-linejoin:round;}</style>\r\n </defs>\r\n <g id=\"figure_1\">\r\n  <g id=\"patch_1\">\r\n   <path d=\"M 0 277.314375 \r\nL 586.316783 277.314375 \r\nL 586.316783 0 \r\nL 0 0 \r\nz\r\n\" style=\"fill:none;\"/>\r\n  </g>\r\n  <g id=\"axes_1\">\r\n   <g id=\"patch_2\">\r\n    <path d=\"M 201.5875 239.758125 \r\nL 536.3875 239.758125 \r\nL 536.3875 22.318125 \r\nL 201.5875 22.318125 \r\nz\r\n\" style=\"fill:#ffffff;\"/>\r\n   </g>\r\n   <g id=\"patch_3\">\r\n    <path clip-path=\"url(#p25db348a06)\" d=\"M 201.5875 231.604125 \r\nL 201.865956 231.604125 \r\nL 201.865956 229.792125 \r\nL 201.5875 229.792125 \r\nz\r\n\" style=\"fill:#1f77b4;\"/>\r\n   </g>\r\n   <g id=\"patch_4\">\r\n    <path clip-path=\"url(#p25db348a06)\" d=\"M 201.5875 222.544125 \r\nL 202.552114 222.544125 \r\nL 202.552114 220.732125 \r\nL 201.5875 220.732125 \r\nz\r\n\" style=\"fill:#1f77b4;\"/>\r\n   </g>\r\n   <g id=\"patch_5\">\r\n    <path clip-path=\"url(#p25db348a06)\" d=\"M 201.5875 213.484125 \r\nL 202.750035 213.484125 \r\nL 202.750035 211.672125 \r\nL 201.5875 211.672125 \r\nz\r\n\" style=\"fill:#1f77b4;\"/>\r\n   </g>\r\n   <g id=\"patch_6\">\r\n    <path clip-path=\"url(#p25db348a06)\" d=\"M 201.5875 204.424125 \r\nL 202.763424 204.424125 \r\nL 202.763424 202.612125 \r\nL 201.5875 202.612125 \r\nz\r\n\" style=\"fill:#1f77b4;\"/>\r\n   </g>\r\n   <g id=\"patch_7\">\r\n    <path clip-path=\"url(#p25db348a06)\" d=\"M 201.5875 195.364125 \r\nL 203.42409 195.364125 \r\nL 203.42409 193.552125 \r\nL 201.5875 193.552125 \r\nz\r\n\" style=\"fill:#1f77b4;\"/>\r\n   </g>\r\n   <g id=\"patch_8\">\r\n    <path clip-path=\"url(#p25db348a06)\" d=\"M 201.5875 186.304125 \r\nL 203.965286 186.304125 \r\nL 203.965286 184.492125 \r\nL 201.5875 184.492125 \r\nz\r\n\" style=\"fill:#1f77b4;\"/>\r\n   </g>\r\n   <g id=\"patch_9\">\r\n    <path clip-path=\"url(#p25db348a06)\" d=\"M 201.5875 177.244125 \r\nL 204.692322 177.244125 \r\nL 204.692322 175.432125 \r\nL 201.5875 175.432125 \r\nz\r\n\" style=\"fill:#1f77b4;\"/>\r\n   </g>\r\n   <g id=\"patch_10\">\r\n    <path clip-path=\"url(#p25db348a06)\" d=\"M 201.5875 168.184125 \r\nL 205.217781 168.184125 \r\nL 205.217781 166.372125 \r\nL 201.5875 166.372125 \r\nz\r\n\" style=\"fill:#1f77b4;\"/>\r\n   </g>\r\n   <g id=\"patch_11\">\r\n    <path clip-path=\"url(#p25db348a06)\" d=\"M 201.5875 159.124125 \r\nL 205.751742 159.124125 \r\nL 205.751742 157.312125 \r\nL 201.5875 157.312125 \r\nz\r\n\" style=\"fill:#1f77b4;\"/>\r\n   </g>\r\n   <g id=\"patch_12\">\r\n    <path clip-path=\"url(#p25db348a06)\" d=\"M 201.5875 150.064125 \r\nL 206.242506 150.064125 \r\nL 206.242506 148.252125 \r\nL 201.5875 148.252125 \r\nz\r\n\" style=\"fill:#1f77b4;\"/>\r\n   </g>\r\n   <g id=\"patch_13\">\r\n    <path clip-path=\"url(#p25db348a06)\" d=\"M 201.5875 141.004125 \r\nL 207.100854 141.004125 \r\nL 207.100854 139.192125 \r\nL 201.5875 139.192125 \r\nz\r\n\" style=\"fill:#1f77b4;\"/>\r\n   </g>\r\n   <g id=\"patch_14\">\r\n    <path clip-path=\"url(#p25db348a06)\" d=\"M 201.5875 131.944125 \r\nL 210.383292 131.944125 \r\nL 210.383292 130.132125 \r\nL 201.5875 130.132125 \r\nz\r\n\" style=\"fill:#1f77b4;\"/>\r\n   </g>\r\n   <g id=\"patch_15\">\r\n    <path clip-path=\"url(#p25db348a06)\" d=\"M 201.5875 122.884125 \r\nL 214.649566 122.884125 \r\nL 214.649566 121.072125 \r\nL 201.5875 121.072125 \r\nz\r\n\" style=\"fill:#1f77b4;\"/>\r\n   </g>\r\n   <g id=\"patch_16\">\r\n    <path clip-path=\"url(#p25db348a06)\" d=\"M 201.5875 113.824125 \r\nL 214.806956 113.824125 \r\nL 214.806956 112.012125 \r\nL 201.5875 112.012125 \r\nz\r\n\" style=\"fill:#1f77b4;\"/>\r\n   </g>\r\n   <g id=\"patch_17\">\r\n    <path clip-path=\"url(#p25db348a06)\" d=\"M 201.5875 104.764125 \r\nL 215.23732 104.764125 \r\nL 215.23732 102.952125 \r\nL 201.5875 102.952125 \r\nz\r\n\" style=\"fill:#1f77b4;\"/>\r\n   </g>\r\n   <g id=\"patch_18\">\r\n    <path clip-path=\"url(#p25db348a06)\" d=\"M 201.5875 95.704125 \r\nL 217.9867 95.704125 \r\nL 217.9867 93.892125 \r\nL 201.5875 93.892125 \r\nz\r\n\" style=\"fill:#1f77b4;\"/>\r\n   </g>\r\n   <g id=\"patch_19\">\r\n    <path clip-path=\"url(#p25db348a06)\" d=\"M 201.5875 86.644125 \r\nL 222.605838 86.644125 \r\nL 222.605838 84.832125 \r\nL 201.5875 84.832125 \r\nz\r\n\" style=\"fill:#1f77b4;\"/>\r\n   </g>\r\n   <g id=\"patch_20\">\r\n    <path clip-path=\"url(#p25db348a06)\" d=\"M 201.5875 77.584125 \r\nL 238.121643 77.584125 \r\nL 238.121643 75.772125 \r\nL 201.5875 75.772125 \r\nz\r\n\" style=\"fill:#1f77b4;\"/>\r\n   </g>\r\n   <g id=\"patch_21\">\r\n    <path clip-path=\"url(#p25db348a06)\" d=\"M 201.5875 68.524125 \r\nL 239.772573 68.524125 \r\nL 239.772573 66.712125 \r\nL 201.5875 66.712125 \r\nz\r\n\" style=\"fill:#1f77b4;\"/>\r\n   </g>\r\n   <g id=\"patch_22\">\r\n    <path clip-path=\"url(#p25db348a06)\" d=\"M 201.5875 59.464125 \r\nL 275.758266 59.464125 \r\nL 275.758266 57.652125 \r\nL 201.5875 57.652125 \r\nz\r\n\" style=\"fill:#1f77b4;\"/>\r\n   </g>\r\n   <g id=\"patch_23\">\r\n    <path clip-path=\"url(#p25db348a06)\" d=\"M 201.5875 50.404125 \r\nL 322.927398 50.404125 \r\nL 322.927398 48.592125 \r\nL 201.5875 48.592125 \r\nz\r\n\" style=\"fill:#1f77b4;\"/>\r\n   </g>\r\n   <g id=\"patch_24\">\r\n    <path clip-path=\"url(#p25db348a06)\" d=\"M 201.5875 41.344125 \r\nL 388.712921 41.344125 \r\nL 388.712921 39.532125 \r\nL 201.5875 39.532125 \r\nz\r\n\" style=\"fill:#1f77b4;\"/>\r\n   </g>\r\n   <g id=\"patch_25\">\r\n    <path clip-path=\"url(#p25db348a06)\" d=\"M 201.5875 32.284125 \r\nL 505.951136 32.284125 \r\nL 505.951136 30.472125 \r\nL 201.5875 30.472125 \r\nz\r\n\" style=\"fill:#1f77b4;\"/>\r\n   </g>\r\n   <g id=\"matplotlib.axis_1\">\r\n    <g id=\"xtick_1\">\r\n     <g id=\"line2d_1\">\r\n      <path clip-path=\"url(#p25db348a06)\" d=\"M 201.5875 239.758125 \r\nL 201.5875 22.318125 \r\n\" style=\"fill:none;stroke:#b0b0b0;stroke-linecap:square;stroke-width:0.8;\"/>\r\n     </g>\r\n     <g id=\"line2d_2\">\r\n      <defs>\r\n       <path d=\"M 0 0 \r\nL 0 3.5 \r\n\" id=\"mbccbee2983\" style=\"stroke:#000000;stroke-width:0.8;\"/>\r\n      </defs>\r\n      <g>\r\n       <use style=\"stroke:#000000;stroke-width:0.8;\" x=\"201.5875\" xlink:href=\"#mbccbee2983\" y=\"239.758125\"/>\r\n      </g>\r\n     </g>\r\n     <g id=\"text_1\">\r\n      <!-- 0.0 -->\r\n      <g transform=\"translate(193.635938 254.356562)scale(0.1 -0.1)\">\r\n       <defs>\r\n        <path d=\"M 31.78125 66.40625 \r\nQ 24.171875 66.40625 20.328125 58.90625 \r\nQ 16.5 51.421875 16.5 36.375 \r\nQ 16.5 21.390625 20.328125 13.890625 \r\nQ 24.171875 6.390625 31.78125 6.390625 \r\nQ 39.453125 6.390625 43.28125 13.890625 \r\nQ 47.125 21.390625 47.125 36.375 \r\nQ 47.125 51.421875 43.28125 58.90625 \r\nQ 39.453125 66.40625 31.78125 66.40625 \r\nz\r\nM 31.78125 74.21875 \r\nQ 44.046875 74.21875 50.515625 64.515625 \r\nQ 56.984375 54.828125 56.984375 36.375 \r\nQ 56.984375 17.96875 50.515625 8.265625 \r\nQ 44.046875 -1.421875 31.78125 -1.421875 \r\nQ 19.53125 -1.421875 13.0625 8.265625 \r\nQ 6.59375 17.96875 6.59375 36.375 \r\nQ 6.59375 54.828125 13.0625 64.515625 \r\nQ 19.53125 74.21875 31.78125 74.21875 \r\nz\r\n\" id=\"DejaVuSans-48\"/>\r\n        <path d=\"M 10.6875 12.40625 \r\nL 21 12.40625 \r\nL 21 0 \r\nL 10.6875 0 \r\nz\r\n\" id=\"DejaVuSans-46\"/>\r\n       </defs>\r\n       <use xlink:href=\"#DejaVuSans-48\"/>\r\n       <use x=\"63.623047\" xlink:href=\"#DejaVuSans-46\"/>\r\n       <use x=\"95.410156\" xlink:href=\"#DejaVuSans-48\"/>\r\n      </g>\r\n     </g>\r\n    </g>\r\n    <g id=\"xtick_2\">\r\n     <g id=\"line2d_3\">\r\n      <path clip-path=\"url(#p25db348a06)\" d=\"M 243.869887 239.758125 \r\nL 243.869887 22.318125 \r\n\" style=\"fill:none;stroke:#b0b0b0;stroke-linecap:square;stroke-width:0.8;\"/>\r\n     </g>\r\n     <g id=\"line2d_4\">\r\n      <g>\r\n       <use style=\"stroke:#000000;stroke-width:0.8;\" x=\"243.869887\" xlink:href=\"#mbccbee2983\" y=\"239.758125\"/>\r\n      </g>\r\n     </g>\r\n     <g id=\"text_2\">\r\n      <!-- 0.2 -->\r\n      <g transform=\"translate(235.918325 254.356562)scale(0.1 -0.1)\">\r\n       <defs>\r\n        <path d=\"M 19.1875 8.296875 \r\nL 53.609375 8.296875 \r\nL 53.609375 0 \r\nL 7.328125 0 \r\nL 7.328125 8.296875 \r\nQ 12.9375 14.109375 22.625 23.890625 \r\nQ 32.328125 33.6875 34.8125 36.53125 \r\nQ 39.546875 41.84375 41.421875 45.53125 \r\nQ 43.3125 49.21875 43.3125 52.78125 \r\nQ 43.3125 58.59375 39.234375 62.25 \r\nQ 35.15625 65.921875 28.609375 65.921875 \r\nQ 23.96875 65.921875 18.8125 64.3125 \r\nQ 13.671875 62.703125 7.8125 59.421875 \r\nL 7.8125 69.390625 \r\nQ 13.765625 71.78125 18.9375 73 \r\nQ 24.125 74.21875 28.421875 74.21875 \r\nQ 39.75 74.21875 46.484375 68.546875 \r\nQ 53.21875 62.890625 53.21875 53.421875 \r\nQ 53.21875 48.921875 51.53125 44.890625 \r\nQ 49.859375 40.875 45.40625 35.40625 \r\nQ 44.1875 33.984375 37.640625 27.21875 \r\nQ 31.109375 20.453125 19.1875 8.296875 \r\nz\r\n\" id=\"DejaVuSans-50\"/>\r\n       </defs>\r\n       <use xlink:href=\"#DejaVuSans-48\"/>\r\n       <use x=\"63.623047\" xlink:href=\"#DejaVuSans-46\"/>\r\n       <use x=\"95.410156\" xlink:href=\"#DejaVuSans-50\"/>\r\n      </g>\r\n     </g>\r\n    </g>\r\n    <g id=\"xtick_3\">\r\n     <g id=\"line2d_5\">\r\n      <path clip-path=\"url(#p25db348a06)\" d=\"M 286.152274 239.758125 \r\nL 286.152274 22.318125 \r\n\" style=\"fill:none;stroke:#b0b0b0;stroke-linecap:square;stroke-width:0.8;\"/>\r\n     </g>\r\n     <g id=\"line2d_6\">\r\n      <g>\r\n       <use style=\"stroke:#000000;stroke-width:0.8;\" x=\"286.152274\" xlink:href=\"#mbccbee2983\" y=\"239.758125\"/>\r\n      </g>\r\n     </g>\r\n     <g id=\"text_3\">\r\n      <!-- 0.4 -->\r\n      <g transform=\"translate(278.200712 254.356562)scale(0.1 -0.1)\">\r\n       <defs>\r\n        <path d=\"M 37.796875 64.3125 \r\nL 12.890625 25.390625 \r\nL 37.796875 25.390625 \r\nz\r\nM 35.203125 72.90625 \r\nL 47.609375 72.90625 \r\nL 47.609375 25.390625 \r\nL 58.015625 25.390625 \r\nL 58.015625 17.1875 \r\nL 47.609375 17.1875 \r\nL 47.609375 0 \r\nL 37.796875 0 \r\nL 37.796875 17.1875 \r\nL 4.890625 17.1875 \r\nL 4.890625 26.703125 \r\nz\r\n\" id=\"DejaVuSans-52\"/>\r\n       </defs>\r\n       <use xlink:href=\"#DejaVuSans-48\"/>\r\n       <use x=\"63.623047\" xlink:href=\"#DejaVuSans-46\"/>\r\n       <use x=\"95.410156\" xlink:href=\"#DejaVuSans-52\"/>\r\n      </g>\r\n     </g>\r\n    </g>\r\n    <g id=\"xtick_4\">\r\n     <g id=\"line2d_7\">\r\n      <path clip-path=\"url(#p25db348a06)\" d=\"M 328.434662 239.758125 \r\nL 328.434662 22.318125 \r\n\" style=\"fill:none;stroke:#b0b0b0;stroke-linecap:square;stroke-width:0.8;\"/>\r\n     </g>\r\n     <g id=\"line2d_8\">\r\n      <g>\r\n       <use style=\"stroke:#000000;stroke-width:0.8;\" x=\"328.434662\" xlink:href=\"#mbccbee2983\" y=\"239.758125\"/>\r\n      </g>\r\n     </g>\r\n     <g id=\"text_4\">\r\n      <!-- 0.6 -->\r\n      <g transform=\"translate(320.483099 254.356562)scale(0.1 -0.1)\">\r\n       <defs>\r\n        <path d=\"M 33.015625 40.375 \r\nQ 26.375 40.375 22.484375 35.828125 \r\nQ 18.609375 31.296875 18.609375 23.390625 \r\nQ 18.609375 15.53125 22.484375 10.953125 \r\nQ 26.375 6.390625 33.015625 6.390625 \r\nQ 39.65625 6.390625 43.53125 10.953125 \r\nQ 47.40625 15.53125 47.40625 23.390625 \r\nQ 47.40625 31.296875 43.53125 35.828125 \r\nQ 39.65625 40.375 33.015625 40.375 \r\nz\r\nM 52.59375 71.296875 \r\nL 52.59375 62.3125 \r\nQ 48.875 64.0625 45.09375 64.984375 \r\nQ 41.3125 65.921875 37.59375 65.921875 \r\nQ 27.828125 65.921875 22.671875 59.328125 \r\nQ 17.53125 52.734375 16.796875 39.40625 \r\nQ 19.671875 43.65625 24.015625 45.921875 \r\nQ 28.375 48.1875 33.59375 48.1875 \r\nQ 44.578125 48.1875 50.953125 41.515625 \r\nQ 57.328125 34.859375 57.328125 23.390625 \r\nQ 57.328125 12.15625 50.6875 5.359375 \r\nQ 44.046875 -1.421875 33.015625 -1.421875 \r\nQ 20.359375 -1.421875 13.671875 8.265625 \r\nQ 6.984375 17.96875 6.984375 36.375 \r\nQ 6.984375 53.65625 15.1875 63.9375 \r\nQ 23.390625 74.21875 37.203125 74.21875 \r\nQ 40.921875 74.21875 44.703125 73.484375 \r\nQ 48.484375 72.75 52.59375 71.296875 \r\nz\r\n\" id=\"DejaVuSans-54\"/>\r\n       </defs>\r\n       <use xlink:href=\"#DejaVuSans-48\"/>\r\n       <use x=\"63.623047\" xlink:href=\"#DejaVuSans-46\"/>\r\n       <use x=\"95.410156\" xlink:href=\"#DejaVuSans-54\"/>\r\n      </g>\r\n     </g>\r\n    </g>\r\n    <g id=\"xtick_5\">\r\n     <g id=\"line2d_9\">\r\n      <path clip-path=\"url(#p25db348a06)\" d=\"M 370.717049 239.758125 \r\nL 370.717049 22.318125 \r\n\" style=\"fill:none;stroke:#b0b0b0;stroke-linecap:square;stroke-width:0.8;\"/>\r\n     </g>\r\n     <g id=\"line2d_10\">\r\n      <g>\r\n       <use style=\"stroke:#000000;stroke-width:0.8;\" x=\"370.717049\" xlink:href=\"#mbccbee2983\" y=\"239.758125\"/>\r\n      </g>\r\n     </g>\r\n     <g id=\"text_5\">\r\n      <!-- 0.8 -->\r\n      <g transform=\"translate(362.765486 254.356562)scale(0.1 -0.1)\">\r\n       <defs>\r\n        <path d=\"M 31.78125 34.625 \r\nQ 24.75 34.625 20.71875 30.859375 \r\nQ 16.703125 27.09375 16.703125 20.515625 \r\nQ 16.703125 13.921875 20.71875 10.15625 \r\nQ 24.75 6.390625 31.78125 6.390625 \r\nQ 38.8125 6.390625 42.859375 10.171875 \r\nQ 46.921875 13.96875 46.921875 20.515625 \r\nQ 46.921875 27.09375 42.890625 30.859375 \r\nQ 38.875 34.625 31.78125 34.625 \r\nz\r\nM 21.921875 38.8125 \r\nQ 15.578125 40.375 12.03125 44.71875 \r\nQ 8.5 49.078125 8.5 55.328125 \r\nQ 8.5 64.0625 14.71875 69.140625 \r\nQ 20.953125 74.21875 31.78125 74.21875 \r\nQ 42.671875 74.21875 48.875 69.140625 \r\nQ 55.078125 64.0625 55.078125 55.328125 \r\nQ 55.078125 49.078125 51.53125 44.71875 \r\nQ 48 40.375 41.703125 38.8125 \r\nQ 48.828125 37.15625 52.796875 32.3125 \r\nQ 56.78125 27.484375 56.78125 20.515625 \r\nQ 56.78125 9.90625 50.3125 4.234375 \r\nQ 43.84375 -1.421875 31.78125 -1.421875 \r\nQ 19.734375 -1.421875 13.25 4.234375 \r\nQ 6.78125 9.90625 6.78125 20.515625 \r\nQ 6.78125 27.484375 10.78125 32.3125 \r\nQ 14.796875 37.15625 21.921875 38.8125 \r\nz\r\nM 18.3125 54.390625 \r\nQ 18.3125 48.734375 21.84375 45.5625 \r\nQ 25.390625 42.390625 31.78125 42.390625 \r\nQ 38.140625 42.390625 41.71875 45.5625 \r\nQ 45.3125 48.734375 45.3125 54.390625 \r\nQ 45.3125 60.0625 41.71875 63.234375 \r\nQ 38.140625 66.40625 31.78125 66.40625 \r\nQ 25.390625 66.40625 21.84375 63.234375 \r\nQ 18.3125 60.0625 18.3125 54.390625 \r\nz\r\n\" id=\"DejaVuSans-56\"/>\r\n       </defs>\r\n       <use xlink:href=\"#DejaVuSans-48\"/>\r\n       <use x=\"63.623047\" xlink:href=\"#DejaVuSans-46\"/>\r\n       <use x=\"95.410156\" xlink:href=\"#DejaVuSans-56\"/>\r\n      </g>\r\n     </g>\r\n    </g>\r\n    <g id=\"xtick_6\">\r\n     <g id=\"line2d_11\">\r\n      <path clip-path=\"url(#p25db348a06)\" d=\"M 412.999436 239.758125 \r\nL 412.999436 22.318125 \r\n\" style=\"fill:none;stroke:#b0b0b0;stroke-linecap:square;stroke-width:0.8;\"/>\r\n     </g>\r\n     <g id=\"line2d_12\">\r\n      <g>\r\n       <use style=\"stroke:#000000;stroke-width:0.8;\" x=\"412.999436\" xlink:href=\"#mbccbee2983\" y=\"239.758125\"/>\r\n      </g>\r\n     </g>\r\n     <g id=\"text_6\">\r\n      <!-- 1.0 -->\r\n      <g transform=\"translate(405.047873 254.356562)scale(0.1 -0.1)\">\r\n       <defs>\r\n        <path d=\"M 12.40625 8.296875 \r\nL 28.515625 8.296875 \r\nL 28.515625 63.921875 \r\nL 10.984375 60.40625 \r\nL 10.984375 69.390625 \r\nL 28.421875 72.90625 \r\nL 38.28125 72.90625 \r\nL 38.28125 8.296875 \r\nL 54.390625 8.296875 \r\nL 54.390625 0 \r\nL 12.40625 0 \r\nz\r\n\" id=\"DejaVuSans-49\"/>\r\n       </defs>\r\n       <use xlink:href=\"#DejaVuSans-49\"/>\r\n       <use x=\"63.623047\" xlink:href=\"#DejaVuSans-46\"/>\r\n       <use x=\"95.410156\" xlink:href=\"#DejaVuSans-48\"/>\r\n      </g>\r\n     </g>\r\n    </g>\r\n    <g id=\"xtick_7\">\r\n     <g id=\"line2d_13\">\r\n      <path clip-path=\"url(#p25db348a06)\" d=\"M 455.281823 239.758125 \r\nL 455.281823 22.318125 \r\n\" style=\"fill:none;stroke:#b0b0b0;stroke-linecap:square;stroke-width:0.8;\"/>\r\n     </g>\r\n     <g id=\"line2d_14\">\r\n      <g>\r\n       <use style=\"stroke:#000000;stroke-width:0.8;\" x=\"455.281823\" xlink:href=\"#mbccbee2983\" y=\"239.758125\"/>\r\n      </g>\r\n     </g>\r\n     <g id=\"text_7\">\r\n      <!-- 1.2 -->\r\n      <g transform=\"translate(447.330261 254.356562)scale(0.1 -0.1)\">\r\n       <use xlink:href=\"#DejaVuSans-49\"/>\r\n       <use x=\"63.623047\" xlink:href=\"#DejaVuSans-46\"/>\r\n       <use x=\"95.410156\" xlink:href=\"#DejaVuSans-50\"/>\r\n      </g>\r\n     </g>\r\n    </g>\r\n    <g id=\"xtick_8\">\r\n     <g id=\"line2d_15\">\r\n      <path clip-path=\"url(#p25db348a06)\" d=\"M 497.56421 239.758125 \r\nL 497.56421 22.318125 \r\n\" style=\"fill:none;stroke:#b0b0b0;stroke-linecap:square;stroke-width:0.8;\"/>\r\n     </g>\r\n     <g id=\"line2d_16\">\r\n      <g>\r\n       <use style=\"stroke:#000000;stroke-width:0.8;\" x=\"497.56421\" xlink:href=\"#mbccbee2983\" y=\"239.758125\"/>\r\n      </g>\r\n     </g>\r\n     <g id=\"text_8\">\r\n      <!-- 1.4 -->\r\n      <g transform=\"translate(489.612648 254.356562)scale(0.1 -0.1)\">\r\n       <use xlink:href=\"#DejaVuSans-49\"/>\r\n       <use x=\"63.623047\" xlink:href=\"#DejaVuSans-46\"/>\r\n       <use x=\"95.410156\" xlink:href=\"#DejaVuSans-52\"/>\r\n      </g>\r\n     </g>\r\n    </g>\r\n    <g id=\"text_9\">\r\n     <!-- Feature importance -->\r\n     <g transform=\"translate(319.941406 268.034687)scale(0.1 -0.1)\">\r\n      <defs>\r\n       <path d=\"M 9.8125 72.90625 \r\nL 51.703125 72.90625 \r\nL 51.703125 64.59375 \r\nL 19.671875 64.59375 \r\nL 19.671875 43.109375 \r\nL 48.578125 43.109375 \r\nL 48.578125 34.8125 \r\nL 19.671875 34.8125 \r\nL 19.671875 0 \r\nL 9.8125 0 \r\nz\r\n\" id=\"DejaVuSans-70\"/>\r\n       <path d=\"M 56.203125 29.59375 \r\nL 56.203125 25.203125 \r\nL 14.890625 25.203125 \r\nQ 15.484375 15.921875 20.484375 11.0625 \r\nQ 25.484375 6.203125 34.421875 6.203125 \r\nQ 39.59375 6.203125 44.453125 7.46875 \r\nQ 49.3125 8.734375 54.109375 11.28125 \r\nL 54.109375 2.78125 \r\nQ 49.265625 0.734375 44.1875 -0.34375 \r\nQ 39.109375 -1.421875 33.890625 -1.421875 \r\nQ 20.796875 -1.421875 13.15625 6.1875 \r\nQ 5.515625 13.8125 5.515625 26.8125 \r\nQ 5.515625 40.234375 12.765625 48.109375 \r\nQ 20.015625 56 32.328125 56 \r\nQ 43.359375 56 49.78125 48.890625 \r\nQ 56.203125 41.796875 56.203125 29.59375 \r\nz\r\nM 47.21875 32.234375 \r\nQ 47.125 39.59375 43.09375 43.984375 \r\nQ 39.0625 48.390625 32.421875 48.390625 \r\nQ 24.90625 48.390625 20.390625 44.140625 \r\nQ 15.875 39.890625 15.1875 32.171875 \r\nz\r\n\" id=\"DejaVuSans-101\"/>\r\n       <path d=\"M 34.28125 27.484375 \r\nQ 23.390625 27.484375 19.1875 25 \r\nQ 14.984375 22.515625 14.984375 16.5 \r\nQ 14.984375 11.71875 18.140625 8.90625 \r\nQ 21.296875 6.109375 26.703125 6.109375 \r\nQ 34.1875 6.109375 38.703125 11.40625 \r\nQ 43.21875 16.703125 43.21875 25.484375 \r\nL 43.21875 27.484375 \r\nz\r\nM 52.203125 31.203125 \r\nL 52.203125 0 \r\nL 43.21875 0 \r\nL 43.21875 8.296875 \r\nQ 40.140625 3.328125 35.546875 0.953125 \r\nQ 30.953125 -1.421875 24.3125 -1.421875 \r\nQ 15.921875 -1.421875 10.953125 3.296875 \r\nQ 6 8.015625 6 15.921875 \r\nQ 6 25.140625 12.171875 29.828125 \r\nQ 18.359375 34.515625 30.609375 34.515625 \r\nL 43.21875 34.515625 \r\nL 43.21875 35.40625 \r\nQ 43.21875 41.609375 39.140625 45 \r\nQ 35.0625 48.390625 27.6875 48.390625 \r\nQ 23 48.390625 18.546875 47.265625 \r\nQ 14.109375 46.140625 10.015625 43.890625 \r\nL 10.015625 52.203125 \r\nQ 14.9375 54.109375 19.578125 55.046875 \r\nQ 24.21875 56 28.609375 56 \r\nQ 40.484375 56 46.34375 49.84375 \r\nQ 52.203125 43.703125 52.203125 31.203125 \r\nz\r\n\" id=\"DejaVuSans-97\"/>\r\n       <path d=\"M 18.3125 70.21875 \r\nL 18.3125 54.6875 \r\nL 36.8125 54.6875 \r\nL 36.8125 47.703125 \r\nL 18.3125 47.703125 \r\nL 18.3125 18.015625 \r\nQ 18.3125 11.328125 20.140625 9.421875 \r\nQ 21.96875 7.515625 27.59375 7.515625 \r\nL 36.8125 7.515625 \r\nL 36.8125 0 \r\nL 27.59375 0 \r\nQ 17.1875 0 13.234375 3.875 \r\nQ 9.28125 7.765625 9.28125 18.015625 \r\nL 9.28125 47.703125 \r\nL 2.6875 47.703125 \r\nL 2.6875 54.6875 \r\nL 9.28125 54.6875 \r\nL 9.28125 70.21875 \r\nz\r\n\" id=\"DejaVuSans-116\"/>\r\n       <path d=\"M 8.5 21.578125 \r\nL 8.5 54.6875 \r\nL 17.484375 54.6875 \r\nL 17.484375 21.921875 \r\nQ 17.484375 14.15625 20.5 10.265625 \r\nQ 23.53125 6.390625 29.59375 6.390625 \r\nQ 36.859375 6.390625 41.078125 11.03125 \r\nQ 45.3125 15.671875 45.3125 23.6875 \r\nL 45.3125 54.6875 \r\nL 54.296875 54.6875 \r\nL 54.296875 0 \r\nL 45.3125 0 \r\nL 45.3125 8.40625 \r\nQ 42.046875 3.421875 37.71875 1 \r\nQ 33.40625 -1.421875 27.6875 -1.421875 \r\nQ 18.265625 -1.421875 13.375 4.4375 \r\nQ 8.5 10.296875 8.5 21.578125 \r\nz\r\nM 31.109375 56 \r\nz\r\n\" id=\"DejaVuSans-117\"/>\r\n       <path d=\"M 41.109375 46.296875 \r\nQ 39.59375 47.171875 37.8125 47.578125 \r\nQ 36.03125 48 33.890625 48 \r\nQ 26.265625 48 22.1875 43.046875 \r\nQ 18.109375 38.09375 18.109375 28.8125 \r\nL 18.109375 0 \r\nL 9.078125 0 \r\nL 9.078125 54.6875 \r\nL 18.109375 54.6875 \r\nL 18.109375 46.1875 \r\nQ 20.953125 51.171875 25.484375 53.578125 \r\nQ 30.03125 56 36.53125 56 \r\nQ 37.453125 56 38.578125 55.875 \r\nQ 39.703125 55.765625 41.0625 55.515625 \r\nz\r\n\" id=\"DejaVuSans-114\"/>\r\n       <path id=\"DejaVuSans-32\"/>\r\n       <path d=\"M 9.421875 54.6875 \r\nL 18.40625 54.6875 \r\nL 18.40625 0 \r\nL 9.421875 0 \r\nz\r\nM 9.421875 75.984375 \r\nL 18.40625 75.984375 \r\nL 18.40625 64.59375 \r\nL 9.421875 64.59375 \r\nz\r\n\" id=\"DejaVuSans-105\"/>\r\n       <path d=\"M 52 44.1875 \r\nQ 55.375 50.25 60.0625 53.125 \r\nQ 64.75 56 71.09375 56 \r\nQ 79.640625 56 84.28125 50.015625 \r\nQ 88.921875 44.046875 88.921875 33.015625 \r\nL 88.921875 0 \r\nL 79.890625 0 \r\nL 79.890625 32.71875 \r\nQ 79.890625 40.578125 77.09375 44.375 \r\nQ 74.3125 48.1875 68.609375 48.1875 \r\nQ 61.625 48.1875 57.5625 43.546875 \r\nQ 53.515625 38.921875 53.515625 30.90625 \r\nL 53.515625 0 \r\nL 44.484375 0 \r\nL 44.484375 32.71875 \r\nQ 44.484375 40.625 41.703125 44.40625 \r\nQ 38.921875 48.1875 33.109375 48.1875 \r\nQ 26.21875 48.1875 22.15625 43.53125 \r\nQ 18.109375 38.875 18.109375 30.90625 \r\nL 18.109375 0 \r\nL 9.078125 0 \r\nL 9.078125 54.6875 \r\nL 18.109375 54.6875 \r\nL 18.109375 46.1875 \r\nQ 21.1875 51.21875 25.484375 53.609375 \r\nQ 29.78125 56 35.6875 56 \r\nQ 41.65625 56 45.828125 52.96875 \r\nQ 50 49.953125 52 44.1875 \r\nz\r\n\" id=\"DejaVuSans-109\"/>\r\n       <path d=\"M 18.109375 8.203125 \r\nL 18.109375 -20.796875 \r\nL 9.078125 -20.796875 \r\nL 9.078125 54.6875 \r\nL 18.109375 54.6875 \r\nL 18.109375 46.390625 \r\nQ 20.953125 51.265625 25.265625 53.625 \r\nQ 29.59375 56 35.59375 56 \r\nQ 45.5625 56 51.78125 48.09375 \r\nQ 58.015625 40.1875 58.015625 27.296875 \r\nQ 58.015625 14.40625 51.78125 6.484375 \r\nQ 45.5625 -1.421875 35.59375 -1.421875 \r\nQ 29.59375 -1.421875 25.265625 0.953125 \r\nQ 20.953125 3.328125 18.109375 8.203125 \r\nz\r\nM 48.6875 27.296875 \r\nQ 48.6875 37.203125 44.609375 42.84375 \r\nQ 40.53125 48.484375 33.40625 48.484375 \r\nQ 26.265625 48.484375 22.1875 42.84375 \r\nQ 18.109375 37.203125 18.109375 27.296875 \r\nQ 18.109375 17.390625 22.1875 11.75 \r\nQ 26.265625 6.109375 33.40625 6.109375 \r\nQ 40.53125 6.109375 44.609375 11.75 \r\nQ 48.6875 17.390625 48.6875 27.296875 \r\nz\r\n\" id=\"DejaVuSans-112\"/>\r\n       <path d=\"M 30.609375 48.390625 \r\nQ 23.390625 48.390625 19.1875 42.75 \r\nQ 14.984375 37.109375 14.984375 27.296875 \r\nQ 14.984375 17.484375 19.15625 11.84375 \r\nQ 23.34375 6.203125 30.609375 6.203125 \r\nQ 37.796875 6.203125 41.984375 11.859375 \r\nQ 46.1875 17.53125 46.1875 27.296875 \r\nQ 46.1875 37.015625 41.984375 42.703125 \r\nQ 37.796875 48.390625 30.609375 48.390625 \r\nz\r\nM 30.609375 56 \r\nQ 42.328125 56 49.015625 48.375 \r\nQ 55.71875 40.765625 55.71875 27.296875 \r\nQ 55.71875 13.875 49.015625 6.21875 \r\nQ 42.328125 -1.421875 30.609375 -1.421875 \r\nQ 18.84375 -1.421875 12.171875 6.21875 \r\nQ 5.515625 13.875 5.515625 27.296875 \r\nQ 5.515625 40.765625 12.171875 48.375 \r\nQ 18.84375 56 30.609375 56 \r\nz\r\n\" id=\"DejaVuSans-111\"/>\r\n       <path d=\"M 54.890625 33.015625 \r\nL 54.890625 0 \r\nL 45.90625 0 \r\nL 45.90625 32.71875 \r\nQ 45.90625 40.484375 42.875 44.328125 \r\nQ 39.84375 48.1875 33.796875 48.1875 \r\nQ 26.515625 48.1875 22.3125 43.546875 \r\nQ 18.109375 38.921875 18.109375 30.90625 \r\nL 18.109375 0 \r\nL 9.078125 0 \r\nL 9.078125 54.6875 \r\nL 18.109375 54.6875 \r\nL 18.109375 46.1875 \r\nQ 21.34375 51.125 25.703125 53.5625 \r\nQ 30.078125 56 35.796875 56 \r\nQ 45.21875 56 50.046875 50.171875 \r\nQ 54.890625 44.34375 54.890625 33.015625 \r\nz\r\n\" id=\"DejaVuSans-110\"/>\r\n       <path d=\"M 48.78125 52.59375 \r\nL 48.78125 44.1875 \r\nQ 44.96875 46.296875 41.140625 47.34375 \r\nQ 37.3125 48.390625 33.40625 48.390625 \r\nQ 24.65625 48.390625 19.8125 42.84375 \r\nQ 14.984375 37.3125 14.984375 27.296875 \r\nQ 14.984375 17.28125 19.8125 11.734375 \r\nQ 24.65625 6.203125 33.40625 6.203125 \r\nQ 37.3125 6.203125 41.140625 7.25 \r\nQ 44.96875 8.296875 48.78125 10.40625 \r\nL 48.78125 2.09375 \r\nQ 45.015625 0.34375 40.984375 -0.53125 \r\nQ 36.96875 -1.421875 32.421875 -1.421875 \r\nQ 20.0625 -1.421875 12.78125 6.34375 \r\nQ 5.515625 14.109375 5.515625 27.296875 \r\nQ 5.515625 40.671875 12.859375 48.328125 \r\nQ 20.21875 56 33.015625 56 \r\nQ 37.15625 56 41.109375 55.140625 \r\nQ 45.0625 54.296875 48.78125 52.59375 \r\nz\r\n\" id=\"DejaVuSans-99\"/>\r\n      </defs>\r\n      <use xlink:href=\"#DejaVuSans-70\"/>\r\n      <use x=\"52.019531\" xlink:href=\"#DejaVuSans-101\"/>\r\n      <use x=\"113.542969\" xlink:href=\"#DejaVuSans-97\"/>\r\n      <use x=\"174.822266\" xlink:href=\"#DejaVuSans-116\"/>\r\n      <use x=\"214.03125\" xlink:href=\"#DejaVuSans-117\"/>\r\n      <use x=\"277.410156\" xlink:href=\"#DejaVuSans-114\"/>\r\n      <use x=\"316.273438\" xlink:href=\"#DejaVuSans-101\"/>\r\n      <use x=\"377.796875\" xlink:href=\"#DejaVuSans-32\"/>\r\n      <use x=\"409.583984\" xlink:href=\"#DejaVuSans-105\"/>\r\n      <use x=\"437.367188\" xlink:href=\"#DejaVuSans-109\"/>\r\n      <use x=\"534.779297\" xlink:href=\"#DejaVuSans-112\"/>\r\n      <use x=\"598.255859\" xlink:href=\"#DejaVuSans-111\"/>\r\n      <use x=\"659.4375\" xlink:href=\"#DejaVuSans-114\"/>\r\n      <use x=\"700.550781\" xlink:href=\"#DejaVuSans-116\"/>\r\n      <use x=\"739.759766\" xlink:href=\"#DejaVuSans-97\"/>\r\n      <use x=\"801.039062\" xlink:href=\"#DejaVuSans-110\"/>\r\n      <use x=\"864.417969\" xlink:href=\"#DejaVuSans-99\"/>\r\n      <use x=\"919.398438\" xlink:href=\"#DejaVuSans-101\"/>\r\n     </g>\r\n    </g>\r\n    <g id=\"text_10\">\r\n     <!-- 1e7 -->\r\n     <g transform=\"translate(517.509375 267.034687)scale(0.1 -0.1)\">\r\n      <defs>\r\n       <path d=\"M 8.203125 72.90625 \r\nL 55.078125 72.90625 \r\nL 55.078125 68.703125 \r\nL 28.609375 0 \r\nL 18.3125 0 \r\nL 43.21875 64.59375 \r\nL 8.203125 64.59375 \r\nz\r\n\" id=\"DejaVuSans-55\"/>\r\n      </defs>\r\n      <use xlink:href=\"#DejaVuSans-49\"/>\r\n      <use x=\"63.623047\" xlink:href=\"#DejaVuSans-101\"/>\r\n      <use x=\"125.146484\" xlink:href=\"#DejaVuSans-55\"/>\r\n     </g>\r\n    </g>\r\n   </g>\r\n   <g id=\"matplotlib.axis_2\">\r\n    <g id=\"ytick_1\">\r\n     <g id=\"line2d_17\">\r\n      <path clip-path=\"url(#p25db348a06)\" d=\"M 201.5875 230.698125 \r\nL 536.3875 230.698125 \r\n\" style=\"fill:none;stroke:#b0b0b0;stroke-linecap:square;stroke-width:0.8;\"/>\r\n     </g>\r\n     <g id=\"line2d_18\">\r\n      <defs>\r\n       <path d=\"M 0 0 \r\nL -3.5 0 \r\n\" id=\"m7399ac6efb\" style=\"stroke:#000000;stroke-width:0.8;\"/>\r\n      </defs>\r\n      <g>\r\n       <use style=\"stroke:#000000;stroke-width:0.8;\" x=\"201.5875\" xlink:href=\"#m7399ac6efb\" y=\"230.698125\"/>\r\n      </g>\r\n     </g>\r\n     <g id=\"text_11\">\r\n      <!-- user_lecture_cumsum -->\r\n      <g transform=\"translate(85.185937 234.497344)scale(0.1 -0.1)\">\r\n       <defs>\r\n        <path d=\"M 44.28125 53.078125 \r\nL 44.28125 44.578125 \r\nQ 40.484375 46.53125 36.375 47.5 \r\nQ 32.28125 48.484375 27.875 48.484375 \r\nQ 21.1875 48.484375 17.84375 46.4375 \r\nQ 14.5 44.390625 14.5 40.28125 \r\nQ 14.5 37.15625 16.890625 35.375 \r\nQ 19.28125 33.59375 26.515625 31.984375 \r\nL 29.59375 31.296875 \r\nQ 39.15625 29.25 43.1875 25.515625 \r\nQ 47.21875 21.78125 47.21875 15.09375 \r\nQ 47.21875 7.46875 41.1875 3.015625 \r\nQ 35.15625 -1.421875 24.609375 -1.421875 \r\nQ 20.21875 -1.421875 15.453125 -0.5625 \r\nQ 10.6875 0.296875 5.421875 2 \r\nL 5.421875 11.28125 \r\nQ 10.40625 8.6875 15.234375 7.390625 \r\nQ 20.0625 6.109375 24.8125 6.109375 \r\nQ 31.15625 6.109375 34.5625 8.28125 \r\nQ 37.984375 10.453125 37.984375 14.40625 \r\nQ 37.984375 18.0625 35.515625 20.015625 \r\nQ 33.0625 21.96875 24.703125 23.78125 \r\nL 21.578125 24.515625 \r\nQ 13.234375 26.265625 9.515625 29.90625 \r\nQ 5.8125 33.546875 5.8125 39.890625 \r\nQ 5.8125 47.609375 11.28125 51.796875 \r\nQ 16.75 56 26.8125 56 \r\nQ 31.78125 56 36.171875 55.265625 \r\nQ 40.578125 54.546875 44.28125 53.078125 \r\nz\r\n\" id=\"DejaVuSans-115\"/>\r\n        <path d=\"M 50.984375 -16.609375 \r\nL 50.984375 -23.578125 \r\nL -0.984375 -23.578125 \r\nL -0.984375 -16.609375 \r\nz\r\n\" id=\"DejaVuSans-95\"/>\r\n        <path d=\"M 9.421875 75.984375 \r\nL 18.40625 75.984375 \r\nL 18.40625 0 \r\nL 9.421875 0 \r\nz\r\n\" id=\"DejaVuSans-108\"/>\r\n       </defs>\r\n       <use xlink:href=\"#DejaVuSans-117\"/>\r\n       <use x=\"63.378906\" xlink:href=\"#DejaVuSans-115\"/>\r\n       <use x=\"115.478516\" xlink:href=\"#DejaVuSans-101\"/>\r\n       <use x=\"177.001953\" xlink:href=\"#DejaVuSans-114\"/>\r\n       <use x=\"218.115234\" xlink:href=\"#DejaVuSans-95\"/>\r\n       <use x=\"268.115234\" xlink:href=\"#DejaVuSans-108\"/>\r\n       <use x=\"295.898438\" xlink:href=\"#DejaVuSans-101\"/>\r\n       <use x=\"357.421875\" xlink:href=\"#DejaVuSans-99\"/>\r\n       <use x=\"412.402344\" xlink:href=\"#DejaVuSans-116\"/>\r\n       <use x=\"451.611328\" xlink:href=\"#DejaVuSans-117\"/>\r\n       <use x=\"514.990234\" xlink:href=\"#DejaVuSans-114\"/>\r\n       <use x=\"553.853516\" xlink:href=\"#DejaVuSans-101\"/>\r\n       <use x=\"615.376953\" xlink:href=\"#DejaVuSans-95\"/>\r\n       <use x=\"665.376953\" xlink:href=\"#DejaVuSans-99\"/>\r\n       <use x=\"720.357422\" xlink:href=\"#DejaVuSans-117\"/>\r\n       <use x=\"783.736328\" xlink:href=\"#DejaVuSans-109\"/>\r\n       <use x=\"881.148438\" xlink:href=\"#DejaVuSans-115\"/>\r\n       <use x=\"933.248047\" xlink:href=\"#DejaVuSans-117\"/>\r\n       <use x=\"996.626953\" xlink:href=\"#DejaVuSans-109\"/>\r\n      </g>\r\n     </g>\r\n    </g>\r\n    <g id=\"ytick_2\">\r\n     <g id=\"line2d_19\">\r\n      <path clip-path=\"url(#p25db348a06)\" d=\"M 201.5875 221.638125 \r\nL 536.3875 221.638125 \r\n\" style=\"fill:none;stroke:#b0b0b0;stroke-linecap:square;stroke-width:0.8;\"/>\r\n     </g>\r\n     <g id=\"line2d_20\">\r\n      <g>\r\n       <use style=\"stroke:#000000;stroke-width:0.8;\" x=\"201.5875\" xlink:href=\"#m7399ac6efb\" y=\"221.638125\"/>\r\n      </g>\r\n     </g>\r\n     <g id=\"text_12\">\r\n      <!-- delta_prior_question_elapsed_time -->\r\n      <g transform=\"translate(20.878125 225.437344)scale(0.1 -0.1)\">\r\n       <defs>\r\n        <path d=\"M 45.40625 46.390625 \r\nL 45.40625 75.984375 \r\nL 54.390625 75.984375 \r\nL 54.390625 0 \r\nL 45.40625 0 \r\nL 45.40625 8.203125 \r\nQ 42.578125 3.328125 38.25 0.953125 \r\nQ 33.9375 -1.421875 27.875 -1.421875 \r\nQ 17.96875 -1.421875 11.734375 6.484375 \r\nQ 5.515625 14.40625 5.515625 27.296875 \r\nQ 5.515625 40.1875 11.734375 48.09375 \r\nQ 17.96875 56 27.875 56 \r\nQ 33.9375 56 38.25 53.625 \r\nQ 42.578125 51.265625 45.40625 46.390625 \r\nz\r\nM 14.796875 27.296875 \r\nQ 14.796875 17.390625 18.875 11.75 \r\nQ 22.953125 6.109375 30.078125 6.109375 \r\nQ 37.203125 6.109375 41.296875 11.75 \r\nQ 45.40625 17.390625 45.40625 27.296875 \r\nQ 45.40625 37.203125 41.296875 42.84375 \r\nQ 37.203125 48.484375 30.078125 48.484375 \r\nQ 22.953125 48.484375 18.875 42.84375 \r\nQ 14.796875 37.203125 14.796875 27.296875 \r\nz\r\n\" id=\"DejaVuSans-100\"/>\r\n        <path d=\"M 14.796875 27.296875 \r\nQ 14.796875 17.390625 18.875 11.75 \r\nQ 22.953125 6.109375 30.078125 6.109375 \r\nQ 37.203125 6.109375 41.296875 11.75 \r\nQ 45.40625 17.390625 45.40625 27.296875 \r\nQ 45.40625 37.203125 41.296875 42.84375 \r\nQ 37.203125 48.484375 30.078125 48.484375 \r\nQ 22.953125 48.484375 18.875 42.84375 \r\nQ 14.796875 37.203125 14.796875 27.296875 \r\nz\r\nM 45.40625 8.203125 \r\nQ 42.578125 3.328125 38.25 0.953125 \r\nQ 33.9375 -1.421875 27.875 -1.421875 \r\nQ 17.96875 -1.421875 11.734375 6.484375 \r\nQ 5.515625 14.40625 5.515625 27.296875 \r\nQ 5.515625 40.1875 11.734375 48.09375 \r\nQ 17.96875 56 27.875 56 \r\nQ 33.9375 56 38.25 53.625 \r\nQ 42.578125 51.265625 45.40625 46.390625 \r\nL 45.40625 54.6875 \r\nL 54.390625 54.6875 \r\nL 54.390625 -20.796875 \r\nL 45.40625 -20.796875 \r\nz\r\n\" id=\"DejaVuSans-113\"/>\r\n       </defs>\r\n       <use xlink:href=\"#DejaVuSans-100\"/>\r\n       <use x=\"63.476562\" xlink:href=\"#DejaVuSans-101\"/>\r\n       <use x=\"125\" xlink:href=\"#DejaVuSans-108\"/>\r\n       <use x=\"152.783203\" xlink:href=\"#DejaVuSans-116\"/>\r\n       <use x=\"191.992188\" xlink:href=\"#DejaVuSans-97\"/>\r\n       <use x=\"253.271484\" xlink:href=\"#DejaVuSans-95\"/>\r\n       <use x=\"303.271484\" xlink:href=\"#DejaVuSans-112\"/>\r\n       <use x=\"366.748047\" xlink:href=\"#DejaVuSans-114\"/>\r\n       <use x=\"407.861328\" xlink:href=\"#DejaVuSans-105\"/>\r\n       <use x=\"435.644531\" xlink:href=\"#DejaVuSans-111\"/>\r\n       <use x=\"496.826172\" xlink:href=\"#DejaVuSans-114\"/>\r\n       <use x=\"537.939453\" xlink:href=\"#DejaVuSans-95\"/>\r\n       <use x=\"587.939453\" xlink:href=\"#DejaVuSans-113\"/>\r\n       <use x=\"651.416016\" xlink:href=\"#DejaVuSans-117\"/>\r\n       <use x=\"714.794922\" xlink:href=\"#DejaVuSans-101\"/>\r\n       <use x=\"776.318359\" xlink:href=\"#DejaVuSans-115\"/>\r\n       <use x=\"828.417969\" xlink:href=\"#DejaVuSans-116\"/>\r\n       <use x=\"867.626953\" xlink:href=\"#DejaVuSans-105\"/>\r\n       <use x=\"895.410156\" xlink:href=\"#DejaVuSans-111\"/>\r\n       <use x=\"956.591797\" xlink:href=\"#DejaVuSans-110\"/>\r\n       <use x=\"1019.970703\" xlink:href=\"#DejaVuSans-95\"/>\r\n       <use x=\"1069.970703\" xlink:href=\"#DejaVuSans-101\"/>\r\n       <use x=\"1131.494141\" xlink:href=\"#DejaVuSans-108\"/>\r\n       <use x=\"1159.277344\" xlink:href=\"#DejaVuSans-97\"/>\r\n       <use x=\"1220.556641\" xlink:href=\"#DejaVuSans-112\"/>\r\n       <use x=\"1284.033203\" xlink:href=\"#DejaVuSans-115\"/>\r\n       <use x=\"1336.132812\" xlink:href=\"#DejaVuSans-101\"/>\r\n       <use x=\"1397.65625\" xlink:href=\"#DejaVuSans-100\"/>\r\n       <use x=\"1461.132812\" xlink:href=\"#DejaVuSans-95\"/>\r\n       <use x=\"1511.132812\" xlink:href=\"#DejaVuSans-116\"/>\r\n       <use x=\"1550.341797\" xlink:href=\"#DejaVuSans-105\"/>\r\n       <use x=\"1578.125\" xlink:href=\"#DejaVuSans-109\"/>\r\n       <use x=\"1675.537109\" xlink:href=\"#DejaVuSans-101\"/>\r\n      </g>\r\n     </g>\r\n    </g>\r\n    <g id=\"ytick_3\">\r\n     <g id=\"line2d_21\">\r\n      <path clip-path=\"url(#p25db348a06)\" d=\"M 201.5875 212.578125 \r\nL 536.3875 212.578125 \r\n\" style=\"fill:none;stroke:#b0b0b0;stroke-linecap:square;stroke-width:0.8;\"/>\r\n     </g>\r\n     <g id=\"line2d_22\">\r\n      <g>\r\n       <use style=\"stroke:#000000;stroke-width:0.8;\" x=\"201.5875\" xlink:href=\"#m7399ac6efb\" y=\"212.578125\"/>\r\n      </g>\r\n     </g>\r\n     <g id=\"text_13\">\r\n      <!-- lagtime_mean -->\r\n      <g transform=\"translate(123.38125 216.377344)scale(0.1 -0.1)\">\r\n       <defs>\r\n        <path d=\"M 45.40625 27.984375 \r\nQ 45.40625 37.75 41.375 43.109375 \r\nQ 37.359375 48.484375 30.078125 48.484375 \r\nQ 22.859375 48.484375 18.828125 43.109375 \r\nQ 14.796875 37.75 14.796875 27.984375 \r\nQ 14.796875 18.265625 18.828125 12.890625 \r\nQ 22.859375 7.515625 30.078125 7.515625 \r\nQ 37.359375 7.515625 41.375 12.890625 \r\nQ 45.40625 18.265625 45.40625 27.984375 \r\nz\r\nM 54.390625 6.78125 \r\nQ 54.390625 -7.171875 48.1875 -13.984375 \r\nQ 42 -20.796875 29.203125 -20.796875 \r\nQ 24.46875 -20.796875 20.265625 -20.09375 \r\nQ 16.0625 -19.390625 12.109375 -17.921875 \r\nL 12.109375 -9.1875 \r\nQ 16.0625 -11.328125 19.921875 -12.34375 \r\nQ 23.78125 -13.375 27.78125 -13.375 \r\nQ 36.625 -13.375 41.015625 -8.765625 \r\nQ 45.40625 -4.15625 45.40625 5.171875 \r\nL 45.40625 9.625 \r\nQ 42.625 4.78125 38.28125 2.390625 \r\nQ 33.9375 0 27.875 0 \r\nQ 17.828125 0 11.671875 7.65625 \r\nQ 5.515625 15.328125 5.515625 27.984375 \r\nQ 5.515625 40.671875 11.671875 48.328125 \r\nQ 17.828125 56 27.875 56 \r\nQ 33.9375 56 38.28125 53.609375 \r\nQ 42.625 51.21875 45.40625 46.390625 \r\nL 45.40625 54.6875 \r\nL 54.390625 54.6875 \r\nz\r\n\" id=\"DejaVuSans-103\"/>\r\n       </defs>\r\n       <use xlink:href=\"#DejaVuSans-108\"/>\r\n       <use x=\"27.783203\" xlink:href=\"#DejaVuSans-97\"/>\r\n       <use x=\"89.0625\" xlink:href=\"#DejaVuSans-103\"/>\r\n       <use x=\"152.539062\" xlink:href=\"#DejaVuSans-116\"/>\r\n       <use x=\"191.748047\" xlink:href=\"#DejaVuSans-105\"/>\r\n       <use x=\"219.53125\" xlink:href=\"#DejaVuSans-109\"/>\r\n       <use x=\"316.943359\" xlink:href=\"#DejaVuSans-101\"/>\r\n       <use x=\"378.466797\" xlink:href=\"#DejaVuSans-95\"/>\r\n       <use x=\"428.466797\" xlink:href=\"#DejaVuSans-109\"/>\r\n       <use x=\"525.878906\" xlink:href=\"#DejaVuSans-101\"/>\r\n       <use x=\"587.402344\" xlink:href=\"#DejaVuSans-97\"/>\r\n       <use x=\"648.681641\" xlink:href=\"#DejaVuSans-110\"/>\r\n      </g>\r\n     </g>\r\n    </g>\r\n    <g id=\"ytick_4\">\r\n     <g id=\"line2d_23\">\r\n      <path clip-path=\"url(#p25db348a06)\" d=\"M 201.5875 203.518125 \r\nL 536.3875 203.518125 \r\n\" style=\"fill:none;stroke:#b0b0b0;stroke-linecap:square;stroke-width:0.8;\"/>\r\n     </g>\r\n     <g id=\"line2d_24\">\r\n      <g>\r\n       <use style=\"stroke:#000000;stroke-width:0.8;\" x=\"201.5875\" xlink:href=\"#m7399ac6efb\" y=\"203.518125\"/>\r\n      </g>\r\n     </g>\r\n     <g id=\"text_14\">\r\n      <!-- part_correctness_mean -->\r\n      <g transform=\"translate(77.8 207.178281)scale(0.1 -0.1)\">\r\n       <use xlink:href=\"#DejaVuSans-112\"/>\r\n       <use x=\"63.476562\" xlink:href=\"#DejaVuSans-97\"/>\r\n       <use x=\"124.755859\" xlink:href=\"#DejaVuSans-114\"/>\r\n       <use x=\"165.869141\" xlink:href=\"#DejaVuSans-116\"/>\r\n       <use x=\"205.078125\" xlink:href=\"#DejaVuSans-95\"/>\r\n       <use x=\"255.078125\" xlink:href=\"#DejaVuSans-99\"/>\r\n       <use x=\"310.058594\" xlink:href=\"#DejaVuSans-111\"/>\r\n       <use x=\"371.240234\" xlink:href=\"#DejaVuSans-114\"/>\r\n       <use x=\"410.603516\" xlink:href=\"#DejaVuSans-114\"/>\r\n       <use x=\"449.466797\" xlink:href=\"#DejaVuSans-101\"/>\r\n       <use x=\"510.990234\" xlink:href=\"#DejaVuSans-99\"/>\r\n       <use x=\"565.970703\" xlink:href=\"#DejaVuSans-116\"/>\r\n       <use x=\"605.179688\" xlink:href=\"#DejaVuSans-110\"/>\r\n       <use x=\"668.558594\" xlink:href=\"#DejaVuSans-101\"/>\r\n       <use x=\"730.082031\" xlink:href=\"#DejaVuSans-115\"/>\r\n       <use x=\"782.181641\" xlink:href=\"#DejaVuSans-115\"/>\r\n       <use x=\"834.28125\" xlink:href=\"#DejaVuSans-95\"/>\r\n       <use x=\"884.28125\" xlink:href=\"#DejaVuSans-109\"/>\r\n       <use x=\"981.693359\" xlink:href=\"#DejaVuSans-101\"/>\r\n       <use x=\"1043.216797\" xlink:href=\"#DejaVuSans-97\"/>\r\n       <use x=\"1104.496094\" xlink:href=\"#DejaVuSans-110\"/>\r\n      </g>\r\n     </g>\r\n    </g>\r\n    <g id=\"ytick_5\">\r\n     <g id=\"line2d_25\">\r\n      <path clip-path=\"url(#p25db348a06)\" d=\"M 201.5875 194.458125 \r\nL 536.3875 194.458125 \r\n\" style=\"fill:none;stroke:#b0b0b0;stroke-linecap:square;stroke-width:0.8;\"/>\r\n     </g>\r\n     <g id=\"line2d_26\">\r\n      <g>\r\n       <use style=\"stroke:#000000;stroke-width:0.8;\" x=\"201.5875\" xlink:href=\"#m7399ac6efb\" y=\"194.458125\"/>\r\n      </g>\r\n     </g>\r\n     <g id=\"text_15\">\r\n      <!-- prior_question_had_explanation -->\r\n      <g transform=\"translate(35.33125 198.257344)scale(0.1 -0.1)\">\r\n       <defs>\r\n        <path d=\"M 54.890625 33.015625 \r\nL 54.890625 0 \r\nL 45.90625 0 \r\nL 45.90625 32.71875 \r\nQ 45.90625 40.484375 42.875 44.328125 \r\nQ 39.84375 48.1875 33.796875 48.1875 \r\nQ 26.515625 48.1875 22.3125 43.546875 \r\nQ 18.109375 38.921875 18.109375 30.90625 \r\nL 18.109375 0 \r\nL 9.078125 0 \r\nL 9.078125 75.984375 \r\nL 18.109375 75.984375 \r\nL 18.109375 46.1875 \r\nQ 21.34375 51.125 25.703125 53.5625 \r\nQ 30.078125 56 35.796875 56 \r\nQ 45.21875 56 50.046875 50.171875 \r\nQ 54.890625 44.34375 54.890625 33.015625 \r\nz\r\n\" id=\"DejaVuSans-104\"/>\r\n        <path d=\"M 54.890625 54.6875 \r\nL 35.109375 28.078125 \r\nL 55.90625 0 \r\nL 45.3125 0 \r\nL 29.390625 21.484375 \r\nL 13.484375 0 \r\nL 2.875 0 \r\nL 24.125 28.609375 \r\nL 4.6875 54.6875 \r\nL 15.28125 54.6875 \r\nL 29.78125 35.203125 \r\nL 44.28125 54.6875 \r\nz\r\n\" id=\"DejaVuSans-120\"/>\r\n       </defs>\r\n       <use xlink:href=\"#DejaVuSans-112\"/>\r\n       <use x=\"63.476562\" xlink:href=\"#DejaVuSans-114\"/>\r\n       <use x=\"104.589844\" xlink:href=\"#DejaVuSans-105\"/>\r\n       <use x=\"132.373047\" xlink:href=\"#DejaVuSans-111\"/>\r\n       <use x=\"193.554688\" xlink:href=\"#DejaVuSans-114\"/>\r\n       <use x=\"234.667969\" xlink:href=\"#DejaVuSans-95\"/>\r\n       <use x=\"284.667969\" xlink:href=\"#DejaVuSans-113\"/>\r\n       <use x=\"348.144531\" xlink:href=\"#DejaVuSans-117\"/>\r\n       <use x=\"411.523438\" xlink:href=\"#DejaVuSans-101\"/>\r\n       <use x=\"473.046875\" xlink:href=\"#DejaVuSans-115\"/>\r\n       <use x=\"525.146484\" xlink:href=\"#DejaVuSans-116\"/>\r\n       <use x=\"564.355469\" xlink:href=\"#DejaVuSans-105\"/>\r\n       <use x=\"592.138672\" xlink:href=\"#DejaVuSans-111\"/>\r\n       <use x=\"653.320312\" xlink:href=\"#DejaVuSans-110\"/>\r\n       <use x=\"716.699219\" xlink:href=\"#DejaVuSans-95\"/>\r\n       <use x=\"766.699219\" xlink:href=\"#DejaVuSans-104\"/>\r\n       <use x=\"830.078125\" xlink:href=\"#DejaVuSans-97\"/>\r\n       <use x=\"891.357422\" xlink:href=\"#DejaVuSans-100\"/>\r\n       <use x=\"954.833984\" xlink:href=\"#DejaVuSans-95\"/>\r\n       <use x=\"1004.833984\" xlink:href=\"#DejaVuSans-101\"/>\r\n       <use x=\"1064.607422\" xlink:href=\"#DejaVuSans-120\"/>\r\n       <use x=\"1123.787109\" xlink:href=\"#DejaVuSans-112\"/>\r\n       <use x=\"1187.263672\" xlink:href=\"#DejaVuSans-108\"/>\r\n       <use x=\"1215.046875\" xlink:href=\"#DejaVuSans-97\"/>\r\n       <use x=\"1276.326172\" xlink:href=\"#DejaVuSans-110\"/>\r\n       <use x=\"1339.705078\" xlink:href=\"#DejaVuSans-97\"/>\r\n       <use x=\"1400.984375\" xlink:href=\"#DejaVuSans-116\"/>\r\n       <use x=\"1440.193359\" xlink:href=\"#DejaVuSans-105\"/>\r\n       <use x=\"1467.976562\" xlink:href=\"#DejaVuSans-111\"/>\r\n       <use x=\"1529.158203\" xlink:href=\"#DejaVuSans-110\"/>\r\n      </g>\r\n     </g>\r\n    </g>\r\n    <g id=\"ytick_6\">\r\n     <g id=\"line2d_27\">\r\n      <path clip-path=\"url(#p25db348a06)\" d=\"M 201.5875 185.398125 \r\nL 536.3875 185.398125 \r\n\" style=\"fill:none;stroke:#b0b0b0;stroke-linecap:square;stroke-width:0.8;\"/>\r\n     </g>\r\n     <g id=\"line2d_28\">\r\n      <g>\r\n       <use style=\"stroke:#000000;stroke-width:0.8;\" x=\"201.5875\" xlink:href=\"#m7399ac6efb\" y=\"185.398125\"/>\r\n      </g>\r\n     </g>\r\n     <g id=\"text_16\">\r\n      <!-- tags1_correctness_mean -->\r\n      <g transform=\"translate(70.339062 189.058281)scale(0.1 -0.1)\">\r\n       <use xlink:href=\"#DejaVuSans-116\"/>\r\n       <use x=\"39.208984\" xlink:href=\"#DejaVuSans-97\"/>\r\n       <use x=\"100.488281\" xlink:href=\"#DejaVuSans-103\"/>\r\n       <use x=\"163.964844\" xlink:href=\"#DejaVuSans-115\"/>\r\n       <use x=\"216.064453\" xlink:href=\"#DejaVuSans-49\"/>\r\n       <use x=\"279.6875\" xlink:href=\"#DejaVuSans-95\"/>\r\n       <use x=\"329.6875\" xlink:href=\"#DejaVuSans-99\"/>\r\n       <use x=\"384.667969\" xlink:href=\"#DejaVuSans-111\"/>\r\n       <use x=\"445.849609\" xlink:href=\"#DejaVuSans-114\"/>\r\n       <use x=\"485.212891\" xlink:href=\"#DejaVuSans-114\"/>\r\n       <use x=\"524.076172\" xlink:href=\"#DejaVuSans-101\"/>\r\n       <use x=\"585.599609\" xlink:href=\"#DejaVuSans-99\"/>\r\n       <use x=\"640.580078\" xlink:href=\"#DejaVuSans-116\"/>\r\n       <use x=\"679.789062\" xlink:href=\"#DejaVuSans-110\"/>\r\n       <use x=\"743.167969\" xlink:href=\"#DejaVuSans-101\"/>\r\n       <use x=\"804.691406\" xlink:href=\"#DejaVuSans-115\"/>\r\n       <use x=\"856.791016\" xlink:href=\"#DejaVuSans-115\"/>\r\n       <use x=\"908.890625\" xlink:href=\"#DejaVuSans-95\"/>\r\n       <use x=\"958.890625\" xlink:href=\"#DejaVuSans-109\"/>\r\n       <use x=\"1056.302734\" xlink:href=\"#DejaVuSans-101\"/>\r\n       <use x=\"1117.826172\" xlink:href=\"#DejaVuSans-97\"/>\r\n       <use x=\"1179.105469\" xlink:href=\"#DejaVuSans-110\"/>\r\n      </g>\r\n     </g>\r\n    </g>\r\n    <g id=\"ytick_7\">\r\n     <g id=\"line2d_29\">\r\n      <path clip-path=\"url(#p25db348a06)\" d=\"M 201.5875 176.338125 \r\nL 536.3875 176.338125 \r\n\" style=\"fill:none;stroke:#b0b0b0;stroke-linecap:square;stroke-width:0.8;\"/>\r\n     </g>\r\n     <g id=\"line2d_30\">\r\n      <g>\r\n       <use style=\"stroke:#000000;stroke-width:0.8;\" x=\"201.5875\" xlink:href=\"#m7399ac6efb\" y=\"176.338125\"/>\r\n      </g>\r\n     </g>\r\n     <g id=\"text_17\">\r\n      <!-- task_container_correctness -->\r\n      <g transform=\"translate(58.235938 180.137344)scale(0.1 -0.1)\">\r\n       <defs>\r\n        <path d=\"M 9.078125 75.984375 \r\nL 18.109375 75.984375 \r\nL 18.109375 31.109375 \r\nL 44.921875 54.6875 \r\nL 56.390625 54.6875 \r\nL 27.390625 29.109375 \r\nL 57.625 0 \r\nL 45.90625 0 \r\nL 18.109375 26.703125 \r\nL 18.109375 0 \r\nL 9.078125 0 \r\nz\r\n\" id=\"DejaVuSans-107\"/>\r\n       </defs>\r\n       <use xlink:href=\"#DejaVuSans-116\"/>\r\n       <use x=\"39.208984\" xlink:href=\"#DejaVuSans-97\"/>\r\n       <use x=\"100.488281\" xlink:href=\"#DejaVuSans-115\"/>\r\n       <use x=\"152.587891\" xlink:href=\"#DejaVuSans-107\"/>\r\n       <use x=\"210.498047\" xlink:href=\"#DejaVuSans-95\"/>\r\n       <use x=\"260.498047\" xlink:href=\"#DejaVuSans-99\"/>\r\n       <use x=\"315.478516\" xlink:href=\"#DejaVuSans-111\"/>\r\n       <use x=\"376.660156\" xlink:href=\"#DejaVuSans-110\"/>\r\n       <use x=\"440.039062\" xlink:href=\"#DejaVuSans-116\"/>\r\n       <use x=\"479.248047\" xlink:href=\"#DejaVuSans-97\"/>\r\n       <use x=\"540.527344\" xlink:href=\"#DejaVuSans-105\"/>\r\n       <use x=\"568.310547\" xlink:href=\"#DejaVuSans-110\"/>\r\n       <use x=\"631.689453\" xlink:href=\"#DejaVuSans-101\"/>\r\n       <use x=\"693.212891\" xlink:href=\"#DejaVuSans-114\"/>\r\n       <use x=\"734.326172\" xlink:href=\"#DejaVuSans-95\"/>\r\n       <use x=\"784.326172\" xlink:href=\"#DejaVuSans-99\"/>\r\n       <use x=\"839.306641\" xlink:href=\"#DejaVuSans-111\"/>\r\n       <use x=\"900.488281\" xlink:href=\"#DejaVuSans-114\"/>\r\n       <use x=\"939.851562\" xlink:href=\"#DejaVuSans-114\"/>\r\n       <use x=\"978.714844\" xlink:href=\"#DejaVuSans-101\"/>\r\n       <use x=\"1040.238281\" xlink:href=\"#DejaVuSans-99\"/>\r\n       <use x=\"1095.21875\" xlink:href=\"#DejaVuSans-116\"/>\r\n       <use x=\"1134.427734\" xlink:href=\"#DejaVuSans-110\"/>\r\n       <use x=\"1197.806641\" xlink:href=\"#DejaVuSans-101\"/>\r\n       <use x=\"1259.330078\" xlink:href=\"#DejaVuSans-115\"/>\r\n       <use x=\"1311.429688\" xlink:href=\"#DejaVuSans-115\"/>\r\n      </g>\r\n     </g>\r\n    </g>\r\n    <g id=\"ytick_8\">\r\n     <g id=\"line2d_31\">\r\n      <path clip-path=\"url(#p25db348a06)\" d=\"M 201.5875 167.278125 \r\nL 536.3875 167.278125 \r\n\" style=\"fill:none;stroke:#b0b0b0;stroke-linecap:square;stroke-width:0.8;\"/>\r\n     </g>\r\n     <g id=\"line2d_32\">\r\n      <g>\r\n       <use style=\"stroke:#000000;stroke-width:0.8;\" x=\"201.5875\" xlink:href=\"#m7399ac6efb\" y=\"167.278125\"/>\r\n      </g>\r\n     </g>\r\n     <g id=\"text_18\">\r\n      <!-- explanation_mean -->\r\n      <g transform=\"translate(102.45625 171.077344)scale(0.1 -0.1)\">\r\n       <use xlink:href=\"#DejaVuSans-101\"/>\r\n       <use x=\"59.773438\" xlink:href=\"#DejaVuSans-120\"/>\r\n       <use x=\"118.953125\" xlink:href=\"#DejaVuSans-112\"/>\r\n       <use x=\"182.429688\" xlink:href=\"#DejaVuSans-108\"/>\r\n       <use x=\"210.212891\" xlink:href=\"#DejaVuSans-97\"/>\r\n       <use x=\"271.492188\" xlink:href=\"#DejaVuSans-110\"/>\r\n       <use x=\"334.871094\" xlink:href=\"#DejaVuSans-97\"/>\r\n       <use x=\"396.150391\" xlink:href=\"#DejaVuSans-116\"/>\r\n       <use x=\"435.359375\" xlink:href=\"#DejaVuSans-105\"/>\r\n       <use x=\"463.142578\" xlink:href=\"#DejaVuSans-111\"/>\r\n       <use x=\"524.324219\" xlink:href=\"#DejaVuSans-110\"/>\r\n       <use x=\"587.703125\" xlink:href=\"#DejaVuSans-95\"/>\r\n       <use x=\"637.703125\" xlink:href=\"#DejaVuSans-109\"/>\r\n       <use x=\"735.115234\" xlink:href=\"#DejaVuSans-101\"/>\r\n       <use x=\"796.638672\" xlink:href=\"#DejaVuSans-97\"/>\r\n       <use x=\"857.917969\" xlink:href=\"#DejaVuSans-110\"/>\r\n      </g>\r\n     </g>\r\n    </g>\r\n    <g id=\"ytick_9\">\r\n     <g id=\"line2d_33\">\r\n      <path clip-path=\"url(#p25db348a06)\" d=\"M 201.5875 158.218125 \r\nL 536.3875 158.218125 \r\n\" style=\"fill:none;stroke:#b0b0b0;stroke-linecap:square;stroke-width:0.8;\"/>\r\n     </g>\r\n     <g id=\"line2d_34\">\r\n      <g>\r\n       <use style=\"stroke:#000000;stroke-width:0.8;\" x=\"201.5875\" xlink:href=\"#m7399ac6efb\" y=\"158.218125\"/>\r\n      </g>\r\n     </g>\r\n     <g id=\"text_19\">\r\n      <!-- part -->\r\n      <g transform=\"translate(174.079688 162.017344)scale(0.1 -0.1)\">\r\n       <use xlink:href=\"#DejaVuSans-112\"/>\r\n       <use x=\"63.476562\" xlink:href=\"#DejaVuSans-97\"/>\r\n       <use x=\"124.755859\" xlink:href=\"#DejaVuSans-114\"/>\r\n       <use x=\"165.869141\" xlink:href=\"#DejaVuSans-116\"/>\r\n      </g>\r\n     </g>\r\n    </g>\r\n    <g id=\"ytick_10\">\r\n     <g id=\"line2d_35\">\r\n      <path clip-path=\"url(#p25db348a06)\" d=\"M 201.5875 149.158125 \r\nL 536.3875 149.158125 \r\n\" style=\"fill:none;stroke:#b0b0b0;stroke-linecap:square;stroke-width:0.8;\"/>\r\n     </g>\r\n     <g id=\"line2d_36\">\r\n      <g>\r\n       <use style=\"stroke:#000000;stroke-width:0.8;\" x=\"201.5875\" xlink:href=\"#m7399ac6efb\" y=\"149.158125\"/>\r\n      </g>\r\n     </g>\r\n     <g id=\"text_20\">\r\n      <!-- user_lecture_lv -->\r\n      <g transform=\"translate(119.353125 152.957344)scale(0.1 -0.1)\">\r\n       <defs>\r\n        <path d=\"M 2.984375 54.6875 \r\nL 12.5 54.6875 \r\nL 29.59375 8.796875 \r\nL 46.6875 54.6875 \r\nL 56.203125 54.6875 \r\nL 35.6875 0 \r\nL 23.484375 0 \r\nz\r\n\" id=\"DejaVuSans-118\"/>\r\n       </defs>\r\n       <use xlink:href=\"#DejaVuSans-117\"/>\r\n       <use x=\"63.378906\" xlink:href=\"#DejaVuSans-115\"/>\r\n       <use x=\"115.478516\" xlink:href=\"#DejaVuSans-101\"/>\r\n       <use x=\"177.001953\" xlink:href=\"#DejaVuSans-114\"/>\r\n       <use x=\"218.115234\" xlink:href=\"#DejaVuSans-95\"/>\r\n       <use x=\"268.115234\" xlink:href=\"#DejaVuSans-108\"/>\r\n       <use x=\"295.898438\" xlink:href=\"#DejaVuSans-101\"/>\r\n       <use x=\"357.421875\" xlink:href=\"#DejaVuSans-99\"/>\r\n       <use x=\"412.402344\" xlink:href=\"#DejaVuSans-116\"/>\r\n       <use x=\"451.611328\" xlink:href=\"#DejaVuSans-117\"/>\r\n       <use x=\"514.990234\" xlink:href=\"#DejaVuSans-114\"/>\r\n       <use x=\"553.853516\" xlink:href=\"#DejaVuSans-101\"/>\r\n       <use x=\"615.376953\" xlink:href=\"#DejaVuSans-95\"/>\r\n       <use x=\"665.376953\" xlink:href=\"#DejaVuSans-108\"/>\r\n       <use x=\"693.160156\" xlink:href=\"#DejaVuSans-118\"/>\r\n      </g>\r\n     </g>\r\n    </g>\r\n    <g id=\"ytick_11\">\r\n     <g id=\"line2d_37\">\r\n      <path clip-path=\"url(#p25db348a06)\" d=\"M 201.5875 140.098125 \r\nL 536.3875 140.098125 \r\n\" style=\"fill:none;stroke:#b0b0b0;stroke-linecap:square;stroke-width:0.8;\"/>\r\n     </g>\r\n     <g id=\"line2d_38\">\r\n      <g>\r\n       <use style=\"stroke:#000000;stroke-width:0.8;\" x=\"201.5875\" xlink:href=\"#m7399ac6efb\" y=\"140.098125\"/>\r\n      </g>\r\n     </g>\r\n     <g id=\"text_21\">\r\n      <!-- explanation_cumsum -->\r\n      <g transform=\"translate(87.951562 143.897344)scale(0.1 -0.1)\">\r\n       <use xlink:href=\"#DejaVuSans-101\"/>\r\n       <use x=\"59.773438\" xlink:href=\"#DejaVuSans-120\"/>\r\n       <use x=\"118.953125\" xlink:href=\"#DejaVuSans-112\"/>\r\n       <use x=\"182.429688\" xlink:href=\"#DejaVuSans-108\"/>\r\n       <use x=\"210.212891\" xlink:href=\"#DejaVuSans-97\"/>\r\n       <use x=\"271.492188\" xlink:href=\"#DejaVuSans-110\"/>\r\n       <use x=\"334.871094\" xlink:href=\"#DejaVuSans-97\"/>\r\n       <use x=\"396.150391\" xlink:href=\"#DejaVuSans-116\"/>\r\n       <use x=\"435.359375\" xlink:href=\"#DejaVuSans-105\"/>\r\n       <use x=\"463.142578\" xlink:href=\"#DejaVuSans-111\"/>\r\n       <use x=\"524.324219\" xlink:href=\"#DejaVuSans-110\"/>\r\n       <use x=\"587.703125\" xlink:href=\"#DejaVuSans-95\"/>\r\n       <use x=\"637.703125\" xlink:href=\"#DejaVuSans-99\"/>\r\n       <use x=\"692.683594\" xlink:href=\"#DejaVuSans-117\"/>\r\n       <use x=\"756.0625\" xlink:href=\"#DejaVuSans-109\"/>\r\n       <use x=\"853.474609\" xlink:href=\"#DejaVuSans-115\"/>\r\n       <use x=\"905.574219\" xlink:href=\"#DejaVuSans-117\"/>\r\n       <use x=\"968.953125\" xlink:href=\"#DejaVuSans-109\"/>\r\n      </g>\r\n     </g>\r\n    </g>\r\n    <g id=\"ytick_12\">\r\n     <g id=\"line2d_39\">\r\n      <path clip-path=\"url(#p25db348a06)\" d=\"M 201.5875 131.038125 \r\nL 536.3875 131.038125 \r\n\" style=\"fill:none;stroke:#b0b0b0;stroke-linecap:square;stroke-width:0.8;\"/>\r\n     </g>\r\n     <g id=\"line2d_40\">\r\n      <g>\r\n       <use style=\"stroke:#000000;stroke-width:0.8;\" x=\"201.5875\" xlink:href=\"#m7399ac6efb\" y=\"131.038125\"/>\r\n      </g>\r\n     </g>\r\n     <g id=\"text_22\">\r\n      <!-- user_correct_cumcount -->\r\n      <g transform=\"translate(77.976562 134.698281)scale(0.1 -0.1)\">\r\n       <use xlink:href=\"#DejaVuSans-117\"/>\r\n       <use x=\"63.378906\" xlink:href=\"#DejaVuSans-115\"/>\r\n       <use x=\"115.478516\" xlink:href=\"#DejaVuSans-101\"/>\r\n       <use x=\"177.001953\" xlink:href=\"#DejaVuSans-114\"/>\r\n       <use x=\"218.115234\" xlink:href=\"#DejaVuSans-95\"/>\r\n       <use x=\"268.115234\" xlink:href=\"#DejaVuSans-99\"/>\r\n       <use x=\"323.095703\" xlink:href=\"#DejaVuSans-111\"/>\r\n       <use x=\"384.277344\" xlink:href=\"#DejaVuSans-114\"/>\r\n       <use x=\"423.640625\" xlink:href=\"#DejaVuSans-114\"/>\r\n       <use x=\"462.503906\" xlink:href=\"#DejaVuSans-101\"/>\r\n       <use x=\"524.027344\" xlink:href=\"#DejaVuSans-99\"/>\r\n       <use x=\"579.007812\" xlink:href=\"#DejaVuSans-116\"/>\r\n       <use x=\"618.216797\" xlink:href=\"#DejaVuSans-95\"/>\r\n       <use x=\"668.216797\" xlink:href=\"#DejaVuSans-99\"/>\r\n       <use x=\"723.197266\" xlink:href=\"#DejaVuSans-117\"/>\r\n       <use x=\"786.576172\" xlink:href=\"#DejaVuSans-109\"/>\r\n       <use x=\"883.988281\" xlink:href=\"#DejaVuSans-99\"/>\r\n       <use x=\"938.96875\" xlink:href=\"#DejaVuSans-111\"/>\r\n       <use x=\"1000.150391\" xlink:href=\"#DejaVuSans-117\"/>\r\n       <use x=\"1063.529297\" xlink:href=\"#DejaVuSans-110\"/>\r\n       <use x=\"1126.908203\" xlink:href=\"#DejaVuSans-116\"/>\r\n      </g>\r\n     </g>\r\n    </g>\r\n    <g id=\"ytick_13\">\r\n     <g id=\"line2d_41\">\r\n      <path clip-path=\"url(#p25db348a06)\" d=\"M 201.5875 121.978125 \r\nL 536.3875 121.978125 \r\n\" style=\"fill:none;stroke:#b0b0b0;stroke-linecap:square;stroke-width:0.8;\"/>\r\n     </g>\r\n     <g id=\"line2d_42\">\r\n      <g>\r\n       <use style=\"stroke:#000000;stroke-width:0.8;\" x=\"201.5875\" xlink:href=\"#m7399ac6efb\" y=\"121.978125\"/>\r\n      </g>\r\n     </g>\r\n     <g id=\"text_23\">\r\n      <!-- content_sum -->\r\n      <g transform=\"translate(130.014063 125.638281)scale(0.1 -0.1)\">\r\n       <use xlink:href=\"#DejaVuSans-99\"/>\r\n       <use x=\"54.980469\" xlink:href=\"#DejaVuSans-111\"/>\r\n       <use x=\"116.162109\" xlink:href=\"#DejaVuSans-110\"/>\r\n       <use x=\"179.541016\" xlink:href=\"#DejaVuSans-116\"/>\r\n       <use x=\"218.75\" xlink:href=\"#DejaVuSans-101\"/>\r\n       <use x=\"280.273438\" xlink:href=\"#DejaVuSans-110\"/>\r\n       <use x=\"343.652344\" xlink:href=\"#DejaVuSans-116\"/>\r\n       <use x=\"382.861328\" xlink:href=\"#DejaVuSans-95\"/>\r\n       <use x=\"432.861328\" xlink:href=\"#DejaVuSans-115\"/>\r\n       <use x=\"484.960938\" xlink:href=\"#DejaVuSans-117\"/>\r\n       <use x=\"548.339844\" xlink:href=\"#DejaVuSans-109\"/>\r\n      </g>\r\n     </g>\r\n    </g>\r\n    <g id=\"ytick_14\">\r\n     <g id=\"line2d_43\">\r\n      <path clip-path=\"url(#p25db348a06)\" d=\"M 201.5875 112.918125 \r\nL 536.3875 112.918125 \r\n\" style=\"fill:none;stroke:#b0b0b0;stroke-linecap:square;stroke-width:0.8;\"/>\r\n     </g>\r\n     <g id=\"line2d_44\">\r\n      <g>\r\n       <use style=\"stroke:#000000;stroke-width:0.8;\" x=\"201.5875\" xlink:href=\"#m7399ac6efb\" y=\"112.918125\"/>\r\n      </g>\r\n     </g>\r\n     <g id=\"text_24\">\r\n      <!-- content_count -->\r\n      <g transform=\"translate(123.089062 116.578281)scale(0.1 -0.1)\">\r\n       <use xlink:href=\"#DejaVuSans-99\"/>\r\n       <use x=\"54.980469\" xlink:href=\"#DejaVuSans-111\"/>\r\n       <use x=\"116.162109\" xlink:href=\"#DejaVuSans-110\"/>\r\n       <use x=\"179.541016\" xlink:href=\"#DejaVuSans-116\"/>\r\n       <use x=\"218.75\" xlink:href=\"#DejaVuSans-101\"/>\r\n       <use x=\"280.273438\" xlink:href=\"#DejaVuSans-110\"/>\r\n       <use x=\"343.652344\" xlink:href=\"#DejaVuSans-116\"/>\r\n       <use x=\"382.861328\" xlink:href=\"#DejaVuSans-95\"/>\r\n       <use x=\"432.861328\" xlink:href=\"#DejaVuSans-99\"/>\r\n       <use x=\"487.841797\" xlink:href=\"#DejaVuSans-111\"/>\r\n       <use x=\"549.023438\" xlink:href=\"#DejaVuSans-117\"/>\r\n       <use x=\"612.402344\" xlink:href=\"#DejaVuSans-110\"/>\r\n       <use x=\"675.78125\" xlink:href=\"#DejaVuSans-116\"/>\r\n      </g>\r\n     </g>\r\n    </g>\r\n    <g id=\"ytick_15\">\r\n     <g id=\"line2d_45\">\r\n      <path clip-path=\"url(#p25db348a06)\" d=\"M 201.5875 103.858125 \r\nL 536.3875 103.858125 \r\n\" style=\"fill:none;stroke:#b0b0b0;stroke-linecap:square;stroke-width:0.8;\"/>\r\n     </g>\r\n     <g id=\"line2d_46\">\r\n      <g>\r\n       <use style=\"stroke:#000000;stroke-width:0.8;\" x=\"201.5875\" xlink:href=\"#m7399ac6efb\" y=\"103.858125\"/>\r\n      </g>\r\n     </g>\r\n     <g id=\"text_25\">\r\n      <!-- prior_question_elapsed_time -->\r\n      <g transform=\"translate(51.20625 107.657344)scale(0.1 -0.1)\">\r\n       <use xlink:href=\"#DejaVuSans-112\"/>\r\n       <use x=\"63.476562\" xlink:href=\"#DejaVuSans-114\"/>\r\n       <use x=\"104.589844\" xlink:href=\"#DejaVuSans-105\"/>\r\n       <use x=\"132.373047\" xlink:href=\"#DejaVuSans-111\"/>\r\n       <use x=\"193.554688\" xlink:href=\"#DejaVuSans-114\"/>\r\n       <use x=\"234.667969\" xlink:href=\"#DejaVuSans-95\"/>\r\n       <use x=\"284.667969\" xlink:href=\"#DejaVuSans-113\"/>\r\n       <use x=\"348.144531\" xlink:href=\"#DejaVuSans-117\"/>\r\n       <use x=\"411.523438\" xlink:href=\"#DejaVuSans-101\"/>\r\n       <use x=\"473.046875\" xlink:href=\"#DejaVuSans-115\"/>\r\n       <use x=\"525.146484\" xlink:href=\"#DejaVuSans-116\"/>\r\n       <use x=\"564.355469\" xlink:href=\"#DejaVuSans-105\"/>\r\n       <use x=\"592.138672\" xlink:href=\"#DejaVuSans-111\"/>\r\n       <use x=\"653.320312\" xlink:href=\"#DejaVuSans-110\"/>\r\n       <use x=\"716.699219\" xlink:href=\"#DejaVuSans-95\"/>\r\n       <use x=\"766.699219\" xlink:href=\"#DejaVuSans-101\"/>\r\n       <use x=\"828.222656\" xlink:href=\"#DejaVuSans-108\"/>\r\n       <use x=\"856.005859\" xlink:href=\"#DejaVuSans-97\"/>\r\n       <use x=\"917.285156\" xlink:href=\"#DejaVuSans-112\"/>\r\n       <use x=\"980.761719\" xlink:href=\"#DejaVuSans-115\"/>\r\n       <use x=\"1032.861328\" xlink:href=\"#DejaVuSans-101\"/>\r\n       <use x=\"1094.384766\" xlink:href=\"#DejaVuSans-100\"/>\r\n       <use x=\"1157.861328\" xlink:href=\"#DejaVuSans-95\"/>\r\n       <use x=\"1207.861328\" xlink:href=\"#DejaVuSans-116\"/>\r\n       <use x=\"1247.070312\" xlink:href=\"#DejaVuSans-105\"/>\r\n       <use x=\"1274.853516\" xlink:href=\"#DejaVuSans-109\"/>\r\n       <use x=\"1372.265625\" xlink:href=\"#DejaVuSans-101\"/>\r\n      </g>\r\n     </g>\r\n    </g>\r\n    <g id=\"ytick_16\">\r\n     <g id=\"line2d_47\">\r\n      <path clip-path=\"url(#p25db348a06)\" d=\"M 201.5875 94.798125 \r\nL 536.3875 94.798125 \r\n\" style=\"fill:none;stroke:#b0b0b0;stroke-linecap:square;stroke-width:0.8;\"/>\r\n     </g>\r\n     <g id=\"line2d_48\">\r\n      <g>\r\n       <use style=\"stroke:#000000;stroke-width:0.8;\" x=\"201.5875\" xlink:href=\"#m7399ac6efb\" y=\"94.798125\"/>\r\n      </g>\r\n     </g>\r\n     <g id=\"text_26\">\r\n      <!-- user_correct_cumsum -->\r\n      <g transform=\"translate(84.901562 98.458281)scale(0.1 -0.1)\">\r\n       <use xlink:href=\"#DejaVuSans-117\"/>\r\n       <use x=\"63.378906\" xlink:href=\"#DejaVuSans-115\"/>\r\n       <use x=\"115.478516\" xlink:href=\"#DejaVuSans-101\"/>\r\n       <use x=\"177.001953\" xlink:href=\"#DejaVuSans-114\"/>\r\n       <use x=\"218.115234\" xlink:href=\"#DejaVuSans-95\"/>\r\n       <use x=\"268.115234\" xlink:href=\"#DejaVuSans-99\"/>\r\n       <use x=\"323.095703\" xlink:href=\"#DejaVuSans-111\"/>\r\n       <use x=\"384.277344\" xlink:href=\"#DejaVuSans-114\"/>\r\n       <use x=\"423.640625\" xlink:href=\"#DejaVuSans-114\"/>\r\n       <use x=\"462.503906\" xlink:href=\"#DejaVuSans-101\"/>\r\n       <use x=\"524.027344\" xlink:href=\"#DejaVuSans-99\"/>\r\n       <use x=\"579.007812\" xlink:href=\"#DejaVuSans-116\"/>\r\n       <use x=\"618.216797\" xlink:href=\"#DejaVuSans-95\"/>\r\n       <use x=\"668.216797\" xlink:href=\"#DejaVuSans-99\"/>\r\n       <use x=\"723.197266\" xlink:href=\"#DejaVuSans-117\"/>\r\n       <use x=\"786.576172\" xlink:href=\"#DejaVuSans-109\"/>\r\n       <use x=\"883.988281\" xlink:href=\"#DejaVuSans-115\"/>\r\n       <use x=\"936.087891\" xlink:href=\"#DejaVuSans-117\"/>\r\n       <use x=\"999.466797\" xlink:href=\"#DejaVuSans-109\"/>\r\n      </g>\r\n     </g>\r\n    </g>\r\n    <g id=\"ytick_17\">\r\n     <g id=\"line2d_49\">\r\n      <path clip-path=\"url(#p25db348a06)\" d=\"M 201.5875 85.738125 \r\nL 536.3875 85.738125 \r\n\" style=\"fill:none;stroke:#b0b0b0;stroke-linecap:square;stroke-width:0.8;\"/>\r\n     </g>\r\n     <g id=\"line2d_50\">\r\n      <g>\r\n       <use style=\"stroke:#000000;stroke-width:0.8;\" x=\"201.5875\" xlink:href=\"#m7399ac6efb\" y=\"85.738125\"/>\r\n      </g>\r\n     </g>\r\n     <g id=\"text_27\">\r\n      <!-- tags1 -->\r\n      <g transform=\"translate(166.61875 89.537344)scale(0.1 -0.1)\">\r\n       <use xlink:href=\"#DejaVuSans-116\"/>\r\n       <use x=\"39.208984\" xlink:href=\"#DejaVuSans-97\"/>\r\n       <use x=\"100.488281\" xlink:href=\"#DejaVuSans-103\"/>\r\n       <use x=\"163.964844\" xlink:href=\"#DejaVuSans-115\"/>\r\n       <use x=\"216.064453\" xlink:href=\"#DejaVuSans-49\"/>\r\n      </g>\r\n     </g>\r\n    </g>\r\n    <g id=\"ytick_18\">\r\n     <g id=\"line2d_51\">\r\n      <path clip-path=\"url(#p25db348a06)\" d=\"M 201.5875 76.678125 \r\nL 536.3875 76.678125 \r\n\" style=\"fill:none;stroke:#b0b0b0;stroke-linecap:square;stroke-width:0.8;\"/>\r\n     </g>\r\n     <g id=\"line2d_52\">\r\n      <g>\r\n       <use style=\"stroke:#000000;stroke-width:0.8;\" x=\"201.5875\" xlink:href=\"#m7399ac6efb\" y=\"76.678125\"/>\r\n      </g>\r\n     </g>\r\n     <g id=\"text_28\">\r\n      <!-- lagtime -->\r\n      <g transform=\"translate(156.740625 80.477344)scale(0.1 -0.1)\">\r\n       <use xlink:href=\"#DejaVuSans-108\"/>\r\n       <use x=\"27.783203\" xlink:href=\"#DejaVuSans-97\"/>\r\n       <use x=\"89.0625\" xlink:href=\"#DejaVuSans-103\"/>\r\n       <use x=\"152.539062\" xlink:href=\"#DejaVuSans-116\"/>\r\n       <use x=\"191.748047\" xlink:href=\"#DejaVuSans-105\"/>\r\n       <use x=\"219.53125\" xlink:href=\"#DejaVuSans-109\"/>\r\n       <use x=\"316.943359\" xlink:href=\"#DejaVuSans-101\"/>\r\n      </g>\r\n     </g>\r\n    </g>\r\n    <g id=\"ytick_19\">\r\n     <g id=\"line2d_53\">\r\n      <path clip-path=\"url(#p25db348a06)\" d=\"M 201.5875 67.618125 \r\nL 536.3875 67.618125 \r\n\" style=\"fill:none;stroke:#b0b0b0;stroke-linecap:square;stroke-width:0.8;\"/>\r\n     </g>\r\n     <g id=\"line2d_54\">\r\n      <g>\r\n       <use style=\"stroke:#000000;stroke-width:0.8;\" x=\"201.5875\" xlink:href=\"#m7399ac6efb\" y=\"67.618125\"/>\r\n      </g>\r\n     </g>\r\n     <g id=\"text_29\">\r\n      <!-- attempt_no -->\r\n      <g transform=\"translate(137 71.278281)scale(0.1 -0.1)\">\r\n       <use xlink:href=\"#DejaVuSans-97\"/>\r\n       <use x=\"61.279297\" xlink:href=\"#DejaVuSans-116\"/>\r\n       <use x=\"100.488281\" xlink:href=\"#DejaVuSans-116\"/>\r\n       <use x=\"139.697266\" xlink:href=\"#DejaVuSans-101\"/>\r\n       <use x=\"201.220703\" xlink:href=\"#DejaVuSans-109\"/>\r\n       <use x=\"298.632812\" xlink:href=\"#DejaVuSans-112\"/>\r\n       <use x=\"362.109375\" xlink:href=\"#DejaVuSans-116\"/>\r\n       <use x=\"401.318359\" xlink:href=\"#DejaVuSans-95\"/>\r\n       <use x=\"451.318359\" xlink:href=\"#DejaVuSans-110\"/>\r\n       <use x=\"514.697266\" xlink:href=\"#DejaVuSans-111\"/>\r\n      </g>\r\n     </g>\r\n    </g>\r\n    <g id=\"ytick_20\">\r\n     <g id=\"line2d_55\">\r\n      <path clip-path=\"url(#p25db348a06)\" d=\"M 201.5875 58.558125 \r\nL 536.3875 58.558125 \r\n\" style=\"fill:none;stroke:#b0b0b0;stroke-linecap:square;stroke-width:0.8;\"/>\r\n     </g>\r\n     <g id=\"line2d_56\">\r\n      <g>\r\n       <use style=\"stroke:#000000;stroke-width:0.8;\" x=\"201.5875\" xlink:href=\"#m7399ac6efb\" y=\"58.558125\"/>\r\n      </g>\r\n     </g>\r\n     <g id=\"text_30\">\r\n      <!-- bundle_id -->\r\n      <g transform=\"translate(146.157813 62.357344)scale(0.1 -0.1)\">\r\n       <defs>\r\n        <path d=\"M 48.6875 27.296875 \r\nQ 48.6875 37.203125 44.609375 42.84375 \r\nQ 40.53125 48.484375 33.40625 48.484375 \r\nQ 26.265625 48.484375 22.1875 42.84375 \r\nQ 18.109375 37.203125 18.109375 27.296875 \r\nQ 18.109375 17.390625 22.1875 11.75 \r\nQ 26.265625 6.109375 33.40625 6.109375 \r\nQ 40.53125 6.109375 44.609375 11.75 \r\nQ 48.6875 17.390625 48.6875 27.296875 \r\nz\r\nM 18.109375 46.390625 \r\nQ 20.953125 51.265625 25.265625 53.625 \r\nQ 29.59375 56 35.59375 56 \r\nQ 45.5625 56 51.78125 48.09375 \r\nQ 58.015625 40.1875 58.015625 27.296875 \r\nQ 58.015625 14.40625 51.78125 6.484375 \r\nQ 45.5625 -1.421875 35.59375 -1.421875 \r\nQ 29.59375 -1.421875 25.265625 0.953125 \r\nQ 20.953125 3.328125 18.109375 8.203125 \r\nL 18.109375 0 \r\nL 9.078125 0 \r\nL 9.078125 75.984375 \r\nL 18.109375 75.984375 \r\nz\r\n\" id=\"DejaVuSans-98\"/>\r\n       </defs>\r\n       <use xlink:href=\"#DejaVuSans-98\"/>\r\n       <use x=\"63.476562\" xlink:href=\"#DejaVuSans-117\"/>\r\n       <use x=\"126.855469\" xlink:href=\"#DejaVuSans-110\"/>\r\n       <use x=\"190.234375\" xlink:href=\"#DejaVuSans-100\"/>\r\n       <use x=\"253.710938\" xlink:href=\"#DejaVuSans-108\"/>\r\n       <use x=\"281.494141\" xlink:href=\"#DejaVuSans-101\"/>\r\n       <use x=\"343.017578\" xlink:href=\"#DejaVuSans-95\"/>\r\n       <use x=\"393.017578\" xlink:href=\"#DejaVuSans-105\"/>\r\n       <use x=\"420.800781\" xlink:href=\"#DejaVuSans-100\"/>\r\n      </g>\r\n     </g>\r\n    </g>\r\n    <g id=\"ytick_21\">\r\n     <g id=\"line2d_57\">\r\n      <path clip-path=\"url(#p25db348a06)\" d=\"M 201.5875 49.498125 \r\nL 536.3875 49.498125 \r\n\" style=\"fill:none;stroke:#b0b0b0;stroke-linecap:square;stroke-width:0.8;\"/>\r\n     </g>\r\n     <g id=\"line2d_58\">\r\n      <g>\r\n       <use style=\"stroke:#000000;stroke-width:0.8;\" x=\"201.5875\" xlink:href=\"#m7399ac6efb\" y=\"49.498125\"/>\r\n      </g>\r\n     </g>\r\n     <g id=\"text_31\">\r\n      <!-- user_correctness -->\r\n      <g transform=\"translate(109.85625 53.158281)scale(0.1 -0.1)\">\r\n       <use xlink:href=\"#DejaVuSans-117\"/>\r\n       <use x=\"63.378906\" xlink:href=\"#DejaVuSans-115\"/>\r\n       <use x=\"115.478516\" xlink:href=\"#DejaVuSans-101\"/>\r\n       <use x=\"177.001953\" xlink:href=\"#DejaVuSans-114\"/>\r\n       <use x=\"218.115234\" xlink:href=\"#DejaVuSans-95\"/>\r\n       <use x=\"268.115234\" xlink:href=\"#DejaVuSans-99\"/>\r\n       <use x=\"323.095703\" xlink:href=\"#DejaVuSans-111\"/>\r\n       <use x=\"384.277344\" xlink:href=\"#DejaVuSans-114\"/>\r\n       <use x=\"423.640625\" xlink:href=\"#DejaVuSans-114\"/>\r\n       <use x=\"462.503906\" xlink:href=\"#DejaVuSans-101\"/>\r\n       <use x=\"524.027344\" xlink:href=\"#DejaVuSans-99\"/>\r\n       <use x=\"579.007812\" xlink:href=\"#DejaVuSans-116\"/>\r\n       <use x=\"618.216797\" xlink:href=\"#DejaVuSans-110\"/>\r\n       <use x=\"681.595703\" xlink:href=\"#DejaVuSans-101\"/>\r\n       <use x=\"743.119141\" xlink:href=\"#DejaVuSans-115\"/>\r\n       <use x=\"795.21875\" xlink:href=\"#DejaVuSans-115\"/>\r\n      </g>\r\n     </g>\r\n    </g>\r\n    <g id=\"ytick_22\">\r\n     <g id=\"line2d_59\">\r\n      <path clip-path=\"url(#p25db348a06)\" d=\"M 201.5875 40.438125 \r\nL 536.3875 40.438125 \r\n\" style=\"fill:none;stroke:#b0b0b0;stroke-linecap:square;stroke-width:0.8;\"/>\r\n     </g>\r\n     <g id=\"line2d_60\">\r\n      <g>\r\n       <use style=\"stroke:#000000;stroke-width:0.8;\" x=\"201.5875\" xlink:href=\"#m7399ac6efb\" y=\"40.438125\"/>\r\n      </g>\r\n     </g>\r\n     <g id=\"text_32\">\r\n      <!-- bundle_correctness -->\r\n      <g transform=\"translate(97.364063 44.237344)scale(0.1 -0.1)\">\r\n       <use xlink:href=\"#DejaVuSans-98\"/>\r\n       <use x=\"63.476562\" xlink:href=\"#DejaVuSans-117\"/>\r\n       <use x=\"126.855469\" xlink:href=\"#DejaVuSans-110\"/>\r\n       <use x=\"190.234375\" xlink:href=\"#DejaVuSans-100\"/>\r\n       <use x=\"253.710938\" xlink:href=\"#DejaVuSans-108\"/>\r\n       <use x=\"281.494141\" xlink:href=\"#DejaVuSans-101\"/>\r\n       <use x=\"343.017578\" xlink:href=\"#DejaVuSans-95\"/>\r\n       <use x=\"393.017578\" xlink:href=\"#DejaVuSans-99\"/>\r\n       <use x=\"447.998047\" xlink:href=\"#DejaVuSans-111\"/>\r\n       <use x=\"509.179688\" xlink:href=\"#DejaVuSans-114\"/>\r\n       <use x=\"548.542969\" xlink:href=\"#DejaVuSans-114\"/>\r\n       <use x=\"587.40625\" xlink:href=\"#DejaVuSans-101\"/>\r\n       <use x=\"648.929688\" xlink:href=\"#DejaVuSans-99\"/>\r\n       <use x=\"703.910156\" xlink:href=\"#DejaVuSans-116\"/>\r\n       <use x=\"743.119141\" xlink:href=\"#DejaVuSans-110\"/>\r\n       <use x=\"806.498047\" xlink:href=\"#DejaVuSans-101\"/>\r\n       <use x=\"868.021484\" xlink:href=\"#DejaVuSans-115\"/>\r\n       <use x=\"920.121094\" xlink:href=\"#DejaVuSans-115\"/>\r\n      </g>\r\n     </g>\r\n    </g>\r\n    <g id=\"ytick_23\">\r\n     <g id=\"line2d_61\">\r\n      <path clip-path=\"url(#p25db348a06)\" d=\"M 201.5875 31.378125 \r\nL 536.3875 31.378125 \r\n\" style=\"fill:none;stroke:#b0b0b0;stroke-linecap:square;stroke-width:0.8;\"/>\r\n     </g>\r\n     <g id=\"line2d_62\">\r\n      <g>\r\n       <use style=\"stroke:#000000;stroke-width:0.8;\" x=\"201.5875\" xlink:href=\"#m7399ac6efb\" y=\"31.378125\"/>\r\n      </g>\r\n     </g>\r\n     <g id=\"text_33\">\r\n      <!-- content_correctness -->\r\n      <g transform=\"translate(93.38125 35.038281)scale(0.1 -0.1)\">\r\n       <use xlink:href=\"#DejaVuSans-99\"/>\r\n       <use x=\"54.980469\" xlink:href=\"#DejaVuSans-111\"/>\r\n       <use x=\"116.162109\" xlink:href=\"#DejaVuSans-110\"/>\r\n       <use x=\"179.541016\" xlink:href=\"#DejaVuSans-116\"/>\r\n       <use x=\"218.75\" xlink:href=\"#DejaVuSans-101\"/>\r\n       <use x=\"280.273438\" xlink:href=\"#DejaVuSans-110\"/>\r\n       <use x=\"343.652344\" xlink:href=\"#DejaVuSans-116\"/>\r\n       <use x=\"382.861328\" xlink:href=\"#DejaVuSans-95\"/>\r\n       <use x=\"432.861328\" xlink:href=\"#DejaVuSans-99\"/>\r\n       <use x=\"487.841797\" xlink:href=\"#DejaVuSans-111\"/>\r\n       <use x=\"549.023438\" xlink:href=\"#DejaVuSans-114\"/>\r\n       <use x=\"588.386719\" xlink:href=\"#DejaVuSans-114\"/>\r\n       <use x=\"627.25\" xlink:href=\"#DejaVuSans-101\"/>\r\n       <use x=\"688.773438\" xlink:href=\"#DejaVuSans-99\"/>\r\n       <use x=\"743.753906\" xlink:href=\"#DejaVuSans-116\"/>\r\n       <use x=\"782.962891\" xlink:href=\"#DejaVuSans-110\"/>\r\n       <use x=\"846.341797\" xlink:href=\"#DejaVuSans-101\"/>\r\n       <use x=\"907.865234\" xlink:href=\"#DejaVuSans-115\"/>\r\n       <use x=\"959.964844\" xlink:href=\"#DejaVuSans-115\"/>\r\n      </g>\r\n     </g>\r\n    </g>\r\n    <g id=\"text_34\">\r\n     <!-- Features -->\r\n     <g transform=\"translate(14.798437 152.532656)rotate(-90)scale(0.1 -0.1)\">\r\n      <use xlink:href=\"#DejaVuSans-70\"/>\r\n      <use x=\"52.019531\" xlink:href=\"#DejaVuSans-101\"/>\r\n      <use x=\"113.542969\" xlink:href=\"#DejaVuSans-97\"/>\r\n      <use x=\"174.822266\" xlink:href=\"#DejaVuSans-116\"/>\r\n      <use x=\"214.03125\" xlink:href=\"#DejaVuSans-117\"/>\r\n      <use x=\"277.410156\" xlink:href=\"#DejaVuSans-114\"/>\r\n      <use x=\"316.273438\" xlink:href=\"#DejaVuSans-101\"/>\r\n      <use x=\"377.796875\" xlink:href=\"#DejaVuSans-115\"/>\r\n     </g>\r\n    </g>\r\n   </g>\r\n   <g id=\"patch_26\">\r\n    <path d=\"M 201.5875 239.758125 \r\nL 201.5875 22.318125 \r\n\" style=\"fill:none;stroke:#000000;stroke-linecap:square;stroke-linejoin:miter;stroke-width:0.8;\"/>\r\n   </g>\r\n   <g id=\"patch_27\">\r\n    <path d=\"M 536.3875 239.758125 \r\nL 536.3875 22.318125 \r\n\" style=\"fill:none;stroke:#000000;stroke-linecap:square;stroke-linejoin:miter;stroke-width:0.8;\"/>\r\n   </g>\r\n   <g id=\"patch_28\">\r\n    <path d=\"M 201.5875 239.758125 \r\nL 536.3875 239.758125 \r\n\" style=\"fill:none;stroke:#000000;stroke-linecap:square;stroke-linejoin:miter;stroke-width:0.8;\"/>\r\n   </g>\r\n   <g id=\"patch_29\">\r\n    <path d=\"M 201.5875 22.318125 \r\nL 536.3875 22.318125 \r\n\" style=\"fill:none;stroke:#000000;stroke-linecap:square;stroke-linejoin:miter;stroke-width:0.8;\"/>\r\n   </g>\r\n   <g id=\"text_35\">\r\n    <!-- 13171.234 -->\r\n    <g transform=\"translate(201.865977 233.4575)scale(0.1 -0.1)\">\r\n     <defs>\r\n      <path d=\"M 40.578125 39.3125 \r\nQ 47.65625 37.796875 51.625 33 \r\nQ 55.609375 28.21875 55.609375 21.1875 \r\nQ 55.609375 10.40625 48.1875 4.484375 \r\nQ 40.765625 -1.421875 27.09375 -1.421875 \r\nQ 22.515625 -1.421875 17.65625 -0.515625 \r\nQ 12.796875 0.390625 7.625 2.203125 \r\nL 7.625 11.71875 \r\nQ 11.71875 9.328125 16.59375 8.109375 \r\nQ 21.484375 6.890625 26.8125 6.890625 \r\nQ 36.078125 6.890625 40.9375 10.546875 \r\nQ 45.796875 14.203125 45.796875 21.1875 \r\nQ 45.796875 27.640625 41.28125 31.265625 \r\nQ 36.765625 34.90625 28.71875 34.90625 \r\nL 20.21875 34.90625 \r\nL 20.21875 43.015625 \r\nL 29.109375 43.015625 \r\nQ 36.375 43.015625 40.234375 45.921875 \r\nQ 44.09375 48.828125 44.09375 54.296875 \r\nQ 44.09375 59.90625 40.109375 62.90625 \r\nQ 36.140625 65.921875 28.71875 65.921875 \r\nQ 24.65625 65.921875 20.015625 65.03125 \r\nQ 15.375 64.15625 9.8125 62.3125 \r\nL 9.8125 71.09375 \r\nQ 15.4375 72.65625 20.34375 73.4375 \r\nQ 25.25 74.21875 29.59375 74.21875 \r\nQ 40.828125 74.21875 47.359375 69.109375 \r\nQ 53.90625 64.015625 53.90625 55.328125 \r\nQ 53.90625 49.265625 50.4375 45.09375 \r\nQ 46.96875 40.921875 40.578125 39.3125 \r\nz\r\n\" id=\"DejaVuSans-51\"/>\r\n     </defs>\r\n     <use xlink:href=\"#DejaVuSans-49\"/>\r\n     <use x=\"63.623047\" xlink:href=\"#DejaVuSans-51\"/>\r\n     <use x=\"127.246094\" xlink:href=\"#DejaVuSans-49\"/>\r\n     <use x=\"190.869141\" xlink:href=\"#DejaVuSans-55\"/>\r\n     <use x=\"254.492188\" xlink:href=\"#DejaVuSans-49\"/>\r\n     <use x=\"318.115234\" xlink:href=\"#DejaVuSans-46\"/>\r\n     <use x=\"349.902344\" xlink:href=\"#DejaVuSans-50\"/>\r\n     <use x=\"413.525391\" xlink:href=\"#DejaVuSans-51\"/>\r\n     <use x=\"477.148438\" xlink:href=\"#DejaVuSans-52\"/>\r\n    </g>\r\n   </g>\r\n   <g id=\"text_36\">\r\n    <!-- 45627.222 -->\r\n    <g transform=\"translate(202.552135 224.3975)scale(0.1 -0.1)\">\r\n     <defs>\r\n      <path d=\"M 10.796875 72.90625 \r\nL 49.515625 72.90625 \r\nL 49.515625 64.59375 \r\nL 19.828125 64.59375 \r\nL 19.828125 46.734375 \r\nQ 21.96875 47.46875 24.109375 47.828125 \r\nQ 26.265625 48.1875 28.421875 48.1875 \r\nQ 40.625 48.1875 47.75 41.5 \r\nQ 54.890625 34.8125 54.890625 23.390625 \r\nQ 54.890625 11.625 47.5625 5.09375 \r\nQ 40.234375 -1.421875 26.90625 -1.421875 \r\nQ 22.3125 -1.421875 17.546875 -0.640625 \r\nQ 12.796875 0.140625 7.71875 1.703125 \r\nL 7.71875 11.625 \r\nQ 12.109375 9.234375 16.796875 8.0625 \r\nQ 21.484375 6.890625 26.703125 6.890625 \r\nQ 35.15625 6.890625 40.078125 11.328125 \r\nQ 45.015625 15.765625 45.015625 23.390625 \r\nQ 45.015625 31 40.078125 35.4375 \r\nQ 35.15625 39.890625 26.703125 39.890625 \r\nQ 22.75 39.890625 18.8125 39.015625 \r\nQ 14.890625 38.140625 10.796875 36.28125 \r\nz\r\n\" id=\"DejaVuSans-53\"/>\r\n     </defs>\r\n     <use xlink:href=\"#DejaVuSans-52\"/>\r\n     <use x=\"63.623047\" xlink:href=\"#DejaVuSans-53\"/>\r\n     <use x=\"127.246094\" xlink:href=\"#DejaVuSans-54\"/>\r\n     <use x=\"190.869141\" xlink:href=\"#DejaVuSans-50\"/>\r\n     <use x=\"254.492188\" xlink:href=\"#DejaVuSans-55\"/>\r\n     <use x=\"318.115234\" xlink:href=\"#DejaVuSans-46\"/>\r\n     <use x=\"349.902344\" xlink:href=\"#DejaVuSans-50\"/>\r\n     <use x=\"413.525391\" xlink:href=\"#DejaVuSans-50\"/>\r\n     <use x=\"477.148438\" xlink:href=\"#DejaVuSans-50\"/>\r\n    </g>\r\n   </g>\r\n   <g id=\"text_37\">\r\n    <!-- 54989.107 -->\r\n    <g transform=\"translate(202.750056 215.3375)scale(0.1 -0.1)\">\r\n     <defs>\r\n      <path d=\"M 10.984375 1.515625 \r\nL 10.984375 10.5 \r\nQ 14.703125 8.734375 18.5 7.8125 \r\nQ 22.3125 6.890625 25.984375 6.890625 \r\nQ 35.75 6.890625 40.890625 13.453125 \r\nQ 46.046875 20.015625 46.78125 33.40625 \r\nQ 43.953125 29.203125 39.59375 26.953125 \r\nQ 35.25 24.703125 29.984375 24.703125 \r\nQ 19.046875 24.703125 12.671875 31.3125 \r\nQ 6.296875 37.9375 6.296875 49.421875 \r\nQ 6.296875 60.640625 12.9375 67.421875 \r\nQ 19.578125 74.21875 30.609375 74.21875 \r\nQ 43.265625 74.21875 49.921875 64.515625 \r\nQ 56.59375 54.828125 56.59375 36.375 \r\nQ 56.59375 19.140625 48.40625 8.859375 \r\nQ 40.234375 -1.421875 26.421875 -1.421875 \r\nQ 22.703125 -1.421875 18.890625 -0.6875 \r\nQ 15.09375 0.046875 10.984375 1.515625 \r\nz\r\nM 30.609375 32.421875 \r\nQ 37.25 32.421875 41.125 36.953125 \r\nQ 45.015625 41.5 45.015625 49.421875 \r\nQ 45.015625 57.28125 41.125 61.84375 \r\nQ 37.25 66.40625 30.609375 66.40625 \r\nQ 23.96875 66.40625 20.09375 61.84375 \r\nQ 16.21875 57.28125 16.21875 49.421875 \r\nQ 16.21875 41.5 20.09375 36.953125 \r\nQ 23.96875 32.421875 30.609375 32.421875 \r\nz\r\n\" id=\"DejaVuSans-57\"/>\r\n     </defs>\r\n     <use xlink:href=\"#DejaVuSans-53\"/>\r\n     <use x=\"63.623047\" xlink:href=\"#DejaVuSans-52\"/>\r\n     <use x=\"127.246094\" xlink:href=\"#DejaVuSans-57\"/>\r\n     <use x=\"190.869141\" xlink:href=\"#DejaVuSans-56\"/>\r\n     <use x=\"254.492188\" xlink:href=\"#DejaVuSans-57\"/>\r\n     <use x=\"318.115234\" xlink:href=\"#DejaVuSans-46\"/>\r\n     <use x=\"349.902344\" xlink:href=\"#DejaVuSans-49\"/>\r\n     <use x=\"413.525391\" xlink:href=\"#DejaVuSans-48\"/>\r\n     <use x=\"477.148438\" xlink:href=\"#DejaVuSans-55\"/>\r\n    </g>\r\n   </g>\r\n   <g id=\"text_38\">\r\n    <!-- 55622.407 -->\r\n    <g transform=\"translate(202.763445 206.2775)scale(0.1 -0.1)\">\r\n     <use xlink:href=\"#DejaVuSans-53\"/>\r\n     <use x=\"63.623047\" xlink:href=\"#DejaVuSans-53\"/>\r\n     <use x=\"127.246094\" xlink:href=\"#DejaVuSans-54\"/>\r\n     <use x=\"190.869141\" xlink:href=\"#DejaVuSans-50\"/>\r\n     <use x=\"254.492188\" xlink:href=\"#DejaVuSans-50\"/>\r\n     <use x=\"318.115234\" xlink:href=\"#DejaVuSans-46\"/>\r\n     <use x=\"349.902344\" xlink:href=\"#DejaVuSans-52\"/>\r\n     <use x=\"413.525391\" xlink:href=\"#DejaVuSans-48\"/>\r\n     <use x=\"477.148438\" xlink:href=\"#DejaVuSans-55\"/>\r\n    </g>\r\n   </g>\r\n   <g id=\"text_39\">\r\n    <!-- 86872.583 -->\r\n    <g transform=\"translate(203.424111 197.2175)scale(0.1 -0.1)\">\r\n     <use xlink:href=\"#DejaVuSans-56\"/>\r\n     <use x=\"63.623047\" xlink:href=\"#DejaVuSans-54\"/>\r\n     <use x=\"127.246094\" xlink:href=\"#DejaVuSans-56\"/>\r\n     <use x=\"190.869141\" xlink:href=\"#DejaVuSans-55\"/>\r\n     <use x=\"254.492188\" xlink:href=\"#DejaVuSans-50\"/>\r\n     <use x=\"318.115234\" xlink:href=\"#DejaVuSans-46\"/>\r\n     <use x=\"349.902344\" xlink:href=\"#DejaVuSans-53\"/>\r\n     <use x=\"413.525391\" xlink:href=\"#DejaVuSans-56\"/>\r\n     <use x=\"477.148438\" xlink:href=\"#DejaVuSans-51\"/>\r\n    </g>\r\n   </g>\r\n   <g id=\"text_40\">\r\n    <!-- 112471.703 -->\r\n    <g transform=\"translate(203.965307 188.1575)scale(0.1 -0.1)\">\r\n     <use xlink:href=\"#DejaVuSans-49\"/>\r\n     <use x=\"63.623047\" xlink:href=\"#DejaVuSans-49\"/>\r\n     <use x=\"127.246094\" xlink:href=\"#DejaVuSans-50\"/>\r\n     <use x=\"190.869141\" xlink:href=\"#DejaVuSans-52\"/>\r\n     <use x=\"254.492188\" xlink:href=\"#DejaVuSans-55\"/>\r\n     <use x=\"318.115234\" xlink:href=\"#DejaVuSans-49\"/>\r\n     <use x=\"381.738281\" xlink:href=\"#DejaVuSans-46\"/>\r\n     <use x=\"413.525391\" xlink:href=\"#DejaVuSans-55\"/>\r\n     <use x=\"477.148438\" xlink:href=\"#DejaVuSans-48\"/>\r\n     <use x=\"540.771484\" xlink:href=\"#DejaVuSans-51\"/>\r\n    </g>\r\n   </g>\r\n   <g id=\"text_41\">\r\n    <!-- 146861.262 -->\r\n    <g transform=\"translate(204.692344 179.0975)scale(0.1 -0.1)\">\r\n     <use xlink:href=\"#DejaVuSans-49\"/>\r\n     <use x=\"63.623047\" xlink:href=\"#DejaVuSans-52\"/>\r\n     <use x=\"127.246094\" xlink:href=\"#DejaVuSans-54\"/>\r\n     <use x=\"190.869141\" xlink:href=\"#DejaVuSans-56\"/>\r\n     <use x=\"254.492188\" xlink:href=\"#DejaVuSans-54\"/>\r\n     <use x=\"318.115234\" xlink:href=\"#DejaVuSans-49\"/>\r\n     <use x=\"381.738281\" xlink:href=\"#DejaVuSans-46\"/>\r\n     <use x=\"413.525391\" xlink:href=\"#DejaVuSans-50\"/>\r\n     <use x=\"477.148438\" xlink:href=\"#DejaVuSans-54\"/>\r\n     <use x=\"540.771484\" xlink:href=\"#DejaVuSans-50\"/>\r\n    </g>\r\n   </g>\r\n   <g id=\"text_42\">\r\n    <!-- 171716.000 -->\r\n    <g transform=\"translate(205.217802 170.0375)scale(0.1 -0.1)\">\r\n     <use xlink:href=\"#DejaVuSans-49\"/>\r\n     <use x=\"63.623047\" xlink:href=\"#DejaVuSans-55\"/>\r\n     <use x=\"127.246094\" xlink:href=\"#DejaVuSans-49\"/>\r\n     <use x=\"190.869141\" xlink:href=\"#DejaVuSans-55\"/>\r\n     <use x=\"254.492188\" xlink:href=\"#DejaVuSans-49\"/>\r\n     <use x=\"318.115234\" xlink:href=\"#DejaVuSans-54\"/>\r\n     <use x=\"381.738281\" xlink:href=\"#DejaVuSans-46\"/>\r\n     <use x=\"413.525391\" xlink:href=\"#DejaVuSans-48\"/>\r\n     <use x=\"477.148438\" xlink:href=\"#DejaVuSans-48\"/>\r\n     <use x=\"540.771484\" xlink:href=\"#DejaVuSans-48\"/>\r\n    </g>\r\n   </g>\r\n   <g id=\"text_43\">\r\n    <!-- 196972.893 -->\r\n    <g transform=\"translate(205.751763 160.9775)scale(0.1 -0.1)\">\r\n     <use xlink:href=\"#DejaVuSans-49\"/>\r\n     <use x=\"63.623047\" xlink:href=\"#DejaVuSans-57\"/>\r\n     <use x=\"127.246094\" xlink:href=\"#DejaVuSans-54\"/>\r\n     <use x=\"190.869141\" xlink:href=\"#DejaVuSans-57\"/>\r\n     <use x=\"254.492188\" xlink:href=\"#DejaVuSans-55\"/>\r\n     <use x=\"318.115234\" xlink:href=\"#DejaVuSans-50\"/>\r\n     <use x=\"381.738281\" xlink:href=\"#DejaVuSans-46\"/>\r\n     <use x=\"413.525391\" xlink:href=\"#DejaVuSans-56\"/>\r\n     <use x=\"477.148438\" xlink:href=\"#DejaVuSans-57\"/>\r\n     <use x=\"540.771484\" xlink:href=\"#DejaVuSans-51\"/>\r\n    </g>\r\n   </g>\r\n   <g id=\"text_44\">\r\n    <!-- 220186.523 -->\r\n    <g transform=\"translate(206.242527 151.9175)scale(0.1 -0.1)\">\r\n     <use xlink:href=\"#DejaVuSans-50\"/>\r\n     <use x=\"63.623047\" xlink:href=\"#DejaVuSans-50\"/>\r\n     <use x=\"127.246094\" xlink:href=\"#DejaVuSans-48\"/>\r\n     <use x=\"190.869141\" xlink:href=\"#DejaVuSans-49\"/>\r\n     <use x=\"254.492188\" xlink:href=\"#DejaVuSans-56\"/>\r\n     <use x=\"318.115234\" xlink:href=\"#DejaVuSans-54\"/>\r\n     <use x=\"381.738281\" xlink:href=\"#DejaVuSans-46\"/>\r\n     <use x=\"413.525391\" xlink:href=\"#DejaVuSans-53\"/>\r\n     <use x=\"477.148438\" xlink:href=\"#DejaVuSans-50\"/>\r\n     <use x=\"540.771484\" xlink:href=\"#DejaVuSans-51\"/>\r\n    </g>\r\n   </g>\r\n   <g id=\"text_45\">\r\n    <!-- 260787.246 -->\r\n    <g transform=\"translate(207.100875 142.8575)scale(0.1 -0.1)\">\r\n     <use xlink:href=\"#DejaVuSans-50\"/>\r\n     <use x=\"63.623047\" xlink:href=\"#DejaVuSans-54\"/>\r\n     <use x=\"127.246094\" xlink:href=\"#DejaVuSans-48\"/>\r\n     <use x=\"190.869141\" xlink:href=\"#DejaVuSans-55\"/>\r\n     <use x=\"254.492188\" xlink:href=\"#DejaVuSans-56\"/>\r\n     <use x=\"318.115234\" xlink:href=\"#DejaVuSans-55\"/>\r\n     <use x=\"381.738281\" xlink:href=\"#DejaVuSans-46\"/>\r\n     <use x=\"413.525391\" xlink:href=\"#DejaVuSans-50\"/>\r\n     <use x=\"477.148438\" xlink:href=\"#DejaVuSans-52\"/>\r\n     <use x=\"540.771484\" xlink:href=\"#DejaVuSans-54\"/>\r\n    </g>\r\n   </g>\r\n   <g id=\"text_46\">\r\n    <!-- 416049.916 -->\r\n    <g transform=\"translate(210.383313 133.7975)scale(0.1 -0.1)\">\r\n     <use xlink:href=\"#DejaVuSans-52\"/>\r\n     <use x=\"63.623047\" xlink:href=\"#DejaVuSans-49\"/>\r\n     <use x=\"127.246094\" xlink:href=\"#DejaVuSans-54\"/>\r\n     <use x=\"190.869141\" xlink:href=\"#DejaVuSans-48\"/>\r\n     <use x=\"254.492188\" xlink:href=\"#DejaVuSans-52\"/>\r\n     <use x=\"318.115234\" xlink:href=\"#DejaVuSans-57\"/>\r\n     <use x=\"381.738281\" xlink:href=\"#DejaVuSans-46\"/>\r\n     <use x=\"413.525391\" xlink:href=\"#DejaVuSans-57\"/>\r\n     <use x=\"477.148438\" xlink:href=\"#DejaVuSans-49\"/>\r\n     <use x=\"540.771484\" xlink:href=\"#DejaVuSans-54\"/>\r\n    </g>\r\n   </g>\r\n   <g id=\"text_47\">\r\n    <!-- 617849.027 -->\r\n    <g transform=\"translate(214.649587 124.7375)scale(0.1 -0.1)\">\r\n     <use xlink:href=\"#DejaVuSans-54\"/>\r\n     <use x=\"63.623047\" xlink:href=\"#DejaVuSans-49\"/>\r\n     <use x=\"127.246094\" xlink:href=\"#DejaVuSans-55\"/>\r\n     <use x=\"190.869141\" xlink:href=\"#DejaVuSans-56\"/>\r\n     <use x=\"254.492188\" xlink:href=\"#DejaVuSans-52\"/>\r\n     <use x=\"318.115234\" xlink:href=\"#DejaVuSans-57\"/>\r\n     <use x=\"381.738281\" xlink:href=\"#DejaVuSans-46\"/>\r\n     <use x=\"413.525391\" xlink:href=\"#DejaVuSans-48\"/>\r\n     <use x=\"477.148438\" xlink:href=\"#DejaVuSans-50\"/>\r\n     <use x=\"540.771484\" xlink:href=\"#DejaVuSans-55\"/>\r\n    </g>\r\n   </g>\r\n   <g id=\"text_48\">\r\n    <!-- 625293.745 -->\r\n    <g transform=\"translate(214.806977 115.6775)scale(0.1 -0.1)\">\r\n     <use xlink:href=\"#DejaVuSans-54\"/>\r\n     <use x=\"63.623047\" xlink:href=\"#DejaVuSans-50\"/>\r\n     <use x=\"127.246094\" xlink:href=\"#DejaVuSans-53\"/>\r\n     <use x=\"190.869141\" xlink:href=\"#DejaVuSans-50\"/>\r\n     <use x=\"254.492188\" xlink:href=\"#DejaVuSans-57\"/>\r\n     <use x=\"318.115234\" xlink:href=\"#DejaVuSans-51\"/>\r\n     <use x=\"381.738281\" xlink:href=\"#DejaVuSans-46\"/>\r\n     <use x=\"413.525391\" xlink:href=\"#DejaVuSans-55\"/>\r\n     <use x=\"477.148438\" xlink:href=\"#DejaVuSans-52\"/>\r\n     <use x=\"540.771484\" xlink:href=\"#DejaVuSans-53\"/>\r\n    </g>\r\n   </g>\r\n   <g id=\"text_49\">\r\n    <!-- 645650.388 -->\r\n    <g transform=\"translate(215.237341 106.6175)scale(0.1 -0.1)\">\r\n     <use xlink:href=\"#DejaVuSans-54\"/>\r\n     <use x=\"63.623047\" xlink:href=\"#DejaVuSans-52\"/>\r\n     <use x=\"127.246094\" xlink:href=\"#DejaVuSans-53\"/>\r\n     <use x=\"190.869141\" xlink:href=\"#DejaVuSans-54\"/>\r\n     <use x=\"254.492188\" xlink:href=\"#DejaVuSans-53\"/>\r\n     <use x=\"318.115234\" xlink:href=\"#DejaVuSans-48\"/>\r\n     <use x=\"381.738281\" xlink:href=\"#DejaVuSans-46\"/>\r\n     <use x=\"413.525391\" xlink:href=\"#DejaVuSans-51\"/>\r\n     <use x=\"477.148438\" xlink:href=\"#DejaVuSans-56\"/>\r\n     <use x=\"540.771484\" xlink:href=\"#DejaVuSans-56\"/>\r\n    </g>\r\n   </g>\r\n   <g id=\"text_50\">\r\n    <!-- 775698.894 -->\r\n    <g transform=\"translate(217.986722 97.5575)scale(0.1 -0.1)\">\r\n     <use xlink:href=\"#DejaVuSans-55\"/>\r\n     <use x=\"63.623047\" xlink:href=\"#DejaVuSans-55\"/>\r\n     <use x=\"127.246094\" xlink:href=\"#DejaVuSans-53\"/>\r\n     <use x=\"190.869141\" xlink:href=\"#DejaVuSans-54\"/>\r\n     <use x=\"254.492188\" xlink:href=\"#DejaVuSans-57\"/>\r\n     <use x=\"318.115234\" xlink:href=\"#DejaVuSans-56\"/>\r\n     <use x=\"381.738281\" xlink:href=\"#DejaVuSans-46\"/>\r\n     <use x=\"413.525391\" xlink:href=\"#DejaVuSans-56\"/>\r\n     <use x=\"477.148438\" xlink:href=\"#DejaVuSans-57\"/>\r\n     <use x=\"540.771484\" xlink:href=\"#DejaVuSans-52\"/>\r\n    </g>\r\n   </g>\r\n   <g id=\"text_51\">\r\n    <!-- 994188.816 -->\r\n    <g transform=\"translate(222.605859 88.4975)scale(0.1 -0.1)\">\r\n     <use xlink:href=\"#DejaVuSans-57\"/>\r\n     <use x=\"63.623047\" xlink:href=\"#DejaVuSans-57\"/>\r\n     <use x=\"127.246094\" xlink:href=\"#DejaVuSans-52\"/>\r\n     <use x=\"190.869141\" xlink:href=\"#DejaVuSans-49\"/>\r\n     <use x=\"254.492188\" xlink:href=\"#DejaVuSans-56\"/>\r\n     <use x=\"318.115234\" xlink:href=\"#DejaVuSans-56\"/>\r\n     <use x=\"381.738281\" xlink:href=\"#DejaVuSans-46\"/>\r\n     <use x=\"413.525391\" xlink:href=\"#DejaVuSans-56\"/>\r\n     <use x=\"477.148438\" xlink:href=\"#DejaVuSans-49\"/>\r\n     <use x=\"540.771484\" xlink:href=\"#DejaVuSans-54\"/>\r\n    </g>\r\n   </g>\r\n   <g id=\"text_52\">\r\n    <!-- 1728102.205 -->\r\n    <g transform=\"translate(238.121664 79.4375)scale(0.1 -0.1)\">\r\n     <use xlink:href=\"#DejaVuSans-49\"/>\r\n     <use x=\"63.623047\" xlink:href=\"#DejaVuSans-55\"/>\r\n     <use x=\"127.246094\" xlink:href=\"#DejaVuSans-50\"/>\r\n     <use x=\"190.869141\" xlink:href=\"#DejaVuSans-56\"/>\r\n     <use x=\"254.492188\" xlink:href=\"#DejaVuSans-49\"/>\r\n     <use x=\"318.115234\" xlink:href=\"#DejaVuSans-48\"/>\r\n     <use x=\"381.738281\" xlink:href=\"#DejaVuSans-50\"/>\r\n     <use x=\"445.361328\" xlink:href=\"#DejaVuSans-46\"/>\r\n     <use x=\"477.148438\" xlink:href=\"#DejaVuSans-50\"/>\r\n     <use x=\"540.771484\" xlink:href=\"#DejaVuSans-48\"/>\r\n     <use x=\"604.394531\" xlink:href=\"#DejaVuSans-53\"/>\r\n    </g>\r\n   </g>\r\n   <g id=\"text_53\">\r\n    <!-- 1806192.847 -->\r\n    <g transform=\"translate(239.772594 70.3775)scale(0.1 -0.1)\">\r\n     <use xlink:href=\"#DejaVuSans-49\"/>\r\n     <use x=\"63.623047\" xlink:href=\"#DejaVuSans-56\"/>\r\n     <use x=\"127.246094\" xlink:href=\"#DejaVuSans-48\"/>\r\n     <use x=\"190.869141\" xlink:href=\"#DejaVuSans-54\"/>\r\n     <use x=\"254.492188\" xlink:href=\"#DejaVuSans-49\"/>\r\n     <use x=\"318.115234\" xlink:href=\"#DejaVuSans-57\"/>\r\n     <use x=\"381.738281\" xlink:href=\"#DejaVuSans-50\"/>\r\n     <use x=\"445.361328\" xlink:href=\"#DejaVuSans-46\"/>\r\n     <use x=\"477.148438\" xlink:href=\"#DejaVuSans-56\"/>\r\n     <use x=\"540.771484\" xlink:href=\"#DejaVuSans-52\"/>\r\n     <use x=\"604.394531\" xlink:href=\"#DejaVuSans-55\"/>\r\n    </g>\r\n   </g>\r\n   <g id=\"text_54\">\r\n    <!-- 3508352.813 -->\r\n    <g transform=\"translate(275.758287 61.3175)scale(0.1 -0.1)\">\r\n     <use xlink:href=\"#DejaVuSans-51\"/>\r\n     <use x=\"63.623047\" xlink:href=\"#DejaVuSans-53\"/>\r\n     <use x=\"127.246094\" xlink:href=\"#DejaVuSans-48\"/>\r\n     <use x=\"190.869141\" xlink:href=\"#DejaVuSans-56\"/>\r\n     <use x=\"254.492188\" xlink:href=\"#DejaVuSans-51\"/>\r\n     <use x=\"318.115234\" xlink:href=\"#DejaVuSans-53\"/>\r\n     <use x=\"381.738281\" xlink:href=\"#DejaVuSans-50\"/>\r\n     <use x=\"445.361328\" xlink:href=\"#DejaVuSans-46\"/>\r\n     <use x=\"477.148438\" xlink:href=\"#DejaVuSans-56\"/>\r\n     <use x=\"540.771484\" xlink:href=\"#DejaVuSans-49\"/>\r\n     <use x=\"604.394531\" xlink:href=\"#DejaVuSans-51\"/>\r\n    </g>\r\n   </g>\r\n   <g id=\"text_55\">\r\n    <!-- 5739500.840 -->\r\n    <g transform=\"translate(322.92742 52.2575)scale(0.1 -0.1)\">\r\n     <use xlink:href=\"#DejaVuSans-53\"/>\r\n     <use x=\"63.623047\" xlink:href=\"#DejaVuSans-55\"/>\r\n     <use x=\"127.246094\" xlink:href=\"#DejaVuSans-51\"/>\r\n     <use x=\"190.869141\" xlink:href=\"#DejaVuSans-57\"/>\r\n     <use x=\"254.492188\" xlink:href=\"#DejaVuSans-53\"/>\r\n     <use x=\"318.115234\" xlink:href=\"#DejaVuSans-48\"/>\r\n     <use x=\"381.738281\" xlink:href=\"#DejaVuSans-48\"/>\r\n     <use x=\"445.361328\" xlink:href=\"#DejaVuSans-46\"/>\r\n     <use x=\"477.148438\" xlink:href=\"#DejaVuSans-56\"/>\r\n     <use x=\"540.771484\" xlink:href=\"#DejaVuSans-52\"/>\r\n     <use x=\"604.394531\" xlink:href=\"#DejaVuSans-48\"/>\r\n    </g>\r\n   </g>\r\n   <g id=\"text_56\">\r\n    <!-- 8851223.081 -->\r\n    <g transform=\"translate(388.712942 43.1975)scale(0.1 -0.1)\">\r\n     <use xlink:href=\"#DejaVuSans-56\"/>\r\n     <use x=\"63.623047\" xlink:href=\"#DejaVuSans-56\"/>\r\n     <use x=\"127.246094\" xlink:href=\"#DejaVuSans-53\"/>\r\n     <use x=\"190.869141\" xlink:href=\"#DejaVuSans-49\"/>\r\n     <use x=\"254.492188\" xlink:href=\"#DejaVuSans-50\"/>\r\n     <use x=\"318.115234\" xlink:href=\"#DejaVuSans-50\"/>\r\n     <use x=\"381.738281\" xlink:href=\"#DejaVuSans-51\"/>\r\n     <use x=\"445.361328\" xlink:href=\"#DejaVuSans-46\"/>\r\n     <use x=\"477.148438\" xlink:href=\"#DejaVuSans-48\"/>\r\n     <use x=\"540.771484\" xlink:href=\"#DejaVuSans-56\"/>\r\n     <use x=\"604.394531\" xlink:href=\"#DejaVuSans-49\"/>\r\n    </g>\r\n   </g>\r\n   <g id=\"text_57\">\r\n    <!-- 14396710.146 -->\r\n    <g transform=\"translate(505.951158 34.1375)scale(0.1 -0.1)\">\r\n     <use xlink:href=\"#DejaVuSans-49\"/>\r\n     <use x=\"63.623047\" xlink:href=\"#DejaVuSans-52\"/>\r\n     <use x=\"127.246094\" xlink:href=\"#DejaVuSans-51\"/>\r\n     <use x=\"190.869141\" xlink:href=\"#DejaVuSans-57\"/>\r\n     <use x=\"254.492188\" xlink:href=\"#DejaVuSans-54\"/>\r\n     <use x=\"318.115234\" xlink:href=\"#DejaVuSans-55\"/>\r\n     <use x=\"381.738281\" xlink:href=\"#DejaVuSans-49\"/>\r\n     <use x=\"445.361328\" xlink:href=\"#DejaVuSans-48\"/>\r\n     <use x=\"508.984375\" xlink:href=\"#DejaVuSans-46\"/>\r\n     <use x=\"540.771484\" xlink:href=\"#DejaVuSans-49\"/>\r\n     <use x=\"604.394531\" xlink:href=\"#DejaVuSans-52\"/>\r\n     <use x=\"668.017578\" xlink:href=\"#DejaVuSans-54\"/>\r\n    </g>\r\n   </g>\r\n   <g id=\"text_58\">\r\n    <!-- Feature importance -->\r\n    <g transform=\"translate(310.132188 16.318125)scale(0.12 -0.12)\">\r\n     <use xlink:href=\"#DejaVuSans-70\"/>\r\n     <use x=\"52.019531\" xlink:href=\"#DejaVuSans-101\"/>\r\n     <use x=\"113.542969\" xlink:href=\"#DejaVuSans-97\"/>\r\n     <use x=\"174.822266\" xlink:href=\"#DejaVuSans-116\"/>\r\n     <use x=\"214.03125\" xlink:href=\"#DejaVuSans-117\"/>\r\n     <use x=\"277.410156\" xlink:href=\"#DejaVuSans-114\"/>\r\n     <use x=\"316.273438\" xlink:href=\"#DejaVuSans-101\"/>\r\n     <use x=\"377.796875\" xlink:href=\"#DejaVuSans-32\"/>\r\n     <use x=\"409.583984\" xlink:href=\"#DejaVuSans-105\"/>\r\n     <use x=\"437.367188\" xlink:href=\"#DejaVuSans-109\"/>\r\n     <use x=\"534.779297\" xlink:href=\"#DejaVuSans-112\"/>\r\n     <use x=\"598.255859\" xlink:href=\"#DejaVuSans-111\"/>\r\n     <use x=\"659.4375\" xlink:href=\"#DejaVuSans-114\"/>\r\n     <use x=\"700.550781\" xlink:href=\"#DejaVuSans-116\"/>\r\n     <use x=\"739.759766\" xlink:href=\"#DejaVuSans-97\"/>\r\n     <use x=\"801.039062\" xlink:href=\"#DejaVuSans-110\"/>\r\n     <use x=\"864.417969\" xlink:href=\"#DejaVuSans-99\"/>\r\n     <use x=\"919.398438\" xlink:href=\"#DejaVuSans-101\"/>\r\n    </g>\r\n   </g>\r\n  </g>\r\n </g>\r\n <defs>\r\n  <clipPath id=\"p25db348a06\">\r\n   <rect height=\"217.44\" width=\"334.8\" x=\"201.5875\" y=\"22.318125\"/>\r\n  </clipPath>\r\n </defs>\r\n</svg>\r\n",
      "image/png": "[encoded data removed]"
     },
     "metadata": {
      "needs_background": "light"
     }
    }
   ],
   "source": [
    "for i in range(0,num):\n",
    "   \n",
    "    tr_data = lgb.Dataset(trains[i][features], label=trains[i][target])\n",
    "    va_data = lgb.Dataset(valids[i][features], label=valids[i][target])\n",
    "    \n",
    "#     del train_df_clf\n",
    "#     del valid_df\n",
    "#     gc.collect()\n",
    "    del trains\n",
    "    del valids\n",
    "    gc.collect()\n",
    "\n",
    "    model = lgb.train(\n",
    "        params, \n",
    "        tr_data,\n",
    "#         train_df[features],\n",
    "#         train_df[target],\n",
    "        num_boost_round=100,\n",
    "        #valid_sets=[(train_df[features],train_df[target]), (valid_df[features],valid_df[target])], \n",
    "        valid_sets=[tr_data, va_data],\n",
    "        early_stopping_rounds=10,\n",
    "        feature_name=features,\n",
    "        categorical_feature=categorical_columns,\n",
    "        verbose_eval=10\n",
    "    )\n",
    "    clfs.append(model)\n",
    "    #print('auc:', roc_auc_score(valid_df[target], model.predict(valid_df[features])))\n",
    "    #model.save_model(f'model.txt')\n",
    "    lgb.plot_importance(model, importance_type='gain')\n",
    "    plt.show()\n",
    "\n",
    "    del tr_data\n",
    "    del va_data\n",
    "    gc.collect()\n",
    "#    \n",
    "# del trains\n",
    "# del valids\n",
    "# gc.collect()"
   ]
  },
  {
   "cell_type": "code",
   "execution_count": null,
   "metadata": {},
   "outputs": [],
   "source": []
  }
 ]
}