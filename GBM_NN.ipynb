{
  "nbformat": 4,
  "nbformat_minor": 0,
  "metadata": {
    "colab": {
      "name": "LightGBM_0.0.ipynb",
      "provenance": [],
      "collapsed_sections": []
    },
    "kernelspec": {
      "name": "python3",
      "display_name": "Python 3.7.7 64-bit ('TF_2.3_gpu': conda)",
      "metadata": {
        "interpreter": {
          "hash": "167b918dfc5ebee9ee63a49d89825ab4e1a5928d2b3aae65283b6b5a4bdb7333"
        }
      }
    },
    "accelerator": "GPU"
  },
  "cells": [
    {
      "cell_type": "code",
      "metadata": {
        "id": "CZ50iJ0B-J8P"
      },
      "source": [
        "import pandas as pd\n",
        "import numpy as np\n",
        "import matplotlib.pyplot as plt\n",
        "\n",
        "import optuna\n",
        "# import optuna.integration.lightgbm as lgb\n",
        "import lightgbm as lgb\n",
        "from lightgbm import LGBMClassifier\n",
        "from sklearn.model_selection import train_test_split\n",
        "from sklearn.metrics import roc_auc_score"
      ],
      "execution_count": 4,
      "outputs": []
    },
    {
      "cell_type": "code",
      "metadata": {
        "id": "JC28W1p1_eVH"
      },
      "source": [
        "train_df = pd.read_csv(\n",
        "    'data/train.csv',\n",
        "    nrows=10**7*5,\n",
        "    usecols=[1, 2, 3, 4, 5, 7, 8, 9],\n",
        "    dtype= {\n",
        "        'timestamp': 'int64',\n",
        "        'user_id': 'int32',\n",
        "        'content_id': 'int16',\n",
        "        'content_type_id': 'int8',\n",
        "        'task_container_id': 'int16',\n",
        "        'answered_correctly':'int8',\n",
        "        'prior_question_elapsed_time': 'float32',\n",
        "        'prior_question_had_explanation': 'boolean'\n",
        "    }\n",
        ")"
      ],
      "execution_count": 6,
      "outputs": []
    },
    {
      "cell_type": "code",
      "execution_count": 7,
      "metadata": {},
      "outputs": [],
      "source": [
        "questions_df = pd.read_csv(\n",
        "    'data/questions.csv',                         \n",
        "    usecols=[0, 3],\n",
        "    dtype={\n",
        "        'question_id': 'int16',\n",
        "        'part': 'int8'}\n",
        ")"
      ]
    },
    {
      "cell_type": "code",
      "execution_count": 8,
      "metadata": {},
      "outputs": [],
      "source": [
        "lectures_df = pd.read_csv('data/lectures.csv')"
      ]
    },
    {
      "cell_type": "code",
      "metadata": {
        "id": "jSjZwlfi_flN"
      },
      "source": [
        "features_df = train_df.iloc[:int(9 /10 * len(train_df))]\n",
        "train_df = train_df.iloc[int(9 /10 * len(train_df)):]"
      ],
      "execution_count": 9,
      "outputs": []
    },
    {
      "cell_type": "code",
      "metadata": {
        "id": "Z0ycNBUQ_jSr",
        "colab": {
          "base_uri": "https://localhost:8080/",
          "height": 450
        },
        "outputId": "0a701c2b-7fe3-4ddf-b7db-d581d8be45dc"
      },
      "source": [
        "train_questions_only_df = features_df[features_df['answered_correctly']!=-1]\n",
        "grouped_by_user_df = train_questions_only_df.groupby('user_id')\n",
        "user_answers_df = grouped_by_user_df.agg({'answered_correctly': ['mean', 'count', 'std', 'median', 'skew']}).copy()\n",
        "user_answers_df.columns = [\n",
        "    'mean_user_accuracy', \n",
        "    'questions_answered', \n",
        "    'std_user_accuracy', \n",
        "    'median_user_accuracy', \n",
        "    'skew_user_accuracy'\n",
        "]\n",
        "\n",
        "user_answers_df"
      ],
      "execution_count": 10,
      "outputs": [
        {
          "output_type": "execute_result",
          "data": {
            "text/plain": [
              "           mean_user_accuracy  questions_answered  std_user_accuracy  \\\n",
              "user_id                                                                \n",
              "115                  0.695652                  46           0.465215   \n",
              "124                  0.233333                  30           0.430183   \n",
              "2746                 0.578947                  19           0.507257   \n",
              "5382                 0.672000                 125           0.471374   \n",
              "8623                 0.642202                 109           0.481566   \n",
              "...                       ...                 ...                ...   \n",
              "952225750            0.515625                  64           0.503706   \n",
              "952226158            0.791879                4310           0.406011   \n",
              "952228125            0.566667                  30           0.504007   \n",
              "952238048            0.628205                  78           0.486412   \n",
              "952238952            0.423077                  26           0.503831   \n",
              "\n",
              "           median_user_accuracy  skew_user_accuracy  \n",
              "user_id                                              \n",
              "115                         1.0           -0.879359  \n",
              "124                         0.0            1.328338  \n",
              "2746                        1.0           -0.347892  \n",
              "5382                        1.0           -0.741648  \n",
              "8623                        1.0           -0.601619  \n",
              "...                         ...                 ...  \n",
              "952225750                   1.0           -0.064041  \n",
              "952226158                   1.0           -1.438459  \n",
              "952228125                   1.0           -0.283443  \n",
              "952238048                   1.0           -0.541018  \n",
              "952238952                   0.0            0.330798  \n",
              "\n",
              "[174008 rows x 5 columns]"
            ],
            "text/html": "<div>\n<style scoped>\n    .dataframe tbody tr th:only-of-type {\n        vertical-align: middle;\n    }\n\n    .dataframe tbody tr th {\n        vertical-align: top;\n    }\n\n    .dataframe thead th {\n        text-align: right;\n    }\n</style>\n<table border=\"1\" class=\"dataframe\">\n  <thead>\n    <tr style=\"text-align: right;\">\n      <th></th>\n      <th>mean_user_accuracy</th>\n      <th>questions_answered</th>\n      <th>std_user_accuracy</th>\n      <th>median_user_accuracy</th>\n      <th>skew_user_accuracy</th>\n    </tr>\n    <tr>\n      <th>user_id</th>\n      <th></th>\n      <th></th>\n      <th></th>\n      <th></th>\n      <th></th>\n    </tr>\n  </thead>\n  <tbody>\n    <tr>\n      <th>115</th>\n      <td>0.695652</td>\n      <td>46</td>\n      <td>0.465215</td>\n      <td>1.0</td>\n      <td>-0.879359</td>\n    </tr>\n    <tr>\n      <th>124</th>\n      <td>0.233333</td>\n      <td>30</td>\n      <td>0.430183</td>\n      <td>0.0</td>\n      <td>1.328338</td>\n    </tr>\n    <tr>\n      <th>2746</th>\n      <td>0.578947</td>\n      <td>19</td>\n      <td>0.507257</td>\n      <td>1.0</td>\n      <td>-0.347892</td>\n    </tr>\n    <tr>\n      <th>5382</th>\n      <td>0.672000</td>\n      <td>125</td>\n      <td>0.471374</td>\n      <td>1.0</td>\n      <td>-0.741648</td>\n    </tr>\n    <tr>\n      <th>8623</th>\n      <td>0.642202</td>\n      <td>109</td>\n      <td>0.481566</td>\n      <td>1.0</td>\n      <td>-0.601619</td>\n    </tr>\n    <tr>\n      <th>...</th>\n      <td>...</td>\n      <td>...</td>\n      <td>...</td>\n      <td>...</td>\n      <td>...</td>\n    </tr>\n    <tr>\n      <th>952225750</th>\n      <td>0.515625</td>\n      <td>64</td>\n      <td>0.503706</td>\n      <td>1.0</td>\n      <td>-0.064041</td>\n    </tr>\n    <tr>\n      <th>952226158</th>\n      <td>0.791879</td>\n      <td>4310</td>\n      <td>0.406011</td>\n      <td>1.0</td>\n      <td>-1.438459</td>\n    </tr>\n    <tr>\n      <th>952228125</th>\n      <td>0.566667</td>\n      <td>30</td>\n      <td>0.504007</td>\n      <td>1.0</td>\n      <td>-0.283443</td>\n    </tr>\n    <tr>\n      <th>952238048</th>\n      <td>0.628205</td>\n      <td>78</td>\n      <td>0.486412</td>\n      <td>1.0</td>\n      <td>-0.541018</td>\n    </tr>\n    <tr>\n      <th>952238952</th>\n      <td>0.423077</td>\n      <td>26</td>\n      <td>0.503831</td>\n      <td>0.0</td>\n      <td>0.330798</td>\n    </tr>\n  </tbody>\n</table>\n<p>174008 rows × 5 columns</p>\n</div>"
          },
          "metadata": {},
          "execution_count": 10
        }
      ]
    },
    {
      "cell_type": "code",
      "metadata": {
        "id": "kDvfloSj_nv-",
        "colab": {
          "base_uri": "https://localhost:8080/",
          "height": 450
        },
        "outputId": "c7b588ea-5bb8-4ebf-da22-d1884e58dfb0"
      },
      "source": [
        "grouped_by_content_df = train_questions_only_df.groupby('content_id')\n",
        "content_answers_df = grouped_by_content_df.agg({'answered_correctly': ['mean', 'count', 'std', 'median', 'skew']}).copy()\n",
        "content_answers_df.columns = [\n",
        "    'mean_accuracy', \n",
        "    'question_asked', \n",
        "    'std_accuracy', \n",
        "    'median_accuracy', \n",
        "    'skew_accuracy'\n",
        "]\n",
        "\n",
        "content_answers_df"
      ],
      "execution_count": 11,
      "outputs": [
        {
          "output_type": "execute_result",
          "data": {
            "text/plain": [
              "            mean_accuracy  question_asked  std_accuracy  median_accuracy  \\\n",
              "content_id                                                                 \n",
              "0                0.907120            3090      0.290312              1.0   \n",
              "1                0.886741            3311      0.316957              1.0   \n",
              "2                0.555795           19957      0.496890              1.0   \n",
              "3                0.776731           10194      0.416457              1.0   \n",
              "4                0.617197           14049      0.486088              1.0   \n",
              "...                   ...             ...           ...              ...   \n",
              "13518            0.785340             382      0.411125              1.0   \n",
              "13519            0.587629             388      0.492897              1.0   \n",
              "13520            0.679083             349      0.467499              1.0   \n",
              "13521            0.841398             372      0.365797              1.0   \n",
              "13522            0.909333             375      0.287518              1.0   \n",
              "\n",
              "            skew_accuracy  \n",
              "content_id                 \n",
              "0               -2.806526  \n",
              "1               -2.441815  \n",
              "2               -0.224599  \n",
              "3               -1.329239  \n",
              "4               -0.482273  \n",
              "...                   ...  \n",
              "13518           -1.395403  \n",
              "13519           -0.357409  \n",
              "13520           -0.770548  \n",
              "13521           -1.876689  \n",
              "13522           -2.862624  \n",
              "\n",
              "[13517 rows x 5 columns]"
            ],
            "text/html": "<div>\n<style scoped>\n    .dataframe tbody tr th:only-of-type {\n        vertical-align: middle;\n    }\n\n    .dataframe tbody tr th {\n        vertical-align: top;\n    }\n\n    .dataframe thead th {\n        text-align: right;\n    }\n</style>\n<table border=\"1\" class=\"dataframe\">\n  <thead>\n    <tr style=\"text-align: right;\">\n      <th></th>\n      <th>mean_accuracy</th>\n      <th>question_asked</th>\n      <th>std_accuracy</th>\n      <th>median_accuracy</th>\n      <th>skew_accuracy</th>\n    </tr>\n    <tr>\n      <th>content_id</th>\n      <th></th>\n      <th></th>\n      <th></th>\n      <th></th>\n      <th></th>\n    </tr>\n  </thead>\n  <tbody>\n    <tr>\n      <th>0</th>\n      <td>0.907120</td>\n      <td>3090</td>\n      <td>0.290312</td>\n      <td>1.0</td>\n      <td>-2.806526</td>\n    </tr>\n    <tr>\n      <th>1</th>\n      <td>0.886741</td>\n      <td>3311</td>\n      <td>0.316957</td>\n      <td>1.0</td>\n      <td>-2.441815</td>\n    </tr>\n    <tr>\n      <th>2</th>\n      <td>0.555795</td>\n      <td>19957</td>\n      <td>0.496890</td>\n      <td>1.0</td>\n      <td>-0.224599</td>\n    </tr>\n    <tr>\n      <th>3</th>\n      <td>0.776731</td>\n      <td>10194</td>\n      <td>0.416457</td>\n      <td>1.0</td>\n      <td>-1.329239</td>\n    </tr>\n    <tr>\n      <th>4</th>\n      <td>0.617197</td>\n      <td>14049</td>\n      <td>0.486088</td>\n      <td>1.0</td>\n      <td>-0.482273</td>\n    </tr>\n    <tr>\n      <th>...</th>\n      <td>...</td>\n      <td>...</td>\n      <td>...</td>\n      <td>...</td>\n      <td>...</td>\n    </tr>\n    <tr>\n      <th>13518</th>\n      <td>0.785340</td>\n      <td>382</td>\n      <td>0.411125</td>\n      <td>1.0</td>\n      <td>-1.395403</td>\n    </tr>\n    <tr>\n      <th>13519</th>\n      <td>0.587629</td>\n      <td>388</td>\n      <td>0.492897</td>\n      <td>1.0</td>\n      <td>-0.357409</td>\n    </tr>\n    <tr>\n      <th>13520</th>\n      <td>0.679083</td>\n      <td>349</td>\n      <td>0.467499</td>\n      <td>1.0</td>\n      <td>-0.770548</td>\n    </tr>\n    <tr>\n      <th>13521</th>\n      <td>0.841398</td>\n      <td>372</td>\n      <td>0.365797</td>\n      <td>1.0</td>\n      <td>-1.876689</td>\n    </tr>\n    <tr>\n      <th>13522</th>\n      <td>0.909333</td>\n      <td>375</td>\n      <td>0.287518</td>\n      <td>1.0</td>\n      <td>-2.862624</td>\n    </tr>\n  </tbody>\n</table>\n<p>13517 rows × 5 columns</p>\n</div>"
          },
          "metadata": {},
          "execution_count": 11
        }
      ]
    },
    {
      "cell_type": "code",
      "metadata": {
        "id": "OlGKhauW_ra-"
      },
      "source": [
        "del features_df\n",
        "del grouped_by_user_df\n",
        "del grouped_by_content_df"
      ],
      "execution_count": 12,
      "outputs": []
    },
    {
      "cell_type": "code",
      "metadata": {
        "id": "C_BxKyS9_u9r"
      },
      "source": [
        "features = [\n",
        "    'mean_user_accuracy', \n",
        "    'questions_answered',\n",
        "    'std_user_accuracy', \n",
        "    'median_user_accuracy',\n",
        "    'skew_user_accuracy',\n",
        "    'mean_accuracy', \n",
        "    'question_asked',\n",
        "    'std_accuracy', \n",
        "    'median_accuracy',\n",
        "    'prior_question_elapsed_time', \n",
        "    'prior_question_had_explanation',\n",
        "    'skew_accuracy'\n",
        "]\n",
        "\n",
        "target = 'answered_correctly'"
      ],
      "execution_count": 13,
      "outputs": []
    },
    {
      "cell_type": "code",
      "metadata": {
        "id": "h3pIW2s3_ysu"
      },
      "source": [
        "train_df = train_df[train_df[target] != -1]"
      ],
      "execution_count": 14,
      "outputs": []
    },
    {
      "cell_type": "code",
      "metadata": {
        "id": "I3psMTrG_3vG"
      },
      "source": [
        "train_df = train_df.merge(user_answers_df, how='left', on='user_id')\n",
        "train_df = train_df.merge(content_answers_df, how='left', on='content_id')"
      ],
      "execution_count": 15,
      "outputs": []
    },
    {
      "cell_type": "code",
      "metadata": {
        "id": "um8Xu_d2_8Fq"
      },
      "source": [
        "train_df['prior_question_had_explanation'] = train_df['prior_question_had_explanation'].fillna(value=False).astype(bool)\n",
        "train_df = train_df.fillna(value=0.5)"
      ],
      "execution_count": 16,
      "outputs": []
    },
    {
      "cell_type": "code",
      "metadata": {
        "id": "wNK1YkcO__ex",
        "colab": {
          "base_uri": "https://localhost:8080/",
          "height": 439
        },
        "outputId": "0ada607d-f54f-47c5-e473-9ebc88b59f4c"
      },
      "source": [
        "train_df = train_df[features + [target]]\n",
        "train_df = train_df.replace([np.inf, -np.inf], np.nan)\n",
        "train_df = train_df.fillna(0.5)\n",
        "\n",
        "train_df"
      ],
      "execution_count": 17,
      "outputs": [
        {
          "output_type": "execute_result",
          "data": {
            "text/plain": [
              "         mean_user_accuracy  questions_answered  std_user_accuracy  \\\n",
              "0                  0.423077                26.0           0.503831   \n",
              "1                  0.423077                26.0           0.503831   \n",
              "2                  0.423077                26.0           0.503831   \n",
              "3                  0.423077                26.0           0.503831   \n",
              "4                  0.500000                 0.5           0.500000   \n",
              "...                     ...                 ...                ...   \n",
              "4903208            0.500000                 0.5           0.500000   \n",
              "4903209            0.500000                 0.5           0.500000   \n",
              "4903210            0.500000                 0.5           0.500000   \n",
              "4903211            0.500000                 0.5           0.500000   \n",
              "4903212            0.500000                 0.5           0.500000   \n",
              "\n",
              "         median_user_accuracy  skew_user_accuracy  mean_accuracy  \\\n",
              "0                         0.0            0.330798       0.417736   \n",
              "1                         0.0            0.330798       0.270900   \n",
              "2                         0.0            0.330798       0.500432   \n",
              "3                         0.0            0.330798       0.611036   \n",
              "4                         0.5            0.500000       0.613172   \n",
              "...                       ...                 ...            ...   \n",
              "4903208                   0.5            0.500000       0.500432   \n",
              "4903209                   0.5            0.500000       0.270900   \n",
              "4903210                   0.5            0.500000       0.826132   \n",
              "4903211                   0.5            0.500000       0.419436   \n",
              "4903212                   0.5            0.500000       0.359287   \n",
              "\n",
              "         question_asked  std_accuracy  median_accuracy  \\\n",
              "0                 70657      0.493190              0.0   \n",
              "1                 70657      0.444428              0.0   \n",
              "2                 70657      0.500003              1.0   \n",
              "3                 70657      0.487518              1.0   \n",
              "4                  6848      0.487059              1.0   \n",
              "...                 ...           ...              ...   \n",
              "4903208           70657      0.500003              1.0   \n",
              "4903209           70657      0.444428              0.0   \n",
              "4903210           79727      0.378999              1.0   \n",
              "4903211           83791      0.493470              0.0   \n",
              "4903212           86335      0.479794              0.0   \n",
              "\n",
              "         prior_question_elapsed_time  prior_question_had_explanation  \\\n",
              "0                            56000.0                           False   \n",
              "1                            56000.0                           False   \n",
              "2                            56000.0                           False   \n",
              "3                            56000.0                           False   \n",
              "4                                0.5                           False   \n",
              "...                              ...                             ...   \n",
              "4903208                      34496.0                           False   \n",
              "4903209                      34496.0                           False   \n",
              "4903210                          0.5                           False   \n",
              "4903211                      32000.0                           False   \n",
              "4903212                      22000.0                           False   \n",
              "\n",
              "         skew_accuracy  answered_correctly  \n",
              "0             0.333608                   0  \n",
              "1             1.031017                   1  \n",
              "2            -0.001727                   1  \n",
              "3            -0.455530                   0  \n",
              "4            -0.464850                   1  \n",
              "...                ...                 ...  \n",
              "4903208      -0.001727                   0  \n",
              "4903209       1.031017                   0  \n",
              "4903210      -1.721061                   0  \n",
              "4903211       0.326526                   0  \n",
              "4903212       0.586571                   1  \n",
              "\n",
              "[4903213 rows x 13 columns]"
            ],
            "text/html": "<div>\n<style scoped>\n    .dataframe tbody tr th:only-of-type {\n        vertical-align: middle;\n    }\n\n    .dataframe tbody tr th {\n        vertical-align: top;\n    }\n\n    .dataframe thead th {\n        text-align: right;\n    }\n</style>\n<table border=\"1\" class=\"dataframe\">\n  <thead>\n    <tr style=\"text-align: right;\">\n      <th></th>\n      <th>mean_user_accuracy</th>\n      <th>questions_answered</th>\n      <th>std_user_accuracy</th>\n      <th>median_user_accuracy</th>\n      <th>skew_user_accuracy</th>\n      <th>mean_accuracy</th>\n      <th>question_asked</th>\n      <th>std_accuracy</th>\n      <th>median_accuracy</th>\n      <th>prior_question_elapsed_time</th>\n      <th>prior_question_had_explanation</th>\n      <th>skew_accuracy</th>\n      <th>answered_correctly</th>\n    </tr>\n  </thead>\n  <tbody>\n    <tr>\n      <th>0</th>\n      <td>0.423077</td>\n      <td>26.0</td>\n      <td>0.503831</td>\n      <td>0.0</td>\n      <td>0.330798</td>\n      <td>0.417736</td>\n      <td>70657</td>\n      <td>0.493190</td>\n      <td>0.0</td>\n      <td>56000.0</td>\n      <td>False</td>\n      <td>0.333608</td>\n      <td>0</td>\n    </tr>\n    <tr>\n      <th>1</th>\n      <td>0.423077</td>\n      <td>26.0</td>\n      <td>0.503831</td>\n      <td>0.0</td>\n      <td>0.330798</td>\n      <td>0.270900</td>\n      <td>70657</td>\n      <td>0.444428</td>\n      <td>0.0</td>\n      <td>56000.0</td>\n      <td>False</td>\n      <td>1.031017</td>\n      <td>1</td>\n    </tr>\n    <tr>\n      <th>2</th>\n      <td>0.423077</td>\n      <td>26.0</td>\n      <td>0.503831</td>\n      <td>0.0</td>\n      <td>0.330798</td>\n      <td>0.500432</td>\n      <td>70657</td>\n      <td>0.500003</td>\n      <td>1.0</td>\n      <td>56000.0</td>\n      <td>False</td>\n      <td>-0.001727</td>\n      <td>1</td>\n    </tr>\n    <tr>\n      <th>3</th>\n      <td>0.423077</td>\n      <td>26.0</td>\n      <td>0.503831</td>\n      <td>0.0</td>\n      <td>0.330798</td>\n      <td>0.611036</td>\n      <td>70657</td>\n      <td>0.487518</td>\n      <td>1.0</td>\n      <td>56000.0</td>\n      <td>False</td>\n      <td>-0.455530</td>\n      <td>0</td>\n    </tr>\n    <tr>\n      <th>4</th>\n      <td>0.500000</td>\n      <td>0.5</td>\n      <td>0.500000</td>\n      <td>0.5</td>\n      <td>0.500000</td>\n      <td>0.613172</td>\n      <td>6848</td>\n      <td>0.487059</td>\n      <td>1.0</td>\n      <td>0.5</td>\n      <td>False</td>\n      <td>-0.464850</td>\n      <td>1</td>\n    </tr>\n    <tr>\n      <th>...</th>\n      <td>...</td>\n      <td>...</td>\n      <td>...</td>\n      <td>...</td>\n      <td>...</td>\n      <td>...</td>\n      <td>...</td>\n      <td>...</td>\n      <td>...</td>\n      <td>...</td>\n      <td>...</td>\n      <td>...</td>\n      <td>...</td>\n    </tr>\n    <tr>\n      <th>4903208</th>\n      <td>0.500000</td>\n      <td>0.5</td>\n      <td>0.500000</td>\n      <td>0.5</td>\n      <td>0.500000</td>\n      <td>0.500432</td>\n      <td>70657</td>\n      <td>0.500003</td>\n      <td>1.0</td>\n      <td>34496.0</td>\n      <td>False</td>\n      <td>-0.001727</td>\n      <td>0</td>\n    </tr>\n    <tr>\n      <th>4903209</th>\n      <td>0.500000</td>\n      <td>0.5</td>\n      <td>0.500000</td>\n      <td>0.5</td>\n      <td>0.500000</td>\n      <td>0.270900</td>\n      <td>70657</td>\n      <td>0.444428</td>\n      <td>0.0</td>\n      <td>34496.0</td>\n      <td>False</td>\n      <td>1.031017</td>\n      <td>0</td>\n    </tr>\n    <tr>\n      <th>4903210</th>\n      <td>0.500000</td>\n      <td>0.5</td>\n      <td>0.500000</td>\n      <td>0.5</td>\n      <td>0.500000</td>\n      <td>0.826132</td>\n      <td>79727</td>\n      <td>0.378999</td>\n      <td>1.0</td>\n      <td>0.5</td>\n      <td>False</td>\n      <td>-1.721061</td>\n      <td>0</td>\n    </tr>\n    <tr>\n      <th>4903211</th>\n      <td>0.500000</td>\n      <td>0.5</td>\n      <td>0.500000</td>\n      <td>0.5</td>\n      <td>0.500000</td>\n      <td>0.419436</td>\n      <td>83791</td>\n      <td>0.493470</td>\n      <td>0.0</td>\n      <td>32000.0</td>\n      <td>False</td>\n      <td>0.326526</td>\n      <td>0</td>\n    </tr>\n    <tr>\n      <th>4903212</th>\n      <td>0.500000</td>\n      <td>0.5</td>\n      <td>0.500000</td>\n      <td>0.5</td>\n      <td>0.500000</td>\n      <td>0.359287</td>\n      <td>86335</td>\n      <td>0.479794</td>\n      <td>0.0</td>\n      <td>22000.0</td>\n      <td>False</td>\n      <td>0.586571</td>\n      <td>1</td>\n    </tr>\n  </tbody>\n</table>\n<p>4903213 rows × 13 columns</p>\n</div>"
          },
          "metadata": {},
          "execution_count": 17
        }
      ]
    },
    {
      "cell_type": "code",
      "metadata": {
        "id": "i2NN0sx6AB88"
      },
      "source": [
        "train_df, test_df = train_test_split(train_df, random_state=666, test_size=0.2)"
      ],
      "execution_count": 18,
      "outputs": []
    },
    {
      "cell_type": "code",
      "metadata": {
        "id": "JL7QatePAEyP",
        "colab": {
          "base_uri": "https://localhost:8080/",
          "height": 218
        },
        "outputId": "29863beb-e637-4e39-e65c-c1808560480b"
      },
      "source": [
        "def create_model(trial):\n",
        "    num_leaves = trial.suggest_int(\"num_leaves\", 2, 31)\n",
        "    n_estimators = trial.suggest_int(\"n_estimators\", 50, 300)\n",
        "    max_depth = trial.suggest_int('max_depth', 3, 8)\n",
        "    min_child_samples = trial.suggest_int('min_child_samples', 100, 1200)\n",
        "    learning_rate = trial.suggest_uniform('learning_rate', 0.0001, 0.99)\n",
        "    min_data_in_leaf = trial.suggest_int('min_data_in_leaf', 5, 90)\n",
        "    bagging_fraction = trial.suggest_uniform('bagging_fraction', 0.0001, 1.0)\n",
        "    feature_fraction = trial.suggest_uniform('feature_fraction', 0.0001, 1.0)\n",
        "    \n",
        "    model = LGBMClassifier(\n",
        "        num_leaves=num_leaves,\n",
        "        n_estimators=n_estimators, \n",
        "        max_depth=max_depth, \n",
        "        min_child_samples=min_child_samples, \n",
        "        min_data_in_leaf=min_data_in_leaf,\n",
        "        learning_rate=learning_rate,\n",
        "        feature_fraction=feature_fraction,\n",
        "        random_state=666\n",
        "    )\n",
        "    \n",
        "    return model\n",
        "\n",
        "def objective(trial):\n",
        "    model = create_model(trial)\n",
        "    model.fit(train_df[features], train_df[target])\n",
        "    score = roc_auc_score(test_df[target].values, model.predict_proba(test_df[features])[:,1])\n",
        "    return score\n",
        "\n",
        "# uncomment to use optuna\n",
        "# study = optuna.create_study(direction=\"maximize\", sampler=sampler)\n",
        "# study.optimize(objective, n_trials=70)\n",
        "# params = study.best_params\n",
        "# params['random_state'] = 666\n",
        "\n",
        "params = {\n",
        "    'bagging_fraction': 0.5817242323514327,\n",
        "    'feature_fraction': 0.6884588361650144,\n",
        "    'learning_rate': 0.42887924851375825, \n",
        "    'max_depth': 6,\n",
        "    'min_child_samples': 946, \n",
        "    'min_data_in_leaf': 47, \n",
        "    'n_estimators': 169,\n",
        "    'num_leaves': 29,\n",
        "    'random_state': 666\n",
        "}\n",
        "\n",
        "#study = optuna.create_study(direction=\"maximize\")\n",
        "#study.optimize(objective, n_trials=5)\n",
        "model = LGBMClassifier(**params)\n",
        "model.fit(train_df[features], train_df[target])\n",
        "print('LGB score: ', roc_auc_score(test_df[target].values, model.predict_proba(test_df[features])[:,1]))"
      ],
      "execution_count": 19,
      "outputs": [
        {
          "output_type": "stream",
          "name": "stdout",
          "text": [
            "[LightGBM] [Warning] feature_fraction is set=0.6884588361650144, colsample_bytree=1.0 will be ignored. Current value: feature_fraction=0.6884588361650144\n",
            "[LightGBM] [Warning] min_data_in_leaf is set=47, min_child_samples=946 will be ignored. Current value: min_data_in_leaf=47\n",
            "[LightGBM] [Warning] bagging_fraction is set=0.5817242323514327, subsample=1.0 will be ignored. Current value: bagging_fraction=0.5817242323514327\n",
            "LGB score:  0.7206668859535891\n"
          ]
        }
      ]
    },
    {
      "cell_type": "code",
      "metadata": {
        "colab": {
          "base_uri": "https://localhost:8080/",
          "height": 999
        },
        "id": "io_UOzAdeJit",
        "outputId": "dfbb51d8-f6ef-4bdc-ae6c-be5cad83229f"
      },
      "source": [
        "test_df[:30]"
      ],
      "execution_count": 20,
      "outputs": [
        {
          "output_type": "execute_result",
          "data": {
            "text/plain": [
              "         mean_user_accuracy  questions_answered  std_user_accuracy  \\\n",
              "885777                  0.5                 0.5                0.5   \n",
              "1726837                 0.5                 0.5                0.5   \n",
              "4889874                 0.5                 0.5                0.5   \n",
              "4187376                 0.5                 0.5                0.5   \n",
              "3569513                 0.5                 0.5                0.5   \n",
              "498141                  0.5                 0.5                0.5   \n",
              "601084                  0.5                 0.5                0.5   \n",
              "4132260                 0.5                 0.5                0.5   \n",
              "2381427                 0.5                 0.5                0.5   \n",
              "3649921                 0.5                 0.5                0.5   \n",
              "1050187                 0.5                 0.5                0.5   \n",
              "3731791                 0.5                 0.5                0.5   \n",
              "3391908                 0.5                 0.5                0.5   \n",
              "3078225                 0.5                 0.5                0.5   \n",
              "1887145                 0.5                 0.5                0.5   \n",
              "4338621                 0.5                 0.5                0.5   \n",
              "2048189                 0.5                 0.5                0.5   \n",
              "4357080                 0.5                 0.5                0.5   \n",
              "2232142                 0.5                 0.5                0.5   \n",
              "1100986                 0.5                 0.5                0.5   \n",
              "2950372                 0.5                 0.5                0.5   \n",
              "2090916                 0.5                 0.5                0.5   \n",
              "2436673                 0.5                 0.5                0.5   \n",
              "1396105                 0.5                 0.5                0.5   \n",
              "2628288                 0.5                 0.5                0.5   \n",
              "926447                  0.5                 0.5                0.5   \n",
              "2958995                 0.5                 0.5                0.5   \n",
              "758687                  0.5                 0.5                0.5   \n",
              "1911532                 0.5                 0.5                0.5   \n",
              "2272440                 0.5                 0.5                0.5   \n",
              "\n",
              "         median_user_accuracy  skew_user_accuracy  mean_accuracy  \\\n",
              "885777                    0.5                 0.5       0.508300   \n",
              "1726837                   0.5                 0.5       0.584929   \n",
              "4889874                   0.5                 0.5       0.885568   \n",
              "4187376                   0.5                 0.5       0.857420   \n",
              "3569513                   0.5                 0.5       0.816858   \n",
              "498141                    0.5                 0.5       0.727284   \n",
              "601084                    0.5                 0.5       0.527761   \n",
              "4132260                   0.5                 0.5       0.466591   \n",
              "2381427                   0.5                 0.5       0.873001   \n",
              "3649921                   0.5                 0.5       0.771446   \n",
              "1050187                   0.5                 0.5       0.889039   \n",
              "3731791                   0.5                 0.5       0.200174   \n",
              "3391908                   0.5                 0.5       0.493956   \n",
              "3078225                   0.5                 0.5       0.675061   \n",
              "1887145                   0.5                 0.5       0.773418   \n",
              "4338621                   0.5                 0.5       0.688919   \n",
              "2048189                   0.5                 0.5       0.594119   \n",
              "4357080                   0.5                 0.5       0.750166   \n",
              "2232142                   0.5                 0.5       0.976033   \n",
              "1100986                   0.5                 0.5       0.590610   \n",
              "2950372                   0.5                 0.5       0.361274   \n",
              "2090916                   0.5                 0.5       0.714286   \n",
              "2436673                   0.5                 0.5       0.575657   \n",
              "1396105                   0.5                 0.5       0.654455   \n",
              "2628288                   0.5                 0.5       0.767850   \n",
              "926447                    0.5                 0.5       0.666260   \n",
              "2958995                   0.5                 0.5       0.540806   \n",
              "758687                    0.5                 0.5       0.606503   \n",
              "1911532                   0.5                 0.5       0.505529   \n",
              "2272440                   0.5                 0.5       0.459556   \n",
              "\n",
              "         question_asked  std_accuracy  median_accuracy  \\\n",
              "885777             2530      0.500030              1.0   \n",
              "1726837           16455      0.492749              1.0   \n",
              "4889874            5287      0.318365              1.0   \n",
              "4187376            3605      0.349692              1.0   \n",
              "3569513            9823      0.386802              1.0   \n",
              "498141             8100      0.445384              1.0   \n",
              "601084             6664      0.499266              1.0   \n",
              "4132260           23916      0.498893              0.0   \n",
              "2381427            5378      0.333003              1.0   \n",
              "3649921            5036      0.419943              1.0   \n",
              "1050187            3695      0.314126              1.0   \n",
              "3731791           52744      0.400135              0.0   \n",
              "3391908            6122      0.500004              0.0   \n",
              "3078225            5758      0.468393              1.0   \n",
              "1887145           12565      0.418636              1.0   \n",
              "4338621            5992      0.462975              1.0   \n",
              "2048189           13536      0.491080              1.0   \n",
              "4357080            1509      0.433061              1.0   \n",
              "2232142            3171      0.152971              1.0   \n",
              "1100986            7306      0.491755              1.0   \n",
              "2950372           38868      0.480376              0.0   \n",
              "2090916            1421      0.451913              1.0   \n",
              "2436673           12669      0.494262              1.0   \n",
              "1396105            4231      0.475602              1.0   \n",
              "2628288            2395      0.422293              1.0   \n",
              "926447             6562      0.471584              1.0   \n",
              "2958995            1017      0.498577              1.0   \n",
              "758687             2737      0.488615              1.0   \n",
              "1911532            1899      0.500101              1.0   \n",
              "2272440            7294      0.498396              0.0   \n",
              "\n",
              "         prior_question_elapsed_time  prior_question_had_explanation  \\\n",
              "885777                       24672.0                            True   \n",
              "1726837                      22000.0                            True   \n",
              "4889874                      16992.0                            True   \n",
              "4187376                      24000.0                            True   \n",
              "3569513                      20992.0                            True   \n",
              "498141                       14000.0                            True   \n",
              "601084                       46496.0                            True   \n",
              "4132260                      12000.0                            True   \n",
              "2381427                      18000.0                            True   \n",
              "3649921                      24336.0                            True   \n",
              "1050187                      14000.0                            True   \n",
              "3731791                       5000.0                            True   \n",
              "3391908                      44000.0                            True   \n",
              "3078225                      14000.0                            True   \n",
              "1887145                      20992.0                            True   \n",
              "4338621                      35008.0                           False   \n",
              "2048189                      26000.0                            True   \n",
              "4357080                      19008.0                           False   \n",
              "2232142                       3666.0                            True   \n",
              "1100986                      16000.0                            True   \n",
              "2950372                       7000.0                            True   \n",
              "2090916                      24752.0                            True   \n",
              "2436673                      20992.0                            True   \n",
              "1396105                      13000.0                            True   \n",
              "2628288                      35008.0                            True   \n",
              "926447                       16992.0                            True   \n",
              "2958995                      62784.0                            True   \n",
              "758687                       36512.0                            True   \n",
              "1911532                      31008.0                            True   \n",
              "2272440                      28000.0                            True   \n",
              "\n",
              "         skew_accuracy  answered_correctly  \n",
              "885777       -0.033226                   1  \n",
              "1726837      -0.344755                   0  \n",
              "4889874      -2.423096                   1  \n",
              "4187376      -2.045333                   0  \n",
              "3569513      -1.638682                   1  \n",
              "498141       -1.020873                   1  \n",
              "601084       -0.111241                   1  \n",
              "4132260       0.133942                   1  \n",
              "2381427      -2.241062                   1  \n",
              "3649921      -1.293286                   1  \n",
              "1050187      -2.478304                   1  \n",
              "3731791       1.498681                   0  \n",
              "3391908       0.024183                   0  \n",
              "3078225      -0.747755                   0  \n",
              "1887145      -1.306440                   1  \n",
              "4338621      -0.816380                   0  \n",
              "2048189      -0.383373                   1  \n",
              "4357080      -1.156871                   1  \n",
              "2232142      -6.227755                   1  \n",
              "1100986      -0.368620                   1  \n",
              "2950372       0.577602                   0  \n",
              "2090916      -0.949686                   1  \n",
              "2436673      -0.306190                   0  \n",
              "1396105      -0.649822                   1  \n",
              "2628288      -1.269611                   1  \n",
              "926447       -0.705329                   1  \n",
              "2958995      -0.164013                   1  \n",
              "758687       -0.436259                   1  \n",
              "1911532      -0.022136                   0  \n",
              "2272440       0.162342                   1  "
            ],
            "text/html": "<div>\n<style scoped>\n    .dataframe tbody tr th:only-of-type {\n        vertical-align: middle;\n    }\n\n    .dataframe tbody tr th {\n        vertical-align: top;\n    }\n\n    .dataframe thead th {\n        text-align: right;\n    }\n</style>\n<table border=\"1\" class=\"dataframe\">\n  <thead>\n    <tr style=\"text-align: right;\">\n      <th></th>\n      <th>mean_user_accuracy</th>\n      <th>questions_answered</th>\n      <th>std_user_accuracy</th>\n      <th>median_user_accuracy</th>\n      <th>skew_user_accuracy</th>\n      <th>mean_accuracy</th>\n      <th>question_asked</th>\n      <th>std_accuracy</th>\n      <th>median_accuracy</th>\n      <th>prior_question_elapsed_time</th>\n      <th>prior_question_had_explanation</th>\n      <th>skew_accuracy</th>\n      <th>answered_correctly</th>\n    </tr>\n  </thead>\n  <tbody>\n    <tr>\n      <th>885777</th>\n      <td>0.5</td>\n      <td>0.5</td>\n      <td>0.5</td>\n      <td>0.5</td>\n      <td>0.5</td>\n      <td>0.508300</td>\n      <td>2530</td>\n      <td>0.500030</td>\n      <td>1.0</td>\n      <td>24672.0</td>\n      <td>True</td>\n      <td>-0.033226</td>\n      <td>1</td>\n    </tr>\n    <tr>\n      <th>1726837</th>\n      <td>0.5</td>\n      <td>0.5</td>\n      <td>0.5</td>\n      <td>0.5</td>\n      <td>0.5</td>\n      <td>0.584929</td>\n      <td>16455</td>\n      <td>0.492749</td>\n      <td>1.0</td>\n      <td>22000.0</td>\n      <td>True</td>\n      <td>-0.344755</td>\n      <td>0</td>\n    </tr>\n    <tr>\n      <th>4889874</th>\n      <td>0.5</td>\n      <td>0.5</td>\n      <td>0.5</td>\n      <td>0.5</td>\n      <td>0.5</td>\n      <td>0.885568</td>\n      <td>5287</td>\n      <td>0.318365</td>\n      <td>1.0</td>\n      <td>16992.0</td>\n      <td>True</td>\n      <td>-2.423096</td>\n      <td>1</td>\n    </tr>\n    <tr>\n      <th>4187376</th>\n      <td>0.5</td>\n      <td>0.5</td>\n      <td>0.5</td>\n      <td>0.5</td>\n      <td>0.5</td>\n      <td>0.857420</td>\n      <td>3605</td>\n      <td>0.349692</td>\n      <td>1.0</td>\n      <td>24000.0</td>\n      <td>True</td>\n      <td>-2.045333</td>\n      <td>0</td>\n    </tr>\n    <tr>\n      <th>3569513</th>\n      <td>0.5</td>\n      <td>0.5</td>\n      <td>0.5</td>\n      <td>0.5</td>\n      <td>0.5</td>\n      <td>0.816858</td>\n      <td>9823</td>\n      <td>0.386802</td>\n      <td>1.0</td>\n      <td>20992.0</td>\n      <td>True</td>\n      <td>-1.638682</td>\n      <td>1</td>\n    </tr>\n    <tr>\n      <th>498141</th>\n      <td>0.5</td>\n      <td>0.5</td>\n      <td>0.5</td>\n      <td>0.5</td>\n      <td>0.5</td>\n      <td>0.727284</td>\n      <td>8100</td>\n      <td>0.445384</td>\n      <td>1.0</td>\n      <td>14000.0</td>\n      <td>True</td>\n      <td>-1.020873</td>\n      <td>1</td>\n    </tr>\n    <tr>\n      <th>601084</th>\n      <td>0.5</td>\n      <td>0.5</td>\n      <td>0.5</td>\n      <td>0.5</td>\n      <td>0.5</td>\n      <td>0.527761</td>\n      <td>6664</td>\n      <td>0.499266</td>\n      <td>1.0</td>\n      <td>46496.0</td>\n      <td>True</td>\n      <td>-0.111241</td>\n      <td>1</td>\n    </tr>\n    <tr>\n      <th>4132260</th>\n      <td>0.5</td>\n      <td>0.5</td>\n      <td>0.5</td>\n      <td>0.5</td>\n      <td>0.5</td>\n      <td>0.466591</td>\n      <td>23916</td>\n      <td>0.498893</td>\n      <td>0.0</td>\n      <td>12000.0</td>\n      <td>True</td>\n      <td>0.133942</td>\n      <td>1</td>\n    </tr>\n    <tr>\n      <th>2381427</th>\n      <td>0.5</td>\n      <td>0.5</td>\n      <td>0.5</td>\n      <td>0.5</td>\n      <td>0.5</td>\n      <td>0.873001</td>\n      <td>5378</td>\n      <td>0.333003</td>\n      <td>1.0</td>\n      <td>18000.0</td>\n      <td>True</td>\n      <td>-2.241062</td>\n      <td>1</td>\n    </tr>\n    <tr>\n      <th>3649921</th>\n      <td>0.5</td>\n      <td>0.5</td>\n      <td>0.5</td>\n      <td>0.5</td>\n      <td>0.5</td>\n      <td>0.771446</td>\n      <td>5036</td>\n      <td>0.419943</td>\n      <td>1.0</td>\n      <td>24336.0</td>\n      <td>True</td>\n      <td>-1.293286</td>\n      <td>1</td>\n    </tr>\n    <tr>\n      <th>1050187</th>\n      <td>0.5</td>\n      <td>0.5</td>\n      <td>0.5</td>\n      <td>0.5</td>\n      <td>0.5</td>\n      <td>0.889039</td>\n      <td>3695</td>\n      <td>0.314126</td>\n      <td>1.0</td>\n      <td>14000.0</td>\n      <td>True</td>\n      <td>-2.478304</td>\n      <td>1</td>\n    </tr>\n    <tr>\n      <th>3731791</th>\n      <td>0.5</td>\n      <td>0.5</td>\n      <td>0.5</td>\n      <td>0.5</td>\n      <td>0.5</td>\n      <td>0.200174</td>\n      <td>52744</td>\n      <td>0.400135</td>\n      <td>0.0</td>\n      <td>5000.0</td>\n      <td>True</td>\n      <td>1.498681</td>\n      <td>0</td>\n    </tr>\n    <tr>\n      <th>3391908</th>\n      <td>0.5</td>\n      <td>0.5</td>\n      <td>0.5</td>\n      <td>0.5</td>\n      <td>0.5</td>\n      <td>0.493956</td>\n      <td>6122</td>\n      <td>0.500004</td>\n      <td>0.0</td>\n      <td>44000.0</td>\n      <td>True</td>\n      <td>0.024183</td>\n      <td>0</td>\n    </tr>\n    <tr>\n      <th>3078225</th>\n      <td>0.5</td>\n      <td>0.5</td>\n      <td>0.5</td>\n      <td>0.5</td>\n      <td>0.5</td>\n      <td>0.675061</td>\n      <td>5758</td>\n      <td>0.468393</td>\n      <td>1.0</td>\n      <td>14000.0</td>\n      <td>True</td>\n      <td>-0.747755</td>\n      <td>0</td>\n    </tr>\n    <tr>\n      <th>1887145</th>\n      <td>0.5</td>\n      <td>0.5</td>\n      <td>0.5</td>\n      <td>0.5</td>\n      <td>0.5</td>\n      <td>0.773418</td>\n      <td>12565</td>\n      <td>0.418636</td>\n      <td>1.0</td>\n      <td>20992.0</td>\n      <td>True</td>\n      <td>-1.306440</td>\n      <td>1</td>\n    </tr>\n    <tr>\n      <th>4338621</th>\n      <td>0.5</td>\n      <td>0.5</td>\n      <td>0.5</td>\n      <td>0.5</td>\n      <td>0.5</td>\n      <td>0.688919</td>\n      <td>5992</td>\n      <td>0.462975</td>\n      <td>1.0</td>\n      <td>35008.0</td>\n      <td>False</td>\n      <td>-0.816380</td>\n      <td>0</td>\n    </tr>\n    <tr>\n      <th>2048189</th>\n      <td>0.5</td>\n      <td>0.5</td>\n      <td>0.5</td>\n      <td>0.5</td>\n      <td>0.5</td>\n      <td>0.594119</td>\n      <td>13536</td>\n      <td>0.491080</td>\n      <td>1.0</td>\n      <td>26000.0</td>\n      <td>True</td>\n      <td>-0.383373</td>\n      <td>1</td>\n    </tr>\n    <tr>\n      <th>4357080</th>\n      <td>0.5</td>\n      <td>0.5</td>\n      <td>0.5</td>\n      <td>0.5</td>\n      <td>0.5</td>\n      <td>0.750166</td>\n      <td>1509</td>\n      <td>0.433061</td>\n      <td>1.0</td>\n      <td>19008.0</td>\n      <td>False</td>\n      <td>-1.156871</td>\n      <td>1</td>\n    </tr>\n    <tr>\n      <th>2232142</th>\n      <td>0.5</td>\n      <td>0.5</td>\n      <td>0.5</td>\n      <td>0.5</td>\n      <td>0.5</td>\n      <td>0.976033</td>\n      <td>3171</td>\n      <td>0.152971</td>\n      <td>1.0</td>\n      <td>3666.0</td>\n      <td>True</td>\n      <td>-6.227755</td>\n      <td>1</td>\n    </tr>\n    <tr>\n      <th>1100986</th>\n      <td>0.5</td>\n      <td>0.5</td>\n      <td>0.5</td>\n      <td>0.5</td>\n      <td>0.5</td>\n      <td>0.590610</td>\n      <td>7306</td>\n      <td>0.491755</td>\n      <td>1.0</td>\n      <td>16000.0</td>\n      <td>True</td>\n      <td>-0.368620</td>\n      <td>1</td>\n    </tr>\n    <tr>\n      <th>2950372</th>\n      <td>0.5</td>\n      <td>0.5</td>\n      <td>0.5</td>\n      <td>0.5</td>\n      <td>0.5</td>\n      <td>0.361274</td>\n      <td>38868</td>\n      <td>0.480376</td>\n      <td>0.0</td>\n      <td>7000.0</td>\n      <td>True</td>\n      <td>0.577602</td>\n      <td>0</td>\n    </tr>\n    <tr>\n      <th>2090916</th>\n      <td>0.5</td>\n      <td>0.5</td>\n      <td>0.5</td>\n      <td>0.5</td>\n      <td>0.5</td>\n      <td>0.714286</td>\n      <td>1421</td>\n      <td>0.451913</td>\n      <td>1.0</td>\n      <td>24752.0</td>\n      <td>True</td>\n      <td>-0.949686</td>\n      <td>1</td>\n    </tr>\n    <tr>\n      <th>2436673</th>\n      <td>0.5</td>\n      <td>0.5</td>\n      <td>0.5</td>\n      <td>0.5</td>\n      <td>0.5</td>\n      <td>0.575657</td>\n      <td>12669</td>\n      <td>0.494262</td>\n      <td>1.0</td>\n      <td>20992.0</td>\n      <td>True</td>\n      <td>-0.306190</td>\n      <td>0</td>\n    </tr>\n    <tr>\n      <th>1396105</th>\n      <td>0.5</td>\n      <td>0.5</td>\n      <td>0.5</td>\n      <td>0.5</td>\n      <td>0.5</td>\n      <td>0.654455</td>\n      <td>4231</td>\n      <td>0.475602</td>\n      <td>1.0</td>\n      <td>13000.0</td>\n      <td>True</td>\n      <td>-0.649822</td>\n      <td>1</td>\n    </tr>\n    <tr>\n      <th>2628288</th>\n      <td>0.5</td>\n      <td>0.5</td>\n      <td>0.5</td>\n      <td>0.5</td>\n      <td>0.5</td>\n      <td>0.767850</td>\n      <td>2395</td>\n      <td>0.422293</td>\n      <td>1.0</td>\n      <td>35008.0</td>\n      <td>True</td>\n      <td>-1.269611</td>\n      <td>1</td>\n    </tr>\n    <tr>\n      <th>926447</th>\n      <td>0.5</td>\n      <td>0.5</td>\n      <td>0.5</td>\n      <td>0.5</td>\n      <td>0.5</td>\n      <td>0.666260</td>\n      <td>6562</td>\n      <td>0.471584</td>\n      <td>1.0</td>\n      <td>16992.0</td>\n      <td>True</td>\n      <td>-0.705329</td>\n      <td>1</td>\n    </tr>\n    <tr>\n      <th>2958995</th>\n      <td>0.5</td>\n      <td>0.5</td>\n      <td>0.5</td>\n      <td>0.5</td>\n      <td>0.5</td>\n      <td>0.540806</td>\n      <td>1017</td>\n      <td>0.498577</td>\n      <td>1.0</td>\n      <td>62784.0</td>\n      <td>True</td>\n      <td>-0.164013</td>\n      <td>1</td>\n    </tr>\n    <tr>\n      <th>758687</th>\n      <td>0.5</td>\n      <td>0.5</td>\n      <td>0.5</td>\n      <td>0.5</td>\n      <td>0.5</td>\n      <td>0.606503</td>\n      <td>2737</td>\n      <td>0.488615</td>\n      <td>1.0</td>\n      <td>36512.0</td>\n      <td>True</td>\n      <td>-0.436259</td>\n      <td>1</td>\n    </tr>\n    <tr>\n      <th>1911532</th>\n      <td>0.5</td>\n      <td>0.5</td>\n      <td>0.5</td>\n      <td>0.5</td>\n      <td>0.5</td>\n      <td>0.505529</td>\n      <td>1899</td>\n      <td>0.500101</td>\n      <td>1.0</td>\n      <td>31008.0</td>\n      <td>True</td>\n      <td>-0.022136</td>\n      <td>0</td>\n    </tr>\n    <tr>\n      <th>2272440</th>\n      <td>0.5</td>\n      <td>0.5</td>\n      <td>0.5</td>\n      <td>0.5</td>\n      <td>0.5</td>\n      <td>0.459556</td>\n      <td>7294</td>\n      <td>0.498396</td>\n      <td>0.0</td>\n      <td>28000.0</td>\n      <td>True</td>\n      <td>0.162342</td>\n      <td>1</td>\n    </tr>\n  </tbody>\n</table>\n</div>"
          },
          "metadata": {},
          "execution_count": 20
        }
      ]
    },
    {
      "cell_type": "code",
      "metadata": {
        "colab": {
          "base_uri": "https://localhost:8080/"
        },
        "id": "J88jEmeKckWF",
        "outputId": "8ed18333-5610-48bc-f490-01ba61926595"
      },
      "source": [
        "predicts = model.predict(test_df[features])\n",
        "predicts[1:30]"
      ],
      "execution_count": 21,
      "outputs": [
        {
          "output_type": "execute_result",
          "data": {
            "text/plain": [
              "array([1, 1, 1, 1, 1, 1, 0, 1, 1, 1, 0, 0, 1, 1, 1, 1, 1, 1, 1, 0, 1, 1,\n",
              "       1, 1, 1, 1, 1, 0, 0], dtype=int8)"
            ]
          },
          "metadata": {},
          "execution_count": 21
        }
      ]
    },
    {
      "cell_type": "code",
      "metadata": {
        "id": "nqWqxTQwPT-0"
      },
      "source": [
        "model"
      ],
      "execution_count": 23,
      "outputs": [
        {
          "output_type": "execute_result",
          "data": {
            "text/plain": [
              "LGBMClassifier(bagging_fraction=0.5817242323514327,\n",
              "               feature_fraction=0.6884588361650144,\n",
              "               learning_rate=0.42887924851375825, max_depth=6,\n",
              "               min_child_samples=946, min_data_in_leaf=47, n_estimators=169,\n",
              "               num_leaves=29, random_state=666)"
            ]
          },
          "metadata": {},
          "execution_count": 23
        }
      ]
    },
    {
      "cell_type": "code",
      "metadata": {
        "id": "sFVnuvu3PWPu"
      },
      "source": [
        "get_params_model = model.get_params(deep=True)\n",
        "get_params_model"
      ],
      "execution_count": 24,
      "outputs": [
        {
          "output_type": "execute_result",
          "data": {
            "text/plain": [
              "{'boosting_type': 'gbdt',\n",
              " 'class_weight': None,\n",
              " 'colsample_bytree': 1.0,\n",
              " 'importance_type': 'split',\n",
              " 'learning_rate': 0.42887924851375825,\n",
              " 'max_depth': 6,\n",
              " 'min_child_samples': 946,\n",
              " 'min_child_weight': 0.001,\n",
              " 'min_split_gain': 0.0,\n",
              " 'n_estimators': 169,\n",
              " 'n_jobs': -1,\n",
              " 'num_leaves': 29,\n",
              " 'objective': None,\n",
              " 'random_state': 666,\n",
              " 'reg_alpha': 0.0,\n",
              " 'reg_lambda': 0.0,\n",
              " 'silent': True,\n",
              " 'subsample': 1.0,\n",
              " 'subsample_for_bin': 200000,\n",
              " 'subsample_freq': 0,\n",
              " 'bagging_fraction': 0.5817242323514327,\n",
              " 'feature_fraction': 0.6884588361650144,\n",
              " 'min_data_in_leaf': 47}"
            ]
          },
          "metadata": {},
          "execution_count": 24
        }
      ]
    },
    {
      "cell_type": "code",
      "metadata": {
        "id": "f8RGLxXQWHLh"
      },
      "source": [
        "objective = model.objective_\n",
        "objective"
      ],
      "execution_count": 25,
      "outputs": [
        {
          "output_type": "execute_result",
          "data": {
            "text/plain": [
              "'binary'"
            ]
          },
          "metadata": {},
          "execution_count": 25
        }
      ]
    },
    {
      "cell_type": "code",
      "metadata": {
        "id": "lcI96BBoYwqh"
      },
      "source": [
        "model"
      ],
      "execution_count": 26,
      "outputs": [
        {
          "output_type": "execute_result",
          "data": {
            "text/plain": [
              "LGBMClassifier(bagging_fraction=0.5817242323514327,\n",
              "               feature_fraction=0.6884588361650144,\n",
              "               learning_rate=0.42887924851375825, max_depth=6,\n",
              "               min_child_samples=946, min_data_in_leaf=47, n_estimators=169,\n",
              "               num_leaves=29, random_state=666)"
            ]
          },
          "metadata": {},
          "execution_count": 26
        }
      ]
    },
    {
      "cell_type": "code",
      "metadata": {
        "id": "rpwaH9B9Y36z"
      },
      "source": [
        "print(model.best_score_)"
      ],
      "execution_count": 27,
      "outputs": [
        {
          "output_type": "stream",
          "name": "stdout",
          "text": [
            "defaultdict(<class 'collections.OrderedDict'>, {})\n"
          ]
        }
      ]
    },
    {
      "cell_type": "code",
      "metadata": {
        "id": "GPvoMh3x9Ogy"
      },
      "source": [
        "model.classes_"
      ],
      "execution_count": 28,
      "outputs": [
        {
          "output_type": "execute_result",
          "data": {
            "text/plain": [
              "array([0, 1], dtype=int8)"
            ]
          },
          "metadata": {},
          "execution_count": 28
        }
      ]
    },
    {
      "cell_type": "code",
      "metadata": {
        "id": "yLkWAzLG_Z1h"
      },
      "source": [
        "model.evals_result_"
      ],
      "execution_count": 29,
      "outputs": []
    },
    {
      "cell_type": "code",
      "metadata": {
        "id": "T731u5pN_gUs"
      },
      "source": [
        "model.feature_importances_"
      ],
      "execution_count": 30,
      "outputs": [
        {
          "output_type": "execute_result",
          "data": {
            "text/plain": [
              "array([   0,    0,    0,    0,    0,  784, 1154,  717,   18, 1323,  220,\n",
              "        516])"
            ]
          },
          "metadata": {},
          "execution_count": 30
        }
      ]
    },
    {
      "cell_type": "code",
      "metadata": {
        "id": "yyqHK_ZoBVuG"
      },
      "source": [
        "lgb.plot_importance(model)\n",
        "plt.show()"
      ],
      "execution_count": 31,
      "outputs": [
        {
          "output_type": "display_data",
          "data": {
            "text/plain": "<Figure size 432x288 with 1 Axes>",
            "image/svg+xml": "<?xml version=\"1.0\" encoding=\"utf-8\" standalone=\"no\"?>\r\n<!DOCTYPE svg PUBLIC \"-//W3C//DTD SVG 1.1//EN\"\r\n  \"http://www.w3.org/Graphics/SVG/1.1/DTD/svg11.dtd\">\r\n<!-- Created with matplotlib (https://matplotlib.org/) -->\r\n<svg height=\"277.314375pt\" version=\"1.1\" viewBox=\"0 0 529.137297 277.314375\" width=\"529.137297pt\" xmlns=\"http://www.w3.org/2000/svg\" xmlns:xlink=\"http://www.w3.org/1999/xlink\">\r\n <metadata>\r\n  <rdf:RDF xmlns:cc=\"http://creativecommons.org/ns#\" xmlns:dc=\"http://purl.org/dc/elements/1.1/\" xmlns:rdf=\"http://www.w3.org/1999/02/22-rdf-syntax-ns#\">\r\n   <cc:Work>\r\n    <dc:type rdf:resource=\"http://purl.org/dc/dcmitype/StillImage\"/>\r\n    <dc:date>2020-11-28T22:01:20.054485</dc:date>\r\n    <dc:format>image/svg+xml</dc:format>\r\n    <dc:creator>\r\n     <cc:Agent>\r\n      <dc:title>Matplotlib v3.3.3, https://matplotlib.org/</dc:title>\r\n     </cc:Agent>\r\n    </dc:creator>\r\n   </cc:Work>\r\n  </rdf:RDF>\r\n </metadata>\r\n <defs>\r\n  <style type=\"text/css\">*{stroke-linecap:butt;stroke-linejoin:round;}</style>\r\n </defs>\r\n <g id=\"figure_1\">\r\n  <g id=\"patch_1\">\r\n   <path d=\"M 0 277.314375 \r\nL 529.137297 277.314375 \r\nL 529.137297 0 \r\nL 0 0 \r\nz\r\n\" style=\"fill:none;\"/>\r\n  </g>\r\n  <g id=\"axes_1\">\r\n   <g id=\"patch_2\">\r\n    <path d=\"M 187.134375 239.758125 \r\nL 521.934375 239.758125 \r\nL 521.934375 22.318125 \r\nL 187.134375 22.318125 \r\nz\r\n\" style=\"fill:#ffffff;\"/>\r\n   </g>\r\n   <g id=\"patch_3\">\r\n    <path clip-path=\"url(#p250f8778dd)\" d=\"M 187.134375 215.296125 \r\nL 191.275377 215.296125 \r\nL 191.275377 209.860125 \r\nL 187.134375 209.860125 \r\nz\r\n\" style=\"fill:#1f77b4;\"/>\r\n   </g>\r\n   <g id=\"patch_4\">\r\n    <path clip-path=\"url(#p250f8778dd)\" d=\"M 187.134375 188.116125 \r\nL 237.74662 188.116125 \r\nL 237.74662 182.680125 \r\nL 187.134375 182.680125 \r\nz\r\n\" style=\"fill:#1f77b4;\"/>\r\n   </g>\r\n   <g id=\"patch_5\">\r\n    <path clip-path=\"url(#p250f8778dd)\" d=\"M 187.134375 160.936125 \r\nL 305.843095 160.936125 \r\nL 305.843095 155.500125 \r\nL 187.134375 155.500125 \r\nz\r\n\" style=\"fill:#1f77b4;\"/>\r\n   </g>\r\n   <g id=\"patch_6\">\r\n    <path clip-path=\"url(#p250f8778dd)\" d=\"M 187.134375 133.756125 \r\nL 352.084282 133.756125 \r\nL 352.084282 128.320125 \r\nL 187.134375 128.320125 \r\nz\r\n\" style=\"fill:#1f77b4;\"/>\r\n   </g>\r\n   <g id=\"patch_7\">\r\n    <path clip-path=\"url(#p250f8778dd)\" d=\"M 187.134375 106.576125 \r\nL 367.498011 106.576125 \r\nL 367.498011 101.140125 \r\nL 187.134375 101.140125 \r\nz\r\n\" style=\"fill:#1f77b4;\"/>\r\n   </g>\r\n   <g id=\"patch_8\">\r\n    <path clip-path=\"url(#p250f8778dd)\" d=\"M 187.134375 79.396125 \r\nL 452.618605 79.396125 \r\nL 452.618605 73.960125 \r\nL 187.134375 73.960125 \r\nz\r\n\" style=\"fill:#1f77b4;\"/>\r\n   </g>\r\n   <g id=\"patch_9\">\r\n    <path clip-path=\"url(#p250f8778dd)\" d=\"M 187.134375 52.216125 \r\nL 491.498011 52.216125 \r\nL 491.498011 46.780125 \r\nL 187.134375 46.780125 \r\nz\r\n\" style=\"fill:#1f77b4;\"/>\r\n   </g>\r\n   <g id=\"matplotlib.axis_1\">\r\n    <g id=\"xtick_1\">\r\n     <g id=\"line2d_1\">\r\n      <path clip-path=\"url(#p250f8778dd)\" d=\"M 187.134375 239.758125 \r\nL 187.134375 22.318125 \r\n\" style=\"fill:none;stroke:#b0b0b0;stroke-linecap:square;stroke-width:0.8;\"/>\r\n     </g>\r\n     <g id=\"line2d_2\">\r\n      <defs>\r\n       <path d=\"M 0 0 \r\nL 0 3.5 \r\n\" id=\"mde163678d4\" style=\"stroke:#000000;stroke-width:0.8;\"/>\r\n      </defs>\r\n      <g>\r\n       <use style=\"stroke:#000000;stroke-width:0.8;\" x=\"187.134375\" xlink:href=\"#mde163678d4\" y=\"239.758125\"/>\r\n      </g>\r\n     </g>\r\n     <g id=\"text_1\">\r\n      <!-- 0 -->\r\n      <g transform=\"translate(183.953125 254.356562)scale(0.1 -0.1)\">\r\n       <defs>\r\n        <path d=\"M 31.78125 66.40625 \r\nQ 24.171875 66.40625 20.328125 58.90625 \r\nQ 16.5 51.421875 16.5 36.375 \r\nQ 16.5 21.390625 20.328125 13.890625 \r\nQ 24.171875 6.390625 31.78125 6.390625 \r\nQ 39.453125 6.390625 43.28125 13.890625 \r\nQ 47.125 21.390625 47.125 36.375 \r\nQ 47.125 51.421875 43.28125 58.90625 \r\nQ 39.453125 66.40625 31.78125 66.40625 \r\nz\r\nM 31.78125 74.21875 \r\nQ 44.046875 74.21875 50.515625 64.515625 \r\nQ 56.984375 54.828125 56.984375 36.375 \r\nQ 56.984375 17.96875 50.515625 8.265625 \r\nQ 44.046875 -1.421875 31.78125 -1.421875 \r\nQ 19.53125 -1.421875 13.0625 8.265625 \r\nQ 6.59375 17.96875 6.59375 36.375 \r\nQ 6.59375 54.828125 13.0625 64.515625 \r\nQ 19.53125 74.21875 31.78125 74.21875 \r\nz\r\n\" id=\"DejaVuSans-48\"/>\r\n       </defs>\r\n       <use xlink:href=\"#DejaVuSans-48\"/>\r\n      </g>\r\n     </g>\r\n    </g>\r\n    <g id=\"xtick_2\">\r\n     <g id=\"line2d_3\">\r\n      <path clip-path=\"url(#p250f8778dd)\" d=\"M 233.145507 239.758125 \r\nL 233.145507 22.318125 \r\n\" style=\"fill:none;stroke:#b0b0b0;stroke-linecap:square;stroke-width:0.8;\"/>\r\n     </g>\r\n     <g id=\"line2d_4\">\r\n      <g>\r\n       <use style=\"stroke:#000000;stroke-width:0.8;\" x=\"233.145507\" xlink:href=\"#mde163678d4\" y=\"239.758125\"/>\r\n      </g>\r\n     </g>\r\n     <g id=\"text_2\">\r\n      <!-- 200 -->\r\n      <g transform=\"translate(223.601757 254.356562)scale(0.1 -0.1)\">\r\n       <defs>\r\n        <path d=\"M 19.1875 8.296875 \r\nL 53.609375 8.296875 \r\nL 53.609375 0 \r\nL 7.328125 0 \r\nL 7.328125 8.296875 \r\nQ 12.9375 14.109375 22.625 23.890625 \r\nQ 32.328125 33.6875 34.8125 36.53125 \r\nQ 39.546875 41.84375 41.421875 45.53125 \r\nQ 43.3125 49.21875 43.3125 52.78125 \r\nQ 43.3125 58.59375 39.234375 62.25 \r\nQ 35.15625 65.921875 28.609375 65.921875 \r\nQ 23.96875 65.921875 18.8125 64.3125 \r\nQ 13.671875 62.703125 7.8125 59.421875 \r\nL 7.8125 69.390625 \r\nQ 13.765625 71.78125 18.9375 73 \r\nQ 24.125 74.21875 28.421875 74.21875 \r\nQ 39.75 74.21875 46.484375 68.546875 \r\nQ 53.21875 62.890625 53.21875 53.421875 \r\nQ 53.21875 48.921875 51.53125 44.890625 \r\nQ 49.859375 40.875 45.40625 35.40625 \r\nQ 44.1875 33.984375 37.640625 27.21875 \r\nQ 31.109375 20.453125 19.1875 8.296875 \r\nz\r\n\" id=\"DejaVuSans-50\"/>\r\n       </defs>\r\n       <use xlink:href=\"#DejaVuSans-50\"/>\r\n       <use x=\"63.623047\" xlink:href=\"#DejaVuSans-48\"/>\r\n       <use x=\"127.246094\" xlink:href=\"#DejaVuSans-48\"/>\r\n      </g>\r\n     </g>\r\n    </g>\r\n    <g id=\"xtick_3\">\r\n     <g id=\"line2d_5\">\r\n      <path clip-path=\"url(#p250f8778dd)\" d=\"M 279.156638 239.758125 \r\nL 279.156638 22.318125 \r\n\" style=\"fill:none;stroke:#b0b0b0;stroke-linecap:square;stroke-width:0.8;\"/>\r\n     </g>\r\n     <g id=\"line2d_6\">\r\n      <g>\r\n       <use style=\"stroke:#000000;stroke-width:0.8;\" x=\"279.156638\" xlink:href=\"#mde163678d4\" y=\"239.758125\"/>\r\n      </g>\r\n     </g>\r\n     <g id=\"text_3\">\r\n      <!-- 400 -->\r\n      <g transform=\"translate(269.612888 254.356562)scale(0.1 -0.1)\">\r\n       <defs>\r\n        <path d=\"M 37.796875 64.3125 \r\nL 12.890625 25.390625 \r\nL 37.796875 25.390625 \r\nz\r\nM 35.203125 72.90625 \r\nL 47.609375 72.90625 \r\nL 47.609375 25.390625 \r\nL 58.015625 25.390625 \r\nL 58.015625 17.1875 \r\nL 47.609375 17.1875 \r\nL 47.609375 0 \r\nL 37.796875 0 \r\nL 37.796875 17.1875 \r\nL 4.890625 17.1875 \r\nL 4.890625 26.703125 \r\nz\r\n\" id=\"DejaVuSans-52\"/>\r\n       </defs>\r\n       <use xlink:href=\"#DejaVuSans-52\"/>\r\n       <use x=\"63.623047\" xlink:href=\"#DejaVuSans-48\"/>\r\n       <use x=\"127.246094\" xlink:href=\"#DejaVuSans-48\"/>\r\n      </g>\r\n     </g>\r\n    </g>\r\n    <g id=\"xtick_4\">\r\n     <g id=\"line2d_7\">\r\n      <path clip-path=\"url(#p250f8778dd)\" d=\"M 325.16777 239.758125 \r\nL 325.16777 22.318125 \r\n\" style=\"fill:none;stroke:#b0b0b0;stroke-linecap:square;stroke-width:0.8;\"/>\r\n     </g>\r\n     <g id=\"line2d_8\">\r\n      <g>\r\n       <use style=\"stroke:#000000;stroke-width:0.8;\" x=\"325.16777\" xlink:href=\"#mde163678d4\" y=\"239.758125\"/>\r\n      </g>\r\n     </g>\r\n     <g id=\"text_4\">\r\n      <!-- 600 -->\r\n      <g transform=\"translate(315.62402 254.356562)scale(0.1 -0.1)\">\r\n       <defs>\r\n        <path d=\"M 33.015625 40.375 \r\nQ 26.375 40.375 22.484375 35.828125 \r\nQ 18.609375 31.296875 18.609375 23.390625 \r\nQ 18.609375 15.53125 22.484375 10.953125 \r\nQ 26.375 6.390625 33.015625 6.390625 \r\nQ 39.65625 6.390625 43.53125 10.953125 \r\nQ 47.40625 15.53125 47.40625 23.390625 \r\nQ 47.40625 31.296875 43.53125 35.828125 \r\nQ 39.65625 40.375 33.015625 40.375 \r\nz\r\nM 52.59375 71.296875 \r\nL 52.59375 62.3125 \r\nQ 48.875 64.0625 45.09375 64.984375 \r\nQ 41.3125 65.921875 37.59375 65.921875 \r\nQ 27.828125 65.921875 22.671875 59.328125 \r\nQ 17.53125 52.734375 16.796875 39.40625 \r\nQ 19.671875 43.65625 24.015625 45.921875 \r\nQ 28.375 48.1875 33.59375 48.1875 \r\nQ 44.578125 48.1875 50.953125 41.515625 \r\nQ 57.328125 34.859375 57.328125 23.390625 \r\nQ 57.328125 12.15625 50.6875 5.359375 \r\nQ 44.046875 -1.421875 33.015625 -1.421875 \r\nQ 20.359375 -1.421875 13.671875 8.265625 \r\nQ 6.984375 17.96875 6.984375 36.375 \r\nQ 6.984375 53.65625 15.1875 63.9375 \r\nQ 23.390625 74.21875 37.203125 74.21875 \r\nQ 40.921875 74.21875 44.703125 73.484375 \r\nQ 48.484375 72.75 52.59375 71.296875 \r\nz\r\n\" id=\"DejaVuSans-54\"/>\r\n       </defs>\r\n       <use xlink:href=\"#DejaVuSans-54\"/>\r\n       <use x=\"63.623047\" xlink:href=\"#DejaVuSans-48\"/>\r\n       <use x=\"127.246094\" xlink:href=\"#DejaVuSans-48\"/>\r\n      </g>\r\n     </g>\r\n    </g>\r\n    <g id=\"xtick_5\">\r\n     <g id=\"line2d_9\">\r\n      <path clip-path=\"url(#p250f8778dd)\" d=\"M 371.178902 239.758125 \r\nL 371.178902 22.318125 \r\n\" style=\"fill:none;stroke:#b0b0b0;stroke-linecap:square;stroke-width:0.8;\"/>\r\n     </g>\r\n     <g id=\"line2d_10\">\r\n      <g>\r\n       <use style=\"stroke:#000000;stroke-width:0.8;\" x=\"371.178902\" xlink:href=\"#mde163678d4\" y=\"239.758125\"/>\r\n      </g>\r\n     </g>\r\n     <g id=\"text_5\">\r\n      <!-- 800 -->\r\n      <g transform=\"translate(361.635152 254.356562)scale(0.1 -0.1)\">\r\n       <defs>\r\n        <path d=\"M 31.78125 34.625 \r\nQ 24.75 34.625 20.71875 30.859375 \r\nQ 16.703125 27.09375 16.703125 20.515625 \r\nQ 16.703125 13.921875 20.71875 10.15625 \r\nQ 24.75 6.390625 31.78125 6.390625 \r\nQ 38.8125 6.390625 42.859375 10.171875 \r\nQ 46.921875 13.96875 46.921875 20.515625 \r\nQ 46.921875 27.09375 42.890625 30.859375 \r\nQ 38.875 34.625 31.78125 34.625 \r\nz\r\nM 21.921875 38.8125 \r\nQ 15.578125 40.375 12.03125 44.71875 \r\nQ 8.5 49.078125 8.5 55.328125 \r\nQ 8.5 64.0625 14.71875 69.140625 \r\nQ 20.953125 74.21875 31.78125 74.21875 \r\nQ 42.671875 74.21875 48.875 69.140625 \r\nQ 55.078125 64.0625 55.078125 55.328125 \r\nQ 55.078125 49.078125 51.53125 44.71875 \r\nQ 48 40.375 41.703125 38.8125 \r\nQ 48.828125 37.15625 52.796875 32.3125 \r\nQ 56.78125 27.484375 56.78125 20.515625 \r\nQ 56.78125 9.90625 50.3125 4.234375 \r\nQ 43.84375 -1.421875 31.78125 -1.421875 \r\nQ 19.734375 -1.421875 13.25 4.234375 \r\nQ 6.78125 9.90625 6.78125 20.515625 \r\nQ 6.78125 27.484375 10.78125 32.3125 \r\nQ 14.796875 37.15625 21.921875 38.8125 \r\nz\r\nM 18.3125 54.390625 \r\nQ 18.3125 48.734375 21.84375 45.5625 \r\nQ 25.390625 42.390625 31.78125 42.390625 \r\nQ 38.140625 42.390625 41.71875 45.5625 \r\nQ 45.3125 48.734375 45.3125 54.390625 \r\nQ 45.3125 60.0625 41.71875 63.234375 \r\nQ 38.140625 66.40625 31.78125 66.40625 \r\nQ 25.390625 66.40625 21.84375 63.234375 \r\nQ 18.3125 60.0625 18.3125 54.390625 \r\nz\r\n\" id=\"DejaVuSans-56\"/>\r\n       </defs>\r\n       <use xlink:href=\"#DejaVuSans-56\"/>\r\n       <use x=\"63.623047\" xlink:href=\"#DejaVuSans-48\"/>\r\n       <use x=\"127.246094\" xlink:href=\"#DejaVuSans-48\"/>\r\n      </g>\r\n     </g>\r\n    </g>\r\n    <g id=\"xtick_6\">\r\n     <g id=\"line2d_11\">\r\n      <path clip-path=\"url(#p250f8778dd)\" d=\"M 417.190034 239.758125 \r\nL 417.190034 22.318125 \r\n\" style=\"fill:none;stroke:#b0b0b0;stroke-linecap:square;stroke-width:0.8;\"/>\r\n     </g>\r\n     <g id=\"line2d_12\">\r\n      <g>\r\n       <use style=\"stroke:#000000;stroke-width:0.8;\" x=\"417.190034\" xlink:href=\"#mde163678d4\" y=\"239.758125\"/>\r\n      </g>\r\n     </g>\r\n     <g id=\"text_6\">\r\n      <!-- 1000 -->\r\n      <g transform=\"translate(404.465034 254.356562)scale(0.1 -0.1)\">\r\n       <defs>\r\n        <path d=\"M 12.40625 8.296875 \r\nL 28.515625 8.296875 \r\nL 28.515625 63.921875 \r\nL 10.984375 60.40625 \r\nL 10.984375 69.390625 \r\nL 28.421875 72.90625 \r\nL 38.28125 72.90625 \r\nL 38.28125 8.296875 \r\nL 54.390625 8.296875 \r\nL 54.390625 0 \r\nL 12.40625 0 \r\nz\r\n\" id=\"DejaVuSans-49\"/>\r\n       </defs>\r\n       <use xlink:href=\"#DejaVuSans-49\"/>\r\n       <use x=\"63.623047\" xlink:href=\"#DejaVuSans-48\"/>\r\n       <use x=\"127.246094\" xlink:href=\"#DejaVuSans-48\"/>\r\n       <use x=\"190.869141\" xlink:href=\"#DejaVuSans-48\"/>\r\n      </g>\r\n     </g>\r\n    </g>\r\n    <g id=\"xtick_7\">\r\n     <g id=\"line2d_13\">\r\n      <path clip-path=\"url(#p250f8778dd)\" d=\"M 463.201165 239.758125 \r\nL 463.201165 22.318125 \r\n\" style=\"fill:none;stroke:#b0b0b0;stroke-linecap:square;stroke-width:0.8;\"/>\r\n     </g>\r\n     <g id=\"line2d_14\">\r\n      <g>\r\n       <use style=\"stroke:#000000;stroke-width:0.8;\" x=\"463.201165\" xlink:href=\"#mde163678d4\" y=\"239.758125\"/>\r\n      </g>\r\n     </g>\r\n     <g id=\"text_7\">\r\n      <!-- 1200 -->\r\n      <g transform=\"translate(450.476165 254.356562)scale(0.1 -0.1)\">\r\n       <use xlink:href=\"#DejaVuSans-49\"/>\r\n       <use x=\"63.623047\" xlink:href=\"#DejaVuSans-50\"/>\r\n       <use x=\"127.246094\" xlink:href=\"#DejaVuSans-48\"/>\r\n       <use x=\"190.869141\" xlink:href=\"#DejaVuSans-48\"/>\r\n      </g>\r\n     </g>\r\n    </g>\r\n    <g id=\"xtick_8\">\r\n     <g id=\"line2d_15\">\r\n      <path clip-path=\"url(#p250f8778dd)\" d=\"M 509.212297 239.758125 \r\nL 509.212297 22.318125 \r\n\" style=\"fill:none;stroke:#b0b0b0;stroke-linecap:square;stroke-width:0.8;\"/>\r\n     </g>\r\n     <g id=\"line2d_16\">\r\n      <g>\r\n       <use style=\"stroke:#000000;stroke-width:0.8;\" x=\"509.212297\" xlink:href=\"#mde163678d4\" y=\"239.758125\"/>\r\n      </g>\r\n     </g>\r\n     <g id=\"text_8\">\r\n      <!-- 1400 -->\r\n      <g transform=\"translate(496.487297 254.356562)scale(0.1 -0.1)\">\r\n       <use xlink:href=\"#DejaVuSans-49\"/>\r\n       <use x=\"63.623047\" xlink:href=\"#DejaVuSans-52\"/>\r\n       <use x=\"127.246094\" xlink:href=\"#DejaVuSans-48\"/>\r\n       <use x=\"190.869141\" xlink:href=\"#DejaVuSans-48\"/>\r\n      </g>\r\n     </g>\r\n    </g>\r\n    <g id=\"text_9\">\r\n     <!-- Feature importance -->\r\n     <g transform=\"translate(305.488281 268.034687)scale(0.1 -0.1)\">\r\n      <defs>\r\n       <path d=\"M 9.8125 72.90625 \r\nL 51.703125 72.90625 \r\nL 51.703125 64.59375 \r\nL 19.671875 64.59375 \r\nL 19.671875 43.109375 \r\nL 48.578125 43.109375 \r\nL 48.578125 34.8125 \r\nL 19.671875 34.8125 \r\nL 19.671875 0 \r\nL 9.8125 0 \r\nz\r\n\" id=\"DejaVuSans-70\"/>\r\n       <path d=\"M 56.203125 29.59375 \r\nL 56.203125 25.203125 \r\nL 14.890625 25.203125 \r\nQ 15.484375 15.921875 20.484375 11.0625 \r\nQ 25.484375 6.203125 34.421875 6.203125 \r\nQ 39.59375 6.203125 44.453125 7.46875 \r\nQ 49.3125 8.734375 54.109375 11.28125 \r\nL 54.109375 2.78125 \r\nQ 49.265625 0.734375 44.1875 -0.34375 \r\nQ 39.109375 -1.421875 33.890625 -1.421875 \r\nQ 20.796875 -1.421875 13.15625 6.1875 \r\nQ 5.515625 13.8125 5.515625 26.8125 \r\nQ 5.515625 40.234375 12.765625 48.109375 \r\nQ 20.015625 56 32.328125 56 \r\nQ 43.359375 56 49.78125 48.890625 \r\nQ 56.203125 41.796875 56.203125 29.59375 \r\nz\r\nM 47.21875 32.234375 \r\nQ 47.125 39.59375 43.09375 43.984375 \r\nQ 39.0625 48.390625 32.421875 48.390625 \r\nQ 24.90625 48.390625 20.390625 44.140625 \r\nQ 15.875 39.890625 15.1875 32.171875 \r\nz\r\n\" id=\"DejaVuSans-101\"/>\r\n       <path d=\"M 34.28125 27.484375 \r\nQ 23.390625 27.484375 19.1875 25 \r\nQ 14.984375 22.515625 14.984375 16.5 \r\nQ 14.984375 11.71875 18.140625 8.90625 \r\nQ 21.296875 6.109375 26.703125 6.109375 \r\nQ 34.1875 6.109375 38.703125 11.40625 \r\nQ 43.21875 16.703125 43.21875 25.484375 \r\nL 43.21875 27.484375 \r\nz\r\nM 52.203125 31.203125 \r\nL 52.203125 0 \r\nL 43.21875 0 \r\nL 43.21875 8.296875 \r\nQ 40.140625 3.328125 35.546875 0.953125 \r\nQ 30.953125 -1.421875 24.3125 -1.421875 \r\nQ 15.921875 -1.421875 10.953125 3.296875 \r\nQ 6 8.015625 6 15.921875 \r\nQ 6 25.140625 12.171875 29.828125 \r\nQ 18.359375 34.515625 30.609375 34.515625 \r\nL 43.21875 34.515625 \r\nL 43.21875 35.40625 \r\nQ 43.21875 41.609375 39.140625 45 \r\nQ 35.0625 48.390625 27.6875 48.390625 \r\nQ 23 48.390625 18.546875 47.265625 \r\nQ 14.109375 46.140625 10.015625 43.890625 \r\nL 10.015625 52.203125 \r\nQ 14.9375 54.109375 19.578125 55.046875 \r\nQ 24.21875 56 28.609375 56 \r\nQ 40.484375 56 46.34375 49.84375 \r\nQ 52.203125 43.703125 52.203125 31.203125 \r\nz\r\n\" id=\"DejaVuSans-97\"/>\r\n       <path d=\"M 18.3125 70.21875 \r\nL 18.3125 54.6875 \r\nL 36.8125 54.6875 \r\nL 36.8125 47.703125 \r\nL 18.3125 47.703125 \r\nL 18.3125 18.015625 \r\nQ 18.3125 11.328125 20.140625 9.421875 \r\nQ 21.96875 7.515625 27.59375 7.515625 \r\nL 36.8125 7.515625 \r\nL 36.8125 0 \r\nL 27.59375 0 \r\nQ 17.1875 0 13.234375 3.875 \r\nQ 9.28125 7.765625 9.28125 18.015625 \r\nL 9.28125 47.703125 \r\nL 2.6875 47.703125 \r\nL 2.6875 54.6875 \r\nL 9.28125 54.6875 \r\nL 9.28125 70.21875 \r\nz\r\n\" id=\"DejaVuSans-116\"/>\r\n       <path d=\"M 8.5 21.578125 \r\nL 8.5 54.6875 \r\nL 17.484375 54.6875 \r\nL 17.484375 21.921875 \r\nQ 17.484375 14.15625 20.5 10.265625 \r\nQ 23.53125 6.390625 29.59375 6.390625 \r\nQ 36.859375 6.390625 41.078125 11.03125 \r\nQ 45.3125 15.671875 45.3125 23.6875 \r\nL 45.3125 54.6875 \r\nL 54.296875 54.6875 \r\nL 54.296875 0 \r\nL 45.3125 0 \r\nL 45.3125 8.40625 \r\nQ 42.046875 3.421875 37.71875 1 \r\nQ 33.40625 -1.421875 27.6875 -1.421875 \r\nQ 18.265625 -1.421875 13.375 4.4375 \r\nQ 8.5 10.296875 8.5 21.578125 \r\nz\r\nM 31.109375 56 \r\nz\r\n\" id=\"DejaVuSans-117\"/>\r\n       <path d=\"M 41.109375 46.296875 \r\nQ 39.59375 47.171875 37.8125 47.578125 \r\nQ 36.03125 48 33.890625 48 \r\nQ 26.265625 48 22.1875 43.046875 \r\nQ 18.109375 38.09375 18.109375 28.8125 \r\nL 18.109375 0 \r\nL 9.078125 0 \r\nL 9.078125 54.6875 \r\nL 18.109375 54.6875 \r\nL 18.109375 46.1875 \r\nQ 20.953125 51.171875 25.484375 53.578125 \r\nQ 30.03125 56 36.53125 56 \r\nQ 37.453125 56 38.578125 55.875 \r\nQ 39.703125 55.765625 41.0625 55.515625 \r\nz\r\n\" id=\"DejaVuSans-114\"/>\r\n       <path id=\"DejaVuSans-32\"/>\r\n       <path d=\"M 9.421875 54.6875 \r\nL 18.40625 54.6875 \r\nL 18.40625 0 \r\nL 9.421875 0 \r\nz\r\nM 9.421875 75.984375 \r\nL 18.40625 75.984375 \r\nL 18.40625 64.59375 \r\nL 9.421875 64.59375 \r\nz\r\n\" id=\"DejaVuSans-105\"/>\r\n       <path d=\"M 52 44.1875 \r\nQ 55.375 50.25 60.0625 53.125 \r\nQ 64.75 56 71.09375 56 \r\nQ 79.640625 56 84.28125 50.015625 \r\nQ 88.921875 44.046875 88.921875 33.015625 \r\nL 88.921875 0 \r\nL 79.890625 0 \r\nL 79.890625 32.71875 \r\nQ 79.890625 40.578125 77.09375 44.375 \r\nQ 74.3125 48.1875 68.609375 48.1875 \r\nQ 61.625 48.1875 57.5625 43.546875 \r\nQ 53.515625 38.921875 53.515625 30.90625 \r\nL 53.515625 0 \r\nL 44.484375 0 \r\nL 44.484375 32.71875 \r\nQ 44.484375 40.625 41.703125 44.40625 \r\nQ 38.921875 48.1875 33.109375 48.1875 \r\nQ 26.21875 48.1875 22.15625 43.53125 \r\nQ 18.109375 38.875 18.109375 30.90625 \r\nL 18.109375 0 \r\nL 9.078125 0 \r\nL 9.078125 54.6875 \r\nL 18.109375 54.6875 \r\nL 18.109375 46.1875 \r\nQ 21.1875 51.21875 25.484375 53.609375 \r\nQ 29.78125 56 35.6875 56 \r\nQ 41.65625 56 45.828125 52.96875 \r\nQ 50 49.953125 52 44.1875 \r\nz\r\n\" id=\"DejaVuSans-109\"/>\r\n       <path d=\"M 18.109375 8.203125 \r\nL 18.109375 -20.796875 \r\nL 9.078125 -20.796875 \r\nL 9.078125 54.6875 \r\nL 18.109375 54.6875 \r\nL 18.109375 46.390625 \r\nQ 20.953125 51.265625 25.265625 53.625 \r\nQ 29.59375 56 35.59375 56 \r\nQ 45.5625 56 51.78125 48.09375 \r\nQ 58.015625 40.1875 58.015625 27.296875 \r\nQ 58.015625 14.40625 51.78125 6.484375 \r\nQ 45.5625 -1.421875 35.59375 -1.421875 \r\nQ 29.59375 -1.421875 25.265625 0.953125 \r\nQ 20.953125 3.328125 18.109375 8.203125 \r\nz\r\nM 48.6875 27.296875 \r\nQ 48.6875 37.203125 44.609375 42.84375 \r\nQ 40.53125 48.484375 33.40625 48.484375 \r\nQ 26.265625 48.484375 22.1875 42.84375 \r\nQ 18.109375 37.203125 18.109375 27.296875 \r\nQ 18.109375 17.390625 22.1875 11.75 \r\nQ 26.265625 6.109375 33.40625 6.109375 \r\nQ 40.53125 6.109375 44.609375 11.75 \r\nQ 48.6875 17.390625 48.6875 27.296875 \r\nz\r\n\" id=\"DejaVuSans-112\"/>\r\n       <path d=\"M 30.609375 48.390625 \r\nQ 23.390625 48.390625 19.1875 42.75 \r\nQ 14.984375 37.109375 14.984375 27.296875 \r\nQ 14.984375 17.484375 19.15625 11.84375 \r\nQ 23.34375 6.203125 30.609375 6.203125 \r\nQ 37.796875 6.203125 41.984375 11.859375 \r\nQ 46.1875 17.53125 46.1875 27.296875 \r\nQ 46.1875 37.015625 41.984375 42.703125 \r\nQ 37.796875 48.390625 30.609375 48.390625 \r\nz\r\nM 30.609375 56 \r\nQ 42.328125 56 49.015625 48.375 \r\nQ 55.71875 40.765625 55.71875 27.296875 \r\nQ 55.71875 13.875 49.015625 6.21875 \r\nQ 42.328125 -1.421875 30.609375 -1.421875 \r\nQ 18.84375 -1.421875 12.171875 6.21875 \r\nQ 5.515625 13.875 5.515625 27.296875 \r\nQ 5.515625 40.765625 12.171875 48.375 \r\nQ 18.84375 56 30.609375 56 \r\nz\r\n\" id=\"DejaVuSans-111\"/>\r\n       <path d=\"M 54.890625 33.015625 \r\nL 54.890625 0 \r\nL 45.90625 0 \r\nL 45.90625 32.71875 \r\nQ 45.90625 40.484375 42.875 44.328125 \r\nQ 39.84375 48.1875 33.796875 48.1875 \r\nQ 26.515625 48.1875 22.3125 43.546875 \r\nQ 18.109375 38.921875 18.109375 30.90625 \r\nL 18.109375 0 \r\nL 9.078125 0 \r\nL 9.078125 54.6875 \r\nL 18.109375 54.6875 \r\nL 18.109375 46.1875 \r\nQ 21.34375 51.125 25.703125 53.5625 \r\nQ 30.078125 56 35.796875 56 \r\nQ 45.21875 56 50.046875 50.171875 \r\nQ 54.890625 44.34375 54.890625 33.015625 \r\nz\r\n\" id=\"DejaVuSans-110\"/>\r\n       <path d=\"M 48.78125 52.59375 \r\nL 48.78125 44.1875 \r\nQ 44.96875 46.296875 41.140625 47.34375 \r\nQ 37.3125 48.390625 33.40625 48.390625 \r\nQ 24.65625 48.390625 19.8125 42.84375 \r\nQ 14.984375 37.3125 14.984375 27.296875 \r\nQ 14.984375 17.28125 19.8125 11.734375 \r\nQ 24.65625 6.203125 33.40625 6.203125 \r\nQ 37.3125 6.203125 41.140625 7.25 \r\nQ 44.96875 8.296875 48.78125 10.40625 \r\nL 48.78125 2.09375 \r\nQ 45.015625 0.34375 40.984375 -0.53125 \r\nQ 36.96875 -1.421875 32.421875 -1.421875 \r\nQ 20.0625 -1.421875 12.78125 6.34375 \r\nQ 5.515625 14.109375 5.515625 27.296875 \r\nQ 5.515625 40.671875 12.859375 48.328125 \r\nQ 20.21875 56 33.015625 56 \r\nQ 37.15625 56 41.109375 55.140625 \r\nQ 45.0625 54.296875 48.78125 52.59375 \r\nz\r\n\" id=\"DejaVuSans-99\"/>\r\n      </defs>\r\n      <use xlink:href=\"#DejaVuSans-70\"/>\r\n      <use x=\"52.019531\" xlink:href=\"#DejaVuSans-101\"/>\r\n      <use x=\"113.542969\" xlink:href=\"#DejaVuSans-97\"/>\r\n      <use x=\"174.822266\" xlink:href=\"#DejaVuSans-116\"/>\r\n      <use x=\"214.03125\" xlink:href=\"#DejaVuSans-117\"/>\r\n      <use x=\"277.410156\" xlink:href=\"#DejaVuSans-114\"/>\r\n      <use x=\"316.273438\" xlink:href=\"#DejaVuSans-101\"/>\r\n      <use x=\"377.796875\" xlink:href=\"#DejaVuSans-32\"/>\r\n      <use x=\"409.583984\" xlink:href=\"#DejaVuSans-105\"/>\r\n      <use x=\"437.367188\" xlink:href=\"#DejaVuSans-109\"/>\r\n      <use x=\"534.779297\" xlink:href=\"#DejaVuSans-112\"/>\r\n      <use x=\"598.255859\" xlink:href=\"#DejaVuSans-111\"/>\r\n      <use x=\"659.4375\" xlink:href=\"#DejaVuSans-114\"/>\r\n      <use x=\"700.550781\" xlink:href=\"#DejaVuSans-116\"/>\r\n      <use x=\"739.759766\" xlink:href=\"#DejaVuSans-97\"/>\r\n      <use x=\"801.039062\" xlink:href=\"#DejaVuSans-110\"/>\r\n      <use x=\"864.417969\" xlink:href=\"#DejaVuSans-99\"/>\r\n      <use x=\"919.398438\" xlink:href=\"#DejaVuSans-101\"/>\r\n     </g>\r\n    </g>\r\n   </g>\r\n   <g id=\"matplotlib.axis_2\">\r\n    <g id=\"ytick_1\">\r\n     <g id=\"line2d_17\">\r\n      <path clip-path=\"url(#p250f8778dd)\" d=\"M 187.134375 212.578125 \r\nL 521.934375 212.578125 \r\n\" style=\"fill:none;stroke:#b0b0b0;stroke-linecap:square;stroke-width:0.8;\"/>\r\n     </g>\r\n     <g id=\"line2d_18\">\r\n      <defs>\r\n       <path d=\"M 0 0 \r\nL -3.5 0 \r\n\" id=\"m80d63b58c3\" style=\"stroke:#000000;stroke-width:0.8;\"/>\r\n      </defs>\r\n      <g>\r\n       <use style=\"stroke:#000000;stroke-width:0.8;\" x=\"187.134375\" xlink:href=\"#m80d63b58c3\" y=\"212.578125\"/>\r\n      </g>\r\n     </g>\r\n     <g id=\"text_10\">\r\n      <!-- median_accuracy -->\r\n      <g transform=\"translate(92.529688 216.377344)scale(0.1 -0.1)\">\r\n       <defs>\r\n        <path d=\"M 45.40625 46.390625 \r\nL 45.40625 75.984375 \r\nL 54.390625 75.984375 \r\nL 54.390625 0 \r\nL 45.40625 0 \r\nL 45.40625 8.203125 \r\nQ 42.578125 3.328125 38.25 0.953125 \r\nQ 33.9375 -1.421875 27.875 -1.421875 \r\nQ 17.96875 -1.421875 11.734375 6.484375 \r\nQ 5.515625 14.40625 5.515625 27.296875 \r\nQ 5.515625 40.1875 11.734375 48.09375 \r\nQ 17.96875 56 27.875 56 \r\nQ 33.9375 56 38.25 53.625 \r\nQ 42.578125 51.265625 45.40625 46.390625 \r\nz\r\nM 14.796875 27.296875 \r\nQ 14.796875 17.390625 18.875 11.75 \r\nQ 22.953125 6.109375 30.078125 6.109375 \r\nQ 37.203125 6.109375 41.296875 11.75 \r\nQ 45.40625 17.390625 45.40625 27.296875 \r\nQ 45.40625 37.203125 41.296875 42.84375 \r\nQ 37.203125 48.484375 30.078125 48.484375 \r\nQ 22.953125 48.484375 18.875 42.84375 \r\nQ 14.796875 37.203125 14.796875 27.296875 \r\nz\r\n\" id=\"DejaVuSans-100\"/>\r\n        <path d=\"M 50.984375 -16.609375 \r\nL 50.984375 -23.578125 \r\nL -0.984375 -23.578125 \r\nL -0.984375 -16.609375 \r\nz\r\n\" id=\"DejaVuSans-95\"/>\r\n        <path d=\"M 32.171875 -5.078125 \r\nQ 28.375 -14.84375 24.75 -17.8125 \r\nQ 21.140625 -20.796875 15.09375 -20.796875 \r\nL 7.90625 -20.796875 \r\nL 7.90625 -13.28125 \r\nL 13.1875 -13.28125 \r\nQ 16.890625 -13.28125 18.9375 -11.515625 \r\nQ 21 -9.765625 23.484375 -3.21875 \r\nL 25.09375 0.875 \r\nL 2.984375 54.6875 \r\nL 12.5 54.6875 \r\nL 29.59375 11.921875 \r\nL 46.6875 54.6875 \r\nL 56.203125 54.6875 \r\nz\r\n\" id=\"DejaVuSans-121\"/>\r\n       </defs>\r\n       <use xlink:href=\"#DejaVuSans-109\"/>\r\n       <use x=\"97.412109\" xlink:href=\"#DejaVuSans-101\"/>\r\n       <use x=\"158.935547\" xlink:href=\"#DejaVuSans-100\"/>\r\n       <use x=\"222.412109\" xlink:href=\"#DejaVuSans-105\"/>\r\n       <use x=\"250.195312\" xlink:href=\"#DejaVuSans-97\"/>\r\n       <use x=\"311.474609\" xlink:href=\"#DejaVuSans-110\"/>\r\n       <use x=\"374.853516\" xlink:href=\"#DejaVuSans-95\"/>\r\n       <use x=\"424.853516\" xlink:href=\"#DejaVuSans-97\"/>\r\n       <use x=\"486.132812\" xlink:href=\"#DejaVuSans-99\"/>\r\n       <use x=\"541.113281\" xlink:href=\"#DejaVuSans-99\"/>\r\n       <use x=\"596.09375\" xlink:href=\"#DejaVuSans-117\"/>\r\n       <use x=\"659.472656\" xlink:href=\"#DejaVuSans-114\"/>\r\n       <use x=\"700.585938\" xlink:href=\"#DejaVuSans-97\"/>\r\n       <use x=\"761.865234\" xlink:href=\"#DejaVuSans-99\"/>\r\n       <use x=\"816.845703\" xlink:href=\"#DejaVuSans-121\"/>\r\n      </g>\r\n     </g>\r\n    </g>\r\n    <g id=\"ytick_2\">\r\n     <g id=\"line2d_19\">\r\n      <path clip-path=\"url(#p250f8778dd)\" d=\"M 187.134375 185.398125 \r\nL 521.934375 185.398125 \r\n\" style=\"fill:none;stroke:#b0b0b0;stroke-linecap:square;stroke-width:0.8;\"/>\r\n     </g>\r\n     <g id=\"line2d_20\">\r\n      <g>\r\n       <use style=\"stroke:#000000;stroke-width:0.8;\" x=\"187.134375\" xlink:href=\"#m80d63b58c3\" y=\"185.398125\"/>\r\n      </g>\r\n     </g>\r\n     <g id=\"text_11\">\r\n      <!-- prior_question_had_explanation -->\r\n      <g transform=\"translate(20.878125 189.197344)scale(0.1 -0.1)\">\r\n       <defs>\r\n        <path d=\"M 14.796875 27.296875 \r\nQ 14.796875 17.390625 18.875 11.75 \r\nQ 22.953125 6.109375 30.078125 6.109375 \r\nQ 37.203125 6.109375 41.296875 11.75 \r\nQ 45.40625 17.390625 45.40625 27.296875 \r\nQ 45.40625 37.203125 41.296875 42.84375 \r\nQ 37.203125 48.484375 30.078125 48.484375 \r\nQ 22.953125 48.484375 18.875 42.84375 \r\nQ 14.796875 37.203125 14.796875 27.296875 \r\nz\r\nM 45.40625 8.203125 \r\nQ 42.578125 3.328125 38.25 0.953125 \r\nQ 33.9375 -1.421875 27.875 -1.421875 \r\nQ 17.96875 -1.421875 11.734375 6.484375 \r\nQ 5.515625 14.40625 5.515625 27.296875 \r\nQ 5.515625 40.1875 11.734375 48.09375 \r\nQ 17.96875 56 27.875 56 \r\nQ 33.9375 56 38.25 53.625 \r\nQ 42.578125 51.265625 45.40625 46.390625 \r\nL 45.40625 54.6875 \r\nL 54.390625 54.6875 \r\nL 54.390625 -20.796875 \r\nL 45.40625 -20.796875 \r\nz\r\n\" id=\"DejaVuSans-113\"/>\r\n        <path d=\"M 44.28125 53.078125 \r\nL 44.28125 44.578125 \r\nQ 40.484375 46.53125 36.375 47.5 \r\nQ 32.28125 48.484375 27.875 48.484375 \r\nQ 21.1875 48.484375 17.84375 46.4375 \r\nQ 14.5 44.390625 14.5 40.28125 \r\nQ 14.5 37.15625 16.890625 35.375 \r\nQ 19.28125 33.59375 26.515625 31.984375 \r\nL 29.59375 31.296875 \r\nQ 39.15625 29.25 43.1875 25.515625 \r\nQ 47.21875 21.78125 47.21875 15.09375 \r\nQ 47.21875 7.46875 41.1875 3.015625 \r\nQ 35.15625 -1.421875 24.609375 -1.421875 \r\nQ 20.21875 -1.421875 15.453125 -0.5625 \r\nQ 10.6875 0.296875 5.421875 2 \r\nL 5.421875 11.28125 \r\nQ 10.40625 8.6875 15.234375 7.390625 \r\nQ 20.0625 6.109375 24.8125 6.109375 \r\nQ 31.15625 6.109375 34.5625 8.28125 \r\nQ 37.984375 10.453125 37.984375 14.40625 \r\nQ 37.984375 18.0625 35.515625 20.015625 \r\nQ 33.0625 21.96875 24.703125 23.78125 \r\nL 21.578125 24.515625 \r\nQ 13.234375 26.265625 9.515625 29.90625 \r\nQ 5.8125 33.546875 5.8125 39.890625 \r\nQ 5.8125 47.609375 11.28125 51.796875 \r\nQ 16.75 56 26.8125 56 \r\nQ 31.78125 56 36.171875 55.265625 \r\nQ 40.578125 54.546875 44.28125 53.078125 \r\nz\r\n\" id=\"DejaVuSans-115\"/>\r\n        <path d=\"M 54.890625 33.015625 \r\nL 54.890625 0 \r\nL 45.90625 0 \r\nL 45.90625 32.71875 \r\nQ 45.90625 40.484375 42.875 44.328125 \r\nQ 39.84375 48.1875 33.796875 48.1875 \r\nQ 26.515625 48.1875 22.3125 43.546875 \r\nQ 18.109375 38.921875 18.109375 30.90625 \r\nL 18.109375 0 \r\nL 9.078125 0 \r\nL 9.078125 75.984375 \r\nL 18.109375 75.984375 \r\nL 18.109375 46.1875 \r\nQ 21.34375 51.125 25.703125 53.5625 \r\nQ 30.078125 56 35.796875 56 \r\nQ 45.21875 56 50.046875 50.171875 \r\nQ 54.890625 44.34375 54.890625 33.015625 \r\nz\r\n\" id=\"DejaVuSans-104\"/>\r\n        <path d=\"M 54.890625 54.6875 \r\nL 35.109375 28.078125 \r\nL 55.90625 0 \r\nL 45.3125 0 \r\nL 29.390625 21.484375 \r\nL 13.484375 0 \r\nL 2.875 0 \r\nL 24.125 28.609375 \r\nL 4.6875 54.6875 \r\nL 15.28125 54.6875 \r\nL 29.78125 35.203125 \r\nL 44.28125 54.6875 \r\nz\r\n\" id=\"DejaVuSans-120\"/>\r\n        <path d=\"M 9.421875 75.984375 \r\nL 18.40625 75.984375 \r\nL 18.40625 0 \r\nL 9.421875 0 \r\nz\r\n\" id=\"DejaVuSans-108\"/>\r\n       </defs>\r\n       <use xlink:href=\"#DejaVuSans-112\"/>\r\n       <use x=\"63.476562\" xlink:href=\"#DejaVuSans-114\"/>\r\n       <use x=\"104.589844\" xlink:href=\"#DejaVuSans-105\"/>\r\n       <use x=\"132.373047\" xlink:href=\"#DejaVuSans-111\"/>\r\n       <use x=\"193.554688\" xlink:href=\"#DejaVuSans-114\"/>\r\n       <use x=\"234.667969\" xlink:href=\"#DejaVuSans-95\"/>\r\n       <use x=\"284.667969\" xlink:href=\"#DejaVuSans-113\"/>\r\n       <use x=\"348.144531\" xlink:href=\"#DejaVuSans-117\"/>\r\n       <use x=\"411.523438\" xlink:href=\"#DejaVuSans-101\"/>\r\n       <use x=\"473.046875\" xlink:href=\"#DejaVuSans-115\"/>\r\n       <use x=\"525.146484\" xlink:href=\"#DejaVuSans-116\"/>\r\n       <use x=\"564.355469\" xlink:href=\"#DejaVuSans-105\"/>\r\n       <use x=\"592.138672\" xlink:href=\"#DejaVuSans-111\"/>\r\n       <use x=\"653.320312\" xlink:href=\"#DejaVuSans-110\"/>\r\n       <use x=\"716.699219\" xlink:href=\"#DejaVuSans-95\"/>\r\n       <use x=\"766.699219\" xlink:href=\"#DejaVuSans-104\"/>\r\n       <use x=\"830.078125\" xlink:href=\"#DejaVuSans-97\"/>\r\n       <use x=\"891.357422\" xlink:href=\"#DejaVuSans-100\"/>\r\n       <use x=\"954.833984\" xlink:href=\"#DejaVuSans-95\"/>\r\n       <use x=\"1004.833984\" xlink:href=\"#DejaVuSans-101\"/>\r\n       <use x=\"1064.607422\" xlink:href=\"#DejaVuSans-120\"/>\r\n       <use x=\"1123.787109\" xlink:href=\"#DejaVuSans-112\"/>\r\n       <use x=\"1187.263672\" xlink:href=\"#DejaVuSans-108\"/>\r\n       <use x=\"1215.046875\" xlink:href=\"#DejaVuSans-97\"/>\r\n       <use x=\"1276.326172\" xlink:href=\"#DejaVuSans-110\"/>\r\n       <use x=\"1339.705078\" xlink:href=\"#DejaVuSans-97\"/>\r\n       <use x=\"1400.984375\" xlink:href=\"#DejaVuSans-116\"/>\r\n       <use x=\"1440.193359\" xlink:href=\"#DejaVuSans-105\"/>\r\n       <use x=\"1467.976562\" xlink:href=\"#DejaVuSans-111\"/>\r\n       <use x=\"1529.158203\" xlink:href=\"#DejaVuSans-110\"/>\r\n      </g>\r\n     </g>\r\n    </g>\r\n    <g id=\"ytick_3\">\r\n     <g id=\"line2d_21\">\r\n      <path clip-path=\"url(#p250f8778dd)\" d=\"M 187.134375 158.218125 \r\nL 521.934375 158.218125 \r\n\" style=\"fill:none;stroke:#b0b0b0;stroke-linecap:square;stroke-width:0.8;\"/>\r\n     </g>\r\n     <g id=\"line2d_22\">\r\n      <g>\r\n       <use style=\"stroke:#000000;stroke-width:0.8;\" x=\"187.134375\" xlink:href=\"#m80d63b58c3\" y=\"158.218125\"/>\r\n      </g>\r\n     </g>\r\n     <g id=\"text_12\">\r\n      <!-- skew_accuracy -->\r\n      <g transform=\"translate(105.046875 162.017344)scale(0.1 -0.1)\">\r\n       <defs>\r\n        <path d=\"M 9.078125 75.984375 \r\nL 18.109375 75.984375 \r\nL 18.109375 31.109375 \r\nL 44.921875 54.6875 \r\nL 56.390625 54.6875 \r\nL 27.390625 29.109375 \r\nL 57.625 0 \r\nL 45.90625 0 \r\nL 18.109375 26.703125 \r\nL 18.109375 0 \r\nL 9.078125 0 \r\nz\r\n\" id=\"DejaVuSans-107\"/>\r\n        <path d=\"M 4.203125 54.6875 \r\nL 13.1875 54.6875 \r\nL 24.421875 12.015625 \r\nL 35.59375 54.6875 \r\nL 46.1875 54.6875 \r\nL 57.421875 12.015625 \r\nL 68.609375 54.6875 \r\nL 77.59375 54.6875 \r\nL 63.28125 0 \r\nL 52.6875 0 \r\nL 40.921875 44.828125 \r\nL 29.109375 0 \r\nL 18.5 0 \r\nz\r\n\" id=\"DejaVuSans-119\"/>\r\n       </defs>\r\n       <use xlink:href=\"#DejaVuSans-115\"/>\r\n       <use x=\"52.099609\" xlink:href=\"#DejaVuSans-107\"/>\r\n       <use x=\"106.384766\" xlink:href=\"#DejaVuSans-101\"/>\r\n       <use x=\"167.908203\" xlink:href=\"#DejaVuSans-119\"/>\r\n       <use x=\"249.695312\" xlink:href=\"#DejaVuSans-95\"/>\r\n       <use x=\"299.695312\" xlink:href=\"#DejaVuSans-97\"/>\r\n       <use x=\"360.974609\" xlink:href=\"#DejaVuSans-99\"/>\r\n       <use x=\"415.955078\" xlink:href=\"#DejaVuSans-99\"/>\r\n       <use x=\"470.935547\" xlink:href=\"#DejaVuSans-117\"/>\r\n       <use x=\"534.314453\" xlink:href=\"#DejaVuSans-114\"/>\r\n       <use x=\"575.427734\" xlink:href=\"#DejaVuSans-97\"/>\r\n       <use x=\"636.707031\" xlink:href=\"#DejaVuSans-99\"/>\r\n       <use x=\"691.6875\" xlink:href=\"#DejaVuSans-121\"/>\r\n      </g>\r\n     </g>\r\n    </g>\r\n    <g id=\"ytick_4\">\r\n     <g id=\"line2d_23\">\r\n      <path clip-path=\"url(#p250f8778dd)\" d=\"M 187.134375 131.038125 \r\nL 521.934375 131.038125 \r\n\" style=\"fill:none;stroke:#b0b0b0;stroke-linecap:square;stroke-width:0.8;\"/>\r\n     </g>\r\n     <g id=\"line2d_24\">\r\n      <g>\r\n       <use style=\"stroke:#000000;stroke-width:0.8;\" x=\"187.134375\" xlink:href=\"#m80d63b58c3\" y=\"131.038125\"/>\r\n      </g>\r\n     </g>\r\n     <g id=\"text_13\">\r\n      <!-- std_accuracy -->\r\n      <g transform=\"translate(114.5375 134.837344)scale(0.1 -0.1)\">\r\n       <use xlink:href=\"#DejaVuSans-115\"/>\r\n       <use x=\"52.099609\" xlink:href=\"#DejaVuSans-116\"/>\r\n       <use x=\"91.308594\" xlink:href=\"#DejaVuSans-100\"/>\r\n       <use x=\"154.785156\" xlink:href=\"#DejaVuSans-95\"/>\r\n       <use x=\"204.785156\" xlink:href=\"#DejaVuSans-97\"/>\r\n       <use x=\"266.064453\" xlink:href=\"#DejaVuSans-99\"/>\r\n       <use x=\"321.044922\" xlink:href=\"#DejaVuSans-99\"/>\r\n       <use x=\"376.025391\" xlink:href=\"#DejaVuSans-117\"/>\r\n       <use x=\"439.404297\" xlink:href=\"#DejaVuSans-114\"/>\r\n       <use x=\"480.517578\" xlink:href=\"#DejaVuSans-97\"/>\r\n       <use x=\"541.796875\" xlink:href=\"#DejaVuSans-99\"/>\r\n       <use x=\"596.777344\" xlink:href=\"#DejaVuSans-121\"/>\r\n      </g>\r\n     </g>\r\n    </g>\r\n    <g id=\"ytick_5\">\r\n     <g id=\"line2d_25\">\r\n      <path clip-path=\"url(#p250f8778dd)\" d=\"M 187.134375 103.858125 \r\nL 521.934375 103.858125 \r\n\" style=\"fill:none;stroke:#b0b0b0;stroke-linecap:square;stroke-width:0.8;\"/>\r\n     </g>\r\n     <g id=\"line2d_26\">\r\n      <g>\r\n       <use style=\"stroke:#000000;stroke-width:0.8;\" x=\"187.134375\" xlink:href=\"#m80d63b58c3\" y=\"103.858125\"/>\r\n      </g>\r\n     </g>\r\n     <g id=\"text_14\">\r\n      <!-- mean_accuracy -->\r\n      <g transform=\"translate(101.65625 107.518281)scale(0.1 -0.1)\">\r\n       <use xlink:href=\"#DejaVuSans-109\"/>\r\n       <use x=\"97.412109\" xlink:href=\"#DejaVuSans-101\"/>\r\n       <use x=\"158.935547\" xlink:href=\"#DejaVuSans-97\"/>\r\n       <use x=\"220.214844\" xlink:href=\"#DejaVuSans-110\"/>\r\n       <use x=\"283.59375\" xlink:href=\"#DejaVuSans-95\"/>\r\n       <use x=\"333.59375\" xlink:href=\"#DejaVuSans-97\"/>\r\n       <use x=\"394.873047\" xlink:href=\"#DejaVuSans-99\"/>\r\n       <use x=\"449.853516\" xlink:href=\"#DejaVuSans-99\"/>\r\n       <use x=\"504.833984\" xlink:href=\"#DejaVuSans-117\"/>\r\n       <use x=\"568.212891\" xlink:href=\"#DejaVuSans-114\"/>\r\n       <use x=\"609.326172\" xlink:href=\"#DejaVuSans-97\"/>\r\n       <use x=\"670.605469\" xlink:href=\"#DejaVuSans-99\"/>\r\n       <use x=\"725.585938\" xlink:href=\"#DejaVuSans-121\"/>\r\n      </g>\r\n     </g>\r\n    </g>\r\n    <g id=\"ytick_6\">\r\n     <g id=\"line2d_27\">\r\n      <path clip-path=\"url(#p250f8778dd)\" d=\"M 187.134375 76.678125 \r\nL 521.934375 76.678125 \r\n\" style=\"fill:none;stroke:#b0b0b0;stroke-linecap:square;stroke-width:0.8;\"/>\r\n     </g>\r\n     <g id=\"line2d_28\">\r\n      <g>\r\n       <use style=\"stroke:#000000;stroke-width:0.8;\" x=\"187.134375\" xlink:href=\"#m80d63b58c3\" y=\"76.678125\"/>\r\n      </g>\r\n     </g>\r\n     <g id=\"text_15\">\r\n      <!-- question_asked -->\r\n      <g transform=\"translate(102.664063 80.477344)scale(0.1 -0.1)\">\r\n       <use xlink:href=\"#DejaVuSans-113\"/>\r\n       <use x=\"63.476562\" xlink:href=\"#DejaVuSans-117\"/>\r\n       <use x=\"126.855469\" xlink:href=\"#DejaVuSans-101\"/>\r\n       <use x=\"188.378906\" xlink:href=\"#DejaVuSans-115\"/>\r\n       <use x=\"240.478516\" xlink:href=\"#DejaVuSans-116\"/>\r\n       <use x=\"279.6875\" xlink:href=\"#DejaVuSans-105\"/>\r\n       <use x=\"307.470703\" xlink:href=\"#DejaVuSans-111\"/>\r\n       <use x=\"368.652344\" xlink:href=\"#DejaVuSans-110\"/>\r\n       <use x=\"432.03125\" xlink:href=\"#DejaVuSans-95\"/>\r\n       <use x=\"482.03125\" xlink:href=\"#DejaVuSans-97\"/>\r\n       <use x=\"543.310547\" xlink:href=\"#DejaVuSans-115\"/>\r\n       <use x=\"595.410156\" xlink:href=\"#DejaVuSans-107\"/>\r\n       <use x=\"649.695312\" xlink:href=\"#DejaVuSans-101\"/>\r\n       <use x=\"711.21875\" xlink:href=\"#DejaVuSans-100\"/>\r\n      </g>\r\n     </g>\r\n    </g>\r\n    <g id=\"ytick_7\">\r\n     <g id=\"line2d_29\">\r\n      <path clip-path=\"url(#p250f8778dd)\" d=\"M 187.134375 49.498125 \r\nL 521.934375 49.498125 \r\n\" style=\"fill:none;stroke:#b0b0b0;stroke-linecap:square;stroke-width:0.8;\"/>\r\n     </g>\r\n     <g id=\"line2d_30\">\r\n      <g>\r\n       <use style=\"stroke:#000000;stroke-width:0.8;\" x=\"187.134375\" xlink:href=\"#m80d63b58c3\" y=\"49.498125\"/>\r\n      </g>\r\n     </g>\r\n     <g id=\"text_16\">\r\n      <!-- prior_question_elapsed_time -->\r\n      <g transform=\"translate(36.753125 53.297344)scale(0.1 -0.1)\">\r\n       <use xlink:href=\"#DejaVuSans-112\"/>\r\n       <use x=\"63.476562\" xlink:href=\"#DejaVuSans-114\"/>\r\n       <use x=\"104.589844\" xlink:href=\"#DejaVuSans-105\"/>\r\n       <use x=\"132.373047\" xlink:href=\"#DejaVuSans-111\"/>\r\n       <use x=\"193.554688\" xlink:href=\"#DejaVuSans-114\"/>\r\n       <use x=\"234.667969\" xlink:href=\"#DejaVuSans-95\"/>\r\n       <use x=\"284.667969\" xlink:href=\"#DejaVuSans-113\"/>\r\n       <use x=\"348.144531\" xlink:href=\"#DejaVuSans-117\"/>\r\n       <use x=\"411.523438\" xlink:href=\"#DejaVuSans-101\"/>\r\n       <use x=\"473.046875\" xlink:href=\"#DejaVuSans-115\"/>\r\n       <use x=\"525.146484\" xlink:href=\"#DejaVuSans-116\"/>\r\n       <use x=\"564.355469\" xlink:href=\"#DejaVuSans-105\"/>\r\n       <use x=\"592.138672\" xlink:href=\"#DejaVuSans-111\"/>\r\n       <use x=\"653.320312\" xlink:href=\"#DejaVuSans-110\"/>\r\n       <use x=\"716.699219\" xlink:href=\"#DejaVuSans-95\"/>\r\n       <use x=\"766.699219\" xlink:href=\"#DejaVuSans-101\"/>\r\n       <use x=\"828.222656\" xlink:href=\"#DejaVuSans-108\"/>\r\n       <use x=\"856.005859\" xlink:href=\"#DejaVuSans-97\"/>\r\n       <use x=\"917.285156\" xlink:href=\"#DejaVuSans-112\"/>\r\n       <use x=\"980.761719\" xlink:href=\"#DejaVuSans-115\"/>\r\n       <use x=\"1032.861328\" xlink:href=\"#DejaVuSans-101\"/>\r\n       <use x=\"1094.384766\" xlink:href=\"#DejaVuSans-100\"/>\r\n       <use x=\"1157.861328\" xlink:href=\"#DejaVuSans-95\"/>\r\n       <use x=\"1207.861328\" xlink:href=\"#DejaVuSans-116\"/>\r\n       <use x=\"1247.070312\" xlink:href=\"#DejaVuSans-105\"/>\r\n       <use x=\"1274.853516\" xlink:href=\"#DejaVuSans-109\"/>\r\n       <use x=\"1372.265625\" xlink:href=\"#DejaVuSans-101\"/>\r\n      </g>\r\n     </g>\r\n    </g>\r\n    <g id=\"text_17\">\r\n     <!-- Features -->\r\n     <g transform=\"translate(14.798438 152.532656)rotate(-90)scale(0.1 -0.1)\">\r\n      <use xlink:href=\"#DejaVuSans-70\"/>\r\n      <use x=\"52.019531\" xlink:href=\"#DejaVuSans-101\"/>\r\n      <use x=\"113.542969\" xlink:href=\"#DejaVuSans-97\"/>\r\n      <use x=\"174.822266\" xlink:href=\"#DejaVuSans-116\"/>\r\n      <use x=\"214.03125\" xlink:href=\"#DejaVuSans-117\"/>\r\n      <use x=\"277.410156\" xlink:href=\"#DejaVuSans-114\"/>\r\n      <use x=\"316.273438\" xlink:href=\"#DejaVuSans-101\"/>\r\n      <use x=\"377.796875\" xlink:href=\"#DejaVuSans-115\"/>\r\n     </g>\r\n    </g>\r\n   </g>\r\n   <g id=\"patch_10\">\r\n    <path d=\"M 187.134375 239.758125 \r\nL 187.134375 22.318125 \r\n\" style=\"fill:none;stroke:#000000;stroke-linecap:square;stroke-linejoin:miter;stroke-width:0.8;\"/>\r\n   </g>\r\n   <g id=\"patch_11\">\r\n    <path d=\"M 521.934375 239.758125 \r\nL 521.934375 22.318125 \r\n\" style=\"fill:none;stroke:#000000;stroke-linecap:square;stroke-linejoin:miter;stroke-width:0.8;\"/>\r\n   </g>\r\n   <g id=\"patch_12\">\r\n    <path d=\"M 187.134375 239.758125 \r\nL 521.934375 239.758125 \r\n\" style=\"fill:none;stroke:#000000;stroke-linecap:square;stroke-linejoin:miter;stroke-width:0.8;\"/>\r\n   </g>\r\n   <g id=\"patch_13\">\r\n    <path d=\"M 187.134375 22.318125 \r\nL 521.934375 22.318125 \r\n\" style=\"fill:none;stroke:#000000;stroke-linecap:square;stroke-linejoin:miter;stroke-width:0.8;\"/>\r\n   </g>\r\n   <g id=\"text_18\">\r\n    <!-- 18 -->\r\n    <g transform=\"translate(191.505433 215.3375)scale(0.1 -0.1)\">\r\n     <use xlink:href=\"#DejaVuSans-49\"/>\r\n     <use x=\"63.623047\" xlink:href=\"#DejaVuSans-56\"/>\r\n    </g>\r\n   </g>\r\n   <g id=\"text_19\">\r\n    <!-- 220 -->\r\n    <g transform=\"translate(237.976676 188.1575)scale(0.1 -0.1)\">\r\n     <use xlink:href=\"#DejaVuSans-50\"/>\r\n     <use x=\"63.623047\" xlink:href=\"#DejaVuSans-50\"/>\r\n     <use x=\"127.246094\" xlink:href=\"#DejaVuSans-48\"/>\r\n    </g>\r\n   </g>\r\n   <g id=\"text_20\">\r\n    <!-- 516 -->\r\n    <g transform=\"translate(306.073151 160.9775)scale(0.1 -0.1)\">\r\n     <defs>\r\n      <path d=\"M 10.796875 72.90625 \r\nL 49.515625 72.90625 \r\nL 49.515625 64.59375 \r\nL 19.828125 64.59375 \r\nL 19.828125 46.734375 \r\nQ 21.96875 47.46875 24.109375 47.828125 \r\nQ 26.265625 48.1875 28.421875 48.1875 \r\nQ 40.625 48.1875 47.75 41.5 \r\nQ 54.890625 34.8125 54.890625 23.390625 \r\nQ 54.890625 11.625 47.5625 5.09375 \r\nQ 40.234375 -1.421875 26.90625 -1.421875 \r\nQ 22.3125 -1.421875 17.546875 -0.640625 \r\nQ 12.796875 0.140625 7.71875 1.703125 \r\nL 7.71875 11.625 \r\nQ 12.109375 9.234375 16.796875 8.0625 \r\nQ 21.484375 6.890625 26.703125 6.890625 \r\nQ 35.15625 6.890625 40.078125 11.328125 \r\nQ 45.015625 15.765625 45.015625 23.390625 \r\nQ 45.015625 31 40.078125 35.4375 \r\nQ 35.15625 39.890625 26.703125 39.890625 \r\nQ 22.75 39.890625 18.8125 39.015625 \r\nQ 14.890625 38.140625 10.796875 36.28125 \r\nz\r\n\" id=\"DejaVuSans-53\"/>\r\n     </defs>\r\n     <use xlink:href=\"#DejaVuSans-53\"/>\r\n     <use x=\"63.623047\" xlink:href=\"#DejaVuSans-49\"/>\r\n     <use x=\"127.246094\" xlink:href=\"#DejaVuSans-54\"/>\r\n    </g>\r\n   </g>\r\n   <g id=\"text_21\">\r\n    <!-- 717 -->\r\n    <g transform=\"translate(352.314338 133.7975)scale(0.1 -0.1)\">\r\n     <defs>\r\n      <path d=\"M 8.203125 72.90625 \r\nL 55.078125 72.90625 \r\nL 55.078125 68.703125 \r\nL 28.609375 0 \r\nL 18.3125 0 \r\nL 43.21875 64.59375 \r\nL 8.203125 64.59375 \r\nz\r\n\" id=\"DejaVuSans-55\"/>\r\n     </defs>\r\n     <use xlink:href=\"#DejaVuSans-55\"/>\r\n     <use x=\"63.623047\" xlink:href=\"#DejaVuSans-49\"/>\r\n     <use x=\"127.246094\" xlink:href=\"#DejaVuSans-55\"/>\r\n    </g>\r\n   </g>\r\n   <g id=\"text_22\">\r\n    <!-- 784 -->\r\n    <g transform=\"translate(367.728067 106.6175)scale(0.1 -0.1)\">\r\n     <use xlink:href=\"#DejaVuSans-55\"/>\r\n     <use x=\"63.623047\" xlink:href=\"#DejaVuSans-56\"/>\r\n     <use x=\"127.246094\" xlink:href=\"#DejaVuSans-52\"/>\r\n    </g>\r\n   </g>\r\n   <g id=\"text_23\">\r\n    <!-- 1154 -->\r\n    <g transform=\"translate(452.848661 79.4375)scale(0.1 -0.1)\">\r\n     <use xlink:href=\"#DejaVuSans-49\"/>\r\n     <use x=\"63.623047\" xlink:href=\"#DejaVuSans-49\"/>\r\n     <use x=\"127.246094\" xlink:href=\"#DejaVuSans-53\"/>\r\n     <use x=\"190.869141\" xlink:href=\"#DejaVuSans-52\"/>\r\n    </g>\r\n   </g>\r\n   <g id=\"text_24\">\r\n    <!-- 1323 -->\r\n    <g transform=\"translate(491.728067 52.2575)scale(0.1 -0.1)\">\r\n     <defs>\r\n      <path d=\"M 40.578125 39.3125 \r\nQ 47.65625 37.796875 51.625 33 \r\nQ 55.609375 28.21875 55.609375 21.1875 \r\nQ 55.609375 10.40625 48.1875 4.484375 \r\nQ 40.765625 -1.421875 27.09375 -1.421875 \r\nQ 22.515625 -1.421875 17.65625 -0.515625 \r\nQ 12.796875 0.390625 7.625 2.203125 \r\nL 7.625 11.71875 \r\nQ 11.71875 9.328125 16.59375 8.109375 \r\nQ 21.484375 6.890625 26.8125 6.890625 \r\nQ 36.078125 6.890625 40.9375 10.546875 \r\nQ 45.796875 14.203125 45.796875 21.1875 \r\nQ 45.796875 27.640625 41.28125 31.265625 \r\nQ 36.765625 34.90625 28.71875 34.90625 \r\nL 20.21875 34.90625 \r\nL 20.21875 43.015625 \r\nL 29.109375 43.015625 \r\nQ 36.375 43.015625 40.234375 45.921875 \r\nQ 44.09375 48.828125 44.09375 54.296875 \r\nQ 44.09375 59.90625 40.109375 62.90625 \r\nQ 36.140625 65.921875 28.71875 65.921875 \r\nQ 24.65625 65.921875 20.015625 65.03125 \r\nQ 15.375 64.15625 9.8125 62.3125 \r\nL 9.8125 71.09375 \r\nQ 15.4375 72.65625 20.34375 73.4375 \r\nQ 25.25 74.21875 29.59375 74.21875 \r\nQ 40.828125 74.21875 47.359375 69.109375 \r\nQ 53.90625 64.015625 53.90625 55.328125 \r\nQ 53.90625 49.265625 50.4375 45.09375 \r\nQ 46.96875 40.921875 40.578125 39.3125 \r\nz\r\n\" id=\"DejaVuSans-51\"/>\r\n     </defs>\r\n     <use xlink:href=\"#DejaVuSans-49\"/>\r\n     <use x=\"63.623047\" xlink:href=\"#DejaVuSans-51\"/>\r\n     <use x=\"127.246094\" xlink:href=\"#DejaVuSans-50\"/>\r\n     <use x=\"190.869141\" xlink:href=\"#DejaVuSans-51\"/>\r\n    </g>\r\n   </g>\r\n   <g id=\"text_25\">\r\n    <!-- Feature importance -->\r\n    <g transform=\"translate(295.679063 16.318125)scale(0.12 -0.12)\">\r\n     <use xlink:href=\"#DejaVuSans-70\"/>\r\n     <use x=\"52.019531\" xlink:href=\"#DejaVuSans-101\"/>\r\n     <use x=\"113.542969\" xlink:href=\"#DejaVuSans-97\"/>\r\n     <use x=\"174.822266\" xlink:href=\"#DejaVuSans-116\"/>\r\n     <use x=\"214.03125\" xlink:href=\"#DejaVuSans-117\"/>\r\n     <use x=\"277.410156\" xlink:href=\"#DejaVuSans-114\"/>\r\n     <use x=\"316.273438\" xlink:href=\"#DejaVuSans-101\"/>\r\n     <use x=\"377.796875\" xlink:href=\"#DejaVuSans-32\"/>\r\n     <use x=\"409.583984\" xlink:href=\"#DejaVuSans-105\"/>\r\n     <use x=\"437.367188\" xlink:href=\"#DejaVuSans-109\"/>\r\n     <use x=\"534.779297\" xlink:href=\"#DejaVuSans-112\"/>\r\n     <use x=\"598.255859\" xlink:href=\"#DejaVuSans-111\"/>\r\n     <use x=\"659.4375\" xlink:href=\"#DejaVuSans-114\"/>\r\n     <use x=\"700.550781\" xlink:href=\"#DejaVuSans-116\"/>\r\n     <use x=\"739.759766\" xlink:href=\"#DejaVuSans-97\"/>\r\n     <use x=\"801.039062\" xlink:href=\"#DejaVuSans-110\"/>\r\n     <use x=\"864.417969\" xlink:href=\"#DejaVuSans-99\"/>\r\n     <use x=\"919.398438\" xlink:href=\"#DejaVuSans-101\"/>\r\n    </g>\r\n   </g>\r\n  </g>\r\n </g>\r\n <defs>\r\n  <clipPath id=\"p250f8778dd\">\r\n   <rect height=\"217.44\" width=\"334.8\" x=\"187.134375\" y=\"22.318125\"/>\r\n  </clipPath>\r\n </defs>\r\n</svg>\r\n",
            "image/png": "[encoded data removed]"
          },
          "metadata": {
            "needs_background": "light"
          }
        }
      ]
    },
    {
      "cell_type": "code",
      "metadata": {
        "id": "c8byH66wRZeA"
      },
      "source": [
        ""
      ],
      "execution_count": null,
      "outputs": []
    }
  ]
}